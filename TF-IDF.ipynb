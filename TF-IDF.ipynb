{
 "cells": [
  {
   "cell_type": "markdown",
   "metadata": {},
   "source": [
    "# Random Forest Classifier"
   ]
  },
  {
   "cell_type": "code",
   "execution_count": 4,
   "metadata": {
    "Collapsed": "false"
   },
   "outputs": [],
   "source": [
    "import os\n",
    "import pickle\n",
    "import random\n",
    "import re\n",
    "import scipy\n",
    "import torch\n",
    "import wandb\n",
    "import matplotlib.pyplot as plt\n",
    "import numpy as np\n",
    "import pandas as pd\n",
    "\n",
    "from label_processor import LabelProcessorSimplified\n",
    "\n",
    "from lime import lime_text\n",
    "from lime.lime_text import LimeTextExplainer\n",
    "\n",
    "from sklearn import metrics\n",
    "from sklearn.base import clone\n",
    "from sklearn.compose import make_column_transformer\n",
    "from sklearn.decomposition import  PCA\n",
    "from sklearn.decomposition import TruncatedSVD\n",
    "from sklearn.ensemble import RandomForestClassifier\n",
    "from sklearn.feature_extraction.text import TfidfVectorizer\n",
    "from sklearn.inspection import permutation_importance\n",
    "from sklearn.model_selection import StratifiedKFold, train_test_split, cross_val_score\n",
    "from sklearn.metrics import make_scorer, matthews_corrcoef\n",
    "from sklearn.pipeline import make_pipeline\n",
    "from sklearn.utils.class_weight import compute_class_weight\n",
    "\n",
    "from tqdm.auto import tqdm, trange"
   ]
  },
  {
   "cell_type": "code",
   "execution_count": 5,
   "metadata": {},
   "outputs": [],
   "source": [
    "save_directory = \"saved/tfidf/\""
   ]
  },
  {
   "cell_type": "code",
   "execution_count": 6,
   "metadata": {},
   "outputs": [],
   "source": [
    "def intersection_df(df1, df2, col1=None, col2=None):\n",
    "    col1 = df1.index if col1 is None else df1[col1]\n",
    "    col2 = df2.index if col2 is None else df2[col2]\n",
    "    assert col1.name == col2.name\n",
    "    ids = set(col1)\n",
    "    ids.intersection_update(col2)\n",
    "    df1 = df1[col1.isin(ids)]\n",
    "    df2 = df2[col2.isin(ids)]\n",
    "    return df1, df2\n",
    "\n",
    "def predict_decision_threshold(classifier, X_train, X_test, y_train, y_test):\n",
    "    y_pred_prob_train = classifier.predict_proba(X_train)[:,1]\n",
    "    decision_threshold = np.quantile(y_pred_prob_train, 1 - y_train.mean())\n",
    "    y_pred_prob = classifier.predict_proba(X_test)[:,1]\n",
    "    y_pred = y_pred_prob > decision_threshold\n",
    "    return y_pred, y_pred_prob\n",
    "\n",
    "\n",
    "def evaluate(classifier, X_train, X_test, y_train, y_test):\n",
    "    y_pred, y_pred_prob = predict_decision_threshold(classifier, X_train, X_test, y_train, y_test)\n",
    "    \n",
    "    m = {\n",
    "        \"precision\": metrics.precision_score(y_test, y_pred),\n",
    "        \"recall\" : metrics.recall_score(y_test, y_pred),\n",
    "        \"f1\" : metrics.f1_score(y_test, y_pred),\n",
    "        \"roc_auc\" : metrics.roc_auc_score(y_test, y_pred_prob),\n",
    "        \"average_precision\": metrics.average_precision_score(y_test, y_pred_prob),\n",
    "        \"matthews\": metrics.matthews_corrcoef(y_test,y_pred),\n",
    "        \"spearman\":scipy.stats.spearmanr(y_pred_prob, y_test)[0]\n",
    "    }\n",
    "    return m\n",
    "\n",
    "def prepend_keys(d, prepend):\n",
    "    return {prepend + k:v for k,v in d.items()}\n",
    "\n",
    "def dropna_both(ds, l):\n",
    "    indxs = l.dropna().index\n",
    "    return ds[indxs],  l[indxs]"
   ]
  },
  {
   "cell_type": "markdown",
   "metadata": {},
   "source": [
    "### Do TF-IDF"
   ]
  },
  {
   "cell_type": "code",
   "execution_count": 4,
   "metadata": {},
   "outputs": [],
   "source": [
    "## gets message dataset\n",
    "messages = pd.read_pickle(\"saved/selected_messages.pickle\")"
   ]
  },
  {
   "cell_type": "code",
   "execution_count": 5,
   "metadata": {
    "Collapsed": "false",
    "jupyter": {
     "outputs_hidden": true
    }
   },
   "outputs": [],
   "source": [
    "## gets texter, counselor and bot messages by conversation ID\n",
    "conversations_tfidf = messages.replace('bot', np.nan).dropna().groupby('conversation_id').message.agg(\" MESSAGESEP \".join)\n",
    "conversations_tfidf = conversations_tfidf.fillna(\"\")"
   ]
  },
  {
   "cell_type": "code",
   "execution_count": 8,
   "metadata": {},
   "outputs": [],
   "source": [
    "messages = pd.read_pickle(\"saved/selected_messages.pickle\")\n",
    "texter_messages = messages[messages.interaction == 'texter'].groupby('conversation_id').message.agg(\" MESSAGESEP \".join)\n",
    "counselor_messages = messages[messages.interaction == 'counselor'].groupby('conversation_id').message.agg(\" MESSAGESEP \".join)\n",
    "bot_messages = messages[messages.interaction == 'bot'].groupby('conversation_id').message.agg(\" MESSAGESEP \".join)\n",
    "conversations_tfidf = pd.DataFrame({\"texter\": texter_messages,\"counselor\":counselor_messages, \"bot\": bot_messages})\n",
    "conversations_tfidf = conversations_tfidf.fillna(\"\")"
   ]
  },
  {
   "cell_type": "code",
   "execution_count": 9,
   "metadata": {},
   "outputs": [
    {
     "ename": "OSError",
     "evalue": "[Errno 28] No space left on device",
     "output_type": "error",
     "traceback": [
      "\u001b[0;31m---------------------------------------------------------------------------\u001b[0m",
      "\u001b[0;31mOSError\u001b[0m                                   Traceback (most recent call last)",
      "\u001b[0;32m/tmp/ipykernel_15927/1233580593.py\u001b[0m in \u001b[0;36m<module>\u001b[0;34m\u001b[0m\n\u001b[1;32m      2\u001b[0m \u001b[0mtrain_ids\u001b[0m \u001b[0;34m=\u001b[0m \u001b[0mtorch\u001b[0m\u001b[0;34m.\u001b[0m\u001b[0mload\u001b[0m\u001b[0;34m(\u001b[0m\u001b[0msave_directory\u001b[0m\u001b[0;34m+\u001b[0m\u001b[0;34m\"/train_convos.torch\"\u001b[0m\u001b[0;34m)\u001b[0m\u001b[0;34m\u001b[0m\u001b[0;34m\u001b[0m\u001b[0m\n\u001b[1;32m      3\u001b[0m \u001b[0mtrain_convos\u001b[0m \u001b[0;34m=\u001b[0m \u001b[0mconversations_tfidf\u001b[0m\u001b[0;34m.\u001b[0m\u001b[0mloc\u001b[0m\u001b[0;34m[\u001b[0m\u001b[0mtrain_ids\u001b[0m\u001b[0;34m]\u001b[0m\u001b[0;34m\u001b[0m\u001b[0;34m\u001b[0m\u001b[0m\n\u001b[0;32m----> 4\u001b[0;31m \u001b[0mpickle\u001b[0m\u001b[0;34m.\u001b[0m\u001b[0mdump\u001b[0m\u001b[0;34m(\u001b[0m\u001b[0mtrain_convos\u001b[0m\u001b[0;34m,\u001b[0m \u001b[0mopen\u001b[0m\u001b[0;34m(\u001b[0m\u001b[0msave_directory\u001b[0m\u001b[0;34m+\u001b[0m\u001b[0;34m\"train_set_messages.pickle\"\u001b[0m\u001b[0;34m,\u001b[0m \u001b[0;34m\"wb\"\u001b[0m\u001b[0;34m)\u001b[0m\u001b[0;34m)\u001b[0m\u001b[0;34m\u001b[0m\u001b[0;34m\u001b[0m\u001b[0m\n\u001b[0m",
      "\u001b[0;31mOSError\u001b[0m: [Errno 28] No space left on device"
     ]
    }
   ],
   "source": [
    "## saving the train conversations for lime explanations\n",
    "train_ids = torch.load(save_directory+\"/train_convos.torch\")\n",
    "train_convos = conversations_tfidf.loc[train_ids]\n",
    "pickle.dump(train_convos, open(save_directory+\"train_set_messages.pickle\", \"wb\"))"
   ]
  },
  {
   "cell_type": "code",
   "execution_count": 13,
   "metadata": {},
   "outputs": [],
   "source": [
    "## saving the test conversations for lime explanations\n",
    "test_ids = torch.load(save_directory+\"/test_convos.torch\")\n",
    "test_convos = conversations_tfidf.loc[test_ids]\n",
    "pickle.dump(test_convos, open(save_directory+\"test_set_messages.pickle\", \"wb\"))"
   ]
  },
  {
   "cell_type": "code",
   "execution_count": 10,
   "metadata": {},
   "outputs": [],
   "source": [
    "del messages"
   ]
  },
  {
   "cell_type": "code",
   "execution_count": 11,
   "metadata": {
    "Collapsed": "false"
   },
   "outputs": [],
   "source": [
    "## TFIDF model\n",
    "tfidf_transformer = make_pipeline( \n",
    "#     TfidfVectorizer(min_df=0.01, max_df=0.4),\n",
    "    make_column_transformer(\n",
    "        (TfidfVectorizer(min_df=0.01,max_df=0.4),\"texter\"),\n",
    "        (TfidfVectorizer(min_df=0.01,max_df=0.4),\"counselor\"),\n",
    "        (TfidfVectorizer(min_df=0.05,max_df=0.4),\"bot\"),\n",
    "    ),\n",
    "    TruncatedSVD(1000)\n",
    ")"
   ]
  },
  {
   "cell_type": "code",
   "execution_count": 12,
   "metadata": {
    "Collapsed": "false"
   },
   "outputs": [
    {
     "name": "stdout",
     "output_type": "stream",
     "text": [
      "Fitting TF-IDF\n"
     ]
    }
   ],
   "source": [
    "## Fitting TF-IDF\n",
    "print(\"Fitting TF-IDF\")\n",
    "tfidf_features = tfidf_transformer.fit_transform(conversations_tfidf)"
   ]
  },
  {
   "cell_type": "code",
   "execution_count": 13,
   "metadata": {},
   "outputs": [],
   "source": [
    "## Saving the TF-IDF features and conversation IDs(?)\n",
    "pickle.dump(tfidf_features, open(save_directory + \"dataset_tfidf.pickle\",\"wb\"))\n",
    "conversations_tfidf.index.to_series().to_pickle(save_directory + \"conversation_ids.pickle\")"
   ]
  },
  {
   "cell_type": "code",
   "execution_count": 11,
   "metadata": {},
   "outputs": [],
   "source": [
    "pickle.dump(tfidf_transformer, open(save_directory+\"tfidf_transformer.pickle\",\"wb\"))"
   ]
  },
  {
   "cell_type": "markdown",
   "metadata": {
    "Collapsed": "false"
   },
   "source": [
    "## Attach Labels"
   ]
  },
  {
   "cell_type": "code",
   "execution_count": 4,
   "metadata": {
    "Collapsed": "false"
   },
   "outputs": [],
   "source": [
    "## get datasets\n",
    "dataset_tfidf = pickle.load(open(save_directory+\"dataset_tfidf.pickle\",\"rb\"))\n",
    "conversation_ids = pd.read_pickle(save_directory+\"conversation_ids.pickle\")"
   ]
  },
  {
   "cell_type": "code",
   "execution_count": 5,
   "metadata": {},
   "outputs": [],
   "source": [
    "## get ids\n",
    "train_ids = torch.load(save_directory+\"/train_convos.torch\")\n",
    "test_ids = torch.load(save_directory+\"/test_convos.torch\")"
   ]
  },
  {
   "cell_type": "code",
   "execution_count": 6,
   "metadata": {
    "Collapsed": "false"
   },
   "outputs": [],
   "source": [
    "## maps numerical position in the dataset to the ids so they can be used to extract corresponding data from arrays\n",
    "conversation_ids_to_idxs = pd.Series(np.arange(len(conversation_ids)), index=conversation_ids.values)\n",
    "conversation_idxs_to_ids = pd.Series(conversation_ids.values, index=np.arange(len(conversation_ids)))"
   ]
  },
  {
   "cell_type": "code",
   "execution_count": 7,
   "metadata": {
    "Collapsed": "false"
   },
   "outputs": [],
   "source": [
    "## gets labelizer df \n",
    "labelizer = torch.load(\"saved/labelizer.torch\")\n",
    "l_df = labelizer.df"
   ]
  },
  {
   "cell_type": "code",
   "execution_count": 8,
   "metadata": {},
   "outputs": [],
   "source": [
    "## saves the index \n",
    "l_index = l_df.index\n",
    "# with open(save_directory+'/l_index.pickle', 'wb') as f:\n",
    "#     pickle.dump(l_index, f)"
   ]
  },
  {
   "cell_type": "code",
   "execution_count": 9,
   "metadata": {},
   "outputs": [],
   "source": [
    "## gets numeric (not hashed) indexes, for retrieval of the feature data in the next step\n",
    "# l_index = pickle.load(open(save_directory+\"/l_index.pickle\", \"rb\"))\n",
    "train_indxs = conversation_ids_to_idxs.loc[sorted(train_ids.intersection(conversation_ids).intersection(l_index))].values\n",
    "test_indxs = conversation_ids_to_idxs.loc[sorted(test_ids.intersection(conversation_ids).intersection(l_index))].values"
   ]
  },
  {
   "cell_type": "code",
   "execution_count": 10,
   "metadata": {
    "Collapsed": "false"
   },
   "outputs": [],
   "source": [
    "## gets tf-idf feature data for train and test sets \n",
    "ds_train = dataset_tfidf[train_indxs]\n",
    "ds_test = dataset_tfidf[test_indxs]\n",
    "\n",
    "## train and test conversation IDs\n",
    "train_convo_ids = conversation_idxs_to_ids.loc[sorted(train_indxs)].values\n",
    "test_convo_ids = conversation_idxs_to_ids.loc[sorted(test_indxs)].values"
   ]
  },
  {
   "cell_type": "code",
   "execution_count": 11,
   "metadata": {
    "Collapsed": "false"
   },
   "outputs": [],
   "source": [
    "## gets the labels of the train and test sets \n",
    "l_train = l_df.loc[train_convo_ids].copy()\n",
    "l_test = l_df.loc[test_convo_ids].copy()\n",
    "\n",
    "l_train.set_index(np.arange(len(l_train)), inplace=True)\n",
    "l_test.set_index(np.arange(len(l_test)), inplace=True)"
   ]
  },
  {
   "cell_type": "code",
   "execution_count": 12,
   "metadata": {},
   "outputs": [],
   "source": [
    "## save data \n",
    "## for some reason, can't torch.save ds_train\n",
    "\n",
    "with open(save_directory+'ds_train.pickle', 'wb') as f:\n",
    "    pickle.dump(ds_train, f)\n",
    "with open(save_directory+'ds_test.pickle', 'wb') as f:\n",
    "    pickle.dump(ds_test, f)"
   ]
  },
  {
   "cell_type": "code",
   "execution_count": 13,
   "metadata": {},
   "outputs": [],
   "source": [
    "## save labels \n",
    "torch.save(l_train, save_directory+\"l_train.torch\")\n",
    "torch.save(l_test, save_directory+\"l_test.torch\")"
   ]
  },
  {
   "cell_type": "markdown",
   "metadata": {},
   "source": [
    "# Train TF-IDF Model"
   ]
  },
  {
   "cell_type": "code",
   "execution_count": 7,
   "metadata": {},
   "outputs": [],
   "source": [
    "## loading dataset and labels for the random forest classifier\n",
    "ds_train = pickle.load(open(save_directory+\"/ds_train.pickle\",\"rb\"))\n",
    "ds_test = pickle.load(open(save_directory+\"/ds_test.pickle\", \"rb\"))\n",
    "l_train = torch.load(save_directory+\"l_train.torch\")\n",
    "l_test = torch.load(save_directory+\"l_test.torch\")"
   ]
  },
  {
   "cell_type": "code",
   "execution_count": 8,
   "metadata": {},
   "outputs": [],
   "source": [
    "l_train = l_train.rename(columns={\"69>13 or younger\" : \"69_13 or younger\",\n",
    "                                  \"69>14-24\" : \"69_14-24\",\n",
    "                                  \"69>24 or younger\" : \"69_24 or younger\"})\n",
    "l_test = l_test.rename(columns={\"69>13 or younger\" : \"69_13 or younger\",\n",
    "                                \"69>14-24\" : \"69_14-24\",\n",
    "                                \"69>24 or younger\" : \"69_24 or younger\"})"
   ]
  },
  {
   "cell_type": "code",
   "execution_count": 9,
   "metadata": {},
   "outputs": [],
   "source": [
    "def fit_with_cv(X, y, X_cv, y_cv, model, min_estimators, max_estimators, step_size, patience, log_wandb=False):\n",
    "    if log_wandb:\n",
    "        import wandb\n",
    "\n",
    "    best_score = None\n",
    "    no_improvement_steps = 0\n",
    "    for i in trange(min_estimators, max_estimators + 1, step_size):\n",
    "        if no_improvement_steps > patience:\n",
    "            return\n",
    "        model.n_estimators = i\n",
    "        model.fit(X, y)\n",
    "        prob_cv = model.predict_proba(X_cv)\n",
    "        score = scipy.stats.spearmanr(y_cv, prob_cv[:, 1])\n",
    "        if log_wandb:\n",
    "            wandb.log({\"score\": score, \"n_estimators\": model.n_estimators})\n",
    "        if best_score is None or score > best_score:\n",
    "            no_improvement_steps = 0\n",
    "            best_score = score\n",
    "        else:\n",
    "            no_improvement_steps += 1"
   ]
  },
  {
   "cell_type": "markdown",
   "metadata": {},
   "source": [
    "## DeepHelp Impl. "
   ]
  },
  {
   "cell_type": "code",
   "execution_count": 10,
   "metadata": {
    "scrolled": false
   },
   "outputs": [
    {
     "data": {
      "application/vnd.jupyter.widget-view+json": {
       "model_id": "a60ed17b25654c348289d0bc71a1bee9",
       "version_major": 2,
       "version_minor": 0
      },
      "text/plain": [
       "HBox(children=(FloatProgress(value=0.0, max=9.0), HTML(value='')))"
      ]
     },
     "metadata": {},
     "output_type": "display_data"
    },
    {
     "name": "stderr",
     "output_type": "stream",
     "text": [
      "\u001b[34m\u001b[1mwandb\u001b[0m: Currently logged in as: \u001b[33mkiatann\u001b[0m (use `wandb login --relogin` to force relogin)\n",
      "\u001b[34m\u001b[1mwandb\u001b[0m: wandb version 0.12.0 is available!  To upgrade, please run:\n",
      "\u001b[34m\u001b[1mwandb\u001b[0m:  $ pip install wandb --upgrade\n"
     ]
    },
    {
     "data": {
      "text/html": [
       "\n",
       "                Tracking run with wandb version 0.11.0<br/>\n",
       "                Syncing run <strong style=\"color:#cdcd00\">summer-lion-185</strong> to <a href=\"https://wandb.ai\" target=\"_blank\">Weights & Biases</a> <a href=\"https://docs.wandb.com/integrations/jupyter.html\" target=\"_blank\">(Documentation)</a>.<br/>\n",
       "                Project page: <a href=\"https://wandb.ai/kiatann/tfidf_baseline\" target=\"_blank\">https://wandb.ai/kiatann/tfidf_baseline</a><br/>\n",
       "                Run page: <a href=\"https://wandb.ai/kiatann/tfidf_baseline/runs/q251erh8\" target=\"_blank\">https://wandb.ai/kiatann/tfidf_baseline/runs/q251erh8</a><br/>\n",
       "                Run data is saved locally in <code>/data-imperial/wandb/run-20210818_041324-q251erh8</code><br/><br/>\n",
       "            "
      ],
      "text/plain": [
       "<IPython.core.display.HTML object>"
      ]
     },
     "metadata": {},
     "output_type": "display_data"
    },
    {
     "name": "stdout",
     "output_type": "stream",
     "text": [
      "(341955, 1000) (341955,)\n",
      "(17997, 1000) (17997,)\n"
     ]
    },
    {
     "name": "stderr",
     "output_type": "stream",
     "text": [
      "/data-imperial/lib/python3.9/site-packages/sklearn/utils/validation.py:70: FutureWarning: Pass classes=[0. 1.], y=45955     0.0\n",
      "99894     0.0\n",
      "233564    1.0\n",
      "121034    0.0\n",
      "90967     1.0\n",
      "         ... \n",
      "176932    1.0\n",
      "57622     0.0\n",
      "132151    0.0\n",
      "168208    0.0\n",
      "340571    0.0\n",
      "Name: 18_anxiety, Length: 307759, dtype: float64 as keyword args. From version 1.0 (renaming of 0.25) passing these as positional arguments will result in an error\n",
      "  warnings.warn(f\"Pass {args_msg} as keyword args. From version \"\n"
     ]
    },
    {
     "data": {
      "application/vnd.jupyter.widget-view+json": {
       "model_id": "a188a5334da14ff998e611e7d2ef6f19",
       "version_major": 2,
       "version_minor": 0
      },
      "text/plain": [
       "HBox(children=(FloatProgress(value=0.0, max=1000.0), HTML(value='')))"
      ]
     },
     "metadata": {},
     "output_type": "display_data"
    },
    {
     "name": "stdout",
     "output_type": "stream",
     "text": [
      "\n",
      "18_anxiety\n",
      "precision            0.545761\n",
      "recall               0.544058\n",
      "f1                   0.544908\n",
      "roc_auc              0.784782\n",
      "average_precision    0.582128\n",
      "matthews             0.408153\n",
      "spearman             0.416057\n",
      "dtype: float64\n"
     ]
    },
    {
     "data": {
      "text/html": [
       "<br/>Waiting for W&B process to finish, PID 16373<br/>Program ended successfully."
      ],
      "text/plain": [
       "<IPython.core.display.HTML object>"
      ]
     },
     "metadata": {},
     "output_type": "display_data"
    },
    {
     "data": {
      "application/vnd.jupyter.widget-view+json": {
       "model_id": "",
       "version_major": 2,
       "version_minor": 0
      },
      "text/plain": [
       "VBox(children=(Label(value=' 0.00MB of 0.00MB uploaded (0.00MB deduped)\\r'), FloatProgress(value=1.0, max=1.0)…"
      ]
     },
     "metadata": {},
     "output_type": "display_data"
    },
    {
     "data": {
      "text/html": [
       "Find user logs for this run at: <code>/data-imperial/wandb/run-20210818_041324-q251erh8/logs/debug.log</code>"
      ],
      "text/plain": [
       "<IPython.core.display.HTML object>"
      ]
     },
     "metadata": {},
     "output_type": "display_data"
    },
    {
     "data": {
      "text/html": [
       "Find internal logs for this run at: <code>/data-imperial/wandb/run-20210818_041324-q251erh8/logs/debug-internal.log</code>"
      ],
      "text/plain": [
       "<IPython.core.display.HTML object>"
      ]
     },
     "metadata": {},
     "output_type": "display_data"
    },
    {
     "data": {
      "text/html": [
       "<h3>Run summary:</h3><br/><style>\n",
       "    table.wandb td:nth-child(1) { padding: 0 10px; text-align: right }\n",
       "    </style><table class=\"wandb\">\n",
       "<tr><td>n_estimators</td><td>95</td></tr><tr><td>_runtime</td><td>317</td></tr><tr><td>_timestamp</td><td>1629260321</td></tr><tr><td>_step</td><td>19</td></tr><tr><td>val precision</td><td>0.53734</td></tr><tr><td>val recall</td><td>0.52487</td></tr><tr><td>val f1</td><td>0.53103</td></tr><tr><td>val roc_auc</td><td>0.77676</td></tr><tr><td>val average_precision</td><td>0.56938</td></tr><tr><td>val matthews</td><td>0.3946</td></tr><tr><td>val spearman</td><td>0.40229</td></tr><tr><td>test precision</td><td>0.54576</td></tr><tr><td>test recall</td><td>0.54406</td></tr><tr><td>test f1</td><td>0.54491</td></tr><tr><td>test roc_auc</td><td>0.78478</td></tr><tr><td>test average_precision</td><td>0.58213</td></tr><tr><td>test matthews</td><td>0.40815</td></tr><tr><td>test spearman</td><td>0.41606</td></tr></table>"
      ],
      "text/plain": [
       "<IPython.core.display.HTML object>"
      ]
     },
     "metadata": {},
     "output_type": "display_data"
    },
    {
     "data": {
      "text/html": [
       "<h3>Run history:</h3><br/><style>\n",
       "    table.wandb td:nth-child(1) { padding: 0 10px; text-align: right }\n",
       "    </style><table class=\"wandb\">\n",
       "<tr><td>n_estimators</td><td>▁▁▂▂▃▃▃▄▄▅▅▅▆▆▆▇▇██</td></tr><tr><td>_runtime</td><td>▁▁▂▂▃▃▃▄▄▄▅▅▆▆▆▇▇▇██</td></tr><tr><td>_timestamp</td><td>▁▁▂▂▃▃▃▄▄▄▅▅▆▆▆▇▇▇██</td></tr><tr><td>_step</td><td>▁▁▂▂▂▃▃▄▄▄▅▅▅▆▆▇▇▇██</td></tr><tr><td>val precision</td><td>▁</td></tr><tr><td>val recall</td><td>▁</td></tr><tr><td>val f1</td><td>▁</td></tr><tr><td>val roc_auc</td><td>▁</td></tr><tr><td>val average_precision</td><td>▁</td></tr><tr><td>val matthews</td><td>▁</td></tr><tr><td>val spearman</td><td>▁</td></tr><tr><td>test precision</td><td>▁</td></tr><tr><td>test recall</td><td>▁</td></tr><tr><td>test f1</td><td>▁</td></tr><tr><td>test roc_auc</td><td>▁</td></tr><tr><td>test average_precision</td><td>▁</td></tr><tr><td>test matthews</td><td>▁</td></tr><tr><td>test spearman</td><td>▁</td></tr></table><br/>"
      ],
      "text/plain": [
       "<IPython.core.display.HTML object>"
      ]
     },
     "metadata": {},
     "output_type": "display_data"
    },
    {
     "data": {
      "text/html": [
       "Synced 6 W&B file(s), 0 media file(s), 0 artifact file(s) and 0 other file(s)"
      ],
      "text/plain": [
       "<IPython.core.display.HTML object>"
      ]
     },
     "metadata": {},
     "output_type": "display_data"
    },
    {
     "data": {
      "text/html": [
       "\n",
       "                    <br/>Synced <strong style=\"color:#cdcd00\">summer-lion-185</strong>: <a href=\"https://wandb.ai/kiatann/tfidf_baseline/runs/q251erh8\" target=\"_blank\">https://wandb.ai/kiatann/tfidf_baseline/runs/q251erh8</a><br/>\n",
       "                "
      ],
      "text/plain": [
       "<IPython.core.display.HTML object>"
      ]
     },
     "metadata": {},
     "output_type": "display_data"
    },
    {
     "name": "stderr",
     "output_type": "stream",
     "text": [
      "\u001b[34m\u001b[1mwandb\u001b[0m: wandb version 0.12.0 is available!  To upgrade, please run:\n",
      "\u001b[34m\u001b[1mwandb\u001b[0m:  $ pip install wandb --upgrade\n"
     ]
    },
    {
     "data": {
      "text/html": [
       "\n",
       "                Tracking run with wandb version 0.11.0<br/>\n",
       "                Syncing run <strong style=\"color:#cdcd00\">peachy-water-186</strong> to <a href=\"https://wandb.ai\" target=\"_blank\">Weights & Biases</a> <a href=\"https://docs.wandb.com/integrations/jupyter.html\" target=\"_blank\">(Documentation)</a>.<br/>\n",
       "                Project page: <a href=\"https://wandb.ai/kiatann/tfidf_baseline\" target=\"_blank\">https://wandb.ai/kiatann/tfidf_baseline</a><br/>\n",
       "                Run page: <a href=\"https://wandb.ai/kiatann/tfidf_baseline/runs/3ijlwcci\" target=\"_blank\">https://wandb.ai/kiatann/tfidf_baseline/runs/3ijlwcci</a><br/>\n",
       "                Run data is saved locally in <code>/data-imperial/wandb/run-20210818_041848-3ijlwcci</code><br/><br/>\n",
       "            "
      ],
      "text/plain": [
       "<IPython.core.display.HTML object>"
      ]
     },
     "metadata": {},
     "output_type": "display_data"
    },
    {
     "name": "stdout",
     "output_type": "stream",
     "text": [
      "(344988, 1000) (344988,)\n",
      "(18157, 1000) (18157,)\n"
     ]
    },
    {
     "name": "stderr",
     "output_type": "stream",
     "text": [
      "/data-imperial/lib/python3.9/site-packages/sklearn/utils/validation.py:70: FutureWarning: Pass classes=[0. 1.], y=199412    0.0\n",
      "275816    0.0\n",
      "138556    0.0\n",
      "304867    0.0\n",
      "69098     0.0\n",
      "         ... \n",
      "249199    1.0\n",
      "294995    1.0\n",
      "115520    1.0\n",
      "209279    0.0\n",
      "77944     1.0\n",
      "Name: 19_desire_x, Length: 310489, dtype: float64 as keyword args. From version 1.0 (renaming of 0.25) passing these as positional arguments will result in an error\n",
      "  warnings.warn(f\"Pass {args_msg} as keyword args. From version \"\n"
     ]
    },
    {
     "data": {
      "application/vnd.jupyter.widget-view+json": {
       "model_id": "0c3a6bdb8fe5416cbda7c95e2a69521b",
       "version_major": 2,
       "version_minor": 0
      },
      "text/plain": [
       "HBox(children=(FloatProgress(value=0.0, max=1000.0), HTML(value='')))"
      ]
     },
     "metadata": {},
     "output_type": "display_data"
    },
    {
     "name": "stdout",
     "output_type": "stream",
     "text": [
      "\n",
      "19_desire_x\n",
      "precision            0.689363\n",
      "recall               0.687665\n",
      "f1                   0.688513\n",
      "roc_auc              0.862074\n",
      "average_precision    0.739343\n",
      "matthews             0.546859\n",
      "spearman             0.581615\n",
      "dtype: float64\n"
     ]
    },
    {
     "data": {
      "text/html": [
       "<br/>Waiting for W&B process to finish, PID 16633<br/>Program ended successfully."
      ],
      "text/plain": [
       "<IPython.core.display.HTML object>"
      ]
     },
     "metadata": {},
     "output_type": "display_data"
    },
    {
     "data": {
      "application/vnd.jupyter.widget-view+json": {
       "model_id": "",
       "version_major": 2,
       "version_minor": 0
      },
      "text/plain": [
       "VBox(children=(Label(value=' 0.00MB of 0.00MB uploaded (0.00MB deduped)\\r'), FloatProgress(value=1.0, max=1.0)…"
      ]
     },
     "metadata": {},
     "output_type": "display_data"
    },
    {
     "data": {
      "text/html": [
       "Find user logs for this run at: <code>/data-imperial/wandb/run-20210818_041848-3ijlwcci/logs/debug.log</code>"
      ],
      "text/plain": [
       "<IPython.core.display.HTML object>"
      ]
     },
     "metadata": {},
     "output_type": "display_data"
    },
    {
     "data": {
      "text/html": [
       "Find internal logs for this run at: <code>/data-imperial/wandb/run-20210818_041848-3ijlwcci/logs/debug-internal.log</code>"
      ],
      "text/plain": [
       "<IPython.core.display.HTML object>"
      ]
     },
     "metadata": {},
     "output_type": "display_data"
    },
    {
     "data": {
      "text/html": [
       "<h3>Run summary:</h3><br/><style>\n",
       "    table.wandb td:nth-child(1) { padding: 0 10px; text-align: right }\n",
       "    </style><table class=\"wandb\">\n",
       "<tr><td>n_estimators</td><td>85</td></tr><tr><td>_runtime</td><td>276</td></tr><tr><td>_timestamp</td><td>1629260604</td></tr><tr><td>_step</td><td>17</td></tr><tr><td>val precision</td><td>0.68492</td></tr><tr><td>val recall</td><td>0.68898</td></tr><tr><td>val f1</td><td>0.68695</td></tr><tr><td>val roc_auc</td><td>0.85652</td></tr><tr><td>val average_precision</td><td>0.73875</td></tr><tr><td>val matthews</td><td>0.54079</td></tr><tr><td>val spearman</td><td>0.57483</td></tr><tr><td>test precision</td><td>0.68936</td></tr><tr><td>test recall</td><td>0.68766</td></tr><tr><td>test f1</td><td>0.68851</td></tr><tr><td>test roc_auc</td><td>0.86207</td></tr><tr><td>test average_precision</td><td>0.73934</td></tr><tr><td>test matthews</td><td>0.54686</td></tr><tr><td>test spearman</td><td>0.58162</td></tr></table>"
      ],
      "text/plain": [
       "<IPython.core.display.HTML object>"
      ]
     },
     "metadata": {},
     "output_type": "display_data"
    },
    {
     "data": {
      "text/html": [
       "<h3>Run history:</h3><br/><style>\n",
       "    table.wandb td:nth-child(1) { padding: 0 10px; text-align: right }\n",
       "    </style><table class=\"wandb\">\n",
       "<tr><td>n_estimators</td><td>▁▁▂▂▃▃▄▄▅▅▅▆▆▇▇██</td></tr><tr><td>_runtime</td><td>▁▁▂▂▃▃▄▄▄▅▅▆▆▇▇▇██</td></tr><tr><td>_timestamp</td><td>▁▁▂▂▃▃▄▄▄▅▅▆▆▇▇▇██</td></tr><tr><td>_step</td><td>▁▁▂▂▃▃▃▄▄▅▅▆▆▆▇▇██</td></tr><tr><td>val precision</td><td>▁</td></tr><tr><td>val recall</td><td>▁</td></tr><tr><td>val f1</td><td>▁</td></tr><tr><td>val roc_auc</td><td>▁</td></tr><tr><td>val average_precision</td><td>▁</td></tr><tr><td>val matthews</td><td>▁</td></tr><tr><td>val spearman</td><td>▁</td></tr><tr><td>test precision</td><td>▁</td></tr><tr><td>test recall</td><td>▁</td></tr><tr><td>test f1</td><td>▁</td></tr><tr><td>test roc_auc</td><td>▁</td></tr><tr><td>test average_precision</td><td>▁</td></tr><tr><td>test matthews</td><td>▁</td></tr><tr><td>test spearman</td><td>▁</td></tr></table><br/>"
      ],
      "text/plain": [
       "<IPython.core.display.HTML object>"
      ]
     },
     "metadata": {},
     "output_type": "display_data"
    },
    {
     "data": {
      "text/html": [
       "Synced 6 W&B file(s), 0 media file(s), 0 artifact file(s) and 0 other file(s)"
      ],
      "text/plain": [
       "<IPython.core.display.HTML object>"
      ]
     },
     "metadata": {},
     "output_type": "display_data"
    },
    {
     "data": {
      "text/html": [
       "\n",
       "                    <br/>Synced <strong style=\"color:#cdcd00\">peachy-water-186</strong>: <a href=\"https://wandb.ai/kiatann/tfidf_baseline/runs/3ijlwcci\" target=\"_blank\">https://wandb.ai/kiatann/tfidf_baseline/runs/3ijlwcci</a><br/>\n",
       "                "
      ],
      "text/plain": [
       "<IPython.core.display.HTML object>"
      ]
     },
     "metadata": {},
     "output_type": "display_data"
    },
    {
     "name": "stderr",
     "output_type": "stream",
     "text": [
      "\u001b[34m\u001b[1mwandb\u001b[0m: wandb version 0.12.0 is available!  To upgrade, please run:\n",
      "\u001b[34m\u001b[1mwandb\u001b[0m:  $ pip install wandb --upgrade\n"
     ]
    },
    {
     "data": {
      "text/html": [
       "\n",
       "                Tracking run with wandb version 0.11.0<br/>\n",
       "                Syncing run <strong style=\"color:#cdcd00\">charmed-donkey-187</strong> to <a href=\"https://wandb.ai\" target=\"_blank\">Weights & Biases</a> <a href=\"https://docs.wandb.com/integrations/jupyter.html\" target=\"_blank\">(Documentation)</a>.<br/>\n",
       "                Project page: <a href=\"https://wandb.ai/kiatann/tfidf_baseline\" target=\"_blank\">https://wandb.ai/kiatann/tfidf_baseline</a><br/>\n",
       "                Run page: <a href=\"https://wandb.ai/kiatann/tfidf_baseline/runs/2elwo2yr\" target=\"_blank\">https://wandb.ai/kiatann/tfidf_baseline/runs/2elwo2yr</a><br/>\n",
       "                Run data is saved locally in <code>/data-imperial/wandb/run-20210818_042331-2elwo2yr</code><br/><br/>\n",
       "            "
      ],
      "text/plain": [
       "<IPython.core.display.HTML object>"
      ]
     },
     "metadata": {},
     "output_type": "display_data"
    },
    {
     "name": "stdout",
     "output_type": "stream",
     "text": [
      "(344988, 1000) (344988,)\n",
      "(18157, 1000) (18157,)\n"
     ]
    },
    {
     "name": "stderr",
     "output_type": "stream",
     "text": [
      "/data-imperial/lib/python3.9/site-packages/sklearn/utils/validation.py:70: FutureWarning: Pass classes=[0. 1.], y=241481    0.0\n",
      "273957    0.0\n",
      "70082     0.0\n",
      "329618    0.0\n",
      "311440    0.0\n",
      "         ... \n",
      "91981     0.0\n",
      "275528    0.0\n",
      "21811     0.0\n",
      "323870    1.0\n",
      "257947    1.0\n",
      "Name: 19_intent_x, Length: 310489, dtype: float64 as keyword args. From version 1.0 (renaming of 0.25) passing these as positional arguments will result in an error\n",
      "  warnings.warn(f\"Pass {args_msg} as keyword args. From version \"\n"
     ]
    },
    {
     "data": {
      "application/vnd.jupyter.widget-view+json": {
       "model_id": "10414b5470854435b574b45992908618",
       "version_major": 2,
       "version_minor": 0
      },
      "text/plain": [
       "HBox(children=(FloatProgress(value=0.0, max=1000.0), HTML(value='')))"
      ]
     },
     "metadata": {},
     "output_type": "display_data"
    },
    {
     "name": "stdout",
     "output_type": "stream",
     "text": [
      "\n",
      "19_intent_x\n",
      "precision            0.648103\n",
      "recall               0.642597\n",
      "f1                   0.645338\n",
      "roc_auc              0.894752\n",
      "average_precision    0.679430\n",
      "matthews             0.567096\n",
      "spearman             0.527095\n",
      "dtype: float64\n"
     ]
    },
    {
     "data": {
      "text/html": [
       "<br/>Waiting for W&B process to finish, PID 16881<br/>Program ended successfully."
      ],
      "text/plain": [
       "<IPython.core.display.HTML object>"
      ]
     },
     "metadata": {},
     "output_type": "display_data"
    },
    {
     "data": {
      "application/vnd.jupyter.widget-view+json": {
       "model_id": "",
       "version_major": 2,
       "version_minor": 0
      },
      "text/plain": [
       "VBox(children=(Label(value=' 0.00MB of 0.00MB uploaded (0.00MB deduped)\\r'), FloatProgress(value=1.0, max=1.0)…"
      ]
     },
     "metadata": {},
     "output_type": "display_data"
    },
    {
     "data": {
      "text/html": [
       "Find user logs for this run at: <code>/data-imperial/wandb/run-20210818_042331-2elwo2yr/logs/debug.log</code>"
      ],
      "text/plain": [
       "<IPython.core.display.HTML object>"
      ]
     },
     "metadata": {},
     "output_type": "display_data"
    },
    {
     "data": {
      "text/html": [
       "Find internal logs for this run at: <code>/data-imperial/wandb/run-20210818_042331-2elwo2yr/logs/debug-internal.log</code>"
      ],
      "text/plain": [
       "<IPython.core.display.HTML object>"
      ]
     },
     "metadata": {},
     "output_type": "display_data"
    },
    {
     "data": {
      "text/html": [
       "<h3>Run summary:</h3><br/><style>\n",
       "    table.wandb td:nth-child(1) { padding: 0 10px; text-align: right }\n",
       "    </style><table class=\"wandb\">\n",
       "<tr><td>n_estimators</td><td>160</td></tr><tr><td>_runtime</td><td>521</td></tr><tr><td>_timestamp</td><td>1629261132</td></tr><tr><td>_step</td><td>32</td></tr><tr><td>val precision</td><td>0.63846</td></tr><tr><td>val recall</td><td>0.63345</td></tr><tr><td>val f1</td><td>0.63595</td></tr><tr><td>val roc_auc</td><td>0.88914</td></tr><tr><td>val average_precision</td><td>0.66247</td></tr><tr><td>val matthews</td><td>0.55386</td></tr><tr><td>val spearman</td><td>0.52314</td></tr><tr><td>test precision</td><td>0.6481</td></tr><tr><td>test recall</td><td>0.6426</td></tr><tr><td>test f1</td><td>0.64534</td></tr><tr><td>test roc_auc</td><td>0.89475</td></tr><tr><td>test average_precision</td><td>0.67943</td></tr><tr><td>test matthews</td><td>0.5671</td></tr><tr><td>test spearman</td><td>0.52709</td></tr></table>"
      ],
      "text/plain": [
       "<IPython.core.display.HTML object>"
      ]
     },
     "metadata": {},
     "output_type": "display_data"
    },
    {
     "data": {
      "text/html": [
       "<h3>Run history:</h3><br/><style>\n",
       "    table.wandb td:nth-child(1) { padding: 0 10px; text-align: right }\n",
       "    </style><table class=\"wandb\">\n",
       "<tr><td>n_estimators</td><td>▁▁▁▂▂▂▂▃▃▃▃▃▄▄▄▄▅▅▅▅▆▆▆▆▆▇▇▇▇███</td></tr><tr><td>_runtime</td><td>▁▁▁▂▂▂▂▃▃▃▃▃▄▄▄▄▅▅▅▅▅▆▆▆▆▇▇▇▇▇███</td></tr><tr><td>_timestamp</td><td>▁▁▁▂▂▂▂▃▃▃▃▃▄▄▄▄▅▅▅▅▅▆▆▆▆▇▇▇▇▇███</td></tr><tr><td>_step</td><td>▁▁▁▂▂▂▂▃▃▃▃▃▄▄▄▄▅▅▅▅▅▆▆▆▆▆▇▇▇▇███</td></tr><tr><td>val precision</td><td>▁</td></tr><tr><td>val recall</td><td>▁</td></tr><tr><td>val f1</td><td>▁</td></tr><tr><td>val roc_auc</td><td>▁</td></tr><tr><td>val average_precision</td><td>▁</td></tr><tr><td>val matthews</td><td>▁</td></tr><tr><td>val spearman</td><td>▁</td></tr><tr><td>test precision</td><td>▁</td></tr><tr><td>test recall</td><td>▁</td></tr><tr><td>test f1</td><td>▁</td></tr><tr><td>test roc_auc</td><td>▁</td></tr><tr><td>test average_precision</td><td>▁</td></tr><tr><td>test matthews</td><td>▁</td></tr><tr><td>test spearman</td><td>▁</td></tr></table><br/>"
      ],
      "text/plain": [
       "<IPython.core.display.HTML object>"
      ]
     },
     "metadata": {},
     "output_type": "display_data"
    },
    {
     "data": {
      "text/html": [
       "Synced 6 W&B file(s), 0 media file(s), 0 artifact file(s) and 0 other file(s)"
      ],
      "text/plain": [
       "<IPython.core.display.HTML object>"
      ]
     },
     "metadata": {},
     "output_type": "display_data"
    },
    {
     "data": {
      "text/html": [
       "\n",
       "                    <br/>Synced <strong style=\"color:#cdcd00\">charmed-donkey-187</strong>: <a href=\"https://wandb.ai/kiatann/tfidf_baseline/runs/2elwo2yr\" target=\"_blank\">https://wandb.ai/kiatann/tfidf_baseline/runs/2elwo2yr</a><br/>\n",
       "                "
      ],
      "text/plain": [
       "<IPython.core.display.HTML object>"
      ]
     },
     "metadata": {},
     "output_type": "display_data"
    },
    {
     "name": "stderr",
     "output_type": "stream",
     "text": [
      "\u001b[34m\u001b[1mwandb\u001b[0m: wandb version 0.12.0 is available!  To upgrade, please run:\n",
      "\u001b[34m\u001b[1mwandb\u001b[0m:  $ pip install wandb --upgrade\n"
     ]
    },
    {
     "data": {
      "text/html": [
       "\n",
       "                Tracking run with wandb version 0.11.0<br/>\n",
       "                Syncing run <strong style=\"color:#cdcd00\">stellar-frost-188</strong> to <a href=\"https://wandb.ai\" target=\"_blank\">Weights & Biases</a> <a href=\"https://docs.wandb.com/integrations/jupyter.html\" target=\"_blank\">(Documentation)</a>.<br/>\n",
       "                Project page: <a href=\"https://wandb.ai/kiatann/tfidf_baseline\" target=\"_blank\">https://wandb.ai/kiatann/tfidf_baseline</a><br/>\n",
       "                Run page: <a href=\"https://wandb.ai/kiatann/tfidf_baseline/runs/2s4oue6g\" target=\"_blank\">https://wandb.ai/kiatann/tfidf_baseline/runs/2s4oue6g</a><br/>\n",
       "                Run data is saved locally in <code>/data-imperial/wandb/run-20210818_043220-2s4oue6g</code><br/><br/>\n",
       "            "
      ],
      "text/plain": [
       "<IPython.core.display.HTML object>"
      ]
     },
     "metadata": {},
     "output_type": "display_data"
    },
    {
     "name": "stdout",
     "output_type": "stream",
     "text": [
      "(344988, 1000) (344988,)\n",
      "(18157, 1000) (18157,)\n"
     ]
    },
    {
     "name": "stderr",
     "output_type": "stream",
     "text": [
      "/data-imperial/lib/python3.9/site-packages/sklearn/utils/validation.py:70: FutureWarning: Pass classes=[0. 1.], y=333920    0.0\n",
      "18492     1.0\n",
      "24380     0.0\n",
      "142901    0.0\n",
      "159597    0.0\n",
      "         ... \n",
      "117564    0.0\n",
      "43316     0.0\n",
      "140919    0.0\n",
      "93674     0.0\n",
      "124488    0.0\n",
      "Name: 19_capability_x, Length: 310489, dtype: float64 as keyword args. From version 1.0 (renaming of 0.25) passing these as positional arguments will result in an error\n",
      "  warnings.warn(f\"Pass {args_msg} as keyword args. From version \"\n"
     ]
    },
    {
     "data": {
      "application/vnd.jupyter.widget-view+json": {
       "model_id": "a856b1b721e74f428a483967c8127e88",
       "version_major": 2,
       "version_minor": 0
      },
      "text/plain": [
       "HBox(children=(FloatProgress(value=0.0, max=1000.0), HTML(value='')))"
      ]
     },
     "metadata": {},
     "output_type": "display_data"
    },
    {
     "name": "stderr",
     "output_type": "stream",
     "text": [
      "wandb: Network error (ReadTimeout), entering retry loop.\n",
      "wandb: ERROR Error while calling W&B API: Error 1040: Too many connections (<Response [500]>)\n",
      "\u001b[34m\u001b[1mwandb\u001b[0m: Network error resolved after 0:05:43.527669, resuming normal operation.\n"
     ]
    },
    {
     "name": "stdout",
     "output_type": "stream",
     "text": [
      "\n",
      "19_capability_x\n",
      "precision            0.611890\n",
      "recall               0.594963\n",
      "f1                   0.603308\n",
      "roc_auc              0.906054\n",
      "average_precision    0.626713\n",
      "matthews             0.543304\n",
      "spearman             0.478245\n",
      "dtype: float64\n"
     ]
    },
    {
     "data": {
      "text/html": [
       "<br/>Waiting for W&B process to finish, PID 17324<br/>Program ended successfully."
      ],
      "text/plain": [
       "<IPython.core.display.HTML object>"
      ]
     },
     "metadata": {},
     "output_type": "display_data"
    },
    {
     "data": {
      "application/vnd.jupyter.widget-view+json": {
       "model_id": "",
       "version_major": 2,
       "version_minor": 0
      },
      "text/plain": [
       "VBox(children=(Label(value=' 0.00MB of 0.00MB uploaded (0.00MB deduped)\\r'), FloatProgress(value=1.0, max=1.0)…"
      ]
     },
     "metadata": {},
     "output_type": "display_data"
    },
    {
     "data": {
      "text/html": [
       "Find user logs for this run at: <code>/data-imperial/wandb/run-20210818_043220-2s4oue6g/logs/debug.log</code>"
      ],
      "text/plain": [
       "<IPython.core.display.HTML object>"
      ]
     },
     "metadata": {},
     "output_type": "display_data"
    },
    {
     "data": {
      "text/html": [
       "Find internal logs for this run at: <code>/data-imperial/wandb/run-20210818_043220-2s4oue6g/logs/debug-internal.log</code>"
      ],
      "text/plain": [
       "<IPython.core.display.HTML object>"
      ]
     },
     "metadata": {},
     "output_type": "display_data"
    },
    {
     "data": {
      "text/html": [
       "<h3>Run summary:</h3><br/><style>\n",
       "    table.wandb td:nth-child(1) { padding: 0 10px; text-align: right }\n",
       "    </style><table class=\"wandb\">\n",
       "<tr><td>n_estimators</td><td>195</td></tr><tr><td>_runtime</td><td>626</td></tr><tr><td>_timestamp</td><td>1629261766</td></tr><tr><td>_step</td><td>39</td></tr><tr><td>val precision</td><td>0.58967</td></tr><tr><td>val recall</td><td>0.58826</td></tr><tr><td>val f1</td><td>0.58896</td></tr><tr><td>val roc_auc</td><td>0.90131</td></tr><tr><td>val average_precision</td><td>0.61256</td></tr><tr><td>val matthews</td><td>0.52554</td></tr><tr><td>val spearman</td><td>0.47331</td></tr><tr><td>test precision</td><td>0.61189</td></tr><tr><td>test recall</td><td>0.59496</td></tr><tr><td>test f1</td><td>0.60331</td></tr><tr><td>test roc_auc</td><td>0.90605</td></tr><tr><td>test average_precision</td><td>0.62671</td></tr><tr><td>test matthews</td><td>0.5433</td></tr><tr><td>test spearman</td><td>0.47824</td></tr></table>"
      ],
      "text/plain": [
       "<IPython.core.display.HTML object>"
      ]
     },
     "metadata": {},
     "output_type": "display_data"
    },
    {
     "data": {
      "text/html": [
       "<h3>Run history:</h3><br/><style>\n",
       "    table.wandb td:nth-child(1) { padding: 0 10px; text-align: right }\n",
       "    </style><table class=\"wandb\">\n",
       "<tr><td>n_estimators</td><td>▁▁▁▂▂▂▂▂▂▃▃▃▃▃▄▄▄▄▄▄▅▅▅▅▅▆▆▆▆▆▇▇▇▇▇▇███</td></tr><tr><td>_runtime</td><td>▁▁▁▂▂▂▂▂▂▃▃▃▃▃▄▄▄▄▄▄▅▅▅▅▅▅▆▆▆▆▆▇▇▇▇▇████</td></tr><tr><td>_timestamp</td><td>▁▁▁▂▂▂▂▂▂▃▃▃▃▃▄▄▄▄▄▄▅▅▅▅▅▅▆▆▆▆▆▇▇▇▇▇████</td></tr><tr><td>_step</td><td>▁▁▁▂▂▂▂▂▂▃▃▃▃▃▄▄▄▄▄▄▅▅▅▅▅▅▆▆▆▆▆▇▇▇▇▇▇███</td></tr><tr><td>val precision</td><td>▁</td></tr><tr><td>val recall</td><td>▁</td></tr><tr><td>val f1</td><td>▁</td></tr><tr><td>val roc_auc</td><td>▁</td></tr><tr><td>val average_precision</td><td>▁</td></tr><tr><td>val matthews</td><td>▁</td></tr><tr><td>val spearman</td><td>▁</td></tr><tr><td>test precision</td><td>▁</td></tr><tr><td>test recall</td><td>▁</td></tr><tr><td>test f1</td><td>▁</td></tr><tr><td>test roc_auc</td><td>▁</td></tr><tr><td>test average_precision</td><td>▁</td></tr><tr><td>test matthews</td><td>▁</td></tr><tr><td>test spearman</td><td>▁</td></tr></table><br/>"
      ],
      "text/plain": [
       "<IPython.core.display.HTML object>"
      ]
     },
     "metadata": {},
     "output_type": "display_data"
    },
    {
     "data": {
      "text/html": [
       "Synced 6 W&B file(s), 0 media file(s), 0 artifact file(s) and 0 other file(s)"
      ],
      "text/plain": [
       "<IPython.core.display.HTML object>"
      ]
     },
     "metadata": {},
     "output_type": "display_data"
    },
    {
     "data": {
      "text/html": [
       "\n",
       "                    <br/>Synced <strong style=\"color:#cdcd00\">stellar-frost-188</strong>: <a href=\"https://wandb.ai/kiatann/tfidf_baseline/runs/2s4oue6g\" target=\"_blank\">https://wandb.ai/kiatann/tfidf_baseline/runs/2s4oue6g</a><br/>\n",
       "                "
      ],
      "text/plain": [
       "<IPython.core.display.HTML object>"
      ]
     },
     "metadata": {},
     "output_type": "display_data"
    },
    {
     "name": "stderr",
     "output_type": "stream",
     "text": [
      "\u001b[34m\u001b[1mwandb\u001b[0m: wandb version 0.12.0 is available!  To upgrade, please run:\n",
      "\u001b[34m\u001b[1mwandb\u001b[0m:  $ pip install wandb --upgrade\n"
     ]
    },
    {
     "data": {
      "text/html": [
       "\n",
       "                Tracking run with wandb version 0.11.0<br/>\n",
       "                Syncing run <strong style=\"color:#cdcd00\">pleasant-vortex-189</strong> to <a href=\"https://wandb.ai\" target=\"_blank\">Weights & Biases</a> <a href=\"https://docs.wandb.com/integrations/jupyter.html\" target=\"_blank\">(Documentation)</a>.<br/>\n",
       "                Project page: <a href=\"https://wandb.ai/kiatann/tfidf_baseline\" target=\"_blank\">https://wandb.ai/kiatann/tfidf_baseline</a><br/>\n",
       "                Run page: <a href=\"https://wandb.ai/kiatann/tfidf_baseline/runs/10927af5\" target=\"_blank\">https://wandb.ai/kiatann/tfidf_baseline/runs/10927af5</a><br/>\n",
       "                Run data is saved locally in <code>/data-imperial/wandb/run-20210818_044257-10927af5</code><br/><br/>\n",
       "            "
      ],
      "text/plain": [
       "<IPython.core.display.HTML object>"
      ]
     },
     "metadata": {},
     "output_type": "display_data"
    },
    {
     "name": "stdout",
     "output_type": "stream",
     "text": [
      "(344988, 1000) (344988,)\n",
      "(18157, 1000) (18157,)\n"
     ]
    },
    {
     "name": "stderr",
     "output_type": "stream",
     "text": [
      "/data-imperial/lib/python3.9/site-packages/sklearn/utils/validation.py:70: FutureWarning: Pass classes=[0. 1.], y=283264    0.0\n",
      "128468    0.0\n",
      "132794    1.0\n",
      "244955    0.0\n",
      "205205    0.0\n",
      "         ... \n",
      "321080    0.0\n",
      "119145    1.0\n",
      "96618     0.0\n",
      "6482      0.0\n",
      "302625    0.0\n",
      "Name: 19_timeframe_x, Length: 310489, dtype: float64 as keyword args. From version 1.0 (renaming of 0.25) passing these as positional arguments will result in an error\n",
      "  warnings.warn(f\"Pass {args_msg} as keyword args. From version \"\n"
     ]
    },
    {
     "data": {
      "application/vnd.jupyter.widget-view+json": {
       "model_id": "11ab915864254bb19decbedd10538e36",
       "version_major": 2,
       "version_minor": 0
      },
      "text/plain": [
       "HBox(children=(FloatProgress(value=0.0, max=1000.0), HTML(value='')))"
      ]
     },
     "metadata": {},
     "output_type": "display_data"
    },
    {
     "name": "stdout",
     "output_type": "stream",
     "text": [
      "\n",
      "19_timeframe_x\n",
      "precision            0.525741\n",
      "recall               0.504869\n",
      "f1                   0.515094\n",
      "roc_auc              0.917050\n",
      "average_precision    0.512849\n",
      "matthews             0.477565\n",
      "spearman             0.377063\n",
      "dtype: float64\n"
     ]
    },
    {
     "data": {
      "text/html": [
       "<br/>Waiting for W&B process to finish, PID 17798<br/>Program ended successfully."
      ],
      "text/plain": [
       "<IPython.core.display.HTML object>"
      ]
     },
     "metadata": {},
     "output_type": "display_data"
    },
    {
     "data": {
      "application/vnd.jupyter.widget-view+json": {
       "model_id": "",
       "version_major": 2,
       "version_minor": 0
      },
      "text/plain": [
       "VBox(children=(Label(value=' 0.00MB of 0.00MB uploaded (0.00MB deduped)\\r'), FloatProgress(value=1.0, max=1.0)…"
      ]
     },
     "metadata": {},
     "output_type": "display_data"
    },
    {
     "data": {
      "text/html": [
       "Find user logs for this run at: <code>/data-imperial/wandb/run-20210818_044257-10927af5/logs/debug.log</code>"
      ],
      "text/plain": [
       "<IPython.core.display.HTML object>"
      ]
     },
     "metadata": {},
     "output_type": "display_data"
    },
    {
     "data": {
      "text/html": [
       "Find internal logs for this run at: <code>/data-imperial/wandb/run-20210818_044257-10927af5/logs/debug-internal.log</code>"
      ],
      "text/plain": [
       "<IPython.core.display.HTML object>"
      ]
     },
     "metadata": {},
     "output_type": "display_data"
    },
    {
     "data": {
      "text/html": [
       "<h3>Run summary:</h3><br/><style>\n",
       "    table.wandb td:nth-child(1) { padding: 0 10px; text-align: right }\n",
       "    </style><table class=\"wandb\">\n",
       "<tr><td>n_estimators</td><td>80</td></tr><tr><td>_runtime</td><td>266</td></tr><tr><td>_timestamp</td><td>1629262043</td></tr><tr><td>_step</td><td>16</td></tr><tr><td>val precision</td><td>0.50697</td></tr><tr><td>val recall</td><td>0.50617</td></tr><tr><td>val f1</td><td>0.50657</td></tr><tr><td>val roc_auc</td><td>0.91616</td></tr><tr><td>val average_precision</td><td>0.52166</td></tr><tr><td>val matthews</td><td>0.46784</td></tr><tr><td>val spearman</td><td>0.37465</td></tr><tr><td>test precision</td><td>0.52574</td></tr><tr><td>test recall</td><td>0.50487</td></tr><tr><td>test f1</td><td>0.51509</td></tr><tr><td>test roc_auc</td><td>0.91705</td></tr><tr><td>test average_precision</td><td>0.51285</td></tr><tr><td>test matthews</td><td>0.47756</td></tr><tr><td>test spearman</td><td>0.37706</td></tr></table>"
      ],
      "text/plain": [
       "<IPython.core.display.HTML object>"
      ]
     },
     "metadata": {},
     "output_type": "display_data"
    },
    {
     "data": {
      "text/html": [
       "<h3>Run history:</h3><br/><style>\n",
       "    table.wandb td:nth-child(1) { padding: 0 10px; text-align: right }\n",
       "    </style><table class=\"wandb\">\n",
       "<tr><td>n_estimators</td><td>▁▁▂▂▃▃▄▄▅▅▆▆▇▇██</td></tr><tr><td>_runtime</td><td>▁▁▂▂▃▃▄▄▅▅▆▆▆▇▇██</td></tr><tr><td>_timestamp</td><td>▁▁▂▂▃▃▄▄▅▅▆▆▆▇▇██</td></tr><tr><td>_step</td><td>▁▁▂▂▃▃▄▄▅▅▅▆▆▇▇██</td></tr><tr><td>val precision</td><td>▁</td></tr><tr><td>val recall</td><td>▁</td></tr><tr><td>val f1</td><td>▁</td></tr><tr><td>val roc_auc</td><td>▁</td></tr><tr><td>val average_precision</td><td>▁</td></tr><tr><td>val matthews</td><td>▁</td></tr><tr><td>val spearman</td><td>▁</td></tr><tr><td>test precision</td><td>▁</td></tr><tr><td>test recall</td><td>▁</td></tr><tr><td>test f1</td><td>▁</td></tr><tr><td>test roc_auc</td><td>▁</td></tr><tr><td>test average_precision</td><td>▁</td></tr><tr><td>test matthews</td><td>▁</td></tr><tr><td>test spearman</td><td>▁</td></tr></table><br/>"
      ],
      "text/plain": [
       "<IPython.core.display.HTML object>"
      ]
     },
     "metadata": {},
     "output_type": "display_data"
    },
    {
     "data": {
      "text/html": [
       "Synced 6 W&B file(s), 0 media file(s), 0 artifact file(s) and 0 other file(s)"
      ],
      "text/plain": [
       "<IPython.core.display.HTML object>"
      ]
     },
     "metadata": {},
     "output_type": "display_data"
    },
    {
     "data": {
      "text/html": [
       "\n",
       "                    <br/>Synced <strong style=\"color:#cdcd00\">pleasant-vortex-189</strong>: <a href=\"https://wandb.ai/kiatann/tfidf_baseline/runs/10927af5\" target=\"_blank\">https://wandb.ai/kiatann/tfidf_baseline/runs/10927af5</a><br/>\n",
       "                "
      ],
      "text/plain": [
       "<IPython.core.display.HTML object>"
      ]
     },
     "metadata": {},
     "output_type": "display_data"
    },
    {
     "name": "stderr",
     "output_type": "stream",
     "text": [
      "\u001b[34m\u001b[1mwandb\u001b[0m: wandb version 0.12.0 is available!  To upgrade, please run:\n",
      "\u001b[34m\u001b[1mwandb\u001b[0m:  $ pip install wandb --upgrade\n"
     ]
    },
    {
     "data": {
      "text/html": [
       "\n",
       "                Tracking run with wandb version 0.11.0<br/>\n",
       "                Syncing run <strong style=\"color:#cdcd00\">good-flower-190</strong> to <a href=\"https://wandb.ai\" target=\"_blank\">Weights & Biases</a> <a href=\"https://docs.wandb.com/integrations/jupyter.html\" target=\"_blank\">(Documentation)</a>.<br/>\n",
       "                Project page: <a href=\"https://wandb.ai/kiatann/tfidf_baseline\" target=\"_blank\">https://wandb.ai/kiatann/tfidf_baseline</a><br/>\n",
       "                Run page: <a href=\"https://wandb.ai/kiatann/tfidf_baseline/runs/2vf0nxoi\" target=\"_blank\">https://wandb.ai/kiatann/tfidf_baseline/runs/2vf0nxoi</a><br/>\n",
       "                Run data is saved locally in <code>/data-imperial/wandb/run-20210818_044730-2vf0nxoi</code><br/><br/>\n",
       "            "
      ],
      "text/plain": [
       "<IPython.core.display.HTML object>"
      ]
     },
     "metadata": {},
     "output_type": "display_data"
    },
    {
     "name": "stdout",
     "output_type": "stream",
     "text": [
      "(344988, 1000) (344988,)\n",
      "(18157, 1000) (18157,)\n"
     ]
    },
    {
     "name": "stderr",
     "output_type": "stream",
     "text": [
      "/data-imperial/lib/python3.9/site-packages/sklearn/utils/validation.py:70: FutureWarning: Pass classes=[0. 1.], y=5049      0.0\n",
      "179734    0.0\n",
      "176479    0.0\n",
      "22960     0.0\n",
      "322029    1.0\n",
      "         ... \n",
      "208484    0.0\n",
      "185284    0.0\n",
      "27318     0.0\n",
      "157631    0.0\n",
      "333076    0.0\n",
      "Name: 18_substance, Length: 310489, dtype: float64 as keyword args. From version 1.0 (renaming of 0.25) passing these as positional arguments will result in an error\n",
      "  warnings.warn(f\"Pass {args_msg} as keyword args. From version \"\n"
     ]
    },
    {
     "data": {
      "application/vnd.jupyter.widget-view+json": {
       "model_id": "136221ca6e7545f3976c22deb60e2485",
       "version_major": 2,
       "version_minor": 0
      },
      "text/plain": [
       "HBox(children=(FloatProgress(value=0.0, max=1000.0), HTML(value='')))"
      ]
     },
     "metadata": {},
     "output_type": "display_data"
    },
    {
     "name": "stdout",
     "output_type": "stream",
     "text": [
      "\n",
      "18_substance\n",
      "precision            0.216216\n",
      "recall               0.193548\n",
      "f1                   0.204255\n",
      "roc_auc              0.888767\n",
      "average_precision    0.157388\n",
      "matthews             0.199398\n",
      "spearman             0.110913\n",
      "dtype: float64\n"
     ]
    },
    {
     "data": {
      "text/html": [
       "<br/>Waiting for W&B process to finish, PID 18026<br/>Program ended successfully."
      ],
      "text/plain": [
       "<IPython.core.display.HTML object>"
      ]
     },
     "metadata": {},
     "output_type": "display_data"
    },
    {
     "data": {
      "application/vnd.jupyter.widget-view+json": {
       "model_id": "",
       "version_major": 2,
       "version_minor": 0
      },
      "text/plain": [
       "VBox(children=(Label(value=' 0.00MB of 0.00MB uploaded (0.00MB deduped)\\r'), FloatProgress(value=1.0, max=1.0)…"
      ]
     },
     "metadata": {},
     "output_type": "display_data"
    },
    {
     "data": {
      "text/html": [
       "Find user logs for this run at: <code>/data-imperial/wandb/run-20210818_044730-2vf0nxoi/logs/debug.log</code>"
      ],
      "text/plain": [
       "<IPython.core.display.HTML object>"
      ]
     },
     "metadata": {},
     "output_type": "display_data"
    },
    {
     "data": {
      "text/html": [
       "Find internal logs for this run at: <code>/data-imperial/wandb/run-20210818_044730-2vf0nxoi/logs/debug-internal.log</code>"
      ],
      "text/plain": [
       "<IPython.core.display.HTML object>"
      ]
     },
     "metadata": {},
     "output_type": "display_data"
    },
    {
     "data": {
      "text/html": [
       "<h3>Run summary:</h3><br/><style>\n",
       "    table.wandb td:nth-child(1) { padding: 0 10px; text-align: right }\n",
       "    </style><table class=\"wandb\">\n",
       "<tr><td>n_estimators</td><td>150</td></tr><tr><td>_runtime</td><td>489</td></tr><tr><td>_timestamp</td><td>1629262539</td></tr><tr><td>_step</td><td>30</td></tr><tr><td>val precision</td><td>0.17961</td></tr><tr><td>val recall</td><td>0.14859</td></tr><tr><td>val f1</td><td>0.16264</td></tr><tr><td>val roc_auc</td><td>0.85692</td></tr><tr><td>val average_precision</td><td>0.12322</td></tr><tr><td>val matthews</td><td>0.15784</td></tr><tr><td>val spearman</td><td>0.10466</td></tr><tr><td>test precision</td><td>0.21622</td></tr><tr><td>test recall</td><td>0.19355</td></tr><tr><td>test f1</td><td>0.20426</td></tr><tr><td>test roc_auc</td><td>0.88877</td></tr><tr><td>test average_precision</td><td>0.15739</td></tr><tr><td>test matthews</td><td>0.1994</td></tr><tr><td>test spearman</td><td>0.11091</td></tr></table>"
      ],
      "text/plain": [
       "<IPython.core.display.HTML object>"
      ]
     },
     "metadata": {},
     "output_type": "display_data"
    },
    {
     "data": {
      "text/html": [
       "<h3>Run history:</h3><br/><style>\n",
       "    table.wandb td:nth-child(1) { padding: 0 10px; text-align: right }\n",
       "    </style><table class=\"wandb\">\n",
       "<tr><td>n_estimators</td><td>▁▁▁▂▂▂▂▃▃▃▃▄▄▄▄▅▅▅▅▆▆▆▆▇▇▇▇███</td></tr><tr><td>_runtime</td><td>▁▁▁▂▂▂▂▃▃▃▃▄▄▄▄▅▅▅▅▅▆▆▆▆▇▇▇▇███</td></tr><tr><td>_timestamp</td><td>▁▁▁▂▂▂▂▃▃▃▃▄▄▄▄▅▅▅▅▅▆▆▆▆▇▇▇▇███</td></tr><tr><td>_step</td><td>▁▁▁▂▂▂▂▃▃▃▃▄▄▄▄▅▅▅▅▅▆▆▆▆▇▇▇▇███</td></tr><tr><td>val precision</td><td>▁</td></tr><tr><td>val recall</td><td>▁</td></tr><tr><td>val f1</td><td>▁</td></tr><tr><td>val roc_auc</td><td>▁</td></tr><tr><td>val average_precision</td><td>▁</td></tr><tr><td>val matthews</td><td>▁</td></tr><tr><td>val spearman</td><td>▁</td></tr><tr><td>test precision</td><td>▁</td></tr><tr><td>test recall</td><td>▁</td></tr><tr><td>test f1</td><td>▁</td></tr><tr><td>test roc_auc</td><td>▁</td></tr><tr><td>test average_precision</td><td>▁</td></tr><tr><td>test matthews</td><td>▁</td></tr><tr><td>test spearman</td><td>▁</td></tr></table><br/>"
      ],
      "text/plain": [
       "<IPython.core.display.HTML object>"
      ]
     },
     "metadata": {},
     "output_type": "display_data"
    },
    {
     "data": {
      "text/html": [
       "Synced 6 W&B file(s), 0 media file(s), 0 artifact file(s) and 0 other file(s)"
      ],
      "text/plain": [
       "<IPython.core.display.HTML object>"
      ]
     },
     "metadata": {},
     "output_type": "display_data"
    },
    {
     "data": {
      "text/html": [
       "\n",
       "                    <br/>Synced <strong style=\"color:#cdcd00\">good-flower-190</strong>: <a href=\"https://wandb.ai/kiatann/tfidf_baseline/runs/2vf0nxoi\" target=\"_blank\">https://wandb.ai/kiatann/tfidf_baseline/runs/2vf0nxoi</a><br/>\n",
       "                "
      ],
      "text/plain": [
       "<IPython.core.display.HTML object>"
      ]
     },
     "metadata": {},
     "output_type": "display_data"
    },
    {
     "name": "stderr",
     "output_type": "stream",
     "text": [
      "\u001b[34m\u001b[1mwandb\u001b[0m: wandb version 0.12.0 is available!  To upgrade, please run:\n",
      "\u001b[34m\u001b[1mwandb\u001b[0m:  $ pip install wandb --upgrade\n"
     ]
    },
    {
     "data": {
      "text/html": [
       "\n",
       "                Tracking run with wandb version 0.11.0<br/>\n",
       "                Syncing run <strong style=\"color:#cdcd00\">twilight-haze-191</strong> to <a href=\"https://wandb.ai\" target=\"_blank\">Weights & Biases</a> <a href=\"https://docs.wandb.com/integrations/jupyter.html\" target=\"_blank\">(Documentation)</a>.<br/>\n",
       "                Project page: <a href=\"https://wandb.ai/kiatann/tfidf_baseline\" target=\"_blank\">https://wandb.ai/kiatann/tfidf_baseline</a><br/>\n",
       "                Run page: <a href=\"https://wandb.ai/kiatann/tfidf_baseline/runs/3jclllwp\" target=\"_blank\">https://wandb.ai/kiatann/tfidf_baseline/runs/3jclllwp</a><br/>\n",
       "                Run data is saved locally in <code>/data-imperial/wandb/run-20210818_045548-3jclllwp</code><br/><br/>\n",
       "            "
      ],
      "text/plain": [
       "<IPython.core.display.HTML object>"
      ]
     },
     "metadata": {},
     "output_type": "display_data"
    },
    {
     "name": "stdout",
     "output_type": "stream",
     "text": [
      "(344988, 1000) (344988,)\n",
      "(18157, 1000) (18157,)\n"
     ]
    },
    {
     "name": "stderr",
     "output_type": "stream",
     "text": [
      "/data-imperial/lib/python3.9/site-packages/sklearn/utils/validation.py:70: FutureWarning: Pass classes=[0. 1.], y=85879     1.0\n",
      "134549    0.0\n",
      "284780    0.0\n",
      "10552     0.0\n",
      "83828     0.0\n",
      "         ... \n",
      "214448    0.0\n",
      "323104    0.0\n",
      "13852     1.0\n",
      "107123    0.0\n",
      "24904     0.0\n",
      "Name: 18_depressed, Length: 310489, dtype: float64 as keyword args. From version 1.0 (renaming of 0.25) passing these as positional arguments will result in an error\n",
      "  warnings.warn(f\"Pass {args_msg} as keyword args. From version \"\n"
     ]
    },
    {
     "data": {
      "application/vnd.jupyter.widget-view+json": {
       "model_id": "ec87bc0168fe42cd960f28d5aceb6ba5",
       "version_major": 2,
       "version_minor": 0
      },
      "text/plain": [
       "HBox(children=(FloatProgress(value=0.0, max=1000.0), HTML(value='')))"
      ]
     },
     "metadata": {},
     "output_type": "display_data"
    },
    {
     "name": "stdout",
     "output_type": "stream",
     "text": [
      "\n",
      "18_depressed\n",
      "precision            0.464809\n",
      "recall               0.465150\n",
      "f1                   0.464980\n",
      "roc_auc              0.739175\n",
      "average_precision    0.474153\n",
      "matthews             0.309397\n",
      "spearman             0.346088\n",
      "dtype: float64\n"
     ]
    },
    {
     "data": {
      "text/html": [
       "<br/>Waiting for W&B process to finish, PID 18452<br/>Program ended successfully."
      ],
      "text/plain": [
       "<IPython.core.display.HTML object>"
      ]
     },
     "metadata": {},
     "output_type": "display_data"
    },
    {
     "data": {
      "application/vnd.jupyter.widget-view+json": {
       "model_id": "",
       "version_major": 2,
       "version_minor": 0
      },
      "text/plain": [
       "VBox(children=(Label(value=' 0.00MB of 0.00MB uploaded (0.00MB deduped)\\r'), FloatProgress(value=1.0, max=1.0)…"
      ]
     },
     "metadata": {},
     "output_type": "display_data"
    },
    {
     "data": {
      "text/html": [
       "Find user logs for this run at: <code>/data-imperial/wandb/run-20210818_045548-3jclllwp/logs/debug.log</code>"
      ],
      "text/plain": [
       "<IPython.core.display.HTML object>"
      ]
     },
     "metadata": {},
     "output_type": "display_data"
    },
    {
     "data": {
      "text/html": [
       "Find internal logs for this run at: <code>/data-imperial/wandb/run-20210818_045548-3jclllwp/logs/debug-internal.log</code>"
      ],
      "text/plain": [
       "<IPython.core.display.HTML object>"
      ]
     },
     "metadata": {},
     "output_type": "display_data"
    },
    {
     "data": {
      "text/html": [
       "<h3>Run summary:</h3><br/><style>\n",
       "    table.wandb td:nth-child(1) { padding: 0 10px; text-align: right }\n",
       "    </style><table class=\"wandb\">\n",
       "<tr><td>n_estimators</td><td>255</td></tr><tr><td>_runtime</td><td>825</td></tr><tr><td>_timestamp</td><td>1629263373</td></tr><tr><td>_step</td><td>51</td></tr><tr><td>val precision</td><td>0.46539</td></tr><tr><td>val recall</td><td>0.47266</td></tr><tr><td>val f1</td><td>0.469</td></tr><tr><td>val roc_auc</td><td>0.73645</td></tr><tr><td>val average_precision</td><td>0.47912</td></tr><tr><td>val matthews</td><td>0.31021</td></tr><tr><td>val spearman</td><td>0.34388</td></tr><tr><td>test precision</td><td>0.46481</td></tr><tr><td>test recall</td><td>0.46515</td></tr><tr><td>test f1</td><td>0.46498</td></tr><tr><td>test roc_auc</td><td>0.73917</td></tr><tr><td>test average_precision</td><td>0.47415</td></tr><tr><td>test matthews</td><td>0.3094</td></tr><tr><td>test spearman</td><td>0.34609</td></tr></table>"
      ],
      "text/plain": [
       "<IPython.core.display.HTML object>"
      ]
     },
     "metadata": {},
     "output_type": "display_data"
    },
    {
     "data": {
      "text/html": [
       "<h3>Run history:</h3><br/><style>\n",
       "    table.wandb td:nth-child(1) { padding: 0 10px; text-align: right }\n",
       "    </style><table class=\"wandb\">\n",
       "<tr><td>n_estimators</td><td>▁▁▁▁▂▂▂▂▂▃▃▃▃▃▃▄▄▄▄▄▅▅▅▅▅▅▆▆▆▆▆▆▇▇▇▇▇███</td></tr><tr><td>_runtime</td><td>▁▁▁▁▂▂▂▂▂▂▃▃▃▃▃▄▄▄▄▄▅▅▅▅▅▅▆▆▆▆▆▆▇▇▇▇▇███</td></tr><tr><td>_timestamp</td><td>▁▁▁▁▂▂▂▂▂▂▃▃▃▃▃▄▄▄▄▄▅▅▅▅▅▅▆▆▆▆▆▆▇▇▇▇▇███</td></tr><tr><td>_step</td><td>▁▁▁▁▂▂▂▂▂▃▃▃▃▃▃▄▄▄▄▄▅▅▅▅▅▅▆▆▆▆▆▆▇▇▇▇▇███</td></tr><tr><td>val precision</td><td>▁</td></tr><tr><td>val recall</td><td>▁</td></tr><tr><td>val f1</td><td>▁</td></tr><tr><td>val roc_auc</td><td>▁</td></tr><tr><td>val average_precision</td><td>▁</td></tr><tr><td>val matthews</td><td>▁</td></tr><tr><td>val spearman</td><td>▁</td></tr><tr><td>test precision</td><td>▁</td></tr><tr><td>test recall</td><td>▁</td></tr><tr><td>test f1</td><td>▁</td></tr><tr><td>test roc_auc</td><td>▁</td></tr><tr><td>test average_precision</td><td>▁</td></tr><tr><td>test matthews</td><td>▁</td></tr><tr><td>test spearman</td><td>▁</td></tr></table><br/>"
      ],
      "text/plain": [
       "<IPython.core.display.HTML object>"
      ]
     },
     "metadata": {},
     "output_type": "display_data"
    },
    {
     "data": {
      "text/html": [
       "Synced 6 W&B file(s), 0 media file(s), 0 artifact file(s) and 0 other file(s)"
      ],
      "text/plain": [
       "<IPython.core.display.HTML object>"
      ]
     },
     "metadata": {},
     "output_type": "display_data"
    },
    {
     "data": {
      "text/html": [
       "\n",
       "                    <br/>Synced <strong style=\"color:#cdcd00\">twilight-haze-191</strong>: <a href=\"https://wandb.ai/kiatann/tfidf_baseline/runs/3jclllwp\" target=\"_blank\">https://wandb.ai/kiatann/tfidf_baseline/runs/3jclllwp</a><br/>\n",
       "                "
      ],
      "text/plain": [
       "<IPython.core.display.HTML object>"
      ]
     },
     "metadata": {},
     "output_type": "display_data"
    },
    {
     "name": "stderr",
     "output_type": "stream",
     "text": [
      "\u001b[34m\u001b[1mwandb\u001b[0m: wandb version 0.12.0 is available!  To upgrade, please run:\n",
      "\u001b[34m\u001b[1mwandb\u001b[0m:  $ pip install wandb --upgrade\n"
     ]
    },
    {
     "data": {
      "text/html": [
       "\n",
       "                Tracking run with wandb version 0.11.0<br/>\n",
       "                Syncing run <strong style=\"color:#cdcd00\">playful-smoke-192</strong> to <a href=\"https://wandb.ai\" target=\"_blank\">Weights & Biases</a> <a href=\"https://docs.wandb.com/integrations/jupyter.html\" target=\"_blank\">(Documentation)</a>.<br/>\n",
       "                Project page: <a href=\"https://wandb.ai/kiatann/tfidf_baseline\" target=\"_blank\">https://wandb.ai/kiatann/tfidf_baseline</a><br/>\n",
       "                Run page: <a href=\"https://wandb.ai/kiatann/tfidf_baseline/runs/1nuc80tk\" target=\"_blank\">https://wandb.ai/kiatann/tfidf_baseline/runs/1nuc80tk</a><br/>\n",
       "                Run data is saved locally in <code>/data-imperial/wandb/run-20210818_050944-1nuc80tk</code><br/><br/>\n",
       "            "
      ],
      "text/plain": [
       "<IPython.core.display.HTML object>"
      ]
     },
     "metadata": {},
     "output_type": "display_data"
    },
    {
     "name": "stdout",
     "output_type": "stream",
     "text": [
      "(344988, 1000) (344988,)\n",
      "(18157, 1000) (18157,)\n"
     ]
    },
    {
     "name": "stderr",
     "output_type": "stream",
     "text": [
      "/data-imperial/lib/python3.9/site-packages/sklearn/utils/validation.py:70: FutureWarning: Pass classes=[0. 1.], y=137522    0.0\n",
      "13880     0.0\n",
      "196347    1.0\n",
      "124988    0.0\n",
      "259317    0.0\n",
      "         ... \n",
      "6600      0.0\n",
      "220022    0.0\n",
      "341856    0.0\n",
      "57080     0.0\n",
      "248964    0.0\n",
      "Name: 18_self_harm, Length: 310489, dtype: float64 as keyword args. From version 1.0 (renaming of 0.25) passing these as positional arguments will result in an error\n",
      "  warnings.warn(f\"Pass {args_msg} as keyword args. From version \"\n"
     ]
    },
    {
     "data": {
      "application/vnd.jupyter.widget-view+json": {
       "model_id": "ee3b83645f904f5bb35fbc0e27c6c570",
       "version_major": 2,
       "version_minor": 0
      },
      "text/plain": [
       "HBox(children=(FloatProgress(value=0.0, max=1000.0), HTML(value='')))"
      ]
     },
     "metadata": {},
     "output_type": "display_data"
    },
    {
     "name": "stdout",
     "output_type": "stream",
     "text": [
      "\n",
      "18_self_harm\n",
      "precision            0.550955\n",
      "recall               0.547122\n",
      "f1                   0.549032\n",
      "roc_auc              0.898363\n",
      "average_precision    0.536889\n",
      "matthews             0.506187\n",
      "spearman             0.389073\n",
      "dtype: float64\n"
     ]
    },
    {
     "data": {
      "text/html": [
       "<br/>Waiting for W&B process to finish, PID 19064<br/>Program ended successfully."
      ],
      "text/plain": [
       "<IPython.core.display.HTML object>"
      ]
     },
     "metadata": {},
     "output_type": "display_data"
    },
    {
     "data": {
      "application/vnd.jupyter.widget-view+json": {
       "model_id": "",
       "version_major": 2,
       "version_minor": 0
      },
      "text/plain": [
       "VBox(children=(Label(value=' 0.00MB of 0.00MB uploaded (0.00MB deduped)\\r'), FloatProgress(value=1.0, max=1.0)…"
      ]
     },
     "metadata": {},
     "output_type": "display_data"
    },
    {
     "data": {
      "text/html": [
       "Find user logs for this run at: <code>/data-imperial/wandb/run-20210818_050944-1nuc80tk/logs/debug.log</code>"
      ],
      "text/plain": [
       "<IPython.core.display.HTML object>"
      ]
     },
     "metadata": {},
     "output_type": "display_data"
    },
    {
     "data": {
      "text/html": [
       "Find internal logs for this run at: <code>/data-imperial/wandb/run-20210818_050944-1nuc80tk/logs/debug-internal.log</code>"
      ],
      "text/plain": [
       "<IPython.core.display.HTML object>"
      ]
     },
     "metadata": {},
     "output_type": "display_data"
    },
    {
     "data": {
      "text/html": [
       "<h3>Run summary:</h3><br/><style>\n",
       "    table.wandb td:nth-child(1) { padding: 0 10px; text-align: right }\n",
       "    </style><table class=\"wandb\">\n",
       "<tr><td>n_estimators</td><td>125</td></tr><tr><td>_runtime</td><td>407</td></tr><tr><td>_timestamp</td><td>1629263791</td></tr><tr><td>_step</td><td>25</td></tr><tr><td>val precision</td><td>0.55798</td></tr><tr><td>val recall</td><td>0.54167</td></tr><tr><td>val f1</td><td>0.5497</td></tr><tr><td>val roc_auc</td><td>0.89026</td></tr><tr><td>val average_precision</td><td>0.5238</td></tr><tr><td>val matthews</td><td>0.50795</td></tr><tr><td>val spearman</td><td>0.37955</td></tr><tr><td>test precision</td><td>0.55096</td></tr><tr><td>test recall</td><td>0.54712</td></tr><tr><td>test f1</td><td>0.54903</td></tr><tr><td>test roc_auc</td><td>0.89836</td></tr><tr><td>test average_precision</td><td>0.53689</td></tr><tr><td>test matthews</td><td>0.50619</td></tr><tr><td>test spearman</td><td>0.38907</td></tr></table>"
      ],
      "text/plain": [
       "<IPython.core.display.HTML object>"
      ]
     },
     "metadata": {},
     "output_type": "display_data"
    },
    {
     "data": {
      "text/html": [
       "<h3>Run history:</h3><br/><style>\n",
       "    table.wandb td:nth-child(1) { padding: 0 10px; text-align: right }\n",
       "    </style><table class=\"wandb\">\n",
       "<tr><td>n_estimators</td><td>▁▁▂▂▂▂▃▃▃▄▄▄▅▅▅▅▆▆▆▇▇▇▇██</td></tr><tr><td>_runtime</td><td>▁▁▂▂▂▂▃▃▃▄▄▄▄▅▅▅▆▆▆▆▇▇▇███</td></tr><tr><td>_timestamp</td><td>▁▁▂▂▂▂▃▃▃▄▄▄▄▅▅▅▆▆▆▆▇▇▇███</td></tr><tr><td>_step</td><td>▁▁▂▂▂▂▃▃▃▄▄▄▄▅▅▅▅▆▆▆▇▇▇▇██</td></tr><tr><td>val precision</td><td>▁</td></tr><tr><td>val recall</td><td>▁</td></tr><tr><td>val f1</td><td>▁</td></tr><tr><td>val roc_auc</td><td>▁</td></tr><tr><td>val average_precision</td><td>▁</td></tr><tr><td>val matthews</td><td>▁</td></tr><tr><td>val spearman</td><td>▁</td></tr><tr><td>test precision</td><td>▁</td></tr><tr><td>test recall</td><td>▁</td></tr><tr><td>test f1</td><td>▁</td></tr><tr><td>test roc_auc</td><td>▁</td></tr><tr><td>test average_precision</td><td>▁</td></tr><tr><td>test matthews</td><td>▁</td></tr><tr><td>test spearman</td><td>▁</td></tr></table><br/>"
      ],
      "text/plain": [
       "<IPython.core.display.HTML object>"
      ]
     },
     "metadata": {},
     "output_type": "display_data"
    },
    {
     "data": {
      "text/html": [
       "Synced 6 W&B file(s), 0 media file(s), 0 artifact file(s) and 0 other file(s)"
      ],
      "text/plain": [
       "<IPython.core.display.HTML object>"
      ]
     },
     "metadata": {},
     "output_type": "display_data"
    },
    {
     "data": {
      "text/html": [
       "\n",
       "                    <br/>Synced <strong style=\"color:#cdcd00\">playful-smoke-192</strong>: <a href=\"https://wandb.ai/kiatann/tfidf_baseline/runs/1nuc80tk\" target=\"_blank\">https://wandb.ai/kiatann/tfidf_baseline/runs/1nuc80tk</a><br/>\n",
       "                "
      ],
      "text/plain": [
       "<IPython.core.display.HTML object>"
      ]
     },
     "metadata": {},
     "output_type": "display_data"
    },
    {
     "name": "stderr",
     "output_type": "stream",
     "text": [
      "\u001b[34m\u001b[1mwandb\u001b[0m: wandb version 0.12.0 is available!  To upgrade, please run:\n",
      "\u001b[34m\u001b[1mwandb\u001b[0m:  $ pip install wandb --upgrade\n"
     ]
    },
    {
     "data": {
      "text/html": [
       "\n",
       "                Tracking run with wandb version 0.11.0<br/>\n",
       "                Syncing run <strong style=\"color:#cdcd00\">ancient-snowball-193</strong> to <a href=\"https://wandb.ai\" target=\"_blank\">Weights & Biases</a> <a href=\"https://docs.wandb.com/integrations/jupyter.html\" target=\"_blank\">(Documentation)</a>.<br/>\n",
       "                Project page: <a href=\"https://wandb.ai/kiatann/tfidf_baseline\" target=\"_blank\">https://wandb.ai/kiatann/tfidf_baseline</a><br/>\n",
       "                Run page: <a href=\"https://wandb.ai/kiatann/tfidf_baseline/runs/2jh23557\" target=\"_blank\">https://wandb.ai/kiatann/tfidf_baseline/runs/2jh23557</a><br/>\n",
       "                Run data is saved locally in <code>/data-imperial/wandb/run-20210818_051638-2jh23557</code><br/><br/>\n",
       "            "
      ],
      "text/plain": [
       "<IPython.core.display.HTML object>"
      ]
     },
     "metadata": {},
     "output_type": "display_data"
    },
    {
     "name": "stdout",
     "output_type": "stream",
     "text": [
      "(52568, 1000) (52568,)\n",
      "(2710, 1000) (2710,)\n"
     ]
    },
    {
     "name": "stderr",
     "output_type": "stream",
     "text": [
      "/data-imperial/lib/python3.9/site-packages/sklearn/utils/validation.py:70: FutureWarning: Pass classes=[0. 1.], y=25448     1.0\n",
      "157416    1.0\n",
      "171115    0.0\n",
      "223106    1.0\n",
      "1148      1.0\n",
      "         ... \n",
      "239396    1.0\n",
      "85563     1.0\n",
      "84287     1.0\n",
      "262507    1.0\n",
      "319588    1.0\n",
      "Name: 64_Yes, Length: 47311, dtype: float64 as keyword args. From version 1.0 (renaming of 0.25) passing these as positional arguments will result in an error\n",
      "  warnings.warn(f\"Pass {args_msg} as keyword args. From version \"\n"
     ]
    },
    {
     "data": {
      "application/vnd.jupyter.widget-view+json": {
       "model_id": "ec6d84a0335649268d3005d13462d9b7",
       "version_major": 2,
       "version_minor": 0
      },
      "text/plain": [
       "HBox(children=(FloatProgress(value=0.0, max=1000.0), HTML(value='')))"
      ]
     },
     "metadata": {},
     "output_type": "display_data"
    },
    {
     "name": "stdout",
     "output_type": "stream",
     "text": [
      "\n",
      "64_Yes\n",
      "precision            0.910504\n",
      "recall               0.919389\n",
      "f1                   0.914925\n",
      "roc_auc              0.783043\n",
      "average_precision    0.955571\n",
      "matthews             0.325233\n",
      "spearman             0.330020\n",
      "dtype: float64\n"
     ]
    },
    {
     "data": {
      "text/html": [
       "<br/>Waiting for W&B process to finish, PID 19391<br/>Program ended successfully."
      ],
      "text/plain": [
       "<IPython.core.display.HTML object>"
      ]
     },
     "metadata": {},
     "output_type": "display_data"
    },
    {
     "data": {
      "application/vnd.jupyter.widget-view+json": {
       "model_id": "",
       "version_major": 2,
       "version_minor": 0
      },
      "text/plain": [
       "VBox(children=(Label(value=' 0.00MB of 0.00MB uploaded (0.00MB deduped)\\r'), FloatProgress(value=1.0, max=1.0)…"
      ]
     },
     "metadata": {},
     "output_type": "display_data"
    },
    {
     "data": {
      "text/html": [
       "Find user logs for this run at: <code>/data-imperial/wandb/run-20210818_051638-2jh23557/logs/debug.log</code>"
      ],
      "text/plain": [
       "<IPython.core.display.HTML object>"
      ]
     },
     "metadata": {},
     "output_type": "display_data"
    },
    {
     "data": {
      "text/html": [
       "Find internal logs for this run at: <code>/data-imperial/wandb/run-20210818_051638-2jh23557/logs/debug-internal.log</code>"
      ],
      "text/plain": [
       "<IPython.core.display.HTML object>"
      ]
     },
     "metadata": {},
     "output_type": "display_data"
    },
    {
     "data": {
      "text/html": [
       "<h3>Run summary:</h3><br/><style>\n",
       "    table.wandb td:nth-child(1) { padding: 0 10px; text-align: right }\n",
       "    </style><table class=\"wandb\">\n",
       "<tr><td>n_estimators</td><td>310</td></tr><tr><td>_runtime</td><td>148</td></tr><tr><td>_timestamp</td><td>1629263946</td></tr><tr><td>_step</td><td>62</td></tr><tr><td>val precision</td><td>0.9062</td></tr><tr><td>val recall</td><td>0.9159</td></tr><tr><td>val f1</td><td>0.91103</td></tr><tr><td>val roc_auc</td><td>0.74488</td></tr><tr><td>val average_precision</td><td>0.94613</td></tr><tr><td>val matthews</td><td>0.28576</td></tr><tr><td>val spearman</td><td>0.28449</td></tr><tr><td>test precision</td><td>0.9105</td></tr><tr><td>test recall</td><td>0.91939</td></tr><tr><td>test f1</td><td>0.91493</td></tr><tr><td>test roc_auc</td><td>0.78304</td></tr><tr><td>test average_precision</td><td>0.95557</td></tr><tr><td>test matthews</td><td>0.32523</td></tr><tr><td>test spearman</td><td>0.33002</td></tr></table>"
      ],
      "text/plain": [
       "<IPython.core.display.HTML object>"
      ]
     },
     "metadata": {},
     "output_type": "display_data"
    },
    {
     "data": {
      "text/html": [
       "<h3>Run history:</h3><br/><style>\n",
       "    table.wandb td:nth-child(1) { padding: 0 10px; text-align: right }\n",
       "    </style><table class=\"wandb\">\n",
       "<tr><td>n_estimators</td><td>▁▁▁▁▂▂▂▂▂▃▃▃▃▃▃▄▄▄▄▄▅▅▅▅▅▅▆▆▆▆▆▇▇▇▇▇▇███</td></tr><tr><td>_runtime</td><td>▁▁▁▁▂▂▂▂▂▃▃▃▃▃▃▄▄▄▄▄▄▅▅▅▅▅▆▆▆▆▆▇▇▇▇▇▇███</td></tr><tr><td>_timestamp</td><td>▁▁▁▁▂▂▂▂▂▃▃▃▃▃▃▄▄▄▄▄▄▅▅▅▅▅▆▆▆▆▆▇▇▇▇▇▇███</td></tr><tr><td>_step</td><td>▁▁▁▁▂▂▂▂▂▃▃▃▃▃▄▄▄▄▄▄▅▅▅▅▅▅▆▆▆▆▆▇▇▇▇▇████</td></tr><tr><td>val precision</td><td>▁</td></tr><tr><td>val recall</td><td>▁</td></tr><tr><td>val f1</td><td>▁</td></tr><tr><td>val roc_auc</td><td>▁</td></tr><tr><td>val average_precision</td><td>▁</td></tr><tr><td>val matthews</td><td>▁</td></tr><tr><td>val spearman</td><td>▁</td></tr><tr><td>test precision</td><td>▁</td></tr><tr><td>test recall</td><td>▁</td></tr><tr><td>test f1</td><td>▁</td></tr><tr><td>test roc_auc</td><td>▁</td></tr><tr><td>test average_precision</td><td>▁</td></tr><tr><td>test matthews</td><td>▁</td></tr><tr><td>test spearman</td><td>▁</td></tr></table><br/>"
      ],
      "text/plain": [
       "<IPython.core.display.HTML object>"
      ]
     },
     "metadata": {},
     "output_type": "display_data"
    },
    {
     "data": {
      "text/html": [
       "Synced 6 W&B file(s), 0 media file(s), 0 artifact file(s) and 0 other file(s)"
      ],
      "text/plain": [
       "<IPython.core.display.HTML object>"
      ]
     },
     "metadata": {},
     "output_type": "display_data"
    },
    {
     "data": {
      "text/html": [
       "\n",
       "                    <br/>Synced <strong style=\"color:#cdcd00\">ancient-snowball-193</strong>: <a href=\"https://wandb.ai/kiatann/tfidf_baseline/runs/2jh23557\" target=\"_blank\">https://wandb.ai/kiatann/tfidf_baseline/runs/2jh23557</a><br/>\n",
       "                "
      ],
      "text/plain": [
       "<IPython.core.display.HTML object>"
      ]
     },
     "metadata": {},
     "output_type": "display_data"
    },
    {
     "name": "stdout",
     "output_type": "stream",
     "text": [
      "\n"
     ]
    }
   ],
   "source": [
    "config={\"min_estimators\":5,\n",
    "\"max_estimators\":5000,\n",
    "\"max_depth\":5,\n",
    "\"class_weight\":\"balanced\",\n",
    "\"step_size\":5,\n",
    "\"patience\":3}\n",
    "\n",
    "## list of labels to build model for\n",
    "for label in tqdm([\n",
    "    \"18_anxiety\", \n",
    "    \"19_desire_x\",\n",
    "    \"19_intent_x\",\n",
    "    \"19_capability_x\",\n",
    "    \"19_timeframe_x\",\n",
    "#     \"69_13 or younger\",\n",
    "#     \"69_14-24\",\n",
    "#     \"69_24 or younger\",\n",
    "    \"18_substance\", \n",
    "    \"18_depressed\", \n",
    "    \"18_self_harm\",\n",
    "#     \"18_suicide\",\n",
    "    \"64_Yes\",\n",
    "# #     \"65>1 (slightly helpful)\",\n",
    "# #     \"65>2\",\n",
    "# #     \"65>3\",\n",
    "# #     \"65>4\",\n",
    "# #     \"241_I see a therapist or doctor in person\",\n",
    "#     \"74_Heterosexual or Straight\",\n",
    "#     \"75_White\",\n",
    "#     \"73_Male\",\n",
    "# #     \"33_good\"\n",
    "]):\n",
    "\n",
    "    wandb.init(project=\"tfidf_baseline\",reinit=True,\n",
    "               config={\n",
    "                   **config,\n",
    "                \"label\":label\n",
    "               },tags=['tfidf'])\n",
    "    \n",
    "    min_estimators = wandb.config.min_estimators\n",
    "    max_estimators = wandb.config.max_estimators\n",
    "    max_depth = wandb.config.max_depth\n",
    "    class_weight = wandb.config.class_weight\n",
    "    step_size = wandb.config.step_size\n",
    "    patience = wandb.config.patience\n",
    "\n",
    "    X, y = dropna_both(ds_train, l_train[label].astype('float'))\n",
    "    X_test, y_test = dropna_both(ds_test, l_test[label].astype('float'))\n",
    "\n",
    "    print(X.shape, y.shape)\n",
    "    print(X_test.shape, y_test.shape)\n",
    "\n",
    "    X_train, X_val, y_train, y_val = train_test_split(X,y, test_size=0.1)\n",
    "\n",
    "    u = np.unique(y_train)\n",
    "    class_weight = {i:j for i,j in zip(u,compute_class_weight('balanced',u, y_train))}\n",
    "    \n",
    "    classifier = RandomForestClassifier(\n",
    "        n_estimators = min_estimators,\n",
    "        max_depth = max_depth,\n",
    "        class_weight = class_weight,\n",
    "        warm_start=True,\n",
    "        n_jobs=2)\n",
    "    \n",
    "    fit_with_cv(X_train,y_train, X_val, y_val,\n",
    "                model=classifier, \n",
    "                min_estimators = min_estimators, \n",
    "                max_estimators = max_estimators, \n",
    "                step_size = step_size, \n",
    "                patience = patience, \n",
    "                log_wandb=True)\n",
    "\n",
    "    wandb.log({\n",
    "        **prepend_keys(evaluate(classifier, X_train, X_val, y_train, y_val), \"val \"),\n",
    "        **prepend_keys(evaluate(classifier, X_train, X_test, y_train, y_test), \"test \")\n",
    "    })\n",
    "    print(label)\n",
    "    print(pd.Series(evaluate(classifier, X_train, X_test, y_train, y_test)))\n",
    "    wandb.join()\n",
    "\n",
    "#     with open(f\"models/rf/{label}_model.pickle\", 'wb') as f:\n",
    "#         pickle.dump(classifier, f)       \n",
    "        "
   ]
  },
  {
   "cell_type": "markdown",
   "metadata": {},
   "source": [
    "## Current"
   ]
  },
  {
   "cell_type": "code",
   "execution_count": 7,
   "metadata": {
    "scrolled": true
   },
   "outputs": [
    {
     "data": {
      "application/vnd.jupyter.widget-view+json": {
       "model_id": "",
       "version_major": 2,
       "version_minor": 0
      },
      "text/plain": [
       "HBox(children=(FloatProgress(value=0.0, max=9.0), HTML(value='')))"
      ]
     },
     "metadata": {},
     "output_type": "display_data"
    },
    {
     "name": "stderr",
     "output_type": "stream",
     "text": [
      "\u001b[34m\u001b[1mwandb\u001b[0m: Currently logged in as: \u001b[33mkiatann\u001b[0m (use `wandb login --relogin` to force relogin)\n",
      "\u001b[34m\u001b[1mwandb\u001b[0m: wandb version 0.12.0 is available!  To upgrade, please run:\n",
      "\u001b[34m\u001b[1mwandb\u001b[0m:  $ pip install wandb --upgrade\n"
     ]
    },
    {
     "data": {
      "text/html": [
       "\n",
       "                Tracking run with wandb version 0.11.0<br/>\n",
       "                Syncing run <strong style=\"color:#cdcd00\">brisk-fog-176</strong> to <a href=\"https://wandb.ai\" target=\"_blank\">Weights & Biases</a> <a href=\"https://docs.wandb.com/integrations/jupyter.html\" target=\"_blank\">(Documentation)</a>.<br/>\n",
       "                Project page: <a href=\"https://wandb.ai/kiatann/tfidf_baseline\" target=\"_blank\">https://wandb.ai/kiatann/tfidf_baseline</a><br/>\n",
       "                Run page: <a href=\"https://wandb.ai/kiatann/tfidf_baseline/runs/1l2ia4pe\" target=\"_blank\">https://wandb.ai/kiatann/tfidf_baseline/runs/1l2ia4pe</a><br/>\n",
       "                Run data is saved locally in <code>/data-imperial/wandb/run-20210817_153338-1l2ia4pe</code><br/><br/>\n",
       "            "
      ],
      "text/plain": [
       "<IPython.core.display.HTML object>"
      ]
     },
     "metadata": {},
     "output_type": "display_data"
    },
    {
     "name": "stdout",
     "output_type": "stream",
     "text": [
      "(341955, 1000) (341955,)\n",
      "(17997, 1000) (17997,)\n"
     ]
    },
    {
     "name": "stderr",
     "output_type": "stream",
     "text": [
      "/data-imperial/lib/python3.9/site-packages/sklearn/utils/validation.py:70: FutureWarning: Pass classes=[0. 1.], y=90465     0.0\n",
      "74964     0.0\n",
      "262405    0.0\n",
      "297944    1.0\n",
      "234886    0.0\n",
      "         ... \n",
      "99883     0.0\n",
      "272188    1.0\n",
      "283125    1.0\n",
      "125815    0.0\n",
      "336372    0.0\n",
      "Name: 18_anxiety, Length: 307759, dtype: float64 as keyword args. From version 1.0 (renaming of 0.25) passing these as positional arguments will result in an error\n",
      "  warnings.warn(f\"Pass {args_msg} as keyword args. From version \"\n"
     ]
    },
    {
     "data": {
      "application/vnd.jupyter.widget-view+json": {
       "model_id": "",
       "version_major": 2,
       "version_minor": 0
      },
      "text/plain": [
       "HBox(children=(FloatProgress(value=0.0, max=1000.0), HTML(value='')))"
      ]
     },
     "metadata": {},
     "output_type": "display_data"
    },
    {
     "name": "stdout",
     "output_type": "stream",
     "text": [
      "\n",
      "18_anxiety\n",
      "precision            0.544933\n",
      "recall               0.547419\n",
      "f1                   0.546173\n",
      "roc_auc              0.786512\n",
      "average_precision    0.600602\n",
      "matthews             0.409117\n",
      "spearman             0.418585\n",
      "dtype: float64\n"
     ]
    },
    {
     "data": {
      "text/html": [
       "<br/>Waiting for W&B process to finish, PID 10571<br/>Program ended successfully."
      ],
      "text/plain": [
       "<IPython.core.display.HTML object>"
      ]
     },
     "metadata": {},
     "output_type": "display_data"
    },
    {
     "data": {
      "application/vnd.jupyter.widget-view+json": {
       "model_id": "",
       "version_major": 2,
       "version_minor": 0
      },
      "text/plain": [
       "VBox(children=(Label(value=' 0.00MB of 0.00MB uploaded (0.00MB deduped)\\r'), FloatProgress(value=1.0, max=1.0)…"
      ]
     },
     "metadata": {},
     "output_type": "display_data"
    },
    {
     "data": {
      "text/html": [
       "Find user logs for this run at: <code>/data-imperial/wandb/run-20210817_153338-1l2ia4pe/logs/debug.log</code>"
      ],
      "text/plain": [
       "<IPython.core.display.HTML object>"
      ]
     },
     "metadata": {},
     "output_type": "display_data"
    },
    {
     "data": {
      "text/html": [
       "Find internal logs for this run at: <code>/data-imperial/wandb/run-20210817_153338-1l2ia4pe/logs/debug-internal.log</code>"
      ],
      "text/plain": [
       "<IPython.core.display.HTML object>"
      ]
     },
     "metadata": {},
     "output_type": "display_data"
    },
    {
     "data": {
      "text/html": [
       "<h3>Run summary:</h3><br/><style>\n",
       "    table.wandb td:nth-child(1) { padding: 0 10px; text-align: right }\n",
       "    </style><table class=\"wandb\">\n",
       "<tr><td>n_estimators</td><td>100</td></tr><tr><td>_runtime</td><td>325</td></tr><tr><td>_timestamp</td><td>1629214743</td></tr><tr><td>_step</td><td>20</td></tr><tr><td>val precision</td><td>0.53825</td></tr><tr><td>val recall</td><td>0.53605</td></tr><tr><td>val f1</td><td>0.53715</td></tr><tr><td>val roc_auc</td><td>0.78306</td></tr><tr><td>val average_precision</td><td>0.5866</td></tr><tr><td>val matthews</td><td>0.40025</td></tr><tr><td>val spearman</td><td>0.41185</td></tr><tr><td>test precision</td><td>0.54493</td></tr><tr><td>test recall</td><td>0.54742</td></tr><tr><td>test f1</td><td>0.54617</td></tr><tr><td>test roc_auc</td><td>0.78651</td></tr><tr><td>test average_precision</td><td>0.6006</td></tr><tr><td>test matthews</td><td>0.40912</td></tr><tr><td>test spearman</td><td>0.41858</td></tr></table>"
      ],
      "text/plain": [
       "<IPython.core.display.HTML object>"
      ]
     },
     "metadata": {},
     "output_type": "display_data"
    },
    {
     "data": {
      "text/html": [
       "<h3>Run history:</h3><br/><style>\n",
       "    table.wandb td:nth-child(1) { padding: 0 10px; text-align: right }\n",
       "    </style><table class=\"wandb\">\n",
       "<tr><td>n_estimators</td><td>▁▁▂▂▂▃▃▄▄▄▅▅▅▆▆▇▇▇██</td></tr><tr><td>_runtime</td><td>▁▁▂▂▂▃▃▄▄▄▅▅▅▆▆▆▇▇▇██</td></tr><tr><td>_timestamp</td><td>▁▁▂▂▂▃▃▄▄▄▅▅▅▆▆▆▇▇▇██</td></tr><tr><td>_step</td><td>▁▁▂▂▂▃▃▃▄▄▅▅▅▆▆▆▇▇▇██</td></tr><tr><td>val precision</td><td>▁</td></tr><tr><td>val recall</td><td>▁</td></tr><tr><td>val f1</td><td>▁</td></tr><tr><td>val roc_auc</td><td>▁</td></tr><tr><td>val average_precision</td><td>▁</td></tr><tr><td>val matthews</td><td>▁</td></tr><tr><td>val spearman</td><td>▁</td></tr><tr><td>test precision</td><td>▁</td></tr><tr><td>test recall</td><td>▁</td></tr><tr><td>test f1</td><td>▁</td></tr><tr><td>test roc_auc</td><td>▁</td></tr><tr><td>test average_precision</td><td>▁</td></tr><tr><td>test matthews</td><td>▁</td></tr><tr><td>test spearman</td><td>▁</td></tr></table><br/>"
      ],
      "text/plain": [
       "<IPython.core.display.HTML object>"
      ]
     },
     "metadata": {},
     "output_type": "display_data"
    },
    {
     "data": {
      "text/html": [
       "Synced 6 W&B file(s), 0 media file(s), 0 artifact file(s) and 0 other file(s)"
      ],
      "text/plain": [
       "<IPython.core.display.HTML object>"
      ]
     },
     "metadata": {},
     "output_type": "display_data"
    },
    {
     "data": {
      "text/html": [
       "\n",
       "                    <br/>Synced <strong style=\"color:#cdcd00\">brisk-fog-176</strong>: <a href=\"https://wandb.ai/kiatann/tfidf_baseline/runs/1l2ia4pe\" target=\"_blank\">https://wandb.ai/kiatann/tfidf_baseline/runs/1l2ia4pe</a><br/>\n",
       "                "
      ],
      "text/plain": [
       "<IPython.core.display.HTML object>"
      ]
     },
     "metadata": {},
     "output_type": "display_data"
    },
    {
     "name": "stderr",
     "output_type": "stream",
     "text": [
      "\u001b[34m\u001b[1mwandb\u001b[0m: wandb version 0.12.0 is available!  To upgrade, please run:\n",
      "\u001b[34m\u001b[1mwandb\u001b[0m:  $ pip install wandb --upgrade\n"
     ]
    },
    {
     "data": {
      "text/html": [
       "\n",
       "                Tracking run with wandb version 0.11.0<br/>\n",
       "                Syncing run <strong style=\"color:#cdcd00\">absurd-fire-177</strong> to <a href=\"https://wandb.ai\" target=\"_blank\">Weights & Biases</a> <a href=\"https://docs.wandb.com/integrations/jupyter.html\" target=\"_blank\">(Documentation)</a>.<br/>\n",
       "                Project page: <a href=\"https://wandb.ai/kiatann/tfidf_baseline\" target=\"_blank\">https://wandb.ai/kiatann/tfidf_baseline</a><br/>\n",
       "                Run page: <a href=\"https://wandb.ai/kiatann/tfidf_baseline/runs/1auv2ac2\" target=\"_blank\">https://wandb.ai/kiatann/tfidf_baseline/runs/1auv2ac2</a><br/>\n",
       "                Run data is saved locally in <code>/data-imperial/wandb/run-20210817_153911-1auv2ac2</code><br/><br/>\n",
       "            "
      ],
      "text/plain": [
       "<IPython.core.display.HTML object>"
      ]
     },
     "metadata": {},
     "output_type": "display_data"
    },
    {
     "name": "stdout",
     "output_type": "stream",
     "text": [
      "(344988, 1000) (344988,)\n",
      "(18157, 1000) (18157,)\n"
     ]
    },
    {
     "name": "stderr",
     "output_type": "stream",
     "text": [
      "/data-imperial/lib/python3.9/site-packages/sklearn/utils/validation.py:70: FutureWarning: Pass classes=[0. 1.], y=240333    1.0\n",
      "2650      1.0\n",
      "260216    0.0\n",
      "29605     1.0\n",
      "224920    1.0\n",
      "         ... \n",
      "6607      0.0\n",
      "313900    1.0\n",
      "166523    0.0\n",
      "296506    0.0\n",
      "124625    0.0\n",
      "Name: 19_desire_x, Length: 310489, dtype: float64 as keyword args. From version 1.0 (renaming of 0.25) passing these as positional arguments will result in an error\n",
      "  warnings.warn(f\"Pass {args_msg} as keyword args. From version \"\n"
     ]
    },
    {
     "data": {
      "application/vnd.jupyter.widget-view+json": {
       "model_id": "",
       "version_major": 2,
       "version_minor": 0
      },
      "text/plain": [
       "HBox(children=(FloatProgress(value=0.0, max=1000.0), HTML(value='')))"
      ]
     },
     "metadata": {},
     "output_type": "display_data"
    },
    {
     "name": "stdout",
     "output_type": "stream",
     "text": [
      "\n",
      "19_desire_x\n",
      "precision            0.672663\n",
      "recall               0.671124\n",
      "f1                   0.671893\n",
      "roc_auc              0.849922\n",
      "average_precision    0.727291\n",
      "matthews             0.522661\n",
      "spearman             0.562094\n",
      "dtype: float64\n"
     ]
    },
    {
     "data": {
      "text/html": [
       "<br/>Waiting for W&B process to finish, PID 10842<br/>Program ended successfully."
      ],
      "text/plain": [
       "<IPython.core.display.HTML object>"
      ]
     },
     "metadata": {},
     "output_type": "display_data"
    },
    {
     "data": {
      "application/vnd.jupyter.widget-view+json": {
       "model_id": "",
       "version_major": 2,
       "version_minor": 0
      },
      "text/plain": [
       "VBox(children=(Label(value=' 0.00MB of 0.00MB uploaded (0.00MB deduped)\\r'), FloatProgress(value=1.0, max=1.0)…"
      ]
     },
     "metadata": {},
     "output_type": "display_data"
    },
    {
     "data": {
      "text/html": [
       "Find user logs for this run at: <code>/data-imperial/wandb/run-20210817_153911-1auv2ac2/logs/debug.log</code>"
      ],
      "text/plain": [
       "<IPython.core.display.HTML object>"
      ]
     },
     "metadata": {},
     "output_type": "display_data"
    },
    {
     "data": {
      "text/html": [
       "Find internal logs for this run at: <code>/data-imperial/wandb/run-20210817_153911-1auv2ac2/logs/debug-internal.log</code>"
      ],
      "text/plain": [
       "<IPython.core.display.HTML object>"
      ]
     },
     "metadata": {},
     "output_type": "display_data"
    },
    {
     "data": {
      "text/html": [
       "<h3>Run summary:</h3><br/><style>\n",
       "    table.wandb td:nth-child(1) { padding: 0 10px; text-align: right }\n",
       "    </style><table class=\"wandb\">\n",
       "<tr><td>n_estimators</td><td>125</td></tr><tr><td>_runtime</td><td>408</td></tr><tr><td>_timestamp</td><td>1629215159</td></tr><tr><td>_step</td><td>25</td></tr><tr><td>val precision</td><td>0.681</td></tr><tr><td>val recall</td><td>0.68131</td></tr><tr><td>val f1</td><td>0.68116</td></tr><tr><td>val roc_auc</td><td>0.85118</td></tr><tr><td>val average_precision</td><td>0.73463</td></tr><tr><td>val matthews</td><td>0.53202</td></tr><tr><td>val spearman</td><td>0.56682</td></tr><tr><td>test precision</td><td>0.67266</td></tr><tr><td>test recall</td><td>0.67112</td></tr><tr><td>test f1</td><td>0.67189</td></tr><tr><td>test roc_auc</td><td>0.84992</td></tr><tr><td>test average_precision</td><td>0.72729</td></tr><tr><td>test matthews</td><td>0.52266</td></tr><tr><td>test spearman</td><td>0.56209</td></tr></table>"
      ],
      "text/plain": [
       "<IPython.core.display.HTML object>"
      ]
     },
     "metadata": {},
     "output_type": "display_data"
    },
    {
     "data": {
      "text/html": [
       "<h3>Run history:</h3><br/><style>\n",
       "    table.wandb td:nth-child(1) { padding: 0 10px; text-align: right }\n",
       "    </style><table class=\"wandb\">\n",
       "<tr><td>n_estimators</td><td>▁▁▂▂▂▂▃▃▃▄▄▄▅▅▅▅▆▆▆▇▇▇▇██</td></tr><tr><td>_runtime</td><td>▁▁▂▂▂▂▃▃▃▄▄▄▄▅▅▅▆▆▆▆▇▇▇███</td></tr><tr><td>_timestamp</td><td>▁▁▂▂▂▂▃▃▃▄▄▄▄▅▅▅▆▆▆▆▇▇▇███</td></tr><tr><td>_step</td><td>▁▁▂▂▂▂▃▃▃▄▄▄▄▅▅▅▅▆▆▆▇▇▇▇██</td></tr><tr><td>val precision</td><td>▁</td></tr><tr><td>val recall</td><td>▁</td></tr><tr><td>val f1</td><td>▁</td></tr><tr><td>val roc_auc</td><td>▁</td></tr><tr><td>val average_precision</td><td>▁</td></tr><tr><td>val matthews</td><td>▁</td></tr><tr><td>val spearman</td><td>▁</td></tr><tr><td>test precision</td><td>▁</td></tr><tr><td>test recall</td><td>▁</td></tr><tr><td>test f1</td><td>▁</td></tr><tr><td>test roc_auc</td><td>▁</td></tr><tr><td>test average_precision</td><td>▁</td></tr><tr><td>test matthews</td><td>▁</td></tr><tr><td>test spearman</td><td>▁</td></tr></table><br/>"
      ],
      "text/plain": [
       "<IPython.core.display.HTML object>"
      ]
     },
     "metadata": {},
     "output_type": "display_data"
    },
    {
     "data": {
      "text/html": [
       "Synced 6 W&B file(s), 0 media file(s), 0 artifact file(s) and 0 other file(s)"
      ],
      "text/plain": [
       "<IPython.core.display.HTML object>"
      ]
     },
     "metadata": {},
     "output_type": "display_data"
    },
    {
     "data": {
      "text/html": [
       "\n",
       "                    <br/>Synced <strong style=\"color:#cdcd00\">absurd-fire-177</strong>: <a href=\"https://wandb.ai/kiatann/tfidf_baseline/runs/1auv2ac2\" target=\"_blank\">https://wandb.ai/kiatann/tfidf_baseline/runs/1auv2ac2</a><br/>\n",
       "                "
      ],
      "text/plain": [
       "<IPython.core.display.HTML object>"
      ]
     },
     "metadata": {},
     "output_type": "display_data"
    },
    {
     "name": "stderr",
     "output_type": "stream",
     "text": [
      "\u001b[34m\u001b[1mwandb\u001b[0m: wandb version 0.12.0 is available!  To upgrade, please run:\n",
      "\u001b[34m\u001b[1mwandb\u001b[0m:  $ pip install wandb --upgrade\n"
     ]
    },
    {
     "data": {
      "text/html": [
       "\n",
       "                Tracking run with wandb version 0.11.0<br/>\n",
       "                Syncing run <strong style=\"color:#cdcd00\">zesty-snow-178</strong> to <a href=\"https://wandb.ai\" target=\"_blank\">Weights & Biases</a> <a href=\"https://docs.wandb.com/integrations/jupyter.html\" target=\"_blank\">(Documentation)</a>.<br/>\n",
       "                Project page: <a href=\"https://wandb.ai/kiatann/tfidf_baseline\" target=\"_blank\">https://wandb.ai/kiatann/tfidf_baseline</a><br/>\n",
       "                Run page: <a href=\"https://wandb.ai/kiatann/tfidf_baseline/runs/1g8il1uh\" target=\"_blank\">https://wandb.ai/kiatann/tfidf_baseline/runs/1g8il1uh</a><br/>\n",
       "                Run data is saved locally in <code>/data-imperial/wandb/run-20210817_154606-1g8il1uh</code><br/><br/>\n",
       "            "
      ],
      "text/plain": [
       "<IPython.core.display.HTML object>"
      ]
     },
     "metadata": {},
     "output_type": "display_data"
    },
    {
     "name": "stdout",
     "output_type": "stream",
     "text": [
      "(344988, 1000) (344988,)\n",
      "(18157, 1000) (18157,)\n"
     ]
    },
    {
     "name": "stderr",
     "output_type": "stream",
     "text": [
      "/data-imperial/lib/python3.9/site-packages/sklearn/utils/validation.py:70: FutureWarning: Pass classes=[0. 1.], y=36294     0.0\n",
      "82828     0.0\n",
      "21162     0.0\n",
      "151469    0.0\n",
      "312845    0.0\n",
      "         ... \n",
      "58412     0.0\n",
      "301232    0.0\n",
      "288505    0.0\n",
      "26814     1.0\n",
      "94688     0.0\n",
      "Name: 19_intent_x, Length: 310489, dtype: float64 as keyword args. From version 1.0 (renaming of 0.25) passing these as positional arguments will result in an error\n",
      "  warnings.warn(f\"Pass {args_msg} as keyword args. From version \"\n"
     ]
    },
    {
     "data": {
      "application/vnd.jupyter.widget-view+json": {
       "model_id": "",
       "version_major": 2,
       "version_minor": 0
      },
      "text/plain": [
       "HBox(children=(FloatProgress(value=0.0, max=1000.0), HTML(value='')))"
      ]
     },
     "metadata": {},
     "output_type": "display_data"
    },
    {
     "name": "stdout",
     "output_type": "stream",
     "text": [
      "\n",
      "19_intent_x\n",
      "precision            0.604211\n",
      "recall               0.600728\n",
      "f1                   0.602465\n",
      "roc_auc              0.874084\n",
      "average_precision    0.635796\n",
      "matthews             0.514610\n",
      "spearman             0.499497\n",
      "dtype: float64\n"
     ]
    },
    {
     "data": {
      "text/html": [
       "<br/>Waiting for W&B process to finish, PID 11170<br/>Program ended successfully."
      ],
      "text/plain": [
       "<IPython.core.display.HTML object>"
      ]
     },
     "metadata": {},
     "output_type": "display_data"
    },
    {
     "data": {
      "application/vnd.jupyter.widget-view+json": {
       "model_id": "",
       "version_major": 2,
       "version_minor": 0
      },
      "text/plain": [
       "VBox(children=(Label(value=' 0.00MB of 0.00MB uploaded (0.00MB deduped)\\r'), FloatProgress(value=1.0, max=1.0)…"
      ]
     },
     "metadata": {},
     "output_type": "display_data"
    },
    {
     "data": {
      "text/html": [
       "Find user logs for this run at: <code>/data-imperial/wandb/run-20210817_154606-1g8il1uh/logs/debug.log</code>"
      ],
      "text/plain": [
       "<IPython.core.display.HTML object>"
      ]
     },
     "metadata": {},
     "output_type": "display_data"
    },
    {
     "data": {
      "text/html": [
       "Find internal logs for this run at: <code>/data-imperial/wandb/run-20210817_154606-1g8il1uh/logs/debug-internal.log</code>"
      ],
      "text/plain": [
       "<IPython.core.display.HTML object>"
      ]
     },
     "metadata": {},
     "output_type": "display_data"
    },
    {
     "data": {
      "text/html": [
       "<h3>Run summary:</h3><br/><style>\n",
       "    table.wandb td:nth-child(1) { padding: 0 10px; text-align: right }\n",
       "    </style><table class=\"wandb\">\n",
       "<tr><td>n_estimators</td><td>90</td></tr><tr><td>_runtime</td><td>303</td></tr><tr><td>_timestamp</td><td>1629215469</td></tr><tr><td>_step</td><td>18</td></tr><tr><td>val precision</td><td>0.6025</td></tr><tr><td>val recall</td><td>0.60003</td></tr><tr><td>val f1</td><td>0.60126</td></tr><tr><td>val roc_auc</td><td>0.87499</td></tr><tr><td>val average_precision</td><td>0.63652</td></tr><tr><td>val matthews</td><td>0.51166</td></tr><tr><td>val spearman</td><td>0.50319</td></tr><tr><td>test precision</td><td>0.60421</td></tr><tr><td>test recall</td><td>0.60073</td></tr><tr><td>test f1</td><td>0.60246</td></tr><tr><td>test roc_auc</td><td>0.87408</td></tr><tr><td>test average_precision</td><td>0.6358</td></tr><tr><td>test matthews</td><td>0.51461</td></tr><tr><td>test spearman</td><td>0.4995</td></tr></table>"
      ],
      "text/plain": [
       "<IPython.core.display.HTML object>"
      ]
     },
     "metadata": {},
     "output_type": "display_data"
    },
    {
     "data": {
      "text/html": [
       "<h3>Run history:</h3><br/><style>\n",
       "    table.wandb td:nth-child(1) { padding: 0 10px; text-align: right }\n",
       "    </style><table class=\"wandb\">\n",
       "<tr><td>n_estimators</td><td>▁▁▂▂▃▃▃▄▄▅▅▆▆▆▇▇██</td></tr><tr><td>_runtime</td><td>▁▁▂▂▃▃▃▄▄▅▅▅▆▆▇▇▇██</td></tr><tr><td>_timestamp</td><td>▁▁▂▂▃▃▃▄▄▅▅▅▆▆▇▇▇██</td></tr><tr><td>_step</td><td>▁▁▂▂▃▃▃▄▄▅▅▅▆▆▆▇▇██</td></tr><tr><td>val precision</td><td>▁</td></tr><tr><td>val recall</td><td>▁</td></tr><tr><td>val f1</td><td>▁</td></tr><tr><td>val roc_auc</td><td>▁</td></tr><tr><td>val average_precision</td><td>▁</td></tr><tr><td>val matthews</td><td>▁</td></tr><tr><td>val spearman</td><td>▁</td></tr><tr><td>test precision</td><td>▁</td></tr><tr><td>test recall</td><td>▁</td></tr><tr><td>test f1</td><td>▁</td></tr><tr><td>test roc_auc</td><td>▁</td></tr><tr><td>test average_precision</td><td>▁</td></tr><tr><td>test matthews</td><td>▁</td></tr><tr><td>test spearman</td><td>▁</td></tr></table><br/>"
      ],
      "text/plain": [
       "<IPython.core.display.HTML object>"
      ]
     },
     "metadata": {},
     "output_type": "display_data"
    },
    {
     "data": {
      "text/html": [
       "Synced 6 W&B file(s), 0 media file(s), 0 artifact file(s) and 0 other file(s)"
      ],
      "text/plain": [
       "<IPython.core.display.HTML object>"
      ]
     },
     "metadata": {},
     "output_type": "display_data"
    },
    {
     "data": {
      "text/html": [
       "\n",
       "                    <br/>Synced <strong style=\"color:#cdcd00\">zesty-snow-178</strong>: <a href=\"https://wandb.ai/kiatann/tfidf_baseline/runs/1g8il1uh\" target=\"_blank\">https://wandb.ai/kiatann/tfidf_baseline/runs/1g8il1uh</a><br/>\n",
       "                "
      ],
      "text/plain": [
       "<IPython.core.display.HTML object>"
      ]
     },
     "metadata": {},
     "output_type": "display_data"
    },
    {
     "name": "stderr",
     "output_type": "stream",
     "text": [
      "\u001b[34m\u001b[1mwandb\u001b[0m: wandb version 0.12.0 is available!  To upgrade, please run:\n",
      "\u001b[34m\u001b[1mwandb\u001b[0m:  $ pip install wandb --upgrade\n"
     ]
    },
    {
     "data": {
      "text/html": [
       "\n",
       "                Tracking run with wandb version 0.11.0<br/>\n",
       "                Syncing run <strong style=\"color:#cdcd00\">young-sun-179</strong> to <a href=\"https://wandb.ai\" target=\"_blank\">Weights & Biases</a> <a href=\"https://docs.wandb.com/integrations/jupyter.html\" target=\"_blank\">(Documentation)</a>.<br/>\n",
       "                Project page: <a href=\"https://wandb.ai/kiatann/tfidf_baseline\" target=\"_blank\">https://wandb.ai/kiatann/tfidf_baseline</a><br/>\n",
       "                Run page: <a href=\"https://wandb.ai/kiatann/tfidf_baseline/runs/2t14hivs\" target=\"_blank\">https://wandb.ai/kiatann/tfidf_baseline/runs/2t14hivs</a><br/>\n",
       "                Run data is saved locally in <code>/data-imperial/wandb/run-20210817_155116-2t14hivs</code><br/><br/>\n",
       "            "
      ],
      "text/plain": [
       "<IPython.core.display.HTML object>"
      ]
     },
     "metadata": {},
     "output_type": "display_data"
    },
    {
     "name": "stdout",
     "output_type": "stream",
     "text": [
      "(344988, 1000) (344988,)\n",
      "(18157, 1000) (18157,)\n"
     ]
    },
    {
     "name": "stderr",
     "output_type": "stream",
     "text": [
      "/data-imperial/lib/python3.9/site-packages/sklearn/utils/validation.py:70: FutureWarning: Pass classes=[0. 1.], y=126689    0.0\n",
      "266855    0.0\n",
      "166816    0.0\n",
      "99421     1.0\n",
      "124191    0.0\n",
      "         ... \n",
      "48719     0.0\n",
      "244026    0.0\n",
      "114188    0.0\n",
      "32967     0.0\n",
      "226930    0.0\n",
      "Name: 19_capability_x, Length: 310489, dtype: float64 as keyword args. From version 1.0 (renaming of 0.25) passing these as positional arguments will result in an error\n",
      "  warnings.warn(f\"Pass {args_msg} as keyword args. From version \"\n"
     ]
    },
    {
     "data": {
      "application/vnd.jupyter.widget-view+json": {
       "model_id": "",
       "version_major": 2,
       "version_minor": 0
      },
      "text/plain": [
       "HBox(children=(FloatProgress(value=0.0, max=1000.0), HTML(value='')))"
      ]
     },
     "metadata": {},
     "output_type": "display_data"
    },
    {
     "name": "stdout",
     "output_type": "stream",
     "text": [
      "\n",
      "19_capability_x\n",
      "precision            0.599074\n",
      "recall               0.587944\n",
      "f1                   0.593457\n",
      "roc_auc              0.892218\n",
      "average_precision    0.605963\n",
      "matthews             0.531587\n",
      "spearman             0.461950\n",
      "dtype: float64\n"
     ]
    },
    {
     "data": {
      "text/html": [
       "<br/>Waiting for W&B process to finish, PID 11427<br/>Program ended successfully."
      ],
      "text/plain": [
       "<IPython.core.display.HTML object>"
      ]
     },
     "metadata": {},
     "output_type": "display_data"
    },
    {
     "data": {
      "application/vnd.jupyter.widget-view+json": {
       "model_id": "",
       "version_major": 2,
       "version_minor": 0
      },
      "text/plain": [
       "VBox(children=(Label(value=' 0.00MB of 0.00MB uploaded (0.00MB deduped)\\r'), FloatProgress(value=1.0, max=1.0)…"
      ]
     },
     "metadata": {},
     "output_type": "display_data"
    },
    {
     "data": {
      "text/html": [
       "Find user logs for this run at: <code>/data-imperial/wandb/run-20210817_155116-2t14hivs/logs/debug.log</code>"
      ],
      "text/plain": [
       "<IPython.core.display.HTML object>"
      ]
     },
     "metadata": {},
     "output_type": "display_data"
    },
    {
     "data": {
      "text/html": [
       "Find internal logs for this run at: <code>/data-imperial/wandb/run-20210817_155116-2t14hivs/logs/debug-internal.log</code>"
      ],
      "text/plain": [
       "<IPython.core.display.HTML object>"
      ]
     },
     "metadata": {},
     "output_type": "display_data"
    },
    {
     "data": {
      "text/html": [
       "<h3>Run summary:</h3><br/><style>\n",
       "    table.wandb td:nth-child(1) { padding: 0 10px; text-align: right }\n",
       "    </style><table class=\"wandb\">\n",
       "<tr><td>n_estimators</td><td>75</td></tr><tr><td>_runtime</td><td>252</td></tr><tr><td>_timestamp</td><td>1629215728</td></tr><tr><td>_step</td><td>15</td></tr><tr><td>val precision</td><td>0.58028</td></tr><tr><td>val recall</td><td>0.5864</td></tr><tr><td>val f1</td><td>0.58332</td></tr><tr><td>val roc_auc</td><td>0.88922</td></tr><tr><td>val average_precision</td><td>0.59564</td></tr><tr><td>val matthews</td><td>0.51808</td></tr><tr><td>val spearman</td><td>0.46032</td></tr><tr><td>test precision</td><td>0.59907</td></tr><tr><td>test recall</td><td>0.58794</td></tr><tr><td>test f1</td><td>0.59346</td></tr><tr><td>test roc_auc</td><td>0.89222</td></tr><tr><td>test average_precision</td><td>0.60596</td></tr><tr><td>test matthews</td><td>0.53159</td></tr><tr><td>test spearman</td><td>0.46195</td></tr></table>"
      ],
      "text/plain": [
       "<IPython.core.display.HTML object>"
      ]
     },
     "metadata": {},
     "output_type": "display_data"
    },
    {
     "data": {
      "text/html": [
       "<h3>Run history:</h3><br/><style>\n",
       "    table.wandb td:nth-child(1) { padding: 0 10px; text-align: right }\n",
       "    </style><table class=\"wandb\">\n",
       "<tr><td>n_estimators</td><td>▁▁▂▃▃▃▄▅▅▅▆▇▇▇█</td></tr><tr><td>_runtime</td><td>▁▂▂▃▃▄▄▄▅▅▆▆▇▇██</td></tr><tr><td>_timestamp</td><td>▁▂▂▃▃▄▄▄▅▅▆▆▇▇██</td></tr><tr><td>_step</td><td>▁▁▂▂▃▃▄▄▅▅▆▆▇▇██</td></tr><tr><td>val precision</td><td>▁</td></tr><tr><td>val recall</td><td>▁</td></tr><tr><td>val f1</td><td>▁</td></tr><tr><td>val roc_auc</td><td>▁</td></tr><tr><td>val average_precision</td><td>▁</td></tr><tr><td>val matthews</td><td>▁</td></tr><tr><td>val spearman</td><td>▁</td></tr><tr><td>test precision</td><td>▁</td></tr><tr><td>test recall</td><td>▁</td></tr><tr><td>test f1</td><td>▁</td></tr><tr><td>test roc_auc</td><td>▁</td></tr><tr><td>test average_precision</td><td>▁</td></tr><tr><td>test matthews</td><td>▁</td></tr><tr><td>test spearman</td><td>▁</td></tr></table><br/>"
      ],
      "text/plain": [
       "<IPython.core.display.HTML object>"
      ]
     },
     "metadata": {},
     "output_type": "display_data"
    },
    {
     "data": {
      "text/html": [
       "Synced 6 W&B file(s), 0 media file(s), 0 artifact file(s) and 0 other file(s)"
      ],
      "text/plain": [
       "<IPython.core.display.HTML object>"
      ]
     },
     "metadata": {},
     "output_type": "display_data"
    },
    {
     "data": {
      "text/html": [
       "\n",
       "                    <br/>Synced <strong style=\"color:#cdcd00\">young-sun-179</strong>: <a href=\"https://wandb.ai/kiatann/tfidf_baseline/runs/2t14hivs\" target=\"_blank\">https://wandb.ai/kiatann/tfidf_baseline/runs/2t14hivs</a><br/>\n",
       "                "
      ],
      "text/plain": [
       "<IPython.core.display.HTML object>"
      ]
     },
     "metadata": {},
     "output_type": "display_data"
    },
    {
     "name": "stderr",
     "output_type": "stream",
     "text": [
      "\u001b[34m\u001b[1mwandb\u001b[0m: wandb version 0.12.0 is available!  To upgrade, please run:\n",
      "\u001b[34m\u001b[1mwandb\u001b[0m:  $ pip install wandb --upgrade\n"
     ]
    },
    {
     "data": {
      "text/html": [
       "\n",
       "                Tracking run with wandb version 0.11.0<br/>\n",
       "                Syncing run <strong style=\"color:#cdcd00\">ancient-glitter-180</strong> to <a href=\"https://wandb.ai\" target=\"_blank\">Weights & Biases</a> <a href=\"https://docs.wandb.com/integrations/jupyter.html\" target=\"_blank\">(Documentation)</a>.<br/>\n",
       "                Project page: <a href=\"https://wandb.ai/kiatann/tfidf_baseline\" target=\"_blank\">https://wandb.ai/kiatann/tfidf_baseline</a><br/>\n",
       "                Run page: <a href=\"https://wandb.ai/kiatann/tfidf_baseline/runs/19r4nflg\" target=\"_blank\">https://wandb.ai/kiatann/tfidf_baseline/runs/19r4nflg</a><br/>\n",
       "                Run data is saved locally in <code>/data-imperial/wandb/run-20210817_155534-19r4nflg</code><br/><br/>\n",
       "            "
      ],
      "text/plain": [
       "<IPython.core.display.HTML object>"
      ]
     },
     "metadata": {},
     "output_type": "display_data"
    },
    {
     "name": "stdout",
     "output_type": "stream",
     "text": [
      "(344988, 1000) (344988,)\n",
      "(18157, 1000) (18157,)\n"
     ]
    },
    {
     "name": "stderr",
     "output_type": "stream",
     "text": [
      "/data-imperial/lib/python3.9/site-packages/sklearn/utils/validation.py:70: FutureWarning: Pass classes=[0. 1.], y=3487      0.0\n",
      "334182    0.0\n",
      "309926    0.0\n",
      "229060    0.0\n",
      "343847    0.0\n",
      "         ... \n",
      "77899     0.0\n",
      "68499     0.0\n",
      "317680    0.0\n",
      "102397    0.0\n",
      "303365    0.0\n",
      "Name: 19_timeframe_x, Length: 310489, dtype: float64 as keyword args. From version 1.0 (renaming of 0.25) passing these as positional arguments will result in an error\n",
      "  warnings.warn(f\"Pass {args_msg} as keyword args. From version \"\n"
     ]
    },
    {
     "data": {
      "application/vnd.jupyter.widget-view+json": {
       "model_id": "",
       "version_major": 2,
       "version_minor": 0
      },
      "text/plain": [
       "HBox(children=(FloatProgress(value=0.0, max=1000.0), HTML(value='')))"
      ]
     },
     "metadata": {},
     "output_type": "display_data"
    },
    {
     "name": "stdout",
     "output_type": "stream",
     "text": [
      "\n",
      "19_timeframe_x\n",
      "precision            0.515873\n",
      "recall               0.486891\n",
      "f1                   0.500963\n",
      "roc_auc              0.905833\n",
      "average_precision    0.501670\n",
      "matthews             0.462817\n",
      "spearman             0.366922\n",
      "dtype: float64\n"
     ]
    },
    {
     "data": {
      "text/html": [
       "<br/>Waiting for W&B process to finish, PID 11689<br/>Program ended successfully."
      ],
      "text/plain": [
       "<IPython.core.display.HTML object>"
      ]
     },
     "metadata": {},
     "output_type": "display_data"
    },
    {
     "data": {
      "application/vnd.jupyter.widget-view+json": {
       "model_id": "",
       "version_major": 2,
       "version_minor": 0
      },
      "text/plain": [
       "VBox(children=(Label(value=' 0.00MB of 0.00MB uploaded (0.00MB deduped)\\r'), FloatProgress(value=1.0, max=1.0)…"
      ]
     },
     "metadata": {},
     "output_type": "display_data"
    },
    {
     "data": {
      "text/html": [
       "Find user logs for this run at: <code>/data-imperial/wandb/run-20210817_155534-19r4nflg/logs/debug.log</code>"
      ],
      "text/plain": [
       "<IPython.core.display.HTML object>"
      ]
     },
     "metadata": {},
     "output_type": "display_data"
    },
    {
     "data": {
      "text/html": [
       "Find internal logs for this run at: <code>/data-imperial/wandb/run-20210817_155534-19r4nflg/logs/debug-internal.log</code>"
      ],
      "text/plain": [
       "<IPython.core.display.HTML object>"
      ]
     },
     "metadata": {},
     "output_type": "display_data"
    },
    {
     "data": {
      "text/html": [
       "<h3>Run summary:</h3><br/><style>\n",
       "    table.wandb td:nth-child(1) { padding: 0 10px; text-align: right }\n",
       "    </style><table class=\"wandb\">\n",
       "<tr><td>n_estimators</td><td>85</td></tr><tr><td>_runtime</td><td>295</td></tr><tr><td>_timestamp</td><td>1629216029</td></tr><tr><td>_step</td><td>17</td></tr><tr><td>val precision</td><td>0.53038</td></tr><tr><td>val recall</td><td>0.51797</td></tr><tr><td>val f1</td><td>0.5241</td></tr><tr><td>val roc_auc</td><td>0.90333</td></tr><tr><td>val average_precision</td><td>0.51606</td></tr><tr><td>val matthews</td><td>0.4878</td></tr><tr><td>val spearman</td><td>0.36069</td></tr><tr><td>test precision</td><td>0.51587</td></tr><tr><td>test recall</td><td>0.48689</td></tr><tr><td>test f1</td><td>0.50096</td></tr><tr><td>test roc_auc</td><td>0.90583</td></tr><tr><td>test average_precision</td><td>0.50167</td></tr><tr><td>test matthews</td><td>0.46282</td></tr><tr><td>test spearman</td><td>0.36692</td></tr></table>"
      ],
      "text/plain": [
       "<IPython.core.display.HTML object>"
      ]
     },
     "metadata": {},
     "output_type": "display_data"
    },
    {
     "data": {
      "text/html": [
       "<h3>Run history:</h3><br/><style>\n",
       "    table.wandb td:nth-child(1) { padding: 0 10px; text-align: right }\n",
       "    </style><table class=\"wandb\">\n",
       "<tr><td>n_estimators</td><td>▁▁▂▂▃▃▄▄▅▅▅▆▆▇▇██</td></tr><tr><td>_runtime</td><td>▁▁▂▂▃▃▃▄▄▅▅▆▆▇▇▇██</td></tr><tr><td>_timestamp</td><td>▁▁▂▂▃▃▃▄▄▅▅▆▆▇▇▇██</td></tr><tr><td>_step</td><td>▁▁▂▂▃▃▃▄▄▅▅▆▆▆▇▇██</td></tr><tr><td>val precision</td><td>▁</td></tr><tr><td>val recall</td><td>▁</td></tr><tr><td>val f1</td><td>▁</td></tr><tr><td>val roc_auc</td><td>▁</td></tr><tr><td>val average_precision</td><td>▁</td></tr><tr><td>val matthews</td><td>▁</td></tr><tr><td>val spearman</td><td>▁</td></tr><tr><td>test precision</td><td>▁</td></tr><tr><td>test recall</td><td>▁</td></tr><tr><td>test f1</td><td>▁</td></tr><tr><td>test roc_auc</td><td>▁</td></tr><tr><td>test average_precision</td><td>▁</td></tr><tr><td>test matthews</td><td>▁</td></tr><tr><td>test spearman</td><td>▁</td></tr></table><br/>"
      ],
      "text/plain": [
       "<IPython.core.display.HTML object>"
      ]
     },
     "metadata": {},
     "output_type": "display_data"
    },
    {
     "data": {
      "text/html": [
       "Synced 6 W&B file(s), 0 media file(s), 0 artifact file(s) and 0 other file(s)"
      ],
      "text/plain": [
       "<IPython.core.display.HTML object>"
      ]
     },
     "metadata": {},
     "output_type": "display_data"
    },
    {
     "data": {
      "text/html": [
       "\n",
       "                    <br/>Synced <strong style=\"color:#cdcd00\">ancient-glitter-180</strong>: <a href=\"https://wandb.ai/kiatann/tfidf_baseline/runs/19r4nflg\" target=\"_blank\">https://wandb.ai/kiatann/tfidf_baseline/runs/19r4nflg</a><br/>\n",
       "                "
      ],
      "text/plain": [
       "<IPython.core.display.HTML object>"
      ]
     },
     "metadata": {},
     "output_type": "display_data"
    },
    {
     "name": "stderr",
     "output_type": "stream",
     "text": [
      "\u001b[34m\u001b[1mwandb\u001b[0m: wandb version 0.12.0 is available!  To upgrade, please run:\n",
      "\u001b[34m\u001b[1mwandb\u001b[0m:  $ pip install wandb --upgrade\n"
     ]
    },
    {
     "data": {
      "text/html": [
       "\n",
       "                Tracking run with wandb version 0.11.0<br/>\n",
       "                Syncing run <strong style=\"color:#cdcd00\">azure-firebrand-181</strong> to <a href=\"https://wandb.ai\" target=\"_blank\">Weights & Biases</a> <a href=\"https://docs.wandb.com/integrations/jupyter.html\" target=\"_blank\">(Documentation)</a>.<br/>\n",
       "                Project page: <a href=\"https://wandb.ai/kiatann/tfidf_baseline\" target=\"_blank\">https://wandb.ai/kiatann/tfidf_baseline</a><br/>\n",
       "                Run page: <a href=\"https://wandb.ai/kiatann/tfidf_baseline/runs/129x1no3\" target=\"_blank\">https://wandb.ai/kiatann/tfidf_baseline/runs/129x1no3</a><br/>\n",
       "                Run data is saved locally in <code>/data-imperial/wandb/run-20210817_160035-129x1no3</code><br/><br/>\n",
       "            "
      ],
      "text/plain": [
       "<IPython.core.display.HTML object>"
      ]
     },
     "metadata": {},
     "output_type": "display_data"
    },
    {
     "name": "stdout",
     "output_type": "stream",
     "text": [
      "(344988, 1000) (344988,)\n",
      "(18157, 1000) (18157,)\n"
     ]
    },
    {
     "name": "stderr",
     "output_type": "stream",
     "text": [
      "/data-imperial/lib/python3.9/site-packages/sklearn/utils/validation.py:70: FutureWarning: Pass classes=[0. 1.], y=46359     0.0\n",
      "113958    0.0\n",
      "87810     0.0\n",
      "204651    0.0\n",
      "138513    0.0\n",
      "         ... \n",
      "122301    0.0\n",
      "217174    0.0\n",
      "65691     0.0\n",
      "191168    0.0\n",
      "329220    0.0\n",
      "Name: 18_substance, Length: 310489, dtype: float64 as keyword args. From version 1.0 (renaming of 0.25) passing these as positional arguments will result in an error\n",
      "  warnings.warn(f\"Pass {args_msg} as keyword args. From version \"\n"
     ]
    },
    {
     "data": {
      "application/vnd.jupyter.widget-view+json": {
       "model_id": "",
       "version_major": 2,
       "version_minor": 0
      },
      "text/plain": [
       "HBox(children=(FloatProgress(value=0.0, max=1000.0), HTML(value='')))"
      ]
     },
     "metadata": {},
     "output_type": "display_data"
    },
    {
     "name": "stdout",
     "output_type": "stream",
     "text": [
      "\n",
      "18_substance\n",
      "precision            0.266129\n",
      "recall               0.266129\n",
      "f1                   0.266129\n",
      "roc_auc              0.910995\n",
      "average_precision    0.183463\n",
      "matthews             0.261083\n",
      "spearman             0.117254\n",
      "dtype: float64\n"
     ]
    },
    {
     "data": {
      "text/html": [
       "<br/>Waiting for W&B process to finish, PID 11935<br/>Program ended successfully."
      ],
      "text/plain": [
       "<IPython.core.display.HTML object>"
      ]
     },
     "metadata": {},
     "output_type": "display_data"
    },
    {
     "data": {
      "application/vnd.jupyter.widget-view+json": {
       "model_id": "",
       "version_major": 2,
       "version_minor": 0
      },
      "text/plain": [
       "VBox(children=(Label(value=' 0.00MB of 0.00MB uploaded (0.00MB deduped)\\r'), FloatProgress(value=1.0, max=1.0)…"
      ]
     },
     "metadata": {},
     "output_type": "display_data"
    },
    {
     "data": {
      "text/html": [
       "Find user logs for this run at: <code>/data-imperial/wandb/run-20210817_160035-129x1no3/logs/debug.log</code>"
      ],
      "text/plain": [
       "<IPython.core.display.HTML object>"
      ]
     },
     "metadata": {},
     "output_type": "display_data"
    },
    {
     "data": {
      "text/html": [
       "Find internal logs for this run at: <code>/data-imperial/wandb/run-20210817_160035-129x1no3/logs/debug-internal.log</code>"
      ],
      "text/plain": [
       "<IPython.core.display.HTML object>"
      ]
     },
     "metadata": {},
     "output_type": "display_data"
    },
    {
     "data": {
      "text/html": [
       "<h3>Run summary:</h3><br/><style>\n",
       "    table.wandb td:nth-child(1) { padding: 0 10px; text-align: right }\n",
       "    </style><table class=\"wandb\">\n",
       "<tr><td>n_estimators</td><td>155</td></tr><tr><td>_runtime</td><td>516</td></tr><tr><td>_timestamp</td><td>1629216551</td></tr><tr><td>_step</td><td>31</td></tr><tr><td>val precision</td><td>0.28641</td></tr><tr><td>val recall</td><td>0.22868</td></tr><tr><td>val f1</td><td>0.25431</td></tr><tr><td>val roc_auc</td><td>0.89094</td></tr><tr><td>val average_precision</td><td>0.18346</td></tr><tr><td>val matthews</td><td>0.25093</td></tr><tr><td>val spearman</td><td>0.11668</td></tr><tr><td>test precision</td><td>0.26613</td></tr><tr><td>test recall</td><td>0.26613</td></tr><tr><td>test f1</td><td>0.26613</td></tr><tr><td>test roc_auc</td><td>0.91099</td></tr><tr><td>test average_precision</td><td>0.18346</td></tr><tr><td>test matthews</td><td>0.26108</td></tr><tr><td>test spearman</td><td>0.11725</td></tr></table>"
      ],
      "text/plain": [
       "<IPython.core.display.HTML object>"
      ]
     },
     "metadata": {},
     "output_type": "display_data"
    },
    {
     "data": {
      "text/html": [
       "<h3>Run history:</h3><br/><style>\n",
       "    table.wandb td:nth-child(1) { padding: 0 10px; text-align: right }\n",
       "    </style><table class=\"wandb\">\n",
       "<tr><td>n_estimators</td><td>▁▁▁▂▂▂▂▃▃▃▃▄▄▄▄▅▅▅▅▅▆▆▆▆▇▇▇▇███</td></tr><tr><td>_runtime</td><td>▁▁▁▂▂▂▂▃▃▃▃▃▄▄▄▄▅▅▅▅▅▆▆▆▆▇▇▇▇███</td></tr><tr><td>_timestamp</td><td>▁▁▁▂▂▂▂▃▃▃▃▃▄▄▄▄▅▅▅▅▅▆▆▆▆▇▇▇▇███</td></tr><tr><td>_step</td><td>▁▁▁▂▂▂▂▃▃▃▃▃▄▄▄▄▅▅▅▅▆▆▆▆▆▇▇▇▇███</td></tr><tr><td>val precision</td><td>▁</td></tr><tr><td>val recall</td><td>▁</td></tr><tr><td>val f1</td><td>▁</td></tr><tr><td>val roc_auc</td><td>▁</td></tr><tr><td>val average_precision</td><td>▁</td></tr><tr><td>val matthews</td><td>▁</td></tr><tr><td>val spearman</td><td>▁</td></tr><tr><td>test precision</td><td>▁</td></tr><tr><td>test recall</td><td>▁</td></tr><tr><td>test f1</td><td>▁</td></tr><tr><td>test roc_auc</td><td>▁</td></tr><tr><td>test average_precision</td><td>▁</td></tr><tr><td>test matthews</td><td>▁</td></tr><tr><td>test spearman</td><td>▁</td></tr></table><br/>"
      ],
      "text/plain": [
       "<IPython.core.display.HTML object>"
      ]
     },
     "metadata": {},
     "output_type": "display_data"
    },
    {
     "data": {
      "text/html": [
       "Synced 6 W&B file(s), 0 media file(s), 0 artifact file(s) and 0 other file(s)"
      ],
      "text/plain": [
       "<IPython.core.display.HTML object>"
      ]
     },
     "metadata": {},
     "output_type": "display_data"
    },
    {
     "data": {
      "text/html": [
       "\n",
       "                    <br/>Synced <strong style=\"color:#cdcd00\">azure-firebrand-181</strong>: <a href=\"https://wandb.ai/kiatann/tfidf_baseline/runs/129x1no3\" target=\"_blank\">https://wandb.ai/kiatann/tfidf_baseline/runs/129x1no3</a><br/>\n",
       "                "
      ],
      "text/plain": [
       "<IPython.core.display.HTML object>"
      ]
     },
     "metadata": {},
     "output_type": "display_data"
    },
    {
     "name": "stderr",
     "output_type": "stream",
     "text": [
      "\u001b[34m\u001b[1mwandb\u001b[0m: wandb version 0.12.0 is available!  To upgrade, please run:\n",
      "\u001b[34m\u001b[1mwandb\u001b[0m:  $ pip install wandb --upgrade\n"
     ]
    },
    {
     "data": {
      "text/html": [
       "\n",
       "                Tracking run with wandb version 0.11.0<br/>\n",
       "                Syncing run <strong style=\"color:#cdcd00\">ethereal-elevator-182</strong> to <a href=\"https://wandb.ai\" target=\"_blank\">Weights & Biases</a> <a href=\"https://docs.wandb.com/integrations/jupyter.html\" target=\"_blank\">(Documentation)</a>.<br/>\n",
       "                Project page: <a href=\"https://wandb.ai/kiatann/tfidf_baseline\" target=\"_blank\">https://wandb.ai/kiatann/tfidf_baseline</a><br/>\n",
       "                Run page: <a href=\"https://wandb.ai/kiatann/tfidf_baseline/runs/1f655514\" target=\"_blank\">https://wandb.ai/kiatann/tfidf_baseline/runs/1f655514</a><br/>\n",
       "                Run data is saved locally in <code>/data-imperial/wandb/run-20210817_160919-1f655514</code><br/><br/>\n",
       "            "
      ],
      "text/plain": [
       "<IPython.core.display.HTML object>"
      ]
     },
     "metadata": {},
     "output_type": "display_data"
    },
    {
     "name": "stdout",
     "output_type": "stream",
     "text": [
      "(344988, 1000) (344988,)\n",
      "(18157, 1000) (18157,)\n"
     ]
    },
    {
     "name": "stderr",
     "output_type": "stream",
     "text": [
      "/data-imperial/lib/python3.9/site-packages/sklearn/utils/validation.py:70: FutureWarning: Pass classes=[0. 1.], y=207892    0.0\n",
      "194679    1.0\n",
      "93569     1.0\n",
      "213531    0.0\n",
      "253878    0.0\n",
      "         ... \n",
      "195009    1.0\n",
      "323652    0.0\n",
      "297830    0.0\n",
      "187034    0.0\n",
      "217497    0.0\n",
      "Name: 18_depressed, Length: 310489, dtype: float64 as keyword args. From version 1.0 (renaming of 0.25) passing these as positional arguments will result in an error\n",
      "  warnings.warn(f\"Pass {args_msg} as keyword args. From version \"\n"
     ]
    },
    {
     "data": {
      "application/vnd.jupyter.widget-view+json": {
       "model_id": "",
       "version_major": 2,
       "version_minor": 0
      },
      "text/plain": [
       "HBox(children=(FloatProgress(value=0.0, max=1000.0), HTML(value='')))"
      ]
     },
     "metadata": {},
     "output_type": "display_data"
    },
    {
     "name": "stdout",
     "output_type": "stream",
     "text": [
      "\n",
      "18_depressed\n",
      "precision            0.456213\n",
      "recall               0.456102\n",
      "f1                   0.456158\n",
      "roc_auc              0.726641\n",
      "average_precision    0.468368\n",
      "matthews             0.298109\n",
      "spearman             0.327951\n",
      "dtype: float64\n"
     ]
    },
    {
     "data": {
      "text/html": [
       "<br/>Waiting for W&B process to finish, PID 12333<br/>Program ended successfully."
      ],
      "text/plain": [
       "<IPython.core.display.HTML object>"
      ]
     },
     "metadata": {},
     "output_type": "display_data"
    },
    {
     "data": {
      "application/vnd.jupyter.widget-view+json": {
       "model_id": "",
       "version_major": 2,
       "version_minor": 0
      },
      "text/plain": [
       "VBox(children=(Label(value=' 0.00MB of 0.00MB uploaded (0.00MB deduped)\\r'), FloatProgress(value=1.0, max=1.0)…"
      ]
     },
     "metadata": {},
     "output_type": "display_data"
    },
    {
     "data": {
      "text/html": [
       "Find user logs for this run at: <code>/data-imperial/wandb/run-20210817_160919-1f655514/logs/debug.log</code>"
      ],
      "text/plain": [
       "<IPython.core.display.HTML object>"
      ]
     },
     "metadata": {},
     "output_type": "display_data"
    },
    {
     "data": {
      "text/html": [
       "Find internal logs for this run at: <code>/data-imperial/wandb/run-20210817_160919-1f655514/logs/debug-internal.log</code>"
      ],
      "text/plain": [
       "<IPython.core.display.HTML object>"
      ]
     },
     "metadata": {},
     "output_type": "display_data"
    },
    {
     "data": {
      "text/html": [
       "<h3>Run summary:</h3><br/><style>\n",
       "    table.wandb td:nth-child(1) { padding: 0 10px; text-align: right }\n",
       "    </style><table class=\"wandb\">\n",
       "<tr><td>n_estimators</td><td>135</td></tr><tr><td>_runtime</td><td>441</td></tr><tr><td>_timestamp</td><td>1629217000</td></tr><tr><td>_step</td><td>27</td></tr><tr><td>val precision</td><td>0.46608</td></tr><tr><td>val recall</td><td>0.45405</td></tr><tr><td>val f1</td><td>0.45998</td></tr><tr><td>val roc_auc</td><td>0.73235</td></tr><tr><td>val average_precision</td><td>0.47186</td></tr><tr><td>val matthews</td><td>0.3032</td></tr><tr><td>val spearman</td><td>0.3377</td></tr><tr><td>test precision</td><td>0.45621</td></tr><tr><td>test recall</td><td>0.4561</td></tr><tr><td>test f1</td><td>0.45616</td></tr><tr><td>test roc_auc</td><td>0.72664</td></tr><tr><td>test average_precision</td><td>0.46837</td></tr><tr><td>test matthews</td><td>0.29811</td></tr><tr><td>test spearman</td><td>0.32795</td></tr></table>"
      ],
      "text/plain": [
       "<IPython.core.display.HTML object>"
      ]
     },
     "metadata": {},
     "output_type": "display_data"
    },
    {
     "data": {
      "text/html": [
       "<h3>Run history:</h3><br/><style>\n",
       "    table.wandb td:nth-child(1) { padding: 0 10px; text-align: right }\n",
       "    </style><table class=\"wandb\">\n",
       "<tr><td>n_estimators</td><td>▁▁▂▂▂▂▃▃▃▃▄▄▄▅▅▅▅▆▆▆▆▇▇▇▇██</td></tr><tr><td>_runtime</td><td>▁▁▂▂▂▂▃▃▃▃▄▄▄▄▅▅▅▆▆▆▆▇▇▇▇███</td></tr><tr><td>_timestamp</td><td>▁▁▂▂▂▂▃▃▃▃▄▄▄▄▅▅▅▆▆▆▆▇▇▇▇███</td></tr><tr><td>_step</td><td>▁▁▂▂▂▂▃▃▃▃▄▄▄▄▅▅▅▅▆▆▆▆▇▇▇▇██</td></tr><tr><td>val precision</td><td>▁</td></tr><tr><td>val recall</td><td>▁</td></tr><tr><td>val f1</td><td>▁</td></tr><tr><td>val roc_auc</td><td>▁</td></tr><tr><td>val average_precision</td><td>▁</td></tr><tr><td>val matthews</td><td>▁</td></tr><tr><td>val spearman</td><td>▁</td></tr><tr><td>test precision</td><td>▁</td></tr><tr><td>test recall</td><td>▁</td></tr><tr><td>test f1</td><td>▁</td></tr><tr><td>test roc_auc</td><td>▁</td></tr><tr><td>test average_precision</td><td>▁</td></tr><tr><td>test matthews</td><td>▁</td></tr><tr><td>test spearman</td><td>▁</td></tr></table><br/>"
      ],
      "text/plain": [
       "<IPython.core.display.HTML object>"
      ]
     },
     "metadata": {},
     "output_type": "display_data"
    },
    {
     "data": {
      "text/html": [
       "Synced 6 W&B file(s), 0 media file(s), 0 artifact file(s) and 0 other file(s)"
      ],
      "text/plain": [
       "<IPython.core.display.HTML object>"
      ]
     },
     "metadata": {},
     "output_type": "display_data"
    },
    {
     "data": {
      "text/html": [
       "\n",
       "                    <br/>Synced <strong style=\"color:#cdcd00\">ethereal-elevator-182</strong>: <a href=\"https://wandb.ai/kiatann/tfidf_baseline/runs/1f655514\" target=\"_blank\">https://wandb.ai/kiatann/tfidf_baseline/runs/1f655514</a><br/>\n",
       "                "
      ],
      "text/plain": [
       "<IPython.core.display.HTML object>"
      ]
     },
     "metadata": {},
     "output_type": "display_data"
    },
    {
     "name": "stderr",
     "output_type": "stream",
     "text": [
      "\u001b[34m\u001b[1mwandb\u001b[0m: wandb version 0.12.0 is available!  To upgrade, please run:\n",
      "\u001b[34m\u001b[1mwandb\u001b[0m:  $ pip install wandb --upgrade\n"
     ]
    },
    {
     "data": {
      "text/html": [
       "\n",
       "                Tracking run with wandb version 0.11.0<br/>\n",
       "                Syncing run <strong style=\"color:#cdcd00\">deft-sound-183</strong> to <a href=\"https://wandb.ai\" target=\"_blank\">Weights & Biases</a> <a href=\"https://docs.wandb.com/integrations/jupyter.html\" target=\"_blank\">(Documentation)</a>.<br/>\n",
       "                Project page: <a href=\"https://wandb.ai/kiatann/tfidf_baseline\" target=\"_blank\">https://wandb.ai/kiatann/tfidf_baseline</a><br/>\n",
       "                Run page: <a href=\"https://wandb.ai/kiatann/tfidf_baseline/runs/2jv2gc3s\" target=\"_blank\">https://wandb.ai/kiatann/tfidf_baseline/runs/2jv2gc3s</a><br/>\n",
       "                Run data is saved locally in <code>/data-imperial/wandb/run-20210817_161647-2jv2gc3s</code><br/><br/>\n",
       "            "
      ],
      "text/plain": [
       "<IPython.core.display.HTML object>"
      ]
     },
     "metadata": {},
     "output_type": "display_data"
    },
    {
     "name": "stdout",
     "output_type": "stream",
     "text": [
      "(344988, 1000) (344988,)\n",
      "(18157, 1000) (18157,)\n"
     ]
    },
    {
     "name": "stderr",
     "output_type": "stream",
     "text": [
      "/data-imperial/lib/python3.9/site-packages/sklearn/utils/validation.py:70: FutureWarning: Pass classes=[0. 1.], y=122811    0.0\n",
      "344876    1.0\n",
      "303484    0.0\n",
      "266764    0.0\n",
      "131900    0.0\n",
      "         ... \n",
      "211389    0.0\n",
      "307502    1.0\n",
      "42924     0.0\n",
      "59593     0.0\n",
      "188156    0.0\n",
      "Name: 18_self_harm, Length: 310489, dtype: float64 as keyword args. From version 1.0 (renaming of 0.25) passing these as positional arguments will result in an error\n",
      "  warnings.warn(f\"Pass {args_msg} as keyword args. From version \"\n"
     ]
    },
    {
     "data": {
      "application/vnd.jupyter.widget-view+json": {
       "model_id": "",
       "version_major": 2,
       "version_minor": 0
      },
      "text/plain": [
       "HBox(children=(FloatProgress(value=0.0, max=1000.0), HTML(value='')))"
      ]
     },
     "metadata": {},
     "output_type": "display_data"
    },
    {
     "name": "stdout",
     "output_type": "stream",
     "text": [
      "\n",
      "18_self_harm\n",
      "precision            0.563522\n",
      "recall               0.566730\n",
      "f1                   0.565121\n",
      "roc_auc              0.916953\n",
      "average_precision    0.567600\n",
      "matthews             0.523517\n",
      "spearman             0.407230\n",
      "dtype: float64\n"
     ]
    },
    {
     "data": {
      "text/html": [
       "<br/>Waiting for W&B process to finish, PID 12727<br/>Program ended successfully."
      ],
      "text/plain": [
       "<IPython.core.display.HTML object>"
      ]
     },
     "metadata": {},
     "output_type": "display_data"
    },
    {
     "data": {
      "application/vnd.jupyter.widget-view+json": {
       "model_id": "",
       "version_major": 2,
       "version_minor": 0
      },
      "text/plain": [
       "VBox(children=(Label(value=' 0.00MB of 0.00MB uploaded (0.00MB deduped)\\r'), FloatProgress(value=1.0, max=1.0)…"
      ]
     },
     "metadata": {},
     "output_type": "display_data"
    },
    {
     "data": {
      "text/html": [
       "Find user logs for this run at: <code>/data-imperial/wandb/run-20210817_161647-2jv2gc3s/logs/debug.log</code>"
      ],
      "text/plain": [
       "<IPython.core.display.HTML object>"
      ]
     },
     "metadata": {},
     "output_type": "display_data"
    },
    {
     "data": {
      "text/html": [
       "Find internal logs for this run at: <code>/data-imperial/wandb/run-20210817_161647-2jv2gc3s/logs/debug-internal.log</code>"
      ],
      "text/plain": [
       "<IPython.core.display.HTML object>"
      ]
     },
     "metadata": {},
     "output_type": "display_data"
    },
    {
     "data": {
      "text/html": [
       "<h3>Run summary:</h3><br/><style>\n",
       "    table.wandb td:nth-child(1) { padding: 0 10px; text-align: right }\n",
       "    </style><table class=\"wandb\">\n",
       "<tr><td>n_estimators</td><td>145</td></tr><tr><td>_runtime</td><td>484</td></tr><tr><td>_timestamp</td><td>1629217491</td></tr><tr><td>_step</td><td>29</td></tr><tr><td>val precision</td><td>0.55841</td></tr><tr><td>val recall</td><td>0.5633</td></tr><tr><td>val f1</td><td>0.56084</td></tr><tr><td>val roc_auc</td><td>0.90729</td></tr><tr><td>val average_precision</td><td>0.54627</td></tr><tr><td>val matthews</td><td>0.51929</td></tr><tr><td>val spearman</td><td>0.39575</td></tr><tr><td>test precision</td><td>0.56352</td></tr><tr><td>test recall</td><td>0.56673</td></tr><tr><td>test f1</td><td>0.56512</td></tr><tr><td>test roc_auc</td><td>0.91695</td></tr><tr><td>test average_precision</td><td>0.5676</td></tr><tr><td>test matthews</td><td>0.52352</td></tr><tr><td>test spearman</td><td>0.40723</td></tr></table>"
      ],
      "text/plain": [
       "<IPython.core.display.HTML object>"
      ]
     },
     "metadata": {},
     "output_type": "display_data"
    },
    {
     "data": {
      "text/html": [
       "<h3>Run history:</h3><br/><style>\n",
       "    table.wandb td:nth-child(1) { padding: 0 10px; text-align: right }\n",
       "    </style><table class=\"wandb\">\n",
       "<tr><td>n_estimators</td><td>▁▁▁▂▂▂▃▃▃▃▃▄▄▄▅▅▅▅▅▆▆▆▇▇▇▇▇██</td></tr><tr><td>_runtime</td><td>▁▁▁▂▂▂▂▃▃▃▃▄▄▄▄▅▅▅▅▆▆▆▆▇▇▇▇███</td></tr><tr><td>_timestamp</td><td>▁▁▁▂▂▂▂▃▃▃▃▄▄▄▄▅▅▅▅▆▆▆▆▇▇▇▇███</td></tr><tr><td>_step</td><td>▁▁▁▂▂▂▂▃▃▃▃▄▄▄▄▅▅▅▅▆▆▆▆▇▇▇▇███</td></tr><tr><td>val precision</td><td>▁</td></tr><tr><td>val recall</td><td>▁</td></tr><tr><td>val f1</td><td>▁</td></tr><tr><td>val roc_auc</td><td>▁</td></tr><tr><td>val average_precision</td><td>▁</td></tr><tr><td>val matthews</td><td>▁</td></tr><tr><td>val spearman</td><td>▁</td></tr><tr><td>test precision</td><td>▁</td></tr><tr><td>test recall</td><td>▁</td></tr><tr><td>test f1</td><td>▁</td></tr><tr><td>test roc_auc</td><td>▁</td></tr><tr><td>test average_precision</td><td>▁</td></tr><tr><td>test matthews</td><td>▁</td></tr><tr><td>test spearman</td><td>▁</td></tr></table><br/>"
      ],
      "text/plain": [
       "<IPython.core.display.HTML object>"
      ]
     },
     "metadata": {},
     "output_type": "display_data"
    },
    {
     "data": {
      "text/html": [
       "Synced 6 W&B file(s), 0 media file(s), 0 artifact file(s) and 0 other file(s)"
      ],
      "text/plain": [
       "<IPython.core.display.HTML object>"
      ]
     },
     "metadata": {},
     "output_type": "display_data"
    },
    {
     "data": {
      "text/html": [
       "\n",
       "                    <br/>Synced <strong style=\"color:#cdcd00\">deft-sound-183</strong>: <a href=\"https://wandb.ai/kiatann/tfidf_baseline/runs/2jv2gc3s\" target=\"_blank\">https://wandb.ai/kiatann/tfidf_baseline/runs/2jv2gc3s</a><br/>\n",
       "                "
      ],
      "text/plain": [
       "<IPython.core.display.HTML object>"
      ]
     },
     "metadata": {},
     "output_type": "display_data"
    },
    {
     "name": "stderr",
     "output_type": "stream",
     "text": [
      "\u001b[34m\u001b[1mwandb\u001b[0m: wandb version 0.12.0 is available!  To upgrade, please run:\n",
      "\u001b[34m\u001b[1mwandb\u001b[0m:  $ pip install wandb --upgrade\n"
     ]
    },
    {
     "data": {
      "text/html": [
       "\n",
       "                Tracking run with wandb version 0.11.0<br/>\n",
       "                Syncing run <strong style=\"color:#cdcd00\">swift-donkey-184</strong> to <a href=\"https://wandb.ai\" target=\"_blank\">Weights & Biases</a> <a href=\"https://docs.wandb.com/integrations/jupyter.html\" target=\"_blank\">(Documentation)</a>.<br/>\n",
       "                Project page: <a href=\"https://wandb.ai/kiatann/tfidf_baseline\" target=\"_blank\">https://wandb.ai/kiatann/tfidf_baseline</a><br/>\n",
       "                Run page: <a href=\"https://wandb.ai/kiatann/tfidf_baseline/runs/mdb1m38b\" target=\"_blank\">https://wandb.ai/kiatann/tfidf_baseline/runs/mdb1m38b</a><br/>\n",
       "                Run data is saved locally in <code>/data-imperial/wandb/run-20210817_162500-mdb1m38b</code><br/><br/>\n",
       "            "
      ],
      "text/plain": [
       "<IPython.core.display.HTML object>"
      ]
     },
     "metadata": {},
     "output_type": "display_data"
    },
    {
     "name": "stdout",
     "output_type": "stream",
     "text": [
      "(52568, 1000) (52568,)\n",
      "(2710, 1000) (2710,)\n"
     ]
    },
    {
     "name": "stderr",
     "output_type": "stream",
     "text": [
      "/data-imperial/lib/python3.9/site-packages/sklearn/utils/validation.py:70: FutureWarning: Pass classes=[0. 1.], y=30423     1.0\n",
      "168278    0.0\n",
      "281446    1.0\n",
      "7797      1.0\n",
      "176774    1.0\n",
      "         ... \n",
      "274848    0.0\n",
      "201327    1.0\n",
      "234718    0.0\n",
      "58675     1.0\n",
      "313178    0.0\n",
      "Name: 64_Yes, Length: 47311, dtype: float64 as keyword args. From version 1.0 (renaming of 0.25) passing these as positional arguments will result in an error\n",
      "  warnings.warn(f\"Pass {args_msg} as keyword args. From version \"\n"
     ]
    },
    {
     "data": {
      "application/vnd.jupyter.widget-view+json": {
       "model_id": "",
       "version_major": 2,
       "version_minor": 0
      },
      "text/plain": [
       "HBox(children=(FloatProgress(value=0.0, max=1000.0), HTML(value='')))"
      ]
     },
     "metadata": {},
     "output_type": "display_data"
    },
    {
     "name": "stdout",
     "output_type": "stream",
     "text": [
      "\n",
      "64_Yes\n",
      "precision            0.901879\n",
      "recall               0.916419\n",
      "f1                   0.909091\n",
      "roc_auc              0.745061\n",
      "average_precision    0.943469\n",
      "matthews             0.263274\n",
      "spearman             0.285734\n",
      "dtype: float64\n"
     ]
    },
    {
     "data": {
      "text/html": [
       "<br/>Waiting for W&B process to finish, PID 13098<br/>Program ended successfully."
      ],
      "text/plain": [
       "<IPython.core.display.HTML object>"
      ]
     },
     "metadata": {},
     "output_type": "display_data"
    },
    {
     "data": {
      "application/vnd.jupyter.widget-view+json": {
       "model_id": "",
       "version_major": 2,
       "version_minor": 0
      },
      "text/plain": [
       "VBox(children=(Label(value=' 0.00MB of 0.00MB uploaded (0.00MB deduped)\\r'), FloatProgress(value=1.0, max=1.0)…"
      ]
     },
     "metadata": {},
     "output_type": "display_data"
    },
    {
     "data": {
      "text/html": [
       "Find user logs for this run at: <code>/data-imperial/wandb/run-20210817_162500-mdb1m38b/logs/debug.log</code>"
      ],
      "text/plain": [
       "<IPython.core.display.HTML object>"
      ]
     },
     "metadata": {},
     "output_type": "display_data"
    },
    {
     "data": {
      "text/html": [
       "Find internal logs for this run at: <code>/data-imperial/wandb/run-20210817_162500-mdb1m38b/logs/debug-internal.log</code>"
      ],
      "text/plain": [
       "<IPython.core.display.HTML object>"
      ]
     },
     "metadata": {},
     "output_type": "display_data"
    },
    {
     "data": {
      "text/html": [
       "<h3>Run summary:</h3><br/><style>\n",
       "    table.wandb td:nth-child(1) { padding: 0 10px; text-align: right }\n",
       "    </style><table class=\"wandb\">\n",
       "<tr><td>n_estimators</td><td>125</td></tr><tr><td>_runtime</td><td>63</td></tr><tr><td>_timestamp</td><td>1629217563</td></tr><tr><td>_step</td><td>25</td></tr><tr><td>val precision</td><td>0.89839</td></tr><tr><td>val recall</td><td>0.91493</td></tr><tr><td>val f1</td><td>0.90658</td></tr><tr><td>val roc_auc</td><td>0.73496</td></tr><tr><td>val average_precision</td><td>0.94078</td></tr><tr><td>val matthews</td><td>0.2502</td></tr><tr><td>val spearman</td><td>0.27586</td></tr><tr><td>test precision</td><td>0.90188</td></tr><tr><td>test recall</td><td>0.91642</td></tr><tr><td>test f1</td><td>0.90909</td></tr><tr><td>test roc_auc</td><td>0.74506</td></tr><tr><td>test average_precision</td><td>0.94347</td></tr><tr><td>test matthews</td><td>0.26327</td></tr><tr><td>test spearman</td><td>0.28573</td></tr></table>"
      ],
      "text/plain": [
       "<IPython.core.display.HTML object>"
      ]
     },
     "metadata": {},
     "output_type": "display_data"
    },
    {
     "data": {
      "text/html": [
       "<h3>Run history:</h3><br/><style>\n",
       "    table.wandb td:nth-child(1) { padding: 0 10px; text-align: right }\n",
       "    </style><table class=\"wandb\">\n",
       "<tr><td>n_estimators</td><td>▁▁▂▂▂▂▃▃▃▄▄▄▅▅▅▅▆▆▆▇▇▇▇██</td></tr><tr><td>_runtime</td><td>▁▁▂▂▂▂▃▃▃▃▄▄▄▅▅▅▆▆▆▆▇▇▇███</td></tr><tr><td>_timestamp</td><td>▁▁▂▂▂▂▃▃▃▃▄▄▄▅▅▅▆▆▆▆▇▇▇███</td></tr><tr><td>_step</td><td>▁▁▂▂▂▂▃▃▃▄▄▄▄▅▅▅▅▆▆▆▇▇▇▇██</td></tr><tr><td>val precision</td><td>▁</td></tr><tr><td>val recall</td><td>▁</td></tr><tr><td>val f1</td><td>▁</td></tr><tr><td>val roc_auc</td><td>▁</td></tr><tr><td>val average_precision</td><td>▁</td></tr><tr><td>val matthews</td><td>▁</td></tr><tr><td>val spearman</td><td>▁</td></tr><tr><td>test precision</td><td>▁</td></tr><tr><td>test recall</td><td>▁</td></tr><tr><td>test f1</td><td>▁</td></tr><tr><td>test roc_auc</td><td>▁</td></tr><tr><td>test average_precision</td><td>▁</td></tr><tr><td>test matthews</td><td>▁</td></tr><tr><td>test spearman</td><td>▁</td></tr></table><br/>"
      ],
      "text/plain": [
       "<IPython.core.display.HTML object>"
      ]
     },
     "metadata": {},
     "output_type": "display_data"
    },
    {
     "data": {
      "text/html": [
       "Synced 6 W&B file(s), 0 media file(s), 0 artifact file(s) and 0 other file(s)"
      ],
      "text/plain": [
       "<IPython.core.display.HTML object>"
      ]
     },
     "metadata": {},
     "output_type": "display_data"
    },
    {
     "data": {
      "text/html": [
       "\n",
       "                    <br/>Synced <strong style=\"color:#cdcd00\">swift-donkey-184</strong>: <a href=\"https://wandb.ai/kiatann/tfidf_baseline/runs/mdb1m38b\" target=\"_blank\">https://wandb.ai/kiatann/tfidf_baseline/runs/mdb1m38b</a><br/>\n",
       "                "
      ],
      "text/plain": [
       "<IPython.core.display.HTML object>"
      ]
     },
     "metadata": {},
     "output_type": "display_data"
    },
    {
     "name": "stdout",
     "output_type": "stream",
     "text": [
      "\n"
     ]
    }
   ],
   "source": [
    "config={\"min_estimators\":5,\n",
    "\"max_estimators\":5000,\n",
    "\"max_depth\":5,\n",
    "\"class_weight\":\"balanced\",\n",
    "\"step_size\":5,\n",
    "\"patience\":3}\n",
    "\n",
    "## list of labels to build model for\n",
    "for label in tqdm([\n",
    "    \"18_anxiety\", \n",
    "    \"19_desire_x\",\n",
    "    \"19_intent_x\",\n",
    "    \"19_capability_x\",\n",
    "    \"19_timeframe_x\",\n",
    "#     \"69_13 or younger\",\n",
    "#     \"69_14-24\",\n",
    "#     \"69_24 or younger\",\n",
    "    \"18_substance\", \n",
    "    \"18_depressed\", \n",
    "    \"18_self_harm\",\n",
    "#     \"18_suicide\",\n",
    "    \"64_Yes\",\n",
    "# #     \"65>1 (slightly helpful)\",\n",
    "# #     \"65>2\",\n",
    "# #     \"65>3\",\n",
    "# #     \"65>4\",\n",
    "# #     \"241_I see a therapist or doctor in person\",\n",
    "#     \"74_Heterosexual or Straight\",\n",
    "#     \"75_White\",\n",
    "#     \"73_Male\",\n",
    "# #     \"33_good\"\n",
    "]):\n",
    "\n",
    "    wandb.init(project=\"tfidf_baseline\",reinit=True,\n",
    "               config={\n",
    "                   **config,\n",
    "                \"label\":label\n",
    "               },tags=['tfidf'])\n",
    "    \n",
    "    min_estimators = wandb.config.min_estimators\n",
    "    max_estimators = wandb.config.max_estimators\n",
    "    max_depth = wandb.config.max_depth\n",
    "    class_weight = wandb.config.class_weight\n",
    "    step_size = wandb.config.step_size\n",
    "    patience = wandb.config.patience\n",
    "\n",
    "    X, y = dropna_both(ds_train, l_train[label].astype('float'))\n",
    "    X_test, y_test = dropna_both(ds_test, l_test[label].astype('float'))\n",
    "\n",
    "    print(X.shape, y.shape)\n",
    "    print(X_test.shape, y_test.shape)\n",
    "\n",
    "    X_train, X_val, y_train, y_val = train_test_split(X,y, test_size=0.1)\n",
    "\n",
    "    u = np.unique(y_train)\n",
    "    class_weight = {i:j for i,j in zip(u,compute_class_weight('balanced',u, y_train))}\n",
    "    \n",
    "    classifier = RandomForestClassifier(\n",
    "        n_estimators = min_estimators,\n",
    "        max_depth = max_depth,\n",
    "        class_weight = class_weight,\n",
    "        warm_start=True,\n",
    "        n_jobs=2)\n",
    "    \n",
    "    fit_with_cv(X_train,y_train, X_val, y_val,\n",
    "                model=classifier, \n",
    "                min_estimators = min_estimators, \n",
    "                max_estimators = max_estimators, \n",
    "                step_size = step_size, \n",
    "                patience = patience, \n",
    "                log_wandb=True)\n",
    "\n",
    "    wandb.log({\n",
    "        **prepend_keys(evaluate(classifier, X_train, X_val, y_train, y_val), \"val \"),\n",
    "        **prepend_keys(evaluate(classifier, X_train, X_test, y_train, y_test), \"test \")\n",
    "    })\n",
    "    print(label)\n",
    "    print(pd.Series(evaluate(classifier, X_train, X_test, y_train, y_test)))\n",
    "    wandb.join()\n",
    "\n",
    "#     with open(f\"models/rf/{label}_model.pickle\", 'wb') as f:\n",
    "#         pickle.dump(classifier, f)       \n",
    "        "
   ]
  },
  {
   "cell_type": "code",
   "execution_count": null,
   "metadata": {},
   "outputs": [],
   "source": []
  }
 ],
 "metadata": {
  "kernelspec": {
   "display_name": "Python 3 (ipykernel)",
   "language": "python",
   "name": "python3"
  },
  "language_info": {
   "codemirror_mode": {
    "name": "ipython",
    "version": 3
   },
   "file_extension": ".py",
   "mimetype": "text/x-python",
   "name": "python",
   "nbconvert_exporter": "python",
   "pygments_lexer": "ipython3",
   "version": "3.9.5"
  },
  "pycharm": {
   "stem_cell": {
    "cell_type": "raw",
    "metadata": {
     "collapsed": false
    },
    "source": []
   }
  }
 },
 "nbformat": 4,
 "nbformat_minor": 4
}
