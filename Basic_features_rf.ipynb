{
 "cells": [
  {
   "cell_type": "markdown",
   "metadata": {},
   "source": [
    "# Random Forest Classifier"
   ]
  },
  {
   "cell_type": "code",
   "execution_count": 1,
   "metadata": {
    "Collapsed": "false"
   },
   "outputs": [],
   "source": [
    "import os\n",
    "import pickle\n",
    "import random\n",
    "import re\n",
    "import scipy\n",
    "import torch\n",
    "import wandb\n",
    "import matplotlib.pyplot as plt\n",
    "import numpy as np\n",
    "import pandas as pd\n",
    "import seaborn as sns\n",
    "\n",
    "from label_processor import LabelProcessorSimplified\n",
    "\n",
    "from models.random_forest_early_stopping import RandomForestEarlyStopping, StratifiedKFold3\n",
    "\n",
    "from sklearn import metrics\n",
    "from sklearn.base import clone\n",
    "from sklearn.compose import make_column_transformer\n",
    "from sklearn.decomposition import  PCA\n",
    "from sklearn.decomposition import TruncatedSVD\n",
    "from sklearn.feature_extraction.text import TfidfVectorizer\n",
    "from sklearn.inspection import permutation_importance\n",
    "from sklearn.model_selection import StratifiedKFold, train_test_split\n",
    "from sklearn.pipeline import make_pipeline\n",
    "from sklearn.utils.class_weight import compute_class_weight\n",
    "\n",
    "from tqdm.auto import tqdm, trange"
   ]
  },
  {
   "cell_type": "code",
   "execution_count": 2,
   "metadata": {},
   "outputs": [],
   "source": [
    "save_directory = \"saved/\""
   ]
  },
  {
   "cell_type": "code",
   "execution_count": 3,
   "metadata": {},
   "outputs": [],
   "source": [
    "def intersection_df(df1, df2, col1=None, col2=None):\n",
    "    col1 = df1.index if col1 is None else df1[col1]\n",
    "    col2 = df2.index if col2 is None else df2[col2]\n",
    "    assert col1.name == col2.name\n",
    "    ids = set(col1)\n",
    "    ids.intersection_update(col2)\n",
    "    df1 = df1[col1.isin(ids)]\n",
    "    df2 = df2[col2.isin(ids)]\n",
    "    return df1, df2\n",
    "\n",
    "def predict_decision_threshold(classifier, X_train, X_test, y_train, y_test):\n",
    "    y_pred_prob_train = classifier.predict_proba(X_train)[:,1]\n",
    "    decision_threshold = np.quantile(y_pred_prob_train, 1 - y_train.mean())\n",
    "    y_pred_prob = classifier.predict_proba(X_test)[:,1]\n",
    "    y_pred = y_pred_prob > decision_threshold\n",
    "    return y_pred, y_pred_prob\n",
    "\n",
    "\n",
    "def evaluate(classifier, X_train, X_test, y_train, y_test):\n",
    "    y_pred, y_pred_prob = predict_decision_threshold(classifier, X_train, X_test, y_train, y_test)\n",
    "    print(metrics.confusion_matrix(y_test, y_pred))\n",
    "    \n",
    "    m = {\n",
    "        \"precision\": metrics.precision_score(y_test, y_pred),\n",
    "        \"recall\" : metrics.recall_score(y_test, y_pred),\n",
    "        \"f1\" : metrics.f1_score(y_test, y_pred),\n",
    "        \"roc_auc\" : metrics.roc_auc_score(y_test, y_pred_prob),\n",
    "        \"average_precision\": metrics.average_precision_score(y_test, y_pred_prob),\n",
    "        \"matthews\": metrics.matthews_corrcoef(y_test,y_pred),\n",
    "        \"spearman\":scipy.stats.spearmanr(y_pred_prob, y_test)[0]\n",
    "    }\n",
    "    return m\n",
    "\n",
    "def prepend_keys(d, prepend):\n",
    "    return {prepend + k:v for k,v in d.items()}\n",
    "\n",
    "def dropna_both(ds, l):\n",
    "    indxs = l.dropna().index\n",
    "    return ds[indxs],  l[indxs]"
   ]
  },
  {
   "cell_type": "markdown",
   "metadata": {
    "Collapsed": "false"
   },
   "source": [
    "# Prepro"
   ]
  },
  {
   "cell_type": "code",
   "execution_count": 4,
   "metadata": {
    "Collapsed": "false"
   },
   "outputs": [],
   "source": [
    "def get_ds(k):\n",
    "    y = l_df[k].dropna()\n",
    "    convo_ids = set(y.index)\n",
    "    indxs = [i for i,j in enumerate(conversations_tfidf.index) if j in convo_ids];\n",
    "    x = dataset_tfidf[indxs]\n",
    "    return x,y"
   ]
  },
  {
   "cell_type": "markdown",
   "metadata": {
    "Collapsed": "true"
   },
   "source": [
    "## Get Basic Features"
   ]
  },
  {
   "cell_type": "code",
   "execution_count": 19,
   "metadata": {
    "jupyter": {
     "outputs_hidden": false
    },
    "pycharm": {
     "name": "#%%\n"
    }
   },
   "outputs": [],
   "source": [
    "df2 = pickle.load(open(save_directory+\"/selected_messages.pickle\",\"rb\"))\n",
    "messages = df2.copy()\n",
    "messages = messages[['conversation_id','message','timestamp','interaction']]"
   ]
  },
  {
   "cell_type": "code",
   "execution_count": 20,
   "metadata": {
    "jupyter": {
     "outputs_hidden": false
    },
    "pycharm": {
     "name": "#%%\n"
    }
   },
   "outputs": [],
   "source": [
    "## gets conversations by conversation_id\n",
    "b = messages.conversation_id.unique()\n",
    "conversations = pd.DataFrame(b,columns=[\"conversation_id\"])\n",
    "conversations = conversations.set_index(\"conversation_id\").sort_index()\n",
    "del b"
   ]
  },
  {
   "cell_type": "code",
   "execution_count": 44,
   "metadata": {
    "jupyter": {
     "outputs_hidden": false
    },
    "pycharm": {
     "name": "#%%\n"
    }
   },
   "outputs": [],
   "source": [
    "## gets total time of conversations by conversation_id\n",
    "messages['timestamp'] = pd.to_datetime(messages.timestamp)\n",
    "b = messages.groupby('conversation_id').timestamp\n",
    "conversations['total_time_seconds'] = ((b.max()-b.min()) / np.timedelta64(1, 's')).astype('int')\n",
    "del b"
   ]
  },
  {
   "cell_type": "code",
   "execution_count": 22,
   "metadata": {},
   "outputs": [
    {
     "data": {
      "application/vnd.jupyter.widget-view+json": {
       "model_id": "",
       "version_major": 2,
       "version_minor": 0
      },
      "text/plain": [
       "message_char_len:   0%|          | 0/18390946 [00:00<?, ?it/s]"
      ]
     },
     "metadata": {},
     "output_type": "display_data"
    },
    {
     "data": {
      "application/vnd.jupyter.widget-view+json": {
       "model_id": "",
       "version_major": 2,
       "version_minor": 0
      },
      "text/plain": [
       "message_word_len:   0%|          | 0/18390946 [00:00<?, ?it/s]"
      ]
     },
     "metadata": {},
     "output_type": "display_data"
    }
   ],
   "source": [
    "## gets the length of each message in characters and words\n",
    "\n",
    "tqdm.pandas(desc=\"message_char_len\")\n",
    "messages[\"message_char_len\"] = messages.message.progress_apply(lambda x: len(x) if type(x) == str else 0)\n",
    "# messages[\"message_word_len\"] = messages.message.apply(nltk.tokenize.word_tokenize).apply(lambda x: len(x))\n",
    "\n",
    "tqdm.pandas(desc=\"message_word_len\")\n",
    "word_regex = re.compile(\"(?u)\\\\b\\\\w{2,}\\\\b\")\n",
    "messages[\"message_word_len\"] = messages.message.progress_apply(lambda x:len(word_regex.findall(x)) if type(x) == str else 0)\n",
    "# They're mostly the same, only because there's no punctuation"
   ]
  },
  {
   "cell_type": "code",
   "execution_count": 23,
   "metadata": {},
   "outputs": [],
   "source": [
    "## gets texter messages and counselor messages separately\n",
    "\n",
    "texter_messages = messages[messages.interaction == \"texter\"]\n",
    "counselor_messages = messages[messages.interaction.isin([\"counselor\",\"observer\"])]"
   ]
  },
  {
   "cell_type": "code",
   "execution_count": 24,
   "metadata": {
    "jupyter": {
     "outputs_hidden": false
    },
    "pycharm": {
     "name": "#%%\n"
    }
   },
   "outputs": [],
   "source": [
    "## gets the length of texter's side of the conversation in characters and words\n",
    "ser = texter_messages.groupby(\"conversation_id\").message_char_len.sum()\n",
    "ser.name = \"texter_message_char_len\"\n",
    "conversations = conversations.join(ser, on=\"conversation_id\")\n",
    " \n",
    "ser = texter_messages.groupby(\"conversation_id\").message_word_len.sum()\n",
    "ser.name = \"texter_message_word_len\"\n",
    "conversations = conversations.join(ser, on=\"conversation_id\")\n",
    "\n",
    "## gets the length of counselor's side of the conversation in characters and words\n",
    "\n",
    "ser = counselor_messages.groupby(\"conversation_id\").message_char_len.sum()\n",
    "ser.name = \"counselor_message_char_len\"\n",
    "conversations = conversations.join(ser, on=\"conversation_id\")\n",
    " \n",
    "ser = counselor_messages.groupby(\"conversation_id\").message_word_len.sum()\n",
    "ser.name = \"counselor_message_word_len\"\n",
    "conversations = conversations.join(ser, on=\"conversation_id\")\n",
    " \n",
    "## drops the NA messsages, groups by conversation id\n",
    "## gets the number of messages from both texters and counselors each \n",
    "ser = messages[~messages.message.isna()].groupby(\"conversation_id\").interaction.value_counts().unstack(1).fillna(0)\n",
    "ser.columns = [\"num_messages_\" + i for i in ser.columns]\n",
    "conversations = conversations.join(ser, on=\"conversation_id\")"
   ]
  },
  {
   "cell_type": "code",
   "execution_count": 25,
   "metadata": {
    "jupyter": {
     "outputs_hidden": false
    },
    "pycharm": {
     "name": "#%%\n"
    }
   },
   "outputs": [
    {
     "name": "stdout",
     "output_type": "stream",
     "text": [
      "total_time\n",
      "texter_message_char_len\n",
      "texter_message_word_len\n",
      "counselor_message_char_len\n",
      "counselor_message_word_len\n",
      "num_messages_bot\n",
      "num_messages_counselor\n",
      "num_messages_texter\n"
     ]
    }
   ],
   "source": [
    "[print(i) for i in conversations.columns];"
   ]
  },
  {
   "cell_type": "code",
   "execution_count": 26,
   "metadata": {
    "jupyter": {
     "outputs_hidden": false
    },
    "pycharm": {
     "name": "#%%\n"
    }
   },
   "outputs": [],
   "source": [
    "## replaces all NA values with 0\n",
    "conversations.texter_message_char_len.fillna(0, inplace=True)\n",
    "conversations.texter_message_word_len.fillna(0, inplace=True)\n",
    "conversations.counselor_message_char_len.fillna(0, inplace=True)\n",
    "conversations.counselor_message_word_len.fillna(0, inplace=True)\n",
    "\n",
    "## gets the average word length and number of words per message for counselors and texters\n",
    "conversations[\"texter_avg_word_len\"] = conversations.texter_message_char_len / conversations.texter_message_word_len\n",
    "conversations[\"counselor_avg_word_len\"] = conversations.counselor_message_char_len / conversations.counselor_message_word_len\n",
    "\n",
    "conversations[\"texter_avg_words_per_message\"] = conversations.texter_message_word_len / conversations.num_messages_texter\n",
    "conversations[\"counselor_avg_words_per_message\"] = conversations.counselor_message_word_len / conversations.num_messages_counselor\n",
    "\n",
    "## average time per message\n",
    "conversations[\"avg_time_per_message_seconds\"] = conversations.total_time / (conversations.num_messages_counselor + conversations.num_messages_texter)\n",
    "\n",
    "## replaces all NA values with 0 again\n",
    "conversations.texter_avg_word_len.fillna(0, inplace=True)\n",
    "conversations.counselor_avg_word_len.fillna(0, inplace=True)\n",
    "conversations.texter_avg_words_per_message.fillna(0, inplace=True)\n",
    "conversations.counselor_avg_words_per_message.fillna(0, inplace=True)"
   ]
  },
  {
   "cell_type": "code",
   "execution_count": 27,
   "metadata": {
    "jupyter": {
     "outputs_hidden": false
    },
    "pycharm": {
     "name": "#%%\n"
    }
   },
   "outputs": [
    {
     "data": {
      "text/plain": [
       "Index(['total_time', 'texter_message_char_len', 'texter_message_word_len',\n",
       "       'counselor_message_char_len', 'counselor_message_word_len',\n",
       "       'num_messages_bot', 'num_messages_counselor', 'num_messages_texter',\n",
       "       'texter_avg_word_len', 'counselor_avg_word_len',\n",
       "       'texter_avg_words_per_message', 'counselor_avg_words_per_message',\n",
       "       'avg_time_per_message'],\n",
       "      dtype='object')"
      ]
     },
     "execution_count": 27,
     "metadata": {},
     "output_type": "execute_result"
    }
   ],
   "source": [
    "conversations.columns"
   ]
  },
  {
   "cell_type": "code",
   "execution_count": 28,
   "metadata": {
    "jupyter": {
     "outputs_hidden": false
    },
    "pycharm": {
     "name": "#%%\n"
    }
   },
   "outputs": [],
   "source": [
    "## drops all conversations with texter/counselor message length of 0 \n",
    "## drops conversations with 0 bot messages also \n",
    "conversations = conversations[~((conversations['texter_message_char_len']==0) | \n",
    "                                (conversations['counselor_message_char_len']==0) | \n",
    "                                (conversations['num_messages_bot']==0))]"
   ]
  },
  {
   "cell_type": "code",
   "execution_count": 52,
   "metadata": {
    "jupyter": {
     "outputs_hidden": false
    },
    "pycharm": {
     "name": "#%%\n"
    }
   },
   "outputs": [],
   "source": [
    "## saves basic features\n",
    "conversations.to_pickle(save_directory+\"/basic_features.pickle\")"
   ]
  },
  {
   "cell_type": "markdown",
   "metadata": {
    "Collapsed": "false"
   },
   "source": [
    "# Basic"
   ]
  },
  {
   "cell_type": "code",
   "execution_count": 4,
   "metadata": {
    "Collapsed": "false"
   },
   "outputs": [],
   "source": [
    "basic_features = pd.read_pickle(\"saved/basic_features.pickle\")"
   ]
  },
  {
   "cell_type": "code",
   "execution_count": 5,
   "metadata": {
    "Collapsed": "false"
   },
   "outputs": [],
   "source": [
    "train_ids = torch.load(save_directory+\"/train_convos.torch\")\n",
    "test_ids = torch.load(save_directory+\"/test_convos.torch\")"
   ]
  },
  {
   "cell_type": "code",
   "execution_count": 6,
   "metadata": {
    "Collapsed": "false"
   },
   "outputs": [],
   "source": [
    "train_ids = list(train_ids.intersection(basic_features.index))\n",
    "test_ids = list(test_ids.intersection(basic_features.index))"
   ]
  },
  {
   "cell_type": "code",
   "execution_count": 7,
   "metadata": {
    "Collapsed": "false"
   },
   "outputs": [],
   "source": [
    "labelizer = torch.load(save_directory+\"/labelizer.torch\")\n",
    "l_df = labelizer.df"
   ]
  },
  {
   "cell_type": "code",
   "execution_count": 8,
   "metadata": {
    "Collapsed": "false"
   },
   "outputs": [],
   "source": [
    "ds_train, l_train = basic_features.loc[train_ids].values, l_df.loc[train_ids]\n",
    "ds_test, l_test = basic_features.loc[test_ids].values, l_df.loc[test_ids]\n",
    "\n",
    "l_train.index = range(len(train_ids))\n",
    "l_test.index = range(len(test_ids))"
   ]
  },
  {
   "cell_type": "code",
   "execution_count": 10,
   "metadata": {
    "Collapsed": "false",
    "scrolled": false
   },
   "outputs": [
    {
     "data": {
      "application/vnd.jupyter.widget-view+json": {
       "model_id": "230ca97b61ef482090eb02d16090a00c",
       "version_major": 2,
       "version_minor": 0
      },
      "text/plain": [
       "HBox(children=(FloatProgress(value=0.0, max=2.0), HTML(value='')))"
      ]
     },
     "metadata": {},
     "output_type": "display_data"
    },
    {
     "name": "stderr",
     "output_type": "stream",
     "text": [
      "\u001b[34m\u001b[1mwandb\u001b[0m: wandb version 0.12.0 is available!  To upgrade, please run:\n",
      "\u001b[34m\u001b[1mwandb\u001b[0m:  $ pip install wandb --upgrade\n"
     ]
    },
    {
     "data": {
      "text/html": [
       "\n",
       "                Tracking run with wandb version 0.11.0<br/>\n",
       "                Syncing run <strong style=\"color:#cdcd00\">sweet-sun-108</strong> to <a href=\"https://wandb.ai\" target=\"_blank\">Weights & Biases</a> <a href=\"https://docs.wandb.com/integrations/jupyter.html\" target=\"_blank\">(Documentation)</a>.<br/>\n",
       "                Project page: <a href=\"https://wandb.ai/kiatann/basic_baseline\" target=\"_blank\">https://wandb.ai/kiatann/basic_baseline</a><br/>\n",
       "                Run page: <a href=\"https://wandb.ai/kiatann/basic_baseline/runs/2uv67r3b\" target=\"_blank\">https://wandb.ai/kiatann/basic_baseline/runs/2uv67r3b</a><br/>\n",
       "                Run data is saved locally in <code>/data-imperial/wandb/run-20210823_035145-2uv67r3b</code><br/><br/>\n",
       "            "
      ],
      "text/plain": [
       "<IPython.core.display.HTML object>"
      ]
     },
     "metadata": {},
     "output_type": "display_data"
    },
    {
     "name": "stderr",
     "output_type": "stream",
     "text": [
      "/data-imperial/lib/python3.9/site-packages/sklearn/utils/validation.py:70: FutureWarning: Pass classes=[0. 1.], y=194953    1.0\n",
      "244509    0.0\n",
      "170252    0.0\n",
      "107913    0.0\n",
      "29879     0.0\n",
      "         ... \n",
      "312907    0.0\n",
      "64414     0.0\n",
      "6808      0.0\n",
      "13187     0.0\n",
      "30227     1.0\n",
      "Name: 19_intent_x, Length: 310440, dtype: float64 as keyword args. From version 1.0 (renaming of 0.25) passing these as positional arguments will result in an error\n",
      "  warnings.warn(f\"Pass {args_msg} as keyword args. From version \"\n"
     ]
    },
    {
     "data": {
      "application/vnd.jupyter.widget-view+json": {
       "model_id": "81e295ca4837483296c5d3a75c82a1d4",
       "version_major": 2,
       "version_minor": 0
      },
      "text/plain": [
       "HBox(children=(FloatProgress(value=0.0, max=1000.0), HTML(value='')))"
      ]
     },
     "metadata": {},
     "output_type": "display_data"
    },
    {
     "name": "stdout",
     "output_type": "stream",
     "text": [
      "\n",
      "[[24520  3635]\n",
      " [ 3578  2761]]\n",
      "[[13099  1760]\n",
      " [ 1821  1475]]\n",
      "19_intent_x\n",
      "[[13099  1760]\n",
      " [ 1821  1475]]\n",
      "precision            0.455951\n",
      "recall               0.447512\n",
      "f1                   0.451692\n",
      "roc_auc              0.756612\n",
      "average_precision    0.478040\n",
      "matthews             0.331474\n",
      "spearman             0.342657\n",
      "dtype: float64\n"
     ]
    },
    {
     "data": {
      "text/html": [
       "<br/>Waiting for W&B process to finish, PID 10118<br/>Program ended successfully."
      ],
      "text/plain": [
       "<IPython.core.display.HTML object>"
      ]
     },
     "metadata": {},
     "output_type": "display_data"
    },
    {
     "data": {
      "application/vnd.jupyter.widget-view+json": {
       "model_id": "",
       "version_major": 2,
       "version_minor": 0
      },
      "text/plain": [
       "VBox(children=(Label(value=' 0.00MB of 0.00MB uploaded (0.00MB deduped)\\r'), FloatProgress(value=1.0, max=1.0)…"
      ]
     },
     "metadata": {},
     "output_type": "display_data"
    },
    {
     "data": {
      "text/html": [
       "Find user logs for this run at: <code>/data-imperial/wandb/run-20210823_035145-2uv67r3b/logs/debug.log</code>"
      ],
      "text/plain": [
       "<IPython.core.display.HTML object>"
      ]
     },
     "metadata": {},
     "output_type": "display_data"
    },
    {
     "data": {
      "text/html": [
       "Find internal logs for this run at: <code>/data-imperial/wandb/run-20210823_035145-2uv67r3b/logs/debug-internal.log</code>"
      ],
      "text/plain": [
       "<IPython.core.display.HTML object>"
      ]
     },
     "metadata": {},
     "output_type": "display_data"
    },
    {
     "data": {
      "text/html": [
       "<h3>Run summary:</h3><br/><style>\n",
       "    table.wandb td:nth-child(1) { padding: 0 10px; text-align: right }\n",
       "    </style><table class=\"wandb\">\n",
       "<tr><td>score</td><td>0.46173</td></tr><tr><td>n_estimators</td><td>55</td></tr><tr><td>_runtime</td><td>20</td></tr><tr><td>_timestamp</td><td>1629690725</td></tr><tr><td>_step</td><td>11</td></tr><tr><td>val precision</td><td>0.43168</td></tr><tr><td>val recall</td><td>0.43556</td></tr><tr><td>val f1</td><td>0.43361</td></tr><tr><td>val roc_auc</td><td>0.74894</td></tr><tr><td>val average_precision</td><td>0.46173</td></tr><tr><td>val matthews</td><td>0.30539</td></tr><tr><td>val spearman</td><td>0.33399</td></tr><tr><td>test precision</td><td>0.45595</td></tr><tr><td>test recall</td><td>0.44751</td></tr><tr><td>test f1</td><td>0.45169</td></tr><tr><td>test roc_auc</td><td>0.75661</td></tr><tr><td>test average_precision</td><td>0.47804</td></tr><tr><td>test matthews</td><td>0.33147</td></tr><tr><td>test spearman</td><td>0.34266</td></tr></table>"
      ],
      "text/plain": [
       "<IPython.core.display.HTML object>"
      ]
     },
     "metadata": {},
     "output_type": "display_data"
    },
    {
     "data": {
      "text/html": [
       "<h3>Run history:</h3><br/><style>\n",
       "    table.wandb td:nth-child(1) { padding: 0 10px; text-align: right }\n",
       "    </style><table class=\"wandb\">\n",
       "<tr><td>score</td><td>▁▃▄▇▇██████</td></tr><tr><td>n_estimators</td><td>▁▂▂▃▄▅▅▆▇▇█</td></tr><tr><td>_runtime</td><td>▁▁▂▃▃▄▅▅▆▆▇█</td></tr><tr><td>_timestamp</td><td>▁▁▂▃▃▄▅▅▆▆▇█</td></tr><tr><td>_step</td><td>▁▂▂▃▄▄▅▅▆▇▇█</td></tr><tr><td>val precision</td><td>▁</td></tr><tr><td>val recall</td><td>▁</td></tr><tr><td>val f1</td><td>▁</td></tr><tr><td>val roc_auc</td><td>▁</td></tr><tr><td>val average_precision</td><td>▁</td></tr><tr><td>val matthews</td><td>▁</td></tr><tr><td>val spearman</td><td>▁</td></tr><tr><td>test precision</td><td>▁</td></tr><tr><td>test recall</td><td>▁</td></tr><tr><td>test f1</td><td>▁</td></tr><tr><td>test roc_auc</td><td>▁</td></tr><tr><td>test average_precision</td><td>▁</td></tr><tr><td>test matthews</td><td>▁</td></tr><tr><td>test spearman</td><td>▁</td></tr></table><br/>"
      ],
      "text/plain": [
       "<IPython.core.display.HTML object>"
      ]
     },
     "metadata": {},
     "output_type": "display_data"
    },
    {
     "data": {
      "text/html": [
       "Synced 6 W&B file(s), 0 media file(s), 0 artifact file(s) and 0 other file(s)"
      ],
      "text/plain": [
       "<IPython.core.display.HTML object>"
      ]
     },
     "metadata": {},
     "output_type": "display_data"
    },
    {
     "data": {
      "text/html": [
       "\n",
       "                    <br/>Synced <strong style=\"color:#cdcd00\">sweet-sun-108</strong>: <a href=\"https://wandb.ai/kiatann/basic_baseline/runs/2uv67r3b\" target=\"_blank\">https://wandb.ai/kiatann/basic_baseline/runs/2uv67r3b</a><br/>\n",
       "                "
      ],
      "text/plain": [
       "<IPython.core.display.HTML object>"
      ]
     },
     "metadata": {},
     "output_type": "display_data"
    },
    {
     "data": {
      "image/png": "[encoded data removed]",
      "text/plain": [
       "<Figure size 432x288 with 1 Axes>"
      ]
     },
     "metadata": {
      "needs_background": "light"
     },
     "output_type": "display_data"
    },
    {
     "data": {
      "image/png": "[encoded data removed]",
      "text/plain": [
       "<Figure size 432x288 with 1 Axes>"
      ]
     },
     "metadata": {
      "needs_background": "light"
     },
     "output_type": "display_data"
    },
    {
     "name": "stderr",
     "output_type": "stream",
     "text": [
      "\u001b[34m\u001b[1mwandb\u001b[0m: wandb version 0.12.0 is available!  To upgrade, please run:\n",
      "\u001b[34m\u001b[1mwandb\u001b[0m:  $ pip install wandb --upgrade\n"
     ]
    },
    {
     "data": {
      "text/html": [
       "\n",
       "                Tracking run with wandb version 0.11.0<br/>\n",
       "                Syncing run <strong style=\"color:#cdcd00\">sparkling-planet-109</strong> to <a href=\"https://wandb.ai\" target=\"_blank\">Weights & Biases</a> <a href=\"https://docs.wandb.com/integrations/jupyter.html\" target=\"_blank\">(Documentation)</a>.<br/>\n",
       "                Project page: <a href=\"https://wandb.ai/kiatann/basic_baseline\" target=\"_blank\">https://wandb.ai/kiatann/basic_baseline</a><br/>\n",
       "                Run page: <a href=\"https://wandb.ai/kiatann/basic_baseline/runs/2ksqztuq\" target=\"_blank\">https://wandb.ai/kiatann/basic_baseline/runs/2ksqztuq</a><br/>\n",
       "                Run data is saved locally in <code>/data-imperial/wandb/run-20210823_035211-2ksqztuq</code><br/><br/>\n",
       "            "
      ],
      "text/plain": [
       "<IPython.core.display.HTML object>"
      ]
     },
     "metadata": {},
     "output_type": "display_data"
    },
    {
     "name": "stderr",
     "output_type": "stream",
     "text": [
      "/data-imperial/lib/python3.9/site-packages/sklearn/utils/validation.py:70: FutureWarning: Pass classes=[0. 1.], y=151297    1.0\n",
      "218640    0.0\n",
      "22084     0.0\n",
      "149792    0.0\n",
      "290735    0.0\n",
      "         ... \n",
      "51312     1.0\n",
      "321644    1.0\n",
      "196104    0.0\n",
      "236101    0.0\n",
      "248713    0.0\n",
      "Name: 19_timeframe_x, Length: 310440, dtype: float64 as keyword args. From version 1.0 (renaming of 0.25) passing these as positional arguments will result in an error\n",
      "  warnings.warn(f\"Pass {args_msg} as keyword args. From version \"\n"
     ]
    },
    {
     "data": {
      "application/vnd.jupyter.widget-view+json": {
       "model_id": "4a08566267484d6ea42164ce28a95ac9",
       "version_major": 2,
       "version_minor": 0
      },
      "text/plain": [
       "HBox(children=(FloatProgress(value=0.0, max=1000.0), HTML(value='')))"
      ]
     },
     "metadata": {},
     "output_type": "display_data"
    },
    {
     "name": "stdout",
     "output_type": "stream",
     "text": [
      "\n",
      "[[30688  1351]\n",
      " [ 1320  1135]]\n",
      "[[16157   663]\n",
      " [  735   600]]\n",
      "19_timeframe_x\n",
      "[[16157   663]\n",
      " [  735   600]]\n",
      "precision            0.475059\n",
      "recall               0.449438\n",
      "f1                   0.461894\n",
      "roc_auc              0.849329\n",
      "average_precision    0.468867\n",
      "matthews             0.420647\n",
      "spearman             0.315852\n",
      "dtype: float64\n"
     ]
    },
    {
     "data": {
      "text/html": [
       "<br/>Waiting for W&B process to finish, PID 10639<br/>Program ended successfully."
      ],
      "text/plain": [
       "<IPython.core.display.HTML object>"
      ]
     },
     "metadata": {},
     "output_type": "display_data"
    },
    {
     "data": {
      "application/vnd.jupyter.widget-view+json": {
       "model_id": "",
       "version_major": 2,
       "version_minor": 0
      },
      "text/plain": [
       "VBox(children=(Label(value=' 0.00MB of 0.00MB uploaded (0.00MB deduped)\\r'), FloatProgress(value=1.0, max=1.0)…"
      ]
     },
     "metadata": {},
     "output_type": "display_data"
    },
    {
     "data": {
      "text/html": [
       "Find user logs for this run at: <code>/data-imperial/wandb/run-20210823_035211-2ksqztuq/logs/debug.log</code>"
      ],
      "text/plain": [
       "<IPython.core.display.HTML object>"
      ]
     },
     "metadata": {},
     "output_type": "display_data"
    },
    {
     "data": {
      "text/html": [
       "Find internal logs for this run at: <code>/data-imperial/wandb/run-20210823_035211-2ksqztuq/logs/debug-internal.log</code>"
      ],
      "text/plain": [
       "<IPython.core.display.HTML object>"
      ]
     },
     "metadata": {},
     "output_type": "display_data"
    },
    {
     "data": {
      "text/html": [
       "<h3>Run summary:</h3><br/><style>\n",
       "    table.wandb td:nth-child(1) { padding: 0 10px; text-align: right }\n",
       "    </style><table class=\"wandb\">\n",
       "<tr><td>score</td><td>0.46206</td></tr><tr><td>n_estimators</td><td>45</td></tr><tr><td>_runtime</td><td>17</td></tr><tr><td>_timestamp</td><td>1629690748</td></tr><tr><td>_step</td><td>9</td></tr><tr><td>val precision</td><td>0.45656</td></tr><tr><td>val recall</td><td>0.46232</td></tr><tr><td>val f1</td><td>0.45942</td></tr><tr><td>val roc_auc</td><td>0.84391</td></tr><tr><td>val average_precision</td><td>0.46206</td></tr><tr><td>val matthews</td><td>0.41773</td></tr><tr><td>val spearman</td><td>0.30631</td></tr><tr><td>test precision</td><td>0.47506</td></tr><tr><td>test recall</td><td>0.44944</td></tr><tr><td>test f1</td><td>0.46189</td></tr><tr><td>test roc_auc</td><td>0.84933</td></tr><tr><td>test average_precision</td><td>0.46887</td></tr><tr><td>test matthews</td><td>0.42065</td></tr><tr><td>test spearman</td><td>0.31585</td></tr></table>"
      ],
      "text/plain": [
       "<IPython.core.display.HTML object>"
      ]
     },
     "metadata": {},
     "output_type": "display_data"
    },
    {
     "data": {
      "text/html": [
       "<h3>Run history:</h3><br/><style>\n",
       "    table.wandb td:nth-child(1) { padding: 0 10px; text-align: right }\n",
       "    </style><table class=\"wandb\">\n",
       "<tr><td>score</td><td>▁▆▆▇██▇▇█</td></tr><tr><td>n_estimators</td><td>▁▂▃▄▅▅▆▇█</td></tr><tr><td>_runtime</td><td>▁▂▂▃▄▅▆▆▇█</td></tr><tr><td>_timestamp</td><td>▁▂▂▃▄▅▆▆▇█</td></tr><tr><td>_step</td><td>▁▂▃▃▄▅▆▆▇█</td></tr><tr><td>val precision</td><td>▁</td></tr><tr><td>val recall</td><td>▁</td></tr><tr><td>val f1</td><td>▁</td></tr><tr><td>val roc_auc</td><td>▁</td></tr><tr><td>val average_precision</td><td>▁</td></tr><tr><td>val matthews</td><td>▁</td></tr><tr><td>val spearman</td><td>▁</td></tr><tr><td>test precision</td><td>▁</td></tr><tr><td>test recall</td><td>▁</td></tr><tr><td>test f1</td><td>▁</td></tr><tr><td>test roc_auc</td><td>▁</td></tr><tr><td>test average_precision</td><td>▁</td></tr><tr><td>test matthews</td><td>▁</td></tr><tr><td>test spearman</td><td>▁</td></tr></table><br/>"
      ],
      "text/plain": [
       "<IPython.core.display.HTML object>"
      ]
     },
     "metadata": {},
     "output_type": "display_data"
    },
    {
     "data": {
      "text/html": [
       "Synced 6 W&B file(s), 0 media file(s), 0 artifact file(s) and 0 other file(s)"
      ],
      "text/plain": [
       "<IPython.core.display.HTML object>"
      ]
     },
     "metadata": {},
     "output_type": "display_data"
    },
    {
     "data": {
      "text/html": [
       "\n",
       "                    <br/>Synced <strong style=\"color:#cdcd00\">sparkling-planet-109</strong>: <a href=\"https://wandb.ai/kiatann/basic_baseline/runs/2ksqztuq\" target=\"_blank\">https://wandb.ai/kiatann/basic_baseline/runs/2ksqztuq</a><br/>\n",
       "                "
      ],
      "text/plain": [
       "<IPython.core.display.HTML object>"
      ]
     },
     "metadata": {},
     "output_type": "display_data"
    },
    {
     "data": {
      "image/png": "[encoded data removed]",
      "text/plain": [
       "<Figure size 432x288 with 1 Axes>"
      ]
     },
     "metadata": {
      "needs_background": "light"
     },
     "output_type": "display_data"
    },
    {
     "data": {
      "image/png": "[encoded data removed]",
      "text/plain": [
       "<Figure size 432x288 with 1 Axes>"
      ]
     },
     "metadata": {
      "needs_background": "light"
     },
     "output_type": "display_data"
    },
    {
     "name": "stdout",
     "output_type": "stream",
     "text": [
      "\n"
     ]
    }
   ],
   "source": [
    "config={\"min_estimators\":5,\n",
    "\"max_estimators\":5000,\n",
    "\"max_depth\":4,\n",
    "\"class_weight\":\"balanced\",\n",
    "\"step_size\":5,\n",
    "\"patience\":3}\n",
    "\n",
    "for label in tqdm([\n",
    "#     \"19_desire_x\",\n",
    "    \"19_intent_x\",\n",
    "#     \"19_capability_x\",\n",
    "    \"19_timeframe_x\",\n",
    "#     \"69>13 or younger\",\n",
    "#     \"69>14-24\",\n",
    "#     \"69>24 or younger\",\n",
    "#     \"18_substance\", \n",
    "#     \"18_depressed\", \n",
    "#     \"18_self_harm\",\n",
    "#     \"18_suicide\",\n",
    "#     \"18_substance\", \n",
    "#     \"64_Yes\",\n",
    "#     \"65>1 (slightly helpful)\",\n",
    "#     \"65>2\",\n",
    "#     \"65>3\",\n",
    "#     \"65>4\",\n",
    "#     \"241_I see a therapist or doctor in person\",\n",
    "#     \"74_Heterosexual or Straight\",\n",
    "#     \"75_White\",\n",
    "#     \"69>24 or younger\",\n",
    "#     \"73_Male\",\n",
    "#     \"33_good\"\n",
    "]):\n",
    "\n",
    "    wandb.init(project=\"basic_baseline\",reinit=True,\n",
    "               config={\n",
    "                   **config,\n",
    "                \"label\":label\n",
    "               }, tags=['basic_features'])\n",
    "    \n",
    "    min_estimators = wandb.config.min_estimators\n",
    "    max_estimators = wandb.config.max_estimators\n",
    "    max_depth = wandb.config.max_depth\n",
    "    class_weight = wandb.config.class_weight\n",
    "    step_size = wandb.config.step_size\n",
    "    patience = wandb.config.patience\n",
    "\n",
    "    X, y = dropna_both(ds_train, l_train[label].astype('float'))\n",
    "    X_test, y_test = dropna_both(ds_test, l_test[label].astype('float'))\n",
    "\n",
    "#     print(X.shape, y.shape)\n",
    "#     print(X_test.shape, y_test.shape)\n",
    "\n",
    "    X_train, X_val, y_train, y_val = train_test_split(X,y, test_size=0.1)\n",
    "\n",
    "    u = np.unique(y_train)\n",
    "    class_weight = {i:j for i,j in zip(u,compute_class_weight('balanced',u, y_train))}\n",
    "\n",
    "    classifier = RandomForestEarlyStopping(\n",
    "        min_estimators = min_estimators,\n",
    "        max_estimators = max_estimators,\n",
    "        scoring = metrics.average_precision_score,\n",
    "        step_size=step_size,\n",
    "        patience=patience,\n",
    "        max_depth = max_depth,\n",
    "        class_weight = class_weight,\n",
    "        n_jobs=2)\n",
    "\n",
    "    classifier.fit_with_cv(X_train,y_train, X_val, y_val,log_wandb=True)\n",
    "\n",
    "\n",
    "    wandb.log({\n",
    "        **prepend_keys(evaluate(classifier, X_train, X_val, y_train, y_val), \"val \"),\n",
    "        **prepend_keys(evaluate(classifier, X_train, X_test, y_train, y_test), \"test \")\n",
    "    })\n",
    "    print(label)\n",
    "    print(pd.Series(evaluate(classifier, X_train, X_test, y_train, y_test)))\n",
    "    wandb.join()\n",
    "    \n",
    "    ## getting the feature importances\n",
    "    feature_imp = pd.Series(classifier.feature_importances_, \n",
    "                            index=basic_features.columns).sort_values(ascending=False)\n",
    "#     display(feature_imp)\n",
    "\n",
    "    ##Creating a barplot\n",
    "    sns.barplot(x=feature_imp, y=feature_imp.index)\n",
    "    ##Add labels to graph\n",
    "    plt.xlabel('Feature importance using MDI')\n",
    "    plt.ylabel('Features')\n",
    "    plt.show()\n",
    "    \n",
    "    ## getting the permutation importances\n",
    "    perm_imp = pd.Series(permutation_importance(classifier, X_test, y_test, n_jobs=-1).importances_mean, \n",
    "                        index=basic_features.columns).sort_values(ascending=False)\n",
    "    \n",
    "    ## creating a barplot\n",
    "    sns.barplot(x=perm_imp, y=perm_imp.index)\n",
    "    ##Add labels to graph\n",
    "    plt.xlabel('Feature importance using permutation on model')\n",
    "    plt.ylabel('Features')\n",
    "    plt.show()\n",
    "    \n"
   ]
  },
  {
   "cell_type": "code",
   "execution_count": 19,
   "metadata": {},
   "outputs": [],
   "source": [
    "columns = [\"total time (seconds)\", \"message length in characters (texter)\", \"message length in words (texter)\", \n",
    "           \"message length in characters (counselor)\", \"message length in words (counselor)\", \"number of bot messages\", \n",
    "           \"number of counselor messages\", \"number of texter messages\", \"average word length (texter)\", \n",
    "           \"average word length (counselor)\", \"average words per message (texter)\", \"average words per message (counselor)\", \n",
    "           \"average time per message (seconds)\"]"
   ]
  },
  {
   "cell_type": "code",
   "execution_count": 39,
   "metadata": {},
   "outputs": [
    {
     "data": {
      "image/png": "[encoded data removed]",
      "text/plain": [
       "<Figure size 432x288 with 1 Axes>"
      ]
     },
     "metadata": {
      "needs_background": "light"
     },
     "output_type": "display_data"
    }
   ],
   "source": [
    "## getting the permutation importances\n",
    "perm_imp = pd.Series(permutation_importance(classifier, X_test, y_test, n_jobs=-1).importances_mean, \n",
    "                    index=columns).sort_values(ascending=False)\n",
    "\n",
    "## creating a barplot\n",
    "sns.barplot(x=perm_imp, y=perm_imp.index)\n",
    "##Add labels to graph\n",
    "plt.xlabel('Permutation Feature Importance')\n",
    "plt.ylabel('Features')\n",
    "plt.savefig(\"figs/basic_features_capability_feature_imp.pdf\", bbox_inches='tight')\n",
    "plt.show()"
   ]
  },
  {
   "cell_type": "code",
   "execution_count": 34,
   "metadata": {},
   "outputs": [
    {
     "name": "stdout",
     "output_type": "stream",
     "text": [
      "total_time_seconds: 3927.6493173849935, 3378.0\n",
      "texter_message_char_len: 1510.827554676677, 1274.0\n",
      "texter_message_word_len: 272.57549251010084, 230.0\n",
      "counselor_message_char_len: 2334.9774490551904, 2168.0\n",
      "counselor_message_word_len: 421.10793496911225, 391.0\n",
      "num_messages_bot: 7.101410398001592, 7.0\n",
      "num_messages_counselor: 21.179011206618764, 20.0\n",
      "num_messages_texter: 22.36561559287117, 20.0\n",
      "texter_avg_word_len: 5.539017008931529, 5.538251366120218\n",
      "counselor_avg_word_len: 5.53635248178143, 5.536\n",
      "texter_avg_words_per_message: 13.38120268401026, 11.644444444444444\n",
      "counselor_avg_words_per_message: 20.154795408967708, 20.22222222222222\n",
      "avg_time_per_message_seconds: 103.70706835756428, 84.62295081967213\n"
     ]
    }
   ],
   "source": [
    "for i in basic_features.columns:\n",
    "    print(f\"{i}: {basic_features[i].mean()}, {basic_features[i].median()}\")"
   ]
  },
  {
   "cell_type": "code",
   "execution_count": null,
   "metadata": {},
   "outputs": [],
   "source": []
  }
 ],
 "metadata": {
  "kernelspec": {
   "display_name": "Python 3 (ipykernel)",
   "language": "python",
   "name": "python3"
  },
  "language_info": {
   "codemirror_mode": {
    "name": "ipython",
    "version": 3
   },
   "file_extension": ".py",
   "mimetype": "text/x-python",
   "name": "python",
   "nbconvert_exporter": "python",
   "pygments_lexer": "ipython3",
   "version": "3.9.5"
  },
  "pycharm": {
   "stem_cell": {
    "cell_type": "raw",
    "metadata": {
     "collapsed": false
    },
    "source": []
   }
  }
 },
 "nbformat": 4,
 "nbformat_minor": 4
}
