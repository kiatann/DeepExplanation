{
 "cells": [
  {
   "cell_type": "code",
   "execution_count": 1,
   "id": "d85018c9",
   "metadata": {},
   "outputs": [],
   "source": [
    "import os\n",
    "import pickle\n",
    "import plotly\n",
    "import random\n",
    "import re\n",
    "import scipy\n",
    "import seaborn as sns\n",
    "import torch\n",
    "import matplotlib.pyplot as plt\n",
    "import numpy as np\n",
    "import pandas as pd\n",
    "\n",
    "from lime import lime_text\n",
    "from lime.lime_text import LimeTextExplainer\n",
    "\n",
    "# import plotly.plotly as py\n",
    "import plotly.graph_objs as go\n",
    "from plotly.offline import init_notebook_mode, iplot\n",
    "\n",
    "from sklearn.pipeline import make_pipeline\n",
    "\n",
    "from termcolor import colored\n",
    "\n",
    "from tqdm.auto import tqdm, trange"
   ]
  },
  {
   "cell_type": "code",
   "execution_count": 315,
   "id": "99264080",
   "metadata": {},
   "outputs": [],
   "source": [
    "# Create the data object\n",
    "def make_plot(pred_df, suicide_only = False):\n",
    "    \n",
    "    # Create a layout with two yaxes\n",
    "    layout = go.Layout(height=600, width=1000, font=dict(size=18),\n",
    "                       title='Prediction of Suicide Risk Assessment',\n",
    "                       xaxis=dict(title='Conversation Segment'),\n",
    "                       yaxis=dict(title='Prediction Probability'),\n",
    "                       )\n",
    "    \n",
    "    desire = go.Scatter(x=pred_df.index,\n",
    "                        y=pred_df['desire'],\n",
    "                        line=go.scatter.Line(color='green', width = 0.8),\n",
    "                        opacity=0.8,\n",
    "                        name='Desire',\n",
    "                        text=[f\"Desire: {x}\" for x in pred_df['desire_exp']])\n",
    "\n",
    "    intent = go.Scatter(x=pred_df.index,\n",
    "                        y=pred_df['intent'],\n",
    "                        line=dict(color='blue', width=0.8),\n",
    "                        opacity=0.8,\n",
    "                        name='Intent',\n",
    "                        text=[f'Intent: {x}' for x in pred_df['intent_exp']])\n",
    "\n",
    "    capability = go.Scatter(x=pred_df.index,\n",
    "                            y=pred_df['capability'],\n",
    "                            line=dict(color='purple', width=0.8),\n",
    "                            opacity=0.8,\n",
    "                            name='Capability',\n",
    "                            text=[f'Capability: {x}' for x in pred_df['capability_exp']])\n",
    "\n",
    "    timeframe = go.Scatter(x=pred_df.index,\n",
    "                            y=pred_df['timeframe'],\n",
    "                            line=dict(color='red', width=0.8),\n",
    "                            opacity=0.8,\n",
    "                            name = 'Timeframe', \n",
    "                            text=[f'Timeframe: {x}' for x in pred_df['timeframe_exp']])\n",
    "\n",
    "    if not suicide_only:\n",
    "        anxiety = go.Scatter(x=pred_df.index,\n",
    "                                y=pred_df['anxiety'],\n",
    "                                line=dict(color='orange', width=0.8),\n",
    "                                opacity=0.8,\n",
    "                                name = 'Anxiety', \n",
    "                                text=[f'Anxiety: {x}' for x in pred_df['anxiety_exp']])\n",
    "\n",
    "        substance = go.Scatter(x=pred_df.index,\n",
    "                                y=pred_df['substance'],\n",
    "                                line=dict(color='maroon', width=0.8),\n",
    "                                opacity=0.8,\n",
    "                                name = 'Substance', \n",
    "                                text=[f'Substance: {x}' for x in pred_df['substance_exp']])\n",
    "\n",
    "        depressed = go.Scatter(x=pred_df.index,\n",
    "                                y=pred_df['depressed'],\n",
    "                                line=dict(color='pink', width=0.8),\n",
    "                                opacity=0.8,\n",
    "                                name = 'Depressed', \n",
    "                                text=[f'Depressed: {x}' for x in pred_df['depressed_exp']])\n",
    "\n",
    "        self_harm = go.Scatter(x=pred_df.index,\n",
    "                                y=pred_df['self_harm'],\n",
    "                                line=dict(color='cyan', width=0.8),\n",
    "                                opacity=0.8,\n",
    "                                name = 'Self harm', \n",
    "                                text=[f'Self harm: {x}' for x in pred_df['self_harm_exp']])\n",
    "\n",
    "        helpful = go.Scatter(x=pred_df.index,\n",
    "                                y=pred_df['helpful'],\n",
    "                                line=dict(color='magenta', width=0.8),\n",
    "                                opacity=0.8,\n",
    "                                name = 'Helpful', \n",
    "                                text=[f'Helpful: {x}' for x in pred_df['helpful_exp']])\n",
    "\n",
    "        fig = go.Figure(data=[desire, intent, capability, timeframe, \n",
    "                              anxiety, depressed, self_harm, substance, \n",
    "                              helpful\n",
    "                             ], \n",
    "                        layout=layout)\n",
    "    else:\n",
    "        fig = go.Figure(data=[desire, intent, capability, timeframe], \n",
    "                        layout=layout)\n",
    "\n",
    "    ## adding a line y=0.5 for the threshold \n",
    "    fig.add_shape(type='line', \n",
    "                 x0=1, \n",
    "                 x1=5, \n",
    "                 y0=0.5, \n",
    "                 y1=0.5)\n",
    "    fig.update_xaxes(dtick=1)\n",
    "    iplot(fig)\n",
    "    return"
   ]
  },
  {
   "cell_type": "code",
   "execution_count": 271,
   "id": "44e10577",
   "metadata": {},
   "outputs": [],
   "source": [
    "import re\n",
    "\n",
    "def get_exps(sample, short=False):\n",
    "\n",
    "    new_df = pd.DataFrame()\n",
    "    \n",
    "    max_range = 8 if short else len(sample.columns)\n",
    "\n",
    "    for i in range(0, max_range, 2):\n",
    "        column = sample.columns[i+1]\n",
    "        new_df[column] = sample[column].apply(lambda x: list(set(re.findall(r'(?!br)(?!r)[a-zA-Z0-9][a-zA-Z0-9]*:', x))))\n",
    "        new_df[column] = new_df[column].apply(lambda x: re.findall(r'[a-zA-Z0-9][a-zA-Z0-9]*', \"\".join(x)))\n",
    "    \n",
    "    final_df = pd.DataFrame(columns=['exp', 'seg', 'label'])    \n",
    "    max_range /= 2\n",
    "    adj = -0.10 if short else -0.20\n",
    "\n",
    "    for col in range(int(max_range)):\n",
    "        for index in new_df.index:\n",
    "            for word in new_df.loc[index, new_df.columns[col]]:\n",
    "                final_df = final_df.append({'exp': word, \n",
    "                                            'seg': index + adj,\n",
    "                                            'label': col}, \n",
    "                                           ignore_index=True)\n",
    "        adj += 0.05\n",
    "        \n",
    "    return final_df"
   ]
  },
  {
   "cell_type": "code",
   "execution_count": 319,
   "id": "81dc0c72",
   "metadata": {
    "scrolled": false
   },
   "outputs": [],
   "source": [
    "def exp_plot(sample, save_as = None):\n",
    "    plt.rcParams[\"figure.figsize\"] = (8, 5)\n",
    "    sns.scatterplot(data=sample, x='seg', y='exp', hue=\"label\", legend='full', palette='deep')\n",
    "    plt.xticks([0, 1, 2, 3, 4, 5, 6], [0, 1, 2, 3, 4, 5, 6])\n",
    "    plt.xlabel(\"Conversation Segment\")\n",
    "    plt.ylabel(\"Explanation\")\n",
    "    new_labels = ['desire', 'intent', 'capability', 'timeframe', 'substance use', 'depression', 'self harm', 'anxiety', 'helpful']\n",
    "    for t, l in zip(plt.legend(bbox_to_anchor=(1.05, 1), loc=2, borderaxespad=0.).get_texts(), new_labels): \n",
    "        t.set_text(l)\n",
    "    if save_as != None:\n",
    "        plt.tight_layout()\n",
    "        plt.savefig(save_as)\n",
    "    plt.show()"
   ]
  },
  {
   "cell_type": "markdown",
   "id": "8b2e5da2",
   "metadata": {},
   "source": [
    "## Conversation 3 plots"
   ]
  },
  {
   "cell_type": "code",
   "execution_count": 29,
   "id": "4ae905a5",
   "metadata": {},
   "outputs": [],
   "source": [
    "text = pickle.load(open(\"saved/text_samples/sample7.pickle\", \"rb\"))\n",
    "text"
   ]
  },
  {
   "cell_type": "code",
   "execution_count": 287,
   "id": "16b4658a",
   "metadata": {},
   "outputs": [],
   "source": [
    "conv3 = pickle.load(open(\"saved/bb_exps/sample7_exp.pickle\", \"rb\"))"
   ]
  },
  {
   "cell_type": "code",
   "execution_count": 288,
   "id": "5291b5e3",
   "metadata": {},
   "outputs": [],
   "source": [
    "conv3_exps = get_exps(conv3, short=True)"
   ]
  },
  {
   "cell_type": "code",
   "execution_count": 289,
   "id": "13568a9f",
   "metadata": {},
   "outputs": [],
   "source": [
    "conv3_exps = conv3_exps.query(\"exp != ['with', 'is', 'to', 'now', 'the', 's', 'a', 'have', 'when', 'its', 'how', 'u', 'what', 'hi', 'no', 'not', 'ambulan']\")"
   ]
  },
  {
   "cell_type": "code",
   "execution_count": 325,
   "id": "ddb55a59",
   "metadata": {},
   "outputs": [
    {
     "data": {
      "image/png": "[encoded data removed]",
      "text/plain": [
       "<Figure size 576x360 with 1 Axes>"
      ]
     },
     "metadata": {
      "needs_background": "light"
     },
     "output_type": "display_data"
    }
   ],
   "source": [
    "exp_plot(conv3_exps, save_as=\"figs/convo3_exp.pdf\")"
   ]
  },
  {
   "cell_type": "code",
   "execution_count": 316,
   "id": "9c507b31",
   "metadata": {},
   "outputs": [
    {
     "data": {
      "application/vnd.plotly.v1+json": {
       "config": {
        "linkText": "Export to plot.ly",
        "plotlyServerURL": "https://plot.ly",
        "showLink": false
       },
       "data": [
        {
         "line": {
          "color": "green",
          "width": 0.8
         },
         "name": "Desire",
         "opacity": 0.8,
         "text": [
          "Desire: 0.1051 <br>paracetamol: 0.0955<br>advice: -0.0370<br>text: -0.0339<br>with: 0.0322<br>MIX: -0.0316<br>time: 0.0255",
          "Desire: 0.0910 <br>paracetamol: 0.0385<br>advice: -0.0305<br>ambulance: 0.0263<br>is: -0.0180<br>taking: 0.0153<br>counselor: -0.0151",
          "Desire: 0.4227 <br>ambulance: 0.1643<br>you: 0.1333<br>paracetamol: 0.1178<br>to: 0.0672<br>counselor: -0.0651<br>advice: -0.0621",
          "Desire: 0.6803 <br>ambulance: 0.1924<br>paracetamol: 0.1820<br>you: 0.1599<br>to: 0.1391<br>counselor: -0.0839<br>advice: -0.0815",
          "Desire: 0.8984 <br>paracetamol: 0.3194<br>you: 0.2097<br>ambulance: 0.1913<br>to: 0.1402<br>now: 0.0874<br>dose: -0.0817"
         ],
         "type": "scatter",
         "x": [
          1,
          2,
          3,
          4,
          5
         ],
         "y": [
          0.10506443679332733,
          0.0910351574420929,
          0.42274489998817444,
          0.6802924871444702,
          0.8984275460243225
         ]
        },
        {
         "line": {
          "color": "blue",
          "width": 0.8
         },
         "name": "Intent",
         "opacity": 0.8,
         "text": [
          "Intent: 0.0473 <br>paracetamol: 0.0400<br>over: -0.0219<br>advice: -0.0203<br>with: 0.0181<br>is: -0.0180<br>time: 0.0169",
          "Intent: 0.0670 <br>advice: -0.0337<br>ambulance: 0.0289<br>paracetamol: 0.0262<br>call: 0.0208<br>thnks: -0.0142<br>dose: -0.0139",
          "Intent: 0.4345 <br>ambulance: 0.1863<br>you: 0.1240<br>paracetamol: 0.1149<br>to: 0.0951<br>advice: -0.0859<br>dose: -0.0839",
          "Intent: 0.7212 <br>ambulance: 0.1790<br>paracetamol: 0.1715<br>you: 0.1424<br>to: 0.1208<br>dose: -0.0913<br>time: 0.0749",
          "Intent: 0.9216 <br>paracetamol: 0.2756<br>ambulance: 0.2066<br>you: 0.1863<br>to: 0.1769<br>heading: 0.0819<br>the: 0.0805"
         ],
         "type": "scatter",
         "x": [
          1,
          2,
          3,
          4,
          5
         ],
         "y": [
          0.047322120517492294,
          0.06699516624212265,
          0.4345121383666992,
          0.7211635112762451,
          0.9216429591178894
         ]
        },
        {
         "line": {
          "color": "purple",
          "width": 0.8
         },
         "name": "Capability",
         "opacity": 0.8,
         "text": [
          "Capability: 0.0423 <br>paracetamol: 0.0204<br>with: 0.0184<br>a: -0.0155<br>advice: -0.0120<br>s: 0.0108<br>12: 0.0101",
          "Capability: 0.0666 <br>ambulance: 0.0253<br>paracetamol: 0.0248<br>advice: -0.0228<br>call: 0.0199<br>is: -0.0175<br>thnks: -0.0141",
          "Capability: 0.4205 <br>ambulance: 0.1650<br>paracetamol: 0.0989<br>you: 0.0937<br>to: 0.0908<br>counselor: -0.0844<br>have: 0.0526",
          "Capability: 0.7030 <br>ambulance: 0.1846<br>paracetamol: 0.1682<br>to: 0.1333<br>you: 0.1314<br>counselor: -0.0768<br>now: 0.0705",
          "Capability: 0.9028 <br>paracetamol: 0.2845<br>ambulance: 0.2227<br>you: 0.1733<br>to: 0.1521<br>when: 0.0861<br>time: 0.0777"
         ],
         "type": "scatter",
         "x": [
          1,
          2,
          3,
          4,
          5
         ],
         "y": [
          0.04225439950823784,
          0.06657159328460693,
          0.4205073118209839,
          0.7030042409896851,
          0.9028048515319824
         ]
        },
        {
         "line": {
          "color": "red",
          "width": 0.8
         },
         "name": "Timeframe",
         "opacity": 0.8,
         "text": [
          "Timeframe: 0.0538 <br>paracetamol: 0.0185<br>with: 0.0165<br>s: 0.0138<br>over: -0.0106<br>12: 0.0095<br>counselor: 0.0085",
          "Timeframe: 0.0846 <br>paracetamol: 0.0182<br>ambulance: 0.0171<br>s: 0.0159<br>advice: -0.0152<br>taking: 0.0134<br>paracetomol: 0.0115",
          "Timeframe: 0.3308 <br>ambulance: 0.1188<br>paracetamol: 0.0869<br>you: 0.0817<br>to: 0.0636<br>advice: -0.0631<br>now: 0.0448",
          "Timeframe: 0.5564 <br>ambulance: 0.1376<br>paracetamol: 0.1325<br>you: 0.1159<br>to: 0.0999<br>12: 0.0535<br>its: -0.0455",
          "Timeframe: 0.7554 <br>paracetamol: 0.2248<br>you: 0.1562<br>ambulance: 0.1525<br>to: 0.1338<br>time: 0.0916<br>12: 0.0807"
         ],
         "type": "scatter",
         "x": [
          1,
          2,
          3,
          4,
          5
         ],
         "y": [
          0.053827956318855286,
          0.08455479890108109,
          0.3307650685310364,
          0.5563989877700806,
          0.7554421424865723
         ]
        }
       ],
       "layout": {
        "font": {
         "size": 18
        },
        "height": 600,
        "shapes": [
         {
          "type": "line",
          "x0": 1,
          "x1": 5,
          "y0": 0.5,
          "y1": 0.5
         }
        ],
        "template": {
         "data": {
          "bar": [
           {
            "error_x": {
             "color": "#2a3f5f"
            },
            "error_y": {
             "color": "#2a3f5f"
            },
            "marker": {
             "line": {
              "color": "#E5ECF6",
              "width": 0.5
             },
             "pattern": {
              "fillmode": "overlay",
              "size": 10,
              "solidity": 0.2
             }
            },
            "type": "bar"
           }
          ],
          "barpolar": [
           {
            "marker": {
             "line": {
              "color": "#E5ECF6",
              "width": 0.5
             },
             "pattern": {
              "fillmode": "overlay",
              "size": 10,
              "solidity": 0.2
             }
            },
            "type": "barpolar"
           }
          ],
          "carpet": [
           {
            "aaxis": {
             "endlinecolor": "#2a3f5f",
             "gridcolor": "white",
             "linecolor": "white",
             "minorgridcolor": "white",
             "startlinecolor": "#2a3f5f"
            },
            "baxis": {
             "endlinecolor": "#2a3f5f",
             "gridcolor": "white",
             "linecolor": "white",
             "minorgridcolor": "white",
             "startlinecolor": "#2a3f5f"
            },
            "type": "carpet"
           }
          ],
          "choropleth": [
           {
            "colorbar": {
             "outlinewidth": 0,
             "ticks": ""
            },
            "type": "choropleth"
           }
          ],
          "contour": [
           {
            "colorbar": {
             "outlinewidth": 0,
             "ticks": ""
            },
            "colorscale": [
             [
              0,
              "#0d0887"
             ],
             [
              0.1111111111111111,
              "#46039f"
             ],
             [
              0.2222222222222222,
              "#7201a8"
             ],
             [
              0.3333333333333333,
              "#9c179e"
             ],
             [
              0.4444444444444444,
              "#bd3786"
             ],
             [
              0.5555555555555556,
              "#d8576b"
             ],
             [
              0.6666666666666666,
              "#ed7953"
             ],
             [
              0.7777777777777778,
              "#fb9f3a"
             ],
             [
              0.8888888888888888,
              "#fdca26"
             ],
             [
              1,
              "#f0f921"
             ]
            ],
            "type": "contour"
           }
          ],
          "contourcarpet": [
           {
            "colorbar": {
             "outlinewidth": 0,
             "ticks": ""
            },
            "type": "contourcarpet"
           }
          ],
          "heatmap": [
           {
            "colorbar": {
             "outlinewidth": 0,
             "ticks": ""
            },
            "colorscale": [
             [
              0,
              "#0d0887"
             ],
             [
              0.1111111111111111,
              "#46039f"
             ],
             [
              0.2222222222222222,
              "#7201a8"
             ],
             [
              0.3333333333333333,
              "#9c179e"
             ],
             [
              0.4444444444444444,
              "#bd3786"
             ],
             [
              0.5555555555555556,
              "#d8576b"
             ],
             [
              0.6666666666666666,
              "#ed7953"
             ],
             [
              0.7777777777777778,
              "#fb9f3a"
             ],
             [
              0.8888888888888888,
              "#fdca26"
             ],
             [
              1,
              "#f0f921"
             ]
            ],
            "type": "heatmap"
           }
          ],
          "heatmapgl": [
           {
            "colorbar": {
             "outlinewidth": 0,
             "ticks": ""
            },
            "colorscale": [
             [
              0,
              "#0d0887"
             ],
             [
              0.1111111111111111,
              "#46039f"
             ],
             [
              0.2222222222222222,
              "#7201a8"
             ],
             [
              0.3333333333333333,
              "#9c179e"
             ],
             [
              0.4444444444444444,
              "#bd3786"
             ],
             [
              0.5555555555555556,
              "#d8576b"
             ],
             [
              0.6666666666666666,
              "#ed7953"
             ],
             [
              0.7777777777777778,
              "#fb9f3a"
             ],
             [
              0.8888888888888888,
              "#fdca26"
             ],
             [
              1,
              "#f0f921"
             ]
            ],
            "type": "heatmapgl"
           }
          ],
          "histogram": [
           {
            "marker": {
             "pattern": {
              "fillmode": "overlay",
              "size": 10,
              "solidity": 0.2
             }
            },
            "type": "histogram"
           }
          ],
          "histogram2d": [
           {
            "colorbar": {
             "outlinewidth": 0,
             "ticks": ""
            },
            "colorscale": [
             [
              0,
              "#0d0887"
             ],
             [
              0.1111111111111111,
              "#46039f"
             ],
             [
              0.2222222222222222,
              "#7201a8"
             ],
             [
              0.3333333333333333,
              "#9c179e"
             ],
             [
              0.4444444444444444,
              "#bd3786"
             ],
             [
              0.5555555555555556,
              "#d8576b"
             ],
             [
              0.6666666666666666,
              "#ed7953"
             ],
             [
              0.7777777777777778,
              "#fb9f3a"
             ],
             [
              0.8888888888888888,
              "#fdca26"
             ],
             [
              1,
              "#f0f921"
             ]
            ],
            "type": "histogram2d"
           }
          ],
          "histogram2dcontour": [
           {
            "colorbar": {
             "outlinewidth": 0,
             "ticks": ""
            },
            "colorscale": [
             [
              0,
              "#0d0887"
             ],
             [
              0.1111111111111111,
              "#46039f"
             ],
             [
              0.2222222222222222,
              "#7201a8"
             ],
             [
              0.3333333333333333,
              "#9c179e"
             ],
             [
              0.4444444444444444,
              "#bd3786"
             ],
             [
              0.5555555555555556,
              "#d8576b"
             ],
             [
              0.6666666666666666,
              "#ed7953"
             ],
             [
              0.7777777777777778,
              "#fb9f3a"
             ],
             [
              0.8888888888888888,
              "#fdca26"
             ],
             [
              1,
              "#f0f921"
             ]
            ],
            "type": "histogram2dcontour"
           }
          ],
          "mesh3d": [
           {
            "colorbar": {
             "outlinewidth": 0,
             "ticks": ""
            },
            "type": "mesh3d"
           }
          ],
          "parcoords": [
           {
            "line": {
             "colorbar": {
              "outlinewidth": 0,
              "ticks": ""
             }
            },
            "type": "parcoords"
           }
          ],
          "pie": [
           {
            "automargin": true,
            "type": "pie"
           }
          ],
          "scatter": [
           {
            "marker": {
             "colorbar": {
              "outlinewidth": 0,
              "ticks": ""
             }
            },
            "type": "scatter"
           }
          ],
          "scatter3d": [
           {
            "line": {
             "colorbar": {
              "outlinewidth": 0,
              "ticks": ""
             }
            },
            "marker": {
             "colorbar": {
              "outlinewidth": 0,
              "ticks": ""
             }
            },
            "type": "scatter3d"
           }
          ],
          "scattercarpet": [
           {
            "marker": {
             "colorbar": {
              "outlinewidth": 0,
              "ticks": ""
             }
            },
            "type": "scattercarpet"
           }
          ],
          "scattergeo": [
           {
            "marker": {
             "colorbar": {
              "outlinewidth": 0,
              "ticks": ""
             }
            },
            "type": "scattergeo"
           }
          ],
          "scattergl": [
           {
            "marker": {
             "colorbar": {
              "outlinewidth": 0,
              "ticks": ""
             }
            },
            "type": "scattergl"
           }
          ],
          "scattermapbox": [
           {
            "marker": {
             "colorbar": {
              "outlinewidth": 0,
              "ticks": ""
             }
            },
            "type": "scattermapbox"
           }
          ],
          "scatterpolar": [
           {
            "marker": {
             "colorbar": {
              "outlinewidth": 0,
              "ticks": ""
             }
            },
            "type": "scatterpolar"
           }
          ],
          "scatterpolargl": [
           {
            "marker": {
             "colorbar": {
              "outlinewidth": 0,
              "ticks": ""
             }
            },
            "type": "scatterpolargl"
           }
          ],
          "scatterternary": [
           {
            "marker": {
             "colorbar": {
              "outlinewidth": 0,
              "ticks": ""
             }
            },
            "type": "scatterternary"
           }
          ],
          "surface": [
           {
            "colorbar": {
             "outlinewidth": 0,
             "ticks": ""
            },
            "colorscale": [
             [
              0,
              "#0d0887"
             ],
             [
              0.1111111111111111,
              "#46039f"
             ],
             [
              0.2222222222222222,
              "#7201a8"
             ],
             [
              0.3333333333333333,
              "#9c179e"
             ],
             [
              0.4444444444444444,
              "#bd3786"
             ],
             [
              0.5555555555555556,
              "#d8576b"
             ],
             [
              0.6666666666666666,
              "#ed7953"
             ],
             [
              0.7777777777777778,
              "#fb9f3a"
             ],
             [
              0.8888888888888888,
              "#fdca26"
             ],
             [
              1,
              "#f0f921"
             ]
            ],
            "type": "surface"
           }
          ],
          "table": [
           {
            "cells": {
             "fill": {
              "color": "#EBF0F8"
             },
             "line": {
              "color": "white"
             }
            },
            "header": {
             "fill": {
              "color": "#C8D4E3"
             },
             "line": {
              "color": "white"
             }
            },
            "type": "table"
           }
          ]
         },
         "layout": {
          "annotationdefaults": {
           "arrowcolor": "#2a3f5f",
           "arrowhead": 0,
           "arrowwidth": 1
          },
          "autotypenumbers": "strict",
          "coloraxis": {
           "colorbar": {
            "outlinewidth": 0,
            "ticks": ""
           }
          },
          "colorscale": {
           "diverging": [
            [
             0,
             "#8e0152"
            ],
            [
             0.1,
             "#c51b7d"
            ],
            [
             0.2,
             "#de77ae"
            ],
            [
             0.3,
             "#f1b6da"
            ],
            [
             0.4,
             "#fde0ef"
            ],
            [
             0.5,
             "#f7f7f7"
            ],
            [
             0.6,
             "#e6f5d0"
            ],
            [
             0.7,
             "#b8e186"
            ],
            [
             0.8,
             "#7fbc41"
            ],
            [
             0.9,
             "#4d9221"
            ],
            [
             1,
             "#276419"
            ]
           ],
           "sequential": [
            [
             0,
             "#0d0887"
            ],
            [
             0.1111111111111111,
             "#46039f"
            ],
            [
             0.2222222222222222,
             "#7201a8"
            ],
            [
             0.3333333333333333,
             "#9c179e"
            ],
            [
             0.4444444444444444,
             "#bd3786"
            ],
            [
             0.5555555555555556,
             "#d8576b"
            ],
            [
             0.6666666666666666,
             "#ed7953"
            ],
            [
             0.7777777777777778,
             "#fb9f3a"
            ],
            [
             0.8888888888888888,
             "#fdca26"
            ],
            [
             1,
             "#f0f921"
            ]
           ],
           "sequentialminus": [
            [
             0,
             "#0d0887"
            ],
            [
             0.1111111111111111,
             "#46039f"
            ],
            [
             0.2222222222222222,
             "#7201a8"
            ],
            [
             0.3333333333333333,
             "#9c179e"
            ],
            [
             0.4444444444444444,
             "#bd3786"
            ],
            [
             0.5555555555555556,
             "#d8576b"
            ],
            [
             0.6666666666666666,
             "#ed7953"
            ],
            [
             0.7777777777777778,
             "#fb9f3a"
            ],
            [
             0.8888888888888888,
             "#fdca26"
            ],
            [
             1,
             "#f0f921"
            ]
           ]
          },
          "colorway": [
           "#636efa",
           "#EF553B",
           "#00cc96",
           "#ab63fa",
           "#FFA15A",
           "#19d3f3",
           "#FF6692",
           "#B6E880",
           "#FF97FF",
           "#FECB52"
          ],
          "font": {
           "color": "#2a3f5f"
          },
          "geo": {
           "bgcolor": "white",
           "lakecolor": "white",
           "landcolor": "#E5ECF6",
           "showlakes": true,
           "showland": true,
           "subunitcolor": "white"
          },
          "hoverlabel": {
           "align": "left"
          },
          "hovermode": "closest",
          "mapbox": {
           "style": "light"
          },
          "paper_bgcolor": "white",
          "plot_bgcolor": "#E5ECF6",
          "polar": {
           "angularaxis": {
            "gridcolor": "white",
            "linecolor": "white",
            "ticks": ""
           },
           "bgcolor": "#E5ECF6",
           "radialaxis": {
            "gridcolor": "white",
            "linecolor": "white",
            "ticks": ""
           }
          },
          "scene": {
           "xaxis": {
            "backgroundcolor": "#E5ECF6",
            "gridcolor": "white",
            "gridwidth": 2,
            "linecolor": "white",
            "showbackground": true,
            "ticks": "",
            "zerolinecolor": "white"
           },
           "yaxis": {
            "backgroundcolor": "#E5ECF6",
            "gridcolor": "white",
            "gridwidth": 2,
            "linecolor": "white",
            "showbackground": true,
            "ticks": "",
            "zerolinecolor": "white"
           },
           "zaxis": {
            "backgroundcolor": "#E5ECF6",
            "gridcolor": "white",
            "gridwidth": 2,
            "linecolor": "white",
            "showbackground": true,
            "ticks": "",
            "zerolinecolor": "white"
           }
          },
          "shapedefaults": {
           "line": {
            "color": "#2a3f5f"
           }
          },
          "ternary": {
           "aaxis": {
            "gridcolor": "white",
            "linecolor": "white",
            "ticks": ""
           },
           "baxis": {
            "gridcolor": "white",
            "linecolor": "white",
            "ticks": ""
           },
           "bgcolor": "#E5ECF6",
           "caxis": {
            "gridcolor": "white",
            "linecolor": "white",
            "ticks": ""
           }
          },
          "title": {
           "x": 0.05
          },
          "xaxis": {
           "automargin": true,
           "gridcolor": "white",
           "linecolor": "white",
           "ticks": "",
           "title": {
            "standoff": 15
           },
           "zerolinecolor": "white",
           "zerolinewidth": 2
          },
          "yaxis": {
           "automargin": true,
           "gridcolor": "white",
           "linecolor": "white",
           "ticks": "",
           "title": {
            "standoff": 15
           },
           "zerolinecolor": "white",
           "zerolinewidth": 2
          }
         }
        },
        "title": {
         "text": "Prediction of Suicide Risk Assessment"
        },
        "width": 1000,
        "xaxis": {
         "dtick": 1,
         "title": {
          "text": "Conversation Segment"
         }
        },
        "yaxis": {
         "title": {
          "text": "Prediction Probability"
         }
        }
       }
      },
      "text/html": [
       "<div>                            <div id=\"8bd500d7-b052-489e-b591-58cabbce30f0\" class=\"plotly-graph-div\" style=\"height:600px; width:1000px;\"></div>            <script type=\"text/javascript\">                require([\"plotly\"], function(Plotly) {                    window.PLOTLYENV=window.PLOTLYENV || {};                                    if (document.getElementById(\"8bd500d7-b052-489e-b591-58cabbce30f0\")) {                    Plotly.newPlot(                        \"8bd500d7-b052-489e-b591-58cabbce30f0\",                        [{\"line\":{\"color\":\"green\",\"width\":0.8},\"name\":\"Desire\",\"opacity\":0.8,\"text\":[\"Desire: 0.1051 <br>paracetamol: 0.0955<br>advice: -0.0370<br>text: -0.0339<br>with: 0.0322<br>MIX: -0.0316<br>time: 0.0255\",\"Desire: 0.0910 <br>paracetamol: 0.0385<br>advice: -0.0305<br>ambulance: 0.0263<br>is: -0.0180<br>taking: 0.0153<br>counselor: -0.0151\",\"Desire: 0.4227 <br>ambulance: 0.1643<br>you: 0.1333<br>paracetamol: 0.1178<br>to: 0.0672<br>counselor: -0.0651<br>advice: -0.0621\",\"Desire: 0.6803 <br>ambulance: 0.1924<br>paracetamol: 0.1820<br>you: 0.1599<br>to: 0.1391<br>counselor: -0.0839<br>advice: -0.0815\",\"Desire: 0.8984 <br>paracetamol: 0.3194<br>you: 0.2097<br>ambulance: 0.1913<br>to: 0.1402<br>now: 0.0874<br>dose: -0.0817\"],\"type\":\"scatter\",\"x\":[1,2,3,4,5],\"y\":[0.10506443679332733,0.0910351574420929,0.42274489998817444,0.6802924871444702,0.8984275460243225]},{\"line\":{\"color\":\"blue\",\"width\":0.8},\"name\":\"Intent\",\"opacity\":0.8,\"text\":[\"Intent: 0.0473 <br>paracetamol: 0.0400<br>over: -0.0219<br>advice: -0.0203<br>with: 0.0181<br>is: -0.0180<br>time: 0.0169\",\"Intent: 0.0670 <br>advice: -0.0337<br>ambulance: 0.0289<br>paracetamol: 0.0262<br>call: 0.0208<br>thnks: -0.0142<br>dose: -0.0139\",\"Intent: 0.4345 <br>ambulance: 0.1863<br>you: 0.1240<br>paracetamol: 0.1149<br>to: 0.0951<br>advice: -0.0859<br>dose: -0.0839\",\"Intent: 0.7212 <br>ambulance: 0.1790<br>paracetamol: 0.1715<br>you: 0.1424<br>to: 0.1208<br>dose: -0.0913<br>time: 0.0749\",\"Intent: 0.9216 <br>paracetamol: 0.2756<br>ambulance: 0.2066<br>you: 0.1863<br>to: 0.1769<br>heading: 0.0819<br>the: 0.0805\"],\"type\":\"scatter\",\"x\":[1,2,3,4,5],\"y\":[0.047322120517492294,0.06699516624212265,0.4345121383666992,0.7211635112762451,0.9216429591178894]},{\"line\":{\"color\":\"purple\",\"width\":0.8},\"name\":\"Capability\",\"opacity\":0.8,\"text\":[\"Capability: 0.0423 <br>paracetamol: 0.0204<br>with: 0.0184<br>a: -0.0155<br>advice: -0.0120<br>s: 0.0108<br>12: 0.0101\",\"Capability: 0.0666 <br>ambulance: 0.0253<br>paracetamol: 0.0248<br>advice: -0.0228<br>call: 0.0199<br>is: -0.0175<br>thnks: -0.0141\",\"Capability: 0.4205 <br>ambulance: 0.1650<br>paracetamol: 0.0989<br>you: 0.0937<br>to: 0.0908<br>counselor: -0.0844<br>have: 0.0526\",\"Capability: 0.7030 <br>ambulance: 0.1846<br>paracetamol: 0.1682<br>to: 0.1333<br>you: 0.1314<br>counselor: -0.0768<br>now: 0.0705\",\"Capability: 0.9028 <br>paracetamol: 0.2845<br>ambulance: 0.2227<br>you: 0.1733<br>to: 0.1521<br>when: 0.0861<br>time: 0.0777\"],\"type\":\"scatter\",\"x\":[1,2,3,4,5],\"y\":[0.04225439950823784,0.06657159328460693,0.4205073118209839,0.7030042409896851,0.9028048515319824]},{\"line\":{\"color\":\"red\",\"width\":0.8},\"name\":\"Timeframe\",\"opacity\":0.8,\"text\":[\"Timeframe: 0.0538 <br>paracetamol: 0.0185<br>with: 0.0165<br>s: 0.0138<br>over: -0.0106<br>12: 0.0095<br>counselor: 0.0085\",\"Timeframe: 0.0846 <br>paracetamol: 0.0182<br>ambulance: 0.0171<br>s: 0.0159<br>advice: -0.0152<br>taking: 0.0134<br>paracetomol: 0.0115\",\"Timeframe: 0.3308 <br>ambulance: 0.1188<br>paracetamol: 0.0869<br>you: 0.0817<br>to: 0.0636<br>advice: -0.0631<br>now: 0.0448\",\"Timeframe: 0.5564 <br>ambulance: 0.1376<br>paracetamol: 0.1325<br>you: 0.1159<br>to: 0.0999<br>12: 0.0535<br>its: -0.0455\",\"Timeframe: 0.7554 <br>paracetamol: 0.2248<br>you: 0.1562<br>ambulance: 0.1525<br>to: 0.1338<br>time: 0.0916<br>12: 0.0807\"],\"type\":\"scatter\",\"x\":[1,2,3,4,5],\"y\":[0.053827956318855286,0.08455479890108109,0.3307650685310364,0.5563989877700806,0.7554421424865723]}],                        {\"font\":{\"size\":18},\"height\":600,\"shapes\":[{\"type\":\"line\",\"x0\":1,\"x1\":5,\"y0\":0.5,\"y1\":0.5}],\"template\":{\"data\":{\"bar\":[{\"error_x\":{\"color\":\"#2a3f5f\"},\"error_y\":{\"color\":\"#2a3f5f\"},\"marker\":{\"line\":{\"color\":\"#E5ECF6\",\"width\":0.5},\"pattern\":{\"fillmode\":\"overlay\",\"size\":10,\"solidity\":0.2}},\"type\":\"bar\"}],\"barpolar\":[{\"marker\":{\"line\":{\"color\":\"#E5ECF6\",\"width\":0.5},\"pattern\":{\"fillmode\":\"overlay\",\"size\":10,\"solidity\":0.2}},\"type\":\"barpolar\"}],\"carpet\":[{\"aaxis\":{\"endlinecolor\":\"#2a3f5f\",\"gridcolor\":\"white\",\"linecolor\":\"white\",\"minorgridcolor\":\"white\",\"startlinecolor\":\"#2a3f5f\"},\"baxis\":{\"endlinecolor\":\"#2a3f5f\",\"gridcolor\":\"white\",\"linecolor\":\"white\",\"minorgridcolor\":\"white\",\"startlinecolor\":\"#2a3f5f\"},\"type\":\"carpet\"}],\"choropleth\":[{\"colorbar\":{\"outlinewidth\":0,\"ticks\":\"\"},\"type\":\"choropleth\"}],\"contour\":[{\"colorbar\":{\"outlinewidth\":0,\"ticks\":\"\"},\"colorscale\":[[0.0,\"#0d0887\"],[0.1111111111111111,\"#46039f\"],[0.2222222222222222,\"#7201a8\"],[0.3333333333333333,\"#9c179e\"],[0.4444444444444444,\"#bd3786\"],[0.5555555555555556,\"#d8576b\"],[0.6666666666666666,\"#ed7953\"],[0.7777777777777778,\"#fb9f3a\"],[0.8888888888888888,\"#fdca26\"],[1.0,\"#f0f921\"]],\"type\":\"contour\"}],\"contourcarpet\":[{\"colorbar\":{\"outlinewidth\":0,\"ticks\":\"\"},\"type\":\"contourcarpet\"}],\"heatmap\":[{\"colorbar\":{\"outlinewidth\":0,\"ticks\":\"\"},\"colorscale\":[[0.0,\"#0d0887\"],[0.1111111111111111,\"#46039f\"],[0.2222222222222222,\"#7201a8\"],[0.3333333333333333,\"#9c179e\"],[0.4444444444444444,\"#bd3786\"],[0.5555555555555556,\"#d8576b\"],[0.6666666666666666,\"#ed7953\"],[0.7777777777777778,\"#fb9f3a\"],[0.8888888888888888,\"#fdca26\"],[1.0,\"#f0f921\"]],\"type\":\"heatmap\"}],\"heatmapgl\":[{\"colorbar\":{\"outlinewidth\":0,\"ticks\":\"\"},\"colorscale\":[[0.0,\"#0d0887\"],[0.1111111111111111,\"#46039f\"],[0.2222222222222222,\"#7201a8\"],[0.3333333333333333,\"#9c179e\"],[0.4444444444444444,\"#bd3786\"],[0.5555555555555556,\"#d8576b\"],[0.6666666666666666,\"#ed7953\"],[0.7777777777777778,\"#fb9f3a\"],[0.8888888888888888,\"#fdca26\"],[1.0,\"#f0f921\"]],\"type\":\"heatmapgl\"}],\"histogram\":[{\"marker\":{\"pattern\":{\"fillmode\":\"overlay\",\"size\":10,\"solidity\":0.2}},\"type\":\"histogram\"}],\"histogram2d\":[{\"colorbar\":{\"outlinewidth\":0,\"ticks\":\"\"},\"colorscale\":[[0.0,\"#0d0887\"],[0.1111111111111111,\"#46039f\"],[0.2222222222222222,\"#7201a8\"],[0.3333333333333333,\"#9c179e\"],[0.4444444444444444,\"#bd3786\"],[0.5555555555555556,\"#d8576b\"],[0.6666666666666666,\"#ed7953\"],[0.7777777777777778,\"#fb9f3a\"],[0.8888888888888888,\"#fdca26\"],[1.0,\"#f0f921\"]],\"type\":\"histogram2d\"}],\"histogram2dcontour\":[{\"colorbar\":{\"outlinewidth\":0,\"ticks\":\"\"},\"colorscale\":[[0.0,\"#0d0887\"],[0.1111111111111111,\"#46039f\"],[0.2222222222222222,\"#7201a8\"],[0.3333333333333333,\"#9c179e\"],[0.4444444444444444,\"#bd3786\"],[0.5555555555555556,\"#d8576b\"],[0.6666666666666666,\"#ed7953\"],[0.7777777777777778,\"#fb9f3a\"],[0.8888888888888888,\"#fdca26\"],[1.0,\"#f0f921\"]],\"type\":\"histogram2dcontour\"}],\"mesh3d\":[{\"colorbar\":{\"outlinewidth\":0,\"ticks\":\"\"},\"type\":\"mesh3d\"}],\"parcoords\":[{\"line\":{\"colorbar\":{\"outlinewidth\":0,\"ticks\":\"\"}},\"type\":\"parcoords\"}],\"pie\":[{\"automargin\":true,\"type\":\"pie\"}],\"scatter\":[{\"marker\":{\"colorbar\":{\"outlinewidth\":0,\"ticks\":\"\"}},\"type\":\"scatter\"}],\"scatter3d\":[{\"line\":{\"colorbar\":{\"outlinewidth\":0,\"ticks\":\"\"}},\"marker\":{\"colorbar\":{\"outlinewidth\":0,\"ticks\":\"\"}},\"type\":\"scatter3d\"}],\"scattercarpet\":[{\"marker\":{\"colorbar\":{\"outlinewidth\":0,\"ticks\":\"\"}},\"type\":\"scattercarpet\"}],\"scattergeo\":[{\"marker\":{\"colorbar\":{\"outlinewidth\":0,\"ticks\":\"\"}},\"type\":\"scattergeo\"}],\"scattergl\":[{\"marker\":{\"colorbar\":{\"outlinewidth\":0,\"ticks\":\"\"}},\"type\":\"scattergl\"}],\"scattermapbox\":[{\"marker\":{\"colorbar\":{\"outlinewidth\":0,\"ticks\":\"\"}},\"type\":\"scattermapbox\"}],\"scatterpolar\":[{\"marker\":{\"colorbar\":{\"outlinewidth\":0,\"ticks\":\"\"}},\"type\":\"scatterpolar\"}],\"scatterpolargl\":[{\"marker\":{\"colorbar\":{\"outlinewidth\":0,\"ticks\":\"\"}},\"type\":\"scatterpolargl\"}],\"scatterternary\":[{\"marker\":{\"colorbar\":{\"outlinewidth\":0,\"ticks\":\"\"}},\"type\":\"scatterternary\"}],\"surface\":[{\"colorbar\":{\"outlinewidth\":0,\"ticks\":\"\"},\"colorscale\":[[0.0,\"#0d0887\"],[0.1111111111111111,\"#46039f\"],[0.2222222222222222,\"#7201a8\"],[0.3333333333333333,\"#9c179e\"],[0.4444444444444444,\"#bd3786\"],[0.5555555555555556,\"#d8576b\"],[0.6666666666666666,\"#ed7953\"],[0.7777777777777778,\"#fb9f3a\"],[0.8888888888888888,\"#fdca26\"],[1.0,\"#f0f921\"]],\"type\":\"surface\"}],\"table\":[{\"cells\":{\"fill\":{\"color\":\"#EBF0F8\"},\"line\":{\"color\":\"white\"}},\"header\":{\"fill\":{\"color\":\"#C8D4E3\"},\"line\":{\"color\":\"white\"}},\"type\":\"table\"}]},\"layout\":{\"annotationdefaults\":{\"arrowcolor\":\"#2a3f5f\",\"arrowhead\":0,\"arrowwidth\":1},\"autotypenumbers\":\"strict\",\"coloraxis\":{\"colorbar\":{\"outlinewidth\":0,\"ticks\":\"\"}},\"colorscale\":{\"diverging\":[[0,\"#8e0152\"],[0.1,\"#c51b7d\"],[0.2,\"#de77ae\"],[0.3,\"#f1b6da\"],[0.4,\"#fde0ef\"],[0.5,\"#f7f7f7\"],[0.6,\"#e6f5d0\"],[0.7,\"#b8e186\"],[0.8,\"#7fbc41\"],[0.9,\"#4d9221\"],[1,\"#276419\"]],\"sequential\":[[0.0,\"#0d0887\"],[0.1111111111111111,\"#46039f\"],[0.2222222222222222,\"#7201a8\"],[0.3333333333333333,\"#9c179e\"],[0.4444444444444444,\"#bd3786\"],[0.5555555555555556,\"#d8576b\"],[0.6666666666666666,\"#ed7953\"],[0.7777777777777778,\"#fb9f3a\"],[0.8888888888888888,\"#fdca26\"],[1.0,\"#f0f921\"]],\"sequentialminus\":[[0.0,\"#0d0887\"],[0.1111111111111111,\"#46039f\"],[0.2222222222222222,\"#7201a8\"],[0.3333333333333333,\"#9c179e\"],[0.4444444444444444,\"#bd3786\"],[0.5555555555555556,\"#d8576b\"],[0.6666666666666666,\"#ed7953\"],[0.7777777777777778,\"#fb9f3a\"],[0.8888888888888888,\"#fdca26\"],[1.0,\"#f0f921\"]]},\"colorway\":[\"#636efa\",\"#EF553B\",\"#00cc96\",\"#ab63fa\",\"#FFA15A\",\"#19d3f3\",\"#FF6692\",\"#B6E880\",\"#FF97FF\",\"#FECB52\"],\"font\":{\"color\":\"#2a3f5f\"},\"geo\":{\"bgcolor\":\"white\",\"lakecolor\":\"white\",\"landcolor\":\"#E5ECF6\",\"showlakes\":true,\"showland\":true,\"subunitcolor\":\"white\"},\"hoverlabel\":{\"align\":\"left\"},\"hovermode\":\"closest\",\"mapbox\":{\"style\":\"light\"},\"paper_bgcolor\":\"white\",\"plot_bgcolor\":\"#E5ECF6\",\"polar\":{\"angularaxis\":{\"gridcolor\":\"white\",\"linecolor\":\"white\",\"ticks\":\"\"},\"bgcolor\":\"#E5ECF6\",\"radialaxis\":{\"gridcolor\":\"white\",\"linecolor\":\"white\",\"ticks\":\"\"}},\"scene\":{\"xaxis\":{\"backgroundcolor\":\"#E5ECF6\",\"gridcolor\":\"white\",\"gridwidth\":2,\"linecolor\":\"white\",\"showbackground\":true,\"ticks\":\"\",\"zerolinecolor\":\"white\"},\"yaxis\":{\"backgroundcolor\":\"#E5ECF6\",\"gridcolor\":\"white\",\"gridwidth\":2,\"linecolor\":\"white\",\"showbackground\":true,\"ticks\":\"\",\"zerolinecolor\":\"white\"},\"zaxis\":{\"backgroundcolor\":\"#E5ECF6\",\"gridcolor\":\"white\",\"gridwidth\":2,\"linecolor\":\"white\",\"showbackground\":true,\"ticks\":\"\",\"zerolinecolor\":\"white\"}},\"shapedefaults\":{\"line\":{\"color\":\"#2a3f5f\"}},\"ternary\":{\"aaxis\":{\"gridcolor\":\"white\",\"linecolor\":\"white\",\"ticks\":\"\"},\"baxis\":{\"gridcolor\":\"white\",\"linecolor\":\"white\",\"ticks\":\"\"},\"bgcolor\":\"#E5ECF6\",\"caxis\":{\"gridcolor\":\"white\",\"linecolor\":\"white\",\"ticks\":\"\"}},\"title\":{\"x\":0.05},\"xaxis\":{\"automargin\":true,\"gridcolor\":\"white\",\"linecolor\":\"white\",\"ticks\":\"\",\"title\":{\"standoff\":15},\"zerolinecolor\":\"white\",\"zerolinewidth\":2},\"yaxis\":{\"automargin\":true,\"gridcolor\":\"white\",\"linecolor\":\"white\",\"ticks\":\"\",\"title\":{\"standoff\":15},\"zerolinecolor\":\"white\",\"zerolinewidth\":2}}},\"title\":{\"text\":\"Prediction of Suicide Risk Assessment\"},\"width\":1000,\"xaxis\":{\"dtick\":1,\"title\":{\"text\":\"Conversation Segment\"}},\"yaxis\":{\"title\":{\"text\":\"Prediction Probability\"}}},                        {\"responsive\": true}                    ).then(function(){\n",
       "                            \n",
       "var gd = document.getElementById('8bd500d7-b052-489e-b591-58cabbce30f0');\n",
       "var x = new MutationObserver(function (mutations, observer) {{\n",
       "        var display = window.getComputedStyle(gd).display;\n",
       "        if (!display || display === 'none') {{\n",
       "            console.log([gd, 'removed!']);\n",
       "            Plotly.purge(gd);\n",
       "            observer.disconnect();\n",
       "        }}\n",
       "}});\n",
       "\n",
       "// Listen for the removal of the full notebook cells\n",
       "var notebookContainer = gd.closest('#notebook-container');\n",
       "if (notebookContainer) {{\n",
       "    x.observe(notebookContainer, {childList: true});\n",
       "}}\n",
       "\n",
       "// Listen for the clearing of the current output cell\n",
       "var outputEl = gd.closest('.output');\n",
       "if (outputEl) {{\n",
       "    x.observe(outputEl, {childList: true});\n",
       "}}\n",
       "\n",
       "                        })                };                });            </script>        </div>"
      ]
     },
     "metadata": {},
     "output_type": "display_data"
    }
   ],
   "source": [
    "make_plot(conv3, suicide_only=True)"
   ]
  },
  {
   "cell_type": "markdown",
   "id": "96fef1ab",
   "metadata": {},
   "source": [
    "## Conversation 2 plots"
   ]
  },
  {
   "cell_type": "code",
   "execution_count": 292,
   "id": "ef2f8f12",
   "metadata": {},
   "outputs": [],
   "source": [
    "conv2 = pickle.load(open(\"saved/bb_exps/sample8_exp.pickle\", \"rb\"))"
   ]
  },
  {
   "cell_type": "code",
   "execution_count": 294,
   "id": "9c9aa31e",
   "metadata": {},
   "outputs": [],
   "source": [
    "conv2_exps = get_exps(conv2, short=True)"
   ]
  },
  {
   "cell_type": "code",
   "execution_count": 297,
   "id": "f0e37bcf",
   "metadata": {},
   "outputs": [],
   "source": [
    "conv2_exps = conv2_exps.query(\"exp != ['it', 'when', 'before', 've', 'have', 'hi', 's', 'but', 'this']\")"
   ]
  },
  {
   "cell_type": "code",
   "execution_count": 322,
   "id": "0063156e",
   "metadata": {},
   "outputs": [
    {
     "data": {
      "image/png": "[encoded data removed]",
      "text/plain": [
       "<Figure size 576x360 with 1 Axes>"
      ]
     },
     "metadata": {
      "needs_background": "light"
     },
     "output_type": "display_data"
    }
   ],
   "source": [
    "exp_plot(conv2_exps, save_as=\"figs/convo2_exp.pdf\")"
   ]
  },
  {
   "cell_type": "code",
   "execution_count": 317,
   "id": "be60ec76",
   "metadata": {},
   "outputs": [
    {
     "data": {
      "application/vnd.plotly.v1+json": {
       "config": {
        "linkText": "Export to plot.ly",
        "plotlyServerURL": "https://plot.ly",
        "showLink": false
       },
       "data": [
        {
         "line": {
          "color": "green",
          "width": 0.8
         },
         "name": "Desire",
         "opacity": 0.8,
         "text": [
          "Desire: 0.7534 <br>suicidal: 0.6013<br>feeling: 0.1375<br>tried: 0.0606<br>drugs: -0.0495<br>you: 0.0475<br>it: 0.0362",
          "Desire: 0.9520 <br>suicidal: 0.4128<br>life: 0.1723<br>take: 0.0888<br>would: 0.0708<br>when: 0.0619<br>knife: 0.0456",
          "Desire: 0.9474 <br>suicidal: 0.3410<br>life: 0.1339<br>would: 0.0873<br>take: 0.0822<br>when: 0.0718<br>you: 0.0688",
          "Desire: 0.9488 <br>suicidal: 0.3489<br>life: 0.1601<br>take: 0.0982<br>knife: 0.0882<br>would: 0.0830<br>you: 0.0757",
          "Desire: 0.9518 <br>suicidal: 0.3427<br>life: 0.1531<br>would: 0.1197<br>take: 0.1044<br>when: 0.0912<br>you: 0.0897"
         ],
         "type": "scatter",
         "x": [
          1,
          2,
          3,
          4,
          5
         ],
         "y": [
          0.753412127494812,
          0.9520314335823059,
          0.9474193453788757,
          0.9487597346305847,
          0.951836884021759
         ]
        },
        {
         "line": {
          "color": "blue",
          "width": 0.8
         },
         "name": "Intent",
         "opacity": 0.8,
         "text": [
          "Intent: 0.0733 <br>suicidal: 0.0499<br>feeling: 0.0139<br>help: 0.0132<br>drugs: -0.0130<br>before: 0.0120<br>work: -0.0118",
          "Intent: 0.9652 <br>suicidal: 0.3434<br>life: 0.1904<br>have: 0.1303<br>take: 0.1198<br>when: 0.1093<br>would: 0.1013",
          "Intent: 0.9592 <br>suicidal: 0.2776<br>life: 0.1523<br>take: 0.1263<br>when: 0.1141<br>you: 0.1111<br>have: 0.1106",
          "Intent: 0.9625 <br>suicidal: 0.2800<br>take: 0.1631<br>have: 0.1562<br>would: 0.1480<br>life: 0.1454<br>when: 0.1454",
          "Intent: 0.9629 <br>suicidal: 0.2688<br>life: 0.1712<br>would: 0.1636<br>when: 0.1581<br>take: 0.1518<br>have: 0.1518"
         ],
         "type": "scatter",
         "x": [
          1,
          2,
          3,
          4,
          5
         ],
         "y": [
          0.07331010699272156,
          0.9651985168457031,
          0.9592316150665283,
          0.962488055229187,
          0.9628962874412537
         ]
        },
        {
         "line": {
          "color": "purple",
          "width": 0.8
         },
         "name": "Capability",
         "opacity": 0.8,
         "text": [
          "Capability: 0.0123 <br>hi: -0.0047<br>tell: -0.0039<br>drugs: 0.0037<br>using: 0.0035<br>ve: 0.0031<br>step: 0.0028",
          "Capability: 0.9669 <br>suicidal: 0.2990<br>life: 0.1662<br>when: 0.1630<br>take: 0.1515<br>have: 0.1486<br>would: 0.1331",
          "Capability: 0.9666 <br>suicidal: 0.2600<br>life: 0.1514<br>when: 0.1481<br>have: 0.1450<br>take: 0.1414<br>would: 0.1404",
          "Capability: 0.9564 <br>suicidal: 0.2332<br>when: 0.2054<br>have: 0.2019<br>take: 0.1850<br>would: 0.1565<br>you: 0.1376",
          "Capability: 0.9542 <br>suicidal: 0.2460<br>when: 0.2232<br>have: 0.2142<br>would: 0.1813<br>life: 0.1492<br>take: 0.1491"
         ],
         "type": "scatter",
         "x": [
          1,
          2,
          3,
          4,
          5
         ],
         "y": [
          0.012318004854023457,
          0.9668588042259216,
          0.9665879607200623,
          0.9563528895378113,
          0.9542181491851807
         ]
        },
        {
         "line": {
          "color": "red",
          "width": 0.8
         },
         "name": "Timeframe",
         "opacity": 0.8,
         "text": [
          "Timeframe: 0.0065 <br>suicidal: -0.0123<br>drugs: 0.0097<br>it: -0.0043<br>but: 0.0038<br>s: 0.0035<br>hi: -0.0030",
          "Timeframe: 0.8521 <br>suicidal: 0.2222<br>when: 0.1809<br>have: 0.1770<br>life: 0.1577<br>take: 0.1481<br>would: 0.1331",
          "Timeframe: 0.8784 <br>when: 0.2203<br>suicidal: 0.2095<br>have: 0.1710<br>take: 0.1386<br>life: 0.1305<br>would: 0.1290",
          "Timeframe: 0.8251 <br>when: 0.2556<br>have: 0.1770<br>take: 0.1593<br>would: 0.1555<br>suicidal: 0.1535<br>this: 0.1282",
          "Timeframe: 0.7950 <br>when: 0.2525<br>have: 0.1957<br>would: 0.1650<br>suicidal: 0.1549<br>take: 0.1261<br>life: 0.1224"
         ],
         "type": "scatter",
         "x": [
          1,
          2,
          3,
          4,
          5
         ],
         "y": [
          0.006484434939920902,
          0.8521443605422974,
          0.8784306645393372,
          0.8251252174377441,
          0.7949683666229248
         ]
        }
       ],
       "layout": {
        "font": {
         "size": 18
        },
        "height": 600,
        "shapes": [
         {
          "type": "line",
          "x0": 1,
          "x1": 5,
          "y0": 0.5,
          "y1": 0.5
         }
        ],
        "template": {
         "data": {
          "bar": [
           {
            "error_x": {
             "color": "#2a3f5f"
            },
            "error_y": {
             "color": "#2a3f5f"
            },
            "marker": {
             "line": {
              "color": "#E5ECF6",
              "width": 0.5
             },
             "pattern": {
              "fillmode": "overlay",
              "size": 10,
              "solidity": 0.2
             }
            },
            "type": "bar"
           }
          ],
          "barpolar": [
           {
            "marker": {
             "line": {
              "color": "#E5ECF6",
              "width": 0.5
             },
             "pattern": {
              "fillmode": "overlay",
              "size": 10,
              "solidity": 0.2
             }
            },
            "type": "barpolar"
           }
          ],
          "carpet": [
           {
            "aaxis": {
             "endlinecolor": "#2a3f5f",
             "gridcolor": "white",
             "linecolor": "white",
             "minorgridcolor": "white",
             "startlinecolor": "#2a3f5f"
            },
            "baxis": {
             "endlinecolor": "#2a3f5f",
             "gridcolor": "white",
             "linecolor": "white",
             "minorgridcolor": "white",
             "startlinecolor": "#2a3f5f"
            },
            "type": "carpet"
           }
          ],
          "choropleth": [
           {
            "colorbar": {
             "outlinewidth": 0,
             "ticks": ""
            },
            "type": "choropleth"
           }
          ],
          "contour": [
           {
            "colorbar": {
             "outlinewidth": 0,
             "ticks": ""
            },
            "colorscale": [
             [
              0,
              "#0d0887"
             ],
             [
              0.1111111111111111,
              "#46039f"
             ],
             [
              0.2222222222222222,
              "#7201a8"
             ],
             [
              0.3333333333333333,
              "#9c179e"
             ],
             [
              0.4444444444444444,
              "#bd3786"
             ],
             [
              0.5555555555555556,
              "#d8576b"
             ],
             [
              0.6666666666666666,
              "#ed7953"
             ],
             [
              0.7777777777777778,
              "#fb9f3a"
             ],
             [
              0.8888888888888888,
              "#fdca26"
             ],
             [
              1,
              "#f0f921"
             ]
            ],
            "type": "contour"
           }
          ],
          "contourcarpet": [
           {
            "colorbar": {
             "outlinewidth": 0,
             "ticks": ""
            },
            "type": "contourcarpet"
           }
          ],
          "heatmap": [
           {
            "colorbar": {
             "outlinewidth": 0,
             "ticks": ""
            },
            "colorscale": [
             [
              0,
              "#0d0887"
             ],
             [
              0.1111111111111111,
              "#46039f"
             ],
             [
              0.2222222222222222,
              "#7201a8"
             ],
             [
              0.3333333333333333,
              "#9c179e"
             ],
             [
              0.4444444444444444,
              "#bd3786"
             ],
             [
              0.5555555555555556,
              "#d8576b"
             ],
             [
              0.6666666666666666,
              "#ed7953"
             ],
             [
              0.7777777777777778,
              "#fb9f3a"
             ],
             [
              0.8888888888888888,
              "#fdca26"
             ],
             [
              1,
              "#f0f921"
             ]
            ],
            "type": "heatmap"
           }
          ],
          "heatmapgl": [
           {
            "colorbar": {
             "outlinewidth": 0,
             "ticks": ""
            },
            "colorscale": [
             [
              0,
              "#0d0887"
             ],
             [
              0.1111111111111111,
              "#46039f"
             ],
             [
              0.2222222222222222,
              "#7201a8"
             ],
             [
              0.3333333333333333,
              "#9c179e"
             ],
             [
              0.4444444444444444,
              "#bd3786"
             ],
             [
              0.5555555555555556,
              "#d8576b"
             ],
             [
              0.6666666666666666,
              "#ed7953"
             ],
             [
              0.7777777777777778,
              "#fb9f3a"
             ],
             [
              0.8888888888888888,
              "#fdca26"
             ],
             [
              1,
              "#f0f921"
             ]
            ],
            "type": "heatmapgl"
           }
          ],
          "histogram": [
           {
            "marker": {
             "pattern": {
              "fillmode": "overlay",
              "size": 10,
              "solidity": 0.2
             }
            },
            "type": "histogram"
           }
          ],
          "histogram2d": [
           {
            "colorbar": {
             "outlinewidth": 0,
             "ticks": ""
            },
            "colorscale": [
             [
              0,
              "#0d0887"
             ],
             [
              0.1111111111111111,
              "#46039f"
             ],
             [
              0.2222222222222222,
              "#7201a8"
             ],
             [
              0.3333333333333333,
              "#9c179e"
             ],
             [
              0.4444444444444444,
              "#bd3786"
             ],
             [
              0.5555555555555556,
              "#d8576b"
             ],
             [
              0.6666666666666666,
              "#ed7953"
             ],
             [
              0.7777777777777778,
              "#fb9f3a"
             ],
             [
              0.8888888888888888,
              "#fdca26"
             ],
             [
              1,
              "#f0f921"
             ]
            ],
            "type": "histogram2d"
           }
          ],
          "histogram2dcontour": [
           {
            "colorbar": {
             "outlinewidth": 0,
             "ticks": ""
            },
            "colorscale": [
             [
              0,
              "#0d0887"
             ],
             [
              0.1111111111111111,
              "#46039f"
             ],
             [
              0.2222222222222222,
              "#7201a8"
             ],
             [
              0.3333333333333333,
              "#9c179e"
             ],
             [
              0.4444444444444444,
              "#bd3786"
             ],
             [
              0.5555555555555556,
              "#d8576b"
             ],
             [
              0.6666666666666666,
              "#ed7953"
             ],
             [
              0.7777777777777778,
              "#fb9f3a"
             ],
             [
              0.8888888888888888,
              "#fdca26"
             ],
             [
              1,
              "#f0f921"
             ]
            ],
            "type": "histogram2dcontour"
           }
          ],
          "mesh3d": [
           {
            "colorbar": {
             "outlinewidth": 0,
             "ticks": ""
            },
            "type": "mesh3d"
           }
          ],
          "parcoords": [
           {
            "line": {
             "colorbar": {
              "outlinewidth": 0,
              "ticks": ""
             }
            },
            "type": "parcoords"
           }
          ],
          "pie": [
           {
            "automargin": true,
            "type": "pie"
           }
          ],
          "scatter": [
           {
            "marker": {
             "colorbar": {
              "outlinewidth": 0,
              "ticks": ""
             }
            },
            "type": "scatter"
           }
          ],
          "scatter3d": [
           {
            "line": {
             "colorbar": {
              "outlinewidth": 0,
              "ticks": ""
             }
            },
            "marker": {
             "colorbar": {
              "outlinewidth": 0,
              "ticks": ""
             }
            },
            "type": "scatter3d"
           }
          ],
          "scattercarpet": [
           {
            "marker": {
             "colorbar": {
              "outlinewidth": 0,
              "ticks": ""
             }
            },
            "type": "scattercarpet"
           }
          ],
          "scattergeo": [
           {
            "marker": {
             "colorbar": {
              "outlinewidth": 0,
              "ticks": ""
             }
            },
            "type": "scattergeo"
           }
          ],
          "scattergl": [
           {
            "marker": {
             "colorbar": {
              "outlinewidth": 0,
              "ticks": ""
             }
            },
            "type": "scattergl"
           }
          ],
          "scattermapbox": [
           {
            "marker": {
             "colorbar": {
              "outlinewidth": 0,
              "ticks": ""
             }
            },
            "type": "scattermapbox"
           }
          ],
          "scatterpolar": [
           {
            "marker": {
             "colorbar": {
              "outlinewidth": 0,
              "ticks": ""
             }
            },
            "type": "scatterpolar"
           }
          ],
          "scatterpolargl": [
           {
            "marker": {
             "colorbar": {
              "outlinewidth": 0,
              "ticks": ""
             }
            },
            "type": "scatterpolargl"
           }
          ],
          "scatterternary": [
           {
            "marker": {
             "colorbar": {
              "outlinewidth": 0,
              "ticks": ""
             }
            },
            "type": "scatterternary"
           }
          ],
          "surface": [
           {
            "colorbar": {
             "outlinewidth": 0,
             "ticks": ""
            },
            "colorscale": [
             [
              0,
              "#0d0887"
             ],
             [
              0.1111111111111111,
              "#46039f"
             ],
             [
              0.2222222222222222,
              "#7201a8"
             ],
             [
              0.3333333333333333,
              "#9c179e"
             ],
             [
              0.4444444444444444,
              "#bd3786"
             ],
             [
              0.5555555555555556,
              "#d8576b"
             ],
             [
              0.6666666666666666,
              "#ed7953"
             ],
             [
              0.7777777777777778,
              "#fb9f3a"
             ],
             [
              0.8888888888888888,
              "#fdca26"
             ],
             [
              1,
              "#f0f921"
             ]
            ],
            "type": "surface"
           }
          ],
          "table": [
           {
            "cells": {
             "fill": {
              "color": "#EBF0F8"
             },
             "line": {
              "color": "white"
             }
            },
            "header": {
             "fill": {
              "color": "#C8D4E3"
             },
             "line": {
              "color": "white"
             }
            },
            "type": "table"
           }
          ]
         },
         "layout": {
          "annotationdefaults": {
           "arrowcolor": "#2a3f5f",
           "arrowhead": 0,
           "arrowwidth": 1
          },
          "autotypenumbers": "strict",
          "coloraxis": {
           "colorbar": {
            "outlinewidth": 0,
            "ticks": ""
           }
          },
          "colorscale": {
           "diverging": [
            [
             0,
             "#8e0152"
            ],
            [
             0.1,
             "#c51b7d"
            ],
            [
             0.2,
             "#de77ae"
            ],
            [
             0.3,
             "#f1b6da"
            ],
            [
             0.4,
             "#fde0ef"
            ],
            [
             0.5,
             "#f7f7f7"
            ],
            [
             0.6,
             "#e6f5d0"
            ],
            [
             0.7,
             "#b8e186"
            ],
            [
             0.8,
             "#7fbc41"
            ],
            [
             0.9,
             "#4d9221"
            ],
            [
             1,
             "#276419"
            ]
           ],
           "sequential": [
            [
             0,
             "#0d0887"
            ],
            [
             0.1111111111111111,
             "#46039f"
            ],
            [
             0.2222222222222222,
             "#7201a8"
            ],
            [
             0.3333333333333333,
             "#9c179e"
            ],
            [
             0.4444444444444444,
             "#bd3786"
            ],
            [
             0.5555555555555556,
             "#d8576b"
            ],
            [
             0.6666666666666666,
             "#ed7953"
            ],
            [
             0.7777777777777778,
             "#fb9f3a"
            ],
            [
             0.8888888888888888,
             "#fdca26"
            ],
            [
             1,
             "#f0f921"
            ]
           ],
           "sequentialminus": [
            [
             0,
             "#0d0887"
            ],
            [
             0.1111111111111111,
             "#46039f"
            ],
            [
             0.2222222222222222,
             "#7201a8"
            ],
            [
             0.3333333333333333,
             "#9c179e"
            ],
            [
             0.4444444444444444,
             "#bd3786"
            ],
            [
             0.5555555555555556,
             "#d8576b"
            ],
            [
             0.6666666666666666,
             "#ed7953"
            ],
            [
             0.7777777777777778,
             "#fb9f3a"
            ],
            [
             0.8888888888888888,
             "#fdca26"
            ],
            [
             1,
             "#f0f921"
            ]
           ]
          },
          "colorway": [
           "#636efa",
           "#EF553B",
           "#00cc96",
           "#ab63fa",
           "#FFA15A",
           "#19d3f3",
           "#FF6692",
           "#B6E880",
           "#FF97FF",
           "#FECB52"
          ],
          "font": {
           "color": "#2a3f5f"
          },
          "geo": {
           "bgcolor": "white",
           "lakecolor": "white",
           "landcolor": "#E5ECF6",
           "showlakes": true,
           "showland": true,
           "subunitcolor": "white"
          },
          "hoverlabel": {
           "align": "left"
          },
          "hovermode": "closest",
          "mapbox": {
           "style": "light"
          },
          "paper_bgcolor": "white",
          "plot_bgcolor": "#E5ECF6",
          "polar": {
           "angularaxis": {
            "gridcolor": "white",
            "linecolor": "white",
            "ticks": ""
           },
           "bgcolor": "#E5ECF6",
           "radialaxis": {
            "gridcolor": "white",
            "linecolor": "white",
            "ticks": ""
           }
          },
          "scene": {
           "xaxis": {
            "backgroundcolor": "#E5ECF6",
            "gridcolor": "white",
            "gridwidth": 2,
            "linecolor": "white",
            "showbackground": true,
            "ticks": "",
            "zerolinecolor": "white"
           },
           "yaxis": {
            "backgroundcolor": "#E5ECF6",
            "gridcolor": "white",
            "gridwidth": 2,
            "linecolor": "white",
            "showbackground": true,
            "ticks": "",
            "zerolinecolor": "white"
           },
           "zaxis": {
            "backgroundcolor": "#E5ECF6",
            "gridcolor": "white",
            "gridwidth": 2,
            "linecolor": "white",
            "showbackground": true,
            "ticks": "",
            "zerolinecolor": "white"
           }
          },
          "shapedefaults": {
           "line": {
            "color": "#2a3f5f"
           }
          },
          "ternary": {
           "aaxis": {
            "gridcolor": "white",
            "linecolor": "white",
            "ticks": ""
           },
           "baxis": {
            "gridcolor": "white",
            "linecolor": "white",
            "ticks": ""
           },
           "bgcolor": "#E5ECF6",
           "caxis": {
            "gridcolor": "white",
            "linecolor": "white",
            "ticks": ""
           }
          },
          "title": {
           "x": 0.05
          },
          "xaxis": {
           "automargin": true,
           "gridcolor": "white",
           "linecolor": "white",
           "ticks": "",
           "title": {
            "standoff": 15
           },
           "zerolinecolor": "white",
           "zerolinewidth": 2
          },
          "yaxis": {
           "automargin": true,
           "gridcolor": "white",
           "linecolor": "white",
           "ticks": "",
           "title": {
            "standoff": 15
           },
           "zerolinecolor": "white",
           "zerolinewidth": 2
          }
         }
        },
        "title": {
         "text": "Prediction of Suicide Risk Assessment"
        },
        "width": 1000,
        "xaxis": {
         "dtick": 1,
         "title": {
          "text": "Conversation Segment"
         }
        },
        "yaxis": {
         "title": {
          "text": "Prediction Probability"
         }
        }
       }
      },
      "text/html": [
       "<div>                            <div id=\"673beb3f-52b6-4ce9-8f4c-5b0194061307\" class=\"plotly-graph-div\" style=\"height:600px; width:1000px;\"></div>            <script type=\"text/javascript\">                require([\"plotly\"], function(Plotly) {                    window.PLOTLYENV=window.PLOTLYENV || {};                                    if (document.getElementById(\"673beb3f-52b6-4ce9-8f4c-5b0194061307\")) {                    Plotly.newPlot(                        \"673beb3f-52b6-4ce9-8f4c-5b0194061307\",                        [{\"line\":{\"color\":\"green\",\"width\":0.8},\"name\":\"Desire\",\"opacity\":0.8,\"text\":[\"Desire: 0.7534 <br>suicidal: 0.6013<br>feeling: 0.1375<br>tried: 0.0606<br>drugs: -0.0495<br>you: 0.0475<br>it: 0.0362\",\"Desire: 0.9520 <br>suicidal: 0.4128<br>life: 0.1723<br>take: 0.0888<br>would: 0.0708<br>when: 0.0619<br>knife: 0.0456\",\"Desire: 0.9474 <br>suicidal: 0.3410<br>life: 0.1339<br>would: 0.0873<br>take: 0.0822<br>when: 0.0718<br>you: 0.0688\",\"Desire: 0.9488 <br>suicidal: 0.3489<br>life: 0.1601<br>take: 0.0982<br>knife: 0.0882<br>would: 0.0830<br>you: 0.0757\",\"Desire: 0.9518 <br>suicidal: 0.3427<br>life: 0.1531<br>would: 0.1197<br>take: 0.1044<br>when: 0.0912<br>you: 0.0897\"],\"type\":\"scatter\",\"x\":[1,2,3,4,5],\"y\":[0.753412127494812,0.9520314335823059,0.9474193453788757,0.9487597346305847,0.951836884021759]},{\"line\":{\"color\":\"blue\",\"width\":0.8},\"name\":\"Intent\",\"opacity\":0.8,\"text\":[\"Intent: 0.0733 <br>suicidal: 0.0499<br>feeling: 0.0139<br>help: 0.0132<br>drugs: -0.0130<br>before: 0.0120<br>work: -0.0118\",\"Intent: 0.9652 <br>suicidal: 0.3434<br>life: 0.1904<br>have: 0.1303<br>take: 0.1198<br>when: 0.1093<br>would: 0.1013\",\"Intent: 0.9592 <br>suicidal: 0.2776<br>life: 0.1523<br>take: 0.1263<br>when: 0.1141<br>you: 0.1111<br>have: 0.1106\",\"Intent: 0.9625 <br>suicidal: 0.2800<br>take: 0.1631<br>have: 0.1562<br>would: 0.1480<br>life: 0.1454<br>when: 0.1454\",\"Intent: 0.9629 <br>suicidal: 0.2688<br>life: 0.1712<br>would: 0.1636<br>when: 0.1581<br>take: 0.1518<br>have: 0.1518\"],\"type\":\"scatter\",\"x\":[1,2,3,4,5],\"y\":[0.07331010699272156,0.9651985168457031,0.9592316150665283,0.962488055229187,0.9628962874412537]},{\"line\":{\"color\":\"purple\",\"width\":0.8},\"name\":\"Capability\",\"opacity\":0.8,\"text\":[\"Capability: 0.0123 <br>hi: -0.0047<br>tell: -0.0039<br>drugs: 0.0037<br>using: 0.0035<br>ve: 0.0031<br>step: 0.0028\",\"Capability: 0.9669 <br>suicidal: 0.2990<br>life: 0.1662<br>when: 0.1630<br>take: 0.1515<br>have: 0.1486<br>would: 0.1331\",\"Capability: 0.9666 <br>suicidal: 0.2600<br>life: 0.1514<br>when: 0.1481<br>have: 0.1450<br>take: 0.1414<br>would: 0.1404\",\"Capability: 0.9564 <br>suicidal: 0.2332<br>when: 0.2054<br>have: 0.2019<br>take: 0.1850<br>would: 0.1565<br>you: 0.1376\",\"Capability: 0.9542 <br>suicidal: 0.2460<br>when: 0.2232<br>have: 0.2142<br>would: 0.1813<br>life: 0.1492<br>take: 0.1491\"],\"type\":\"scatter\",\"x\":[1,2,3,4,5],\"y\":[0.012318004854023457,0.9668588042259216,0.9665879607200623,0.9563528895378113,0.9542181491851807]},{\"line\":{\"color\":\"red\",\"width\":0.8},\"name\":\"Timeframe\",\"opacity\":0.8,\"text\":[\"Timeframe: 0.0065 <br>suicidal: -0.0123<br>drugs: 0.0097<br>it: -0.0043<br>but: 0.0038<br>s: 0.0035<br>hi: -0.0030\",\"Timeframe: 0.8521 <br>suicidal: 0.2222<br>when: 0.1809<br>have: 0.1770<br>life: 0.1577<br>take: 0.1481<br>would: 0.1331\",\"Timeframe: 0.8784 <br>when: 0.2203<br>suicidal: 0.2095<br>have: 0.1710<br>take: 0.1386<br>life: 0.1305<br>would: 0.1290\",\"Timeframe: 0.8251 <br>when: 0.2556<br>have: 0.1770<br>take: 0.1593<br>would: 0.1555<br>suicidal: 0.1535<br>this: 0.1282\",\"Timeframe: 0.7950 <br>when: 0.2525<br>have: 0.1957<br>would: 0.1650<br>suicidal: 0.1549<br>take: 0.1261<br>life: 0.1224\"],\"type\":\"scatter\",\"x\":[1,2,3,4,5],\"y\":[0.006484434939920902,0.8521443605422974,0.8784306645393372,0.8251252174377441,0.7949683666229248]}],                        {\"font\":{\"size\":18},\"height\":600,\"shapes\":[{\"type\":\"line\",\"x0\":1,\"x1\":5,\"y0\":0.5,\"y1\":0.5}],\"template\":{\"data\":{\"bar\":[{\"error_x\":{\"color\":\"#2a3f5f\"},\"error_y\":{\"color\":\"#2a3f5f\"},\"marker\":{\"line\":{\"color\":\"#E5ECF6\",\"width\":0.5},\"pattern\":{\"fillmode\":\"overlay\",\"size\":10,\"solidity\":0.2}},\"type\":\"bar\"}],\"barpolar\":[{\"marker\":{\"line\":{\"color\":\"#E5ECF6\",\"width\":0.5},\"pattern\":{\"fillmode\":\"overlay\",\"size\":10,\"solidity\":0.2}},\"type\":\"barpolar\"}],\"carpet\":[{\"aaxis\":{\"endlinecolor\":\"#2a3f5f\",\"gridcolor\":\"white\",\"linecolor\":\"white\",\"minorgridcolor\":\"white\",\"startlinecolor\":\"#2a3f5f\"},\"baxis\":{\"endlinecolor\":\"#2a3f5f\",\"gridcolor\":\"white\",\"linecolor\":\"white\",\"minorgridcolor\":\"white\",\"startlinecolor\":\"#2a3f5f\"},\"type\":\"carpet\"}],\"choropleth\":[{\"colorbar\":{\"outlinewidth\":0,\"ticks\":\"\"},\"type\":\"choropleth\"}],\"contour\":[{\"colorbar\":{\"outlinewidth\":0,\"ticks\":\"\"},\"colorscale\":[[0.0,\"#0d0887\"],[0.1111111111111111,\"#46039f\"],[0.2222222222222222,\"#7201a8\"],[0.3333333333333333,\"#9c179e\"],[0.4444444444444444,\"#bd3786\"],[0.5555555555555556,\"#d8576b\"],[0.6666666666666666,\"#ed7953\"],[0.7777777777777778,\"#fb9f3a\"],[0.8888888888888888,\"#fdca26\"],[1.0,\"#f0f921\"]],\"type\":\"contour\"}],\"contourcarpet\":[{\"colorbar\":{\"outlinewidth\":0,\"ticks\":\"\"},\"type\":\"contourcarpet\"}],\"heatmap\":[{\"colorbar\":{\"outlinewidth\":0,\"ticks\":\"\"},\"colorscale\":[[0.0,\"#0d0887\"],[0.1111111111111111,\"#46039f\"],[0.2222222222222222,\"#7201a8\"],[0.3333333333333333,\"#9c179e\"],[0.4444444444444444,\"#bd3786\"],[0.5555555555555556,\"#d8576b\"],[0.6666666666666666,\"#ed7953\"],[0.7777777777777778,\"#fb9f3a\"],[0.8888888888888888,\"#fdca26\"],[1.0,\"#f0f921\"]],\"type\":\"heatmap\"}],\"heatmapgl\":[{\"colorbar\":{\"outlinewidth\":0,\"ticks\":\"\"},\"colorscale\":[[0.0,\"#0d0887\"],[0.1111111111111111,\"#46039f\"],[0.2222222222222222,\"#7201a8\"],[0.3333333333333333,\"#9c179e\"],[0.4444444444444444,\"#bd3786\"],[0.5555555555555556,\"#d8576b\"],[0.6666666666666666,\"#ed7953\"],[0.7777777777777778,\"#fb9f3a\"],[0.8888888888888888,\"#fdca26\"],[1.0,\"#f0f921\"]],\"type\":\"heatmapgl\"}],\"histogram\":[{\"marker\":{\"pattern\":{\"fillmode\":\"overlay\",\"size\":10,\"solidity\":0.2}},\"type\":\"histogram\"}],\"histogram2d\":[{\"colorbar\":{\"outlinewidth\":0,\"ticks\":\"\"},\"colorscale\":[[0.0,\"#0d0887\"],[0.1111111111111111,\"#46039f\"],[0.2222222222222222,\"#7201a8\"],[0.3333333333333333,\"#9c179e\"],[0.4444444444444444,\"#bd3786\"],[0.5555555555555556,\"#d8576b\"],[0.6666666666666666,\"#ed7953\"],[0.7777777777777778,\"#fb9f3a\"],[0.8888888888888888,\"#fdca26\"],[1.0,\"#f0f921\"]],\"type\":\"histogram2d\"}],\"histogram2dcontour\":[{\"colorbar\":{\"outlinewidth\":0,\"ticks\":\"\"},\"colorscale\":[[0.0,\"#0d0887\"],[0.1111111111111111,\"#46039f\"],[0.2222222222222222,\"#7201a8\"],[0.3333333333333333,\"#9c179e\"],[0.4444444444444444,\"#bd3786\"],[0.5555555555555556,\"#d8576b\"],[0.6666666666666666,\"#ed7953\"],[0.7777777777777778,\"#fb9f3a\"],[0.8888888888888888,\"#fdca26\"],[1.0,\"#f0f921\"]],\"type\":\"histogram2dcontour\"}],\"mesh3d\":[{\"colorbar\":{\"outlinewidth\":0,\"ticks\":\"\"},\"type\":\"mesh3d\"}],\"parcoords\":[{\"line\":{\"colorbar\":{\"outlinewidth\":0,\"ticks\":\"\"}},\"type\":\"parcoords\"}],\"pie\":[{\"automargin\":true,\"type\":\"pie\"}],\"scatter\":[{\"marker\":{\"colorbar\":{\"outlinewidth\":0,\"ticks\":\"\"}},\"type\":\"scatter\"}],\"scatter3d\":[{\"line\":{\"colorbar\":{\"outlinewidth\":0,\"ticks\":\"\"}},\"marker\":{\"colorbar\":{\"outlinewidth\":0,\"ticks\":\"\"}},\"type\":\"scatter3d\"}],\"scattercarpet\":[{\"marker\":{\"colorbar\":{\"outlinewidth\":0,\"ticks\":\"\"}},\"type\":\"scattercarpet\"}],\"scattergeo\":[{\"marker\":{\"colorbar\":{\"outlinewidth\":0,\"ticks\":\"\"}},\"type\":\"scattergeo\"}],\"scattergl\":[{\"marker\":{\"colorbar\":{\"outlinewidth\":0,\"ticks\":\"\"}},\"type\":\"scattergl\"}],\"scattermapbox\":[{\"marker\":{\"colorbar\":{\"outlinewidth\":0,\"ticks\":\"\"}},\"type\":\"scattermapbox\"}],\"scatterpolar\":[{\"marker\":{\"colorbar\":{\"outlinewidth\":0,\"ticks\":\"\"}},\"type\":\"scatterpolar\"}],\"scatterpolargl\":[{\"marker\":{\"colorbar\":{\"outlinewidth\":0,\"ticks\":\"\"}},\"type\":\"scatterpolargl\"}],\"scatterternary\":[{\"marker\":{\"colorbar\":{\"outlinewidth\":0,\"ticks\":\"\"}},\"type\":\"scatterternary\"}],\"surface\":[{\"colorbar\":{\"outlinewidth\":0,\"ticks\":\"\"},\"colorscale\":[[0.0,\"#0d0887\"],[0.1111111111111111,\"#46039f\"],[0.2222222222222222,\"#7201a8\"],[0.3333333333333333,\"#9c179e\"],[0.4444444444444444,\"#bd3786\"],[0.5555555555555556,\"#d8576b\"],[0.6666666666666666,\"#ed7953\"],[0.7777777777777778,\"#fb9f3a\"],[0.8888888888888888,\"#fdca26\"],[1.0,\"#f0f921\"]],\"type\":\"surface\"}],\"table\":[{\"cells\":{\"fill\":{\"color\":\"#EBF0F8\"},\"line\":{\"color\":\"white\"}},\"header\":{\"fill\":{\"color\":\"#C8D4E3\"},\"line\":{\"color\":\"white\"}},\"type\":\"table\"}]},\"layout\":{\"annotationdefaults\":{\"arrowcolor\":\"#2a3f5f\",\"arrowhead\":0,\"arrowwidth\":1},\"autotypenumbers\":\"strict\",\"coloraxis\":{\"colorbar\":{\"outlinewidth\":0,\"ticks\":\"\"}},\"colorscale\":{\"diverging\":[[0,\"#8e0152\"],[0.1,\"#c51b7d\"],[0.2,\"#de77ae\"],[0.3,\"#f1b6da\"],[0.4,\"#fde0ef\"],[0.5,\"#f7f7f7\"],[0.6,\"#e6f5d0\"],[0.7,\"#b8e186\"],[0.8,\"#7fbc41\"],[0.9,\"#4d9221\"],[1,\"#276419\"]],\"sequential\":[[0.0,\"#0d0887\"],[0.1111111111111111,\"#46039f\"],[0.2222222222222222,\"#7201a8\"],[0.3333333333333333,\"#9c179e\"],[0.4444444444444444,\"#bd3786\"],[0.5555555555555556,\"#d8576b\"],[0.6666666666666666,\"#ed7953\"],[0.7777777777777778,\"#fb9f3a\"],[0.8888888888888888,\"#fdca26\"],[1.0,\"#f0f921\"]],\"sequentialminus\":[[0.0,\"#0d0887\"],[0.1111111111111111,\"#46039f\"],[0.2222222222222222,\"#7201a8\"],[0.3333333333333333,\"#9c179e\"],[0.4444444444444444,\"#bd3786\"],[0.5555555555555556,\"#d8576b\"],[0.6666666666666666,\"#ed7953\"],[0.7777777777777778,\"#fb9f3a\"],[0.8888888888888888,\"#fdca26\"],[1.0,\"#f0f921\"]]},\"colorway\":[\"#636efa\",\"#EF553B\",\"#00cc96\",\"#ab63fa\",\"#FFA15A\",\"#19d3f3\",\"#FF6692\",\"#B6E880\",\"#FF97FF\",\"#FECB52\"],\"font\":{\"color\":\"#2a3f5f\"},\"geo\":{\"bgcolor\":\"white\",\"lakecolor\":\"white\",\"landcolor\":\"#E5ECF6\",\"showlakes\":true,\"showland\":true,\"subunitcolor\":\"white\"},\"hoverlabel\":{\"align\":\"left\"},\"hovermode\":\"closest\",\"mapbox\":{\"style\":\"light\"},\"paper_bgcolor\":\"white\",\"plot_bgcolor\":\"#E5ECF6\",\"polar\":{\"angularaxis\":{\"gridcolor\":\"white\",\"linecolor\":\"white\",\"ticks\":\"\"},\"bgcolor\":\"#E5ECF6\",\"radialaxis\":{\"gridcolor\":\"white\",\"linecolor\":\"white\",\"ticks\":\"\"}},\"scene\":{\"xaxis\":{\"backgroundcolor\":\"#E5ECF6\",\"gridcolor\":\"white\",\"gridwidth\":2,\"linecolor\":\"white\",\"showbackground\":true,\"ticks\":\"\",\"zerolinecolor\":\"white\"},\"yaxis\":{\"backgroundcolor\":\"#E5ECF6\",\"gridcolor\":\"white\",\"gridwidth\":2,\"linecolor\":\"white\",\"showbackground\":true,\"ticks\":\"\",\"zerolinecolor\":\"white\"},\"zaxis\":{\"backgroundcolor\":\"#E5ECF6\",\"gridcolor\":\"white\",\"gridwidth\":2,\"linecolor\":\"white\",\"showbackground\":true,\"ticks\":\"\",\"zerolinecolor\":\"white\"}},\"shapedefaults\":{\"line\":{\"color\":\"#2a3f5f\"}},\"ternary\":{\"aaxis\":{\"gridcolor\":\"white\",\"linecolor\":\"white\",\"ticks\":\"\"},\"baxis\":{\"gridcolor\":\"white\",\"linecolor\":\"white\",\"ticks\":\"\"},\"bgcolor\":\"#E5ECF6\",\"caxis\":{\"gridcolor\":\"white\",\"linecolor\":\"white\",\"ticks\":\"\"}},\"title\":{\"x\":0.05},\"xaxis\":{\"automargin\":true,\"gridcolor\":\"white\",\"linecolor\":\"white\",\"ticks\":\"\",\"title\":{\"standoff\":15},\"zerolinecolor\":\"white\",\"zerolinewidth\":2},\"yaxis\":{\"automargin\":true,\"gridcolor\":\"white\",\"linecolor\":\"white\",\"ticks\":\"\",\"title\":{\"standoff\":15},\"zerolinecolor\":\"white\",\"zerolinewidth\":2}}},\"title\":{\"text\":\"Prediction of Suicide Risk Assessment\"},\"width\":1000,\"xaxis\":{\"dtick\":1,\"title\":{\"text\":\"Conversation Segment\"}},\"yaxis\":{\"title\":{\"text\":\"Prediction Probability\"}}},                        {\"responsive\": true}                    ).then(function(){\n",
       "                            \n",
       "var gd = document.getElementById('673beb3f-52b6-4ce9-8f4c-5b0194061307');\n",
       "var x = new MutationObserver(function (mutations, observer) {{\n",
       "        var display = window.getComputedStyle(gd).display;\n",
       "        if (!display || display === 'none') {{\n",
       "            console.log([gd, 'removed!']);\n",
       "            Plotly.purge(gd);\n",
       "            observer.disconnect();\n",
       "        }}\n",
       "}});\n",
       "\n",
       "// Listen for the removal of the full notebook cells\n",
       "var notebookContainer = gd.closest('#notebook-container');\n",
       "if (notebookContainer) {{\n",
       "    x.observe(notebookContainer, {childList: true});\n",
       "}}\n",
       "\n",
       "// Listen for the clearing of the current output cell\n",
       "var outputEl = gd.closest('.output');\n",
       "if (outputEl) {{\n",
       "    x.observe(outputEl, {childList: true});\n",
       "}}\n",
       "\n",
       "                        })                };                });            </script>        </div>"
      ]
     },
     "metadata": {},
     "output_type": "display_data"
    }
   ],
   "source": [
    "make_plot(conv2, suicide_only=True)"
   ]
  },
  {
   "cell_type": "markdown",
   "id": "5d55f2d5",
   "metadata": {},
   "source": [
    "## Conversation 1 plots"
   ]
  },
  {
   "cell_type": "code",
   "execution_count": 283,
   "id": "5257679e",
   "metadata": {},
   "outputs": [],
   "source": [
    "conv1 = pickle.load(open(\"saved/bb_exps/sample9_exp.pickle\", \"rb\"))"
   ]
  },
  {
   "cell_type": "code",
   "execution_count": 300,
   "id": "75572ba2",
   "metadata": {},
   "outputs": [],
   "source": [
    "conv1_exps = get_exps(conv1, short = False)"
   ]
  },
  {
   "cell_type": "code",
   "execution_count": 304,
   "id": "a5d950e0",
   "metadata": {},
   "outputs": [],
   "source": [
    "conv1_exps = conv1_exps.query(\"exp != ['in', 'and', 'would', 'how', 'have', 'this', 've', 'e', 'to', 'if', 's', 't', 'don', 'm', 'with']\")"
   ]
  },
  {
   "cell_type": "code",
   "execution_count": 323,
   "id": "481bf645",
   "metadata": {},
   "outputs": [
    {
     "data": {
      "image/png": "[encoded data removed]",
      "text/plain": [
       "<Figure size 576x360 with 1 Axes>"
      ]
     },
     "metadata": {
      "needs_background": "light"
     },
     "output_type": "display_data"
    }
   ],
   "source": [
    "exp_plot(conv1_exps, save_as=\"figs/convo1_exp.pdf\")"
   ]
  },
  {
   "cell_type": "code",
   "execution_count": 318,
   "id": "0d5fd743",
   "metadata": {},
   "outputs": [
    {
     "data": {
      "application/vnd.plotly.v1+json": {
       "config": {
        "linkText": "Export to plot.ly",
        "plotlyServerURL": "https://plot.ly",
        "showLink": false
       },
       "data": [
        {
         "line": {
          "color": "green",
          "width": 0.8
         },
         "name": "Desire",
         "opacity": 0.8,
         "text": [
          "Desire: 0.6300 <br>suicidal: 0.4435<br>thoughts: 0.1097<br>you: 0.0711<br>anxiety: -0.0518<br>m: 0.0476<br>and: 0.0424",
          "Desire: 0.8419 <br>suicidal: 0.4273<br>end: 0.1734<br>would: 0.0856<br>life: 0.0728<br>how: 0.0535<br>you: 0.0525",
          "Desire: 0.8866 <br>suicidal: 0.2917<br>end: 0.1216<br>life: 0.0765<br>you: 0.0700<br>carry: 0.0646<br>111: 0.0527",
          "Desire: 0.8564 <br>suicidal: 0.2987<br>end: 0.1375<br>you: 0.0839<br>life: 0.0809<br>carry: 0.0676<br>have: 0.0594",
          "Desire: 0.8472 <br>suicidal: 0.2968<br>end: 0.1469<br>you: 0.1067<br>life: 0.0862<br>carry: 0.0665<br>this: 0.0556"
         ],
         "type": "scatter",
         "x": [
          1,
          2,
          3,
          4,
          5
         ],
         "y": [
          0.6300251483917236,
          0.8418587446212769,
          0.8866495490074158,
          0.8563567399978638,
          0.8472049236297607
         ]
        },
        {
         "line": {
          "color": "blue",
          "width": 0.8
         },
         "name": "Intent",
         "opacity": 0.8,
         "text": [
          "Intent: 0.0447 <br>suicidal: 0.0183<br>m: 0.0051<br>you: 0.0051<br>thoughts: 0.0049<br>re: 0.0045<br>ve: 0.0044",
          "Intent: 0.1129 <br>suicidal: 0.0620<br>end: 0.0490<br>would: 0.0429<br>plan: -0.0356<br>have: 0.0311<br>pain: -0.0255",
          "Intent: 0.8770 <br>suicidal: 0.2099<br>carry: 0.1682<br>end: 0.1572<br>have: 0.1569<br>this: 0.1409<br>111: 0.1278",
          "Intent: 0.8079 <br>suicidal: 0.1881<br>carry: 0.1647<br>this: 0.1605<br>end: 0.1556<br>have: 0.1435<br>to: 0.1208",
          "Intent: 0.7989 <br>suicidal: 0.1968<br>carry: 0.1625<br>this: 0.1607<br>have: 0.1549<br>end: 0.1433<br>you: 0.1175"
         ],
         "type": "scatter",
         "x": [
          1,
          2,
          3,
          4,
          5
         ],
         "y": [
          0.044695671647787094,
          0.11294116079807281,
          0.8769916892051697,
          0.8078934550285339,
          0.7989468574523926
         ]
        },
        {
         "line": {
          "color": "purple",
          "width": 0.8
         },
         "name": "Capability",
         "opacity": 0.8,
         "text": [
          "Capability: 0.0140 <br>anxiety: 0.0029<br>suicidal: 0.0022<br>depression: 0.0020<br>ve: 0.0019<br>texter: 0.0015<br>m: 0.0014",
          "Capability: 0.0206 <br>end: 0.0097<br>would: 0.0076<br>plan: -0.0072<br>life: 0.0061<br>suicidal: 0.0060<br>pain: -0.0049",
          "Capability: 0.6408 <br>carry: 0.1555<br>111: 0.1532<br>this: 0.1334<br>have: 0.1091<br>suicidal: 0.0993<br>end: 0.0914",
          "Capability: 0.5022 <br>this: 0.1107<br>carry: 0.0995<br>have: 0.0977<br>to: 0.0814<br>end: 0.0739<br>suicidal: 0.0668",
          "Capability: 0.4991 <br>carry: 0.1121<br>this: 0.1036<br>suicidal: 0.0916<br>end: 0.0885<br>have: 0.0872<br>999: 0.0833"
         ],
         "type": "scatter",
         "x": [
          1,
          2,
          3,
          4,
          5
         ],
         "y": [
          0.013959011062979698,
          0.020639890804886818,
          0.6408458352088928,
          0.5022104978561401,
          0.4990670382976532
         ]
        },
        {
         "line": {
          "color": "red",
          "width": 0.8
         },
         "name": "Timeframe",
         "opacity": 0.8,
         "text": [
          "Timeframe: 0.0059 <br>ve: 0.0015<br>anxiety: 0.0013<br>texter: 0.0010<br>counselor: -0.0008<br>thanks: -0.0006<br>depression: 0.0006",
          "Timeframe: 0.0068 <br>end: 0.0015<br>would: 0.0011<br>suicidal: 0.0011<br>anxiety: 0.0011<br>this: 0.0011<br>have: 0.0010",
          "Timeframe: 0.1171 <br>acted: -0.0449<br>carry: 0.0440<br>this: 0.0428<br>111: 0.0427<br>have: 0.0391<br>feel: -0.0333",
          "Timeframe: 0.0990 <br>this: 0.0329<br>carry: 0.0246<br>if: -0.0207<br>111: 0.0192<br>end: 0.0182<br>have: 0.0181",
          "Timeframe: 0.1048 <br>end: 0.0269<br>this: 0.0268<br>have: 0.0263<br>carry: 0.0256<br>to: 0.0220<br>feel: -0.0190"
         ],
         "type": "scatter",
         "x": [
          1,
          2,
          3,
          4,
          5
         ],
         "y": [
          0.005862205754965544,
          0.006765907630324364,
          0.11706870794296265,
          0.09901464730501175,
          0.104767806828022
         ]
        },
        {
         "line": {
          "color": "orange",
          "width": 0.8
         },
         "name": "Anxiety",
         "opacity": 0.8,
         "text": [
          "Anxiety: 0.7591 <br>anxiety: 0.5305<br>suicidal: -0.1309<br>depression: -0.0841<br>texter: 0.0611<br>counselor: 0.0316<br>and: 0.0221",
          "Anxiety: 0.5746 <br>anxiety: 0.4755<br>suicidal: -0.1497<br>depression: -0.0615<br>texter: 0.0571<br>end: -0.0488<br>how: -0.0300",
          "Anxiety: 0.5667 <br>anxiety: 0.4659<br>suicidal: -0.1449<br>depression: -0.0598<br>texter: 0.0433<br>end: -0.0425<br>this: -0.0328",
          "Anxiety: 0.5575 <br>anxiety: 0.4257<br>suicidal: -0.1477<br>depression: -0.0594<br>end: -0.0509<br>texter: 0.0329<br>life: -0.0308",
          "Anxiety: 0.5504 <br>anxiety: 0.3950<br>suicidal: -0.1422<br>depression: -0.0557<br>end: -0.0510<br>texter: 0.0382<br>you: -0.0292"
         ],
         "type": "scatter",
         "x": [
          1,
          2,
          3,
          4,
          5
         ],
         "y": [
          0.7591202855110168,
          0.5746361613273621,
          0.5667493343353271,
          0.5574800968170166,
          0.5504183769226074
         ]
        },
        {
         "line": {
          "color": "pink",
          "width": 0.8
         },
         "name": "Depressed",
         "opacity": 0.8,
         "text": [
          "Depressed: 0.6226 <br>depression: 0.6212<br>anxiety: -0.1132<br>suicidal: -0.0636<br>with: -0.0277<br>manage: -0.0226<br>texter: 0.0203",
          "Depressed: 0.5846 <br>depression: 0.4951<br>suicidal: -0.1543<br>anxiety: -0.1238<br>end: -0.0463<br>pain: 0.0315<br>texter: 0.0258",
          "Depressed: 0.6108 <br>depression: 0.4730<br>suicidal: -0.1065<br>anxiety: -0.0780<br>unsafe: -0.0601<br>texter: 0.0485<br>counselor: 0.0403",
          "Depressed: 0.5799 <br>depression: 0.4073<br>anxiety: -0.0984<br>suicidal: -0.0956<br>unsafe: -0.0630<br>plan: 0.0385<br>counselor: 0.0281",
          "Depressed: 0.5788 <br>depression: 0.4048<br>suicidal: -0.0924<br>unsafe: -0.0825<br>anxiety: -0.0759<br>plan: 0.0469<br>texter: 0.0356"
         ],
         "type": "scatter",
         "x": [
          1,
          2,
          3,
          4,
          5
         ],
         "y": [
          0.6226081848144531,
          0.584562361240387,
          0.6107624769210815,
          0.5798774361610413,
          0.5787926316261292
         ]
        },
        {
         "line": {
          "color": "cyan",
          "width": 0.8
         },
         "name": "Self harm",
         "opacity": 0.8,
         "text": [
          "Self harm: 0.0207 <br>suicidal: 0.0054<br>ve: 0.0031<br>thoughts: 0.0025<br>m: 0.0021<br>depression: -0.0021<br>counselor: -0.0020",
          "Self harm: 0.0186 <br>suicidal: 0.0034<br>you: 0.0029<br>anxiety: 0.0021<br>thoughts: 0.0020<br>end: 0.0017<br>counselor: 0.0014",
          "Self harm: 0.0231 <br>anxiety: 0.0047<br>suicidal: -0.0039<br>counselor: 0.0038<br>texter: 0.0038<br>have: 0.0035<br>feel: -0.0031",
          "Self harm: 0.0336 <br>suicidal: -0.0072<br>counselor: 0.0056<br>unsafe: 0.0054<br>texter: 0.0052<br>anxiety: 0.0042<br>helps: 0.0042",
          "Self harm: 0.0423 <br>unsafe: 0.0126<br>counselor: 0.0089<br>you: 0.0083<br>suicidal: -0.0074<br>texter: 0.0073<br>depression: -0.0054"
         ],
         "type": "scatter",
         "x": [
          1,
          2,
          3,
          4,
          5
         ],
         "y": [
          0.020727021619677544,
          0.018571114167571068,
          0.02312859334051609,
          0.03360123187303543,
          0.042293649166822433
         ]
        },
        {
         "line": {
          "color": "maroon",
          "width": 0.8
         },
         "name": "Substance",
         "opacity": 0.8,
         "text": [
          "Substance: 0.0073 <br>suicidal: -0.0027<br>anxiety: 0.0023<br>ve: 0.0019<br>counselor: -0.0017<br>depression: 0.0017<br>texter: 0.0010",
          "Substance: 0.0056 <br>anxiety: 0.0016<br>suicidal: -0.0011<br>you: 0.0009<br>depression: 0.0007<br>s: 0.0006<br>counselor: 0.0005",
          "Substance: 0.0090 <br>anxiety: 0.0035<br>suicidal: -0.0028<br>this: 0.0019<br>counselor: 0.0018<br>have: 0.0013<br>acted: -0.0011",
          "Substance: 0.0138 <br>anxiety: 0.0040<br>suicidal: -0.0035<br>nothing: 0.0023<br>counselor: 0.0022<br>helps: 0.0022<br>this: 0.0020",
          "Substance: 0.0167 <br>anxiety: 0.0049<br>suicidal: -0.0034<br>counselor: 0.0032<br>helps: 0.0027<br>this: 0.0027<br>nothing: 0.0024"
         ],
         "type": "scatter",
         "x": [
          1,
          2,
          3,
          4,
          5
         ],
         "y": [
          0.007345054764300585,
          0.005581910256296396,
          0.008980288170278072,
          0.01384507492184639,
          0.016672387719154358
         ]
        },
        {
         "line": {
          "color": "magenta",
          "width": 0.8
         },
         "name": "Helpful",
         "opacity": 0.8,
         "text": [
          "Helpful: 0.2427 <br>suicidal: -0.1581<br>texter: -0.0980<br>re: -0.0967<br>thanks: 0.0910<br>tried: -0.0853<br>through: -0.0759",
          "Helpful: 0.4510 <br>you: -0.0704<br>texter: -0.0652<br>counselor: -0.0636<br>angry: -0.0631<br>thank: 0.0457<br>thanks: 0.0456",
          "Helpful: 0.4565 <br>unsafe: -0.0595<br>you: -0.0534<br>texter: -0.0511<br>thank: 0.0484<br>counselor: -0.0448<br>this: -0.0439",
          "Helpful: 0.1948 <br>nothing: -0.1130<br>t: -0.0858<br>helps: -0.0752<br>unsafe: -0.0526<br>texter: -0.0500<br>don: -0.0478",
          "Helpful: 0.1533 <br>nothing: -0.1021<br>t: -0.0989<br>counselor: -0.0674<br>help: -0.0659<br>don: -0.0619<br>unsafe: -0.0570"
         ],
         "type": "scatter",
         "x": [
          1,
          2,
          3,
          4,
          5
         ],
         "y": [
          0.24267825484275818,
          0.45097675919532776,
          0.45650798082351685,
          0.19480270147323608,
          0.15328924357891083
         ]
        }
       ],
       "layout": {
        "font": {
         "size": 18
        },
        "height": 600,
        "shapes": [
         {
          "type": "line",
          "x0": 1,
          "x1": 5,
          "y0": 0.5,
          "y1": 0.5
         }
        ],
        "template": {
         "data": {
          "bar": [
           {
            "error_x": {
             "color": "#2a3f5f"
            },
            "error_y": {
             "color": "#2a3f5f"
            },
            "marker": {
             "line": {
              "color": "#E5ECF6",
              "width": 0.5
             },
             "pattern": {
              "fillmode": "overlay",
              "size": 10,
              "solidity": 0.2
             }
            },
            "type": "bar"
           }
          ],
          "barpolar": [
           {
            "marker": {
             "line": {
              "color": "#E5ECF6",
              "width": 0.5
             },
             "pattern": {
              "fillmode": "overlay",
              "size": 10,
              "solidity": 0.2
             }
            },
            "type": "barpolar"
           }
          ],
          "carpet": [
           {
            "aaxis": {
             "endlinecolor": "#2a3f5f",
             "gridcolor": "white",
             "linecolor": "white",
             "minorgridcolor": "white",
             "startlinecolor": "#2a3f5f"
            },
            "baxis": {
             "endlinecolor": "#2a3f5f",
             "gridcolor": "white",
             "linecolor": "white",
             "minorgridcolor": "white",
             "startlinecolor": "#2a3f5f"
            },
            "type": "carpet"
           }
          ],
          "choropleth": [
           {
            "colorbar": {
             "outlinewidth": 0,
             "ticks": ""
            },
            "type": "choropleth"
           }
          ],
          "contour": [
           {
            "colorbar": {
             "outlinewidth": 0,
             "ticks": ""
            },
            "colorscale": [
             [
              0,
              "#0d0887"
             ],
             [
              0.1111111111111111,
              "#46039f"
             ],
             [
              0.2222222222222222,
              "#7201a8"
             ],
             [
              0.3333333333333333,
              "#9c179e"
             ],
             [
              0.4444444444444444,
              "#bd3786"
             ],
             [
              0.5555555555555556,
              "#d8576b"
             ],
             [
              0.6666666666666666,
              "#ed7953"
             ],
             [
              0.7777777777777778,
              "#fb9f3a"
             ],
             [
              0.8888888888888888,
              "#fdca26"
             ],
             [
              1,
              "#f0f921"
             ]
            ],
            "type": "contour"
           }
          ],
          "contourcarpet": [
           {
            "colorbar": {
             "outlinewidth": 0,
             "ticks": ""
            },
            "type": "contourcarpet"
           }
          ],
          "heatmap": [
           {
            "colorbar": {
             "outlinewidth": 0,
             "ticks": ""
            },
            "colorscale": [
             [
              0,
              "#0d0887"
             ],
             [
              0.1111111111111111,
              "#46039f"
             ],
             [
              0.2222222222222222,
              "#7201a8"
             ],
             [
              0.3333333333333333,
              "#9c179e"
             ],
             [
              0.4444444444444444,
              "#bd3786"
             ],
             [
              0.5555555555555556,
              "#d8576b"
             ],
             [
              0.6666666666666666,
              "#ed7953"
             ],
             [
              0.7777777777777778,
              "#fb9f3a"
             ],
             [
              0.8888888888888888,
              "#fdca26"
             ],
             [
              1,
              "#f0f921"
             ]
            ],
            "type": "heatmap"
           }
          ],
          "heatmapgl": [
           {
            "colorbar": {
             "outlinewidth": 0,
             "ticks": ""
            },
            "colorscale": [
             [
              0,
              "#0d0887"
             ],
             [
              0.1111111111111111,
              "#46039f"
             ],
             [
              0.2222222222222222,
              "#7201a8"
             ],
             [
              0.3333333333333333,
              "#9c179e"
             ],
             [
              0.4444444444444444,
              "#bd3786"
             ],
             [
              0.5555555555555556,
              "#d8576b"
             ],
             [
              0.6666666666666666,
              "#ed7953"
             ],
             [
              0.7777777777777778,
              "#fb9f3a"
             ],
             [
              0.8888888888888888,
              "#fdca26"
             ],
             [
              1,
              "#f0f921"
             ]
            ],
            "type": "heatmapgl"
           }
          ],
          "histogram": [
           {
            "marker": {
             "pattern": {
              "fillmode": "overlay",
              "size": 10,
              "solidity": 0.2
             }
            },
            "type": "histogram"
           }
          ],
          "histogram2d": [
           {
            "colorbar": {
             "outlinewidth": 0,
             "ticks": ""
            },
            "colorscale": [
             [
              0,
              "#0d0887"
             ],
             [
              0.1111111111111111,
              "#46039f"
             ],
             [
              0.2222222222222222,
              "#7201a8"
             ],
             [
              0.3333333333333333,
              "#9c179e"
             ],
             [
              0.4444444444444444,
              "#bd3786"
             ],
             [
              0.5555555555555556,
              "#d8576b"
             ],
             [
              0.6666666666666666,
              "#ed7953"
             ],
             [
              0.7777777777777778,
              "#fb9f3a"
             ],
             [
              0.8888888888888888,
              "#fdca26"
             ],
             [
              1,
              "#f0f921"
             ]
            ],
            "type": "histogram2d"
           }
          ],
          "histogram2dcontour": [
           {
            "colorbar": {
             "outlinewidth": 0,
             "ticks": ""
            },
            "colorscale": [
             [
              0,
              "#0d0887"
             ],
             [
              0.1111111111111111,
              "#46039f"
             ],
             [
              0.2222222222222222,
              "#7201a8"
             ],
             [
              0.3333333333333333,
              "#9c179e"
             ],
             [
              0.4444444444444444,
              "#bd3786"
             ],
             [
              0.5555555555555556,
              "#d8576b"
             ],
             [
              0.6666666666666666,
              "#ed7953"
             ],
             [
              0.7777777777777778,
              "#fb9f3a"
             ],
             [
              0.8888888888888888,
              "#fdca26"
             ],
             [
              1,
              "#f0f921"
             ]
            ],
            "type": "histogram2dcontour"
           }
          ],
          "mesh3d": [
           {
            "colorbar": {
             "outlinewidth": 0,
             "ticks": ""
            },
            "type": "mesh3d"
           }
          ],
          "parcoords": [
           {
            "line": {
             "colorbar": {
              "outlinewidth": 0,
              "ticks": ""
             }
            },
            "type": "parcoords"
           }
          ],
          "pie": [
           {
            "automargin": true,
            "type": "pie"
           }
          ],
          "scatter": [
           {
            "marker": {
             "colorbar": {
              "outlinewidth": 0,
              "ticks": ""
             }
            },
            "type": "scatter"
           }
          ],
          "scatter3d": [
           {
            "line": {
             "colorbar": {
              "outlinewidth": 0,
              "ticks": ""
             }
            },
            "marker": {
             "colorbar": {
              "outlinewidth": 0,
              "ticks": ""
             }
            },
            "type": "scatter3d"
           }
          ],
          "scattercarpet": [
           {
            "marker": {
             "colorbar": {
              "outlinewidth": 0,
              "ticks": ""
             }
            },
            "type": "scattercarpet"
           }
          ],
          "scattergeo": [
           {
            "marker": {
             "colorbar": {
              "outlinewidth": 0,
              "ticks": ""
             }
            },
            "type": "scattergeo"
           }
          ],
          "scattergl": [
           {
            "marker": {
             "colorbar": {
              "outlinewidth": 0,
              "ticks": ""
             }
            },
            "type": "scattergl"
           }
          ],
          "scattermapbox": [
           {
            "marker": {
             "colorbar": {
              "outlinewidth": 0,
              "ticks": ""
             }
            },
            "type": "scattermapbox"
           }
          ],
          "scatterpolar": [
           {
            "marker": {
             "colorbar": {
              "outlinewidth": 0,
              "ticks": ""
             }
            },
            "type": "scatterpolar"
           }
          ],
          "scatterpolargl": [
           {
            "marker": {
             "colorbar": {
              "outlinewidth": 0,
              "ticks": ""
             }
            },
            "type": "scatterpolargl"
           }
          ],
          "scatterternary": [
           {
            "marker": {
             "colorbar": {
              "outlinewidth": 0,
              "ticks": ""
             }
            },
            "type": "scatterternary"
           }
          ],
          "surface": [
           {
            "colorbar": {
             "outlinewidth": 0,
             "ticks": ""
            },
            "colorscale": [
             [
              0,
              "#0d0887"
             ],
             [
              0.1111111111111111,
              "#46039f"
             ],
             [
              0.2222222222222222,
              "#7201a8"
             ],
             [
              0.3333333333333333,
              "#9c179e"
             ],
             [
              0.4444444444444444,
              "#bd3786"
             ],
             [
              0.5555555555555556,
              "#d8576b"
             ],
             [
              0.6666666666666666,
              "#ed7953"
             ],
             [
              0.7777777777777778,
              "#fb9f3a"
             ],
             [
              0.8888888888888888,
              "#fdca26"
             ],
             [
              1,
              "#f0f921"
             ]
            ],
            "type": "surface"
           }
          ],
          "table": [
           {
            "cells": {
             "fill": {
              "color": "#EBF0F8"
             },
             "line": {
              "color": "white"
             }
            },
            "header": {
             "fill": {
              "color": "#C8D4E3"
             },
             "line": {
              "color": "white"
             }
            },
            "type": "table"
           }
          ]
         },
         "layout": {
          "annotationdefaults": {
           "arrowcolor": "#2a3f5f",
           "arrowhead": 0,
           "arrowwidth": 1
          },
          "autotypenumbers": "strict",
          "coloraxis": {
           "colorbar": {
            "outlinewidth": 0,
            "ticks": ""
           }
          },
          "colorscale": {
           "diverging": [
            [
             0,
             "#8e0152"
            ],
            [
             0.1,
             "#c51b7d"
            ],
            [
             0.2,
             "#de77ae"
            ],
            [
             0.3,
             "#f1b6da"
            ],
            [
             0.4,
             "#fde0ef"
            ],
            [
             0.5,
             "#f7f7f7"
            ],
            [
             0.6,
             "#e6f5d0"
            ],
            [
             0.7,
             "#b8e186"
            ],
            [
             0.8,
             "#7fbc41"
            ],
            [
             0.9,
             "#4d9221"
            ],
            [
             1,
             "#276419"
            ]
           ],
           "sequential": [
            [
             0,
             "#0d0887"
            ],
            [
             0.1111111111111111,
             "#46039f"
            ],
            [
             0.2222222222222222,
             "#7201a8"
            ],
            [
             0.3333333333333333,
             "#9c179e"
            ],
            [
             0.4444444444444444,
             "#bd3786"
            ],
            [
             0.5555555555555556,
             "#d8576b"
            ],
            [
             0.6666666666666666,
             "#ed7953"
            ],
            [
             0.7777777777777778,
             "#fb9f3a"
            ],
            [
             0.8888888888888888,
             "#fdca26"
            ],
            [
             1,
             "#f0f921"
            ]
           ],
           "sequentialminus": [
            [
             0,
             "#0d0887"
            ],
            [
             0.1111111111111111,
             "#46039f"
            ],
            [
             0.2222222222222222,
             "#7201a8"
            ],
            [
             0.3333333333333333,
             "#9c179e"
            ],
            [
             0.4444444444444444,
             "#bd3786"
            ],
            [
             0.5555555555555556,
             "#d8576b"
            ],
            [
             0.6666666666666666,
             "#ed7953"
            ],
            [
             0.7777777777777778,
             "#fb9f3a"
            ],
            [
             0.8888888888888888,
             "#fdca26"
            ],
            [
             1,
             "#f0f921"
            ]
           ]
          },
          "colorway": [
           "#636efa",
           "#EF553B",
           "#00cc96",
           "#ab63fa",
           "#FFA15A",
           "#19d3f3",
           "#FF6692",
           "#B6E880",
           "#FF97FF",
           "#FECB52"
          ],
          "font": {
           "color": "#2a3f5f"
          },
          "geo": {
           "bgcolor": "white",
           "lakecolor": "white",
           "landcolor": "#E5ECF6",
           "showlakes": true,
           "showland": true,
           "subunitcolor": "white"
          },
          "hoverlabel": {
           "align": "left"
          },
          "hovermode": "closest",
          "mapbox": {
           "style": "light"
          },
          "paper_bgcolor": "white",
          "plot_bgcolor": "#E5ECF6",
          "polar": {
           "angularaxis": {
            "gridcolor": "white",
            "linecolor": "white",
            "ticks": ""
           },
           "bgcolor": "#E5ECF6",
           "radialaxis": {
            "gridcolor": "white",
            "linecolor": "white",
            "ticks": ""
           }
          },
          "scene": {
           "xaxis": {
            "backgroundcolor": "#E5ECF6",
            "gridcolor": "white",
            "gridwidth": 2,
            "linecolor": "white",
            "showbackground": true,
            "ticks": "",
            "zerolinecolor": "white"
           },
           "yaxis": {
            "backgroundcolor": "#E5ECF6",
            "gridcolor": "white",
            "gridwidth": 2,
            "linecolor": "white",
            "showbackground": true,
            "ticks": "",
            "zerolinecolor": "white"
           },
           "zaxis": {
            "backgroundcolor": "#E5ECF6",
            "gridcolor": "white",
            "gridwidth": 2,
            "linecolor": "white",
            "showbackground": true,
            "ticks": "",
            "zerolinecolor": "white"
           }
          },
          "shapedefaults": {
           "line": {
            "color": "#2a3f5f"
           }
          },
          "ternary": {
           "aaxis": {
            "gridcolor": "white",
            "linecolor": "white",
            "ticks": ""
           },
           "baxis": {
            "gridcolor": "white",
            "linecolor": "white",
            "ticks": ""
           },
           "bgcolor": "#E5ECF6",
           "caxis": {
            "gridcolor": "white",
            "linecolor": "white",
            "ticks": ""
           }
          },
          "title": {
           "x": 0.05
          },
          "xaxis": {
           "automargin": true,
           "gridcolor": "white",
           "linecolor": "white",
           "ticks": "",
           "title": {
            "standoff": 15
           },
           "zerolinecolor": "white",
           "zerolinewidth": 2
          },
          "yaxis": {
           "automargin": true,
           "gridcolor": "white",
           "linecolor": "white",
           "ticks": "",
           "title": {
            "standoff": 15
           },
           "zerolinecolor": "white",
           "zerolinewidth": 2
          }
         }
        },
        "title": {
         "text": "Prediction of Suicide Risk Assessment"
        },
        "width": 1000,
        "xaxis": {
         "dtick": 1,
         "title": {
          "text": "Conversation Segment"
         }
        },
        "yaxis": {
         "title": {
          "text": "Prediction Probability"
         }
        }
       }
      },
      "text/html": [
       "<div>                            <div id=\"c1213e8b-0e1c-44fa-8d57-8e2f9541705b\" class=\"plotly-graph-div\" style=\"height:600px; width:1000px;\"></div>            <script type=\"text/javascript\">                require([\"plotly\"], function(Plotly) {                    window.PLOTLYENV=window.PLOTLYENV || {};                                    if (document.getElementById(\"c1213e8b-0e1c-44fa-8d57-8e2f9541705b\")) {                    Plotly.newPlot(                        \"c1213e8b-0e1c-44fa-8d57-8e2f9541705b\",                        [{\"line\":{\"color\":\"green\",\"width\":0.8},\"name\":\"Desire\",\"opacity\":0.8,\"text\":[\"Desire: 0.6300 <br>suicidal: 0.4435<br>thoughts: 0.1097<br>you: 0.0711<br>anxiety: -0.0518<br>m: 0.0476<br>and: 0.0424\",\"Desire: 0.8419 <br>suicidal: 0.4273<br>end: 0.1734<br>would: 0.0856<br>life: 0.0728<br>how: 0.0535<br>you: 0.0525\",\"Desire: 0.8866 <br>suicidal: 0.2917<br>end: 0.1216<br>life: 0.0765<br>you: 0.0700<br>carry: 0.0646<br>111: 0.0527\",\"Desire: 0.8564 <br>suicidal: 0.2987<br>end: 0.1375<br>you: 0.0839<br>life: 0.0809<br>carry: 0.0676<br>have: 0.0594\",\"Desire: 0.8472 <br>suicidal: 0.2968<br>end: 0.1469<br>you: 0.1067<br>life: 0.0862<br>carry: 0.0665<br>this: 0.0556\"],\"type\":\"scatter\",\"x\":[1,2,3,4,5],\"y\":[0.6300251483917236,0.8418587446212769,0.8866495490074158,0.8563567399978638,0.8472049236297607]},{\"line\":{\"color\":\"blue\",\"width\":0.8},\"name\":\"Intent\",\"opacity\":0.8,\"text\":[\"Intent: 0.0447 <br>suicidal: 0.0183<br>m: 0.0051<br>you: 0.0051<br>thoughts: 0.0049<br>re: 0.0045<br>ve: 0.0044\",\"Intent: 0.1129 <br>suicidal: 0.0620<br>end: 0.0490<br>would: 0.0429<br>plan: -0.0356<br>have: 0.0311<br>pain: -0.0255\",\"Intent: 0.8770 <br>suicidal: 0.2099<br>carry: 0.1682<br>end: 0.1572<br>have: 0.1569<br>this: 0.1409<br>111: 0.1278\",\"Intent: 0.8079 <br>suicidal: 0.1881<br>carry: 0.1647<br>this: 0.1605<br>end: 0.1556<br>have: 0.1435<br>to: 0.1208\",\"Intent: 0.7989 <br>suicidal: 0.1968<br>carry: 0.1625<br>this: 0.1607<br>have: 0.1549<br>end: 0.1433<br>you: 0.1175\"],\"type\":\"scatter\",\"x\":[1,2,3,4,5],\"y\":[0.044695671647787094,0.11294116079807281,0.8769916892051697,0.8078934550285339,0.7989468574523926]},{\"line\":{\"color\":\"purple\",\"width\":0.8},\"name\":\"Capability\",\"opacity\":0.8,\"text\":[\"Capability: 0.0140 <br>anxiety: 0.0029<br>suicidal: 0.0022<br>depression: 0.0020<br>ve: 0.0019<br>texter: 0.0015<br>m: 0.0014\",\"Capability: 0.0206 <br>end: 0.0097<br>would: 0.0076<br>plan: -0.0072<br>life: 0.0061<br>suicidal: 0.0060<br>pain: -0.0049\",\"Capability: 0.6408 <br>carry: 0.1555<br>111: 0.1532<br>this: 0.1334<br>have: 0.1091<br>suicidal: 0.0993<br>end: 0.0914\",\"Capability: 0.5022 <br>this: 0.1107<br>carry: 0.0995<br>have: 0.0977<br>to: 0.0814<br>end: 0.0739<br>suicidal: 0.0668\",\"Capability: 0.4991 <br>carry: 0.1121<br>this: 0.1036<br>suicidal: 0.0916<br>end: 0.0885<br>have: 0.0872<br>999: 0.0833\"],\"type\":\"scatter\",\"x\":[1,2,3,4,5],\"y\":[0.013959011062979698,0.020639890804886818,0.6408458352088928,0.5022104978561401,0.4990670382976532]},{\"line\":{\"color\":\"red\",\"width\":0.8},\"name\":\"Timeframe\",\"opacity\":0.8,\"text\":[\"Timeframe: 0.0059 <br>ve: 0.0015<br>anxiety: 0.0013<br>texter: 0.0010<br>counselor: -0.0008<br>thanks: -0.0006<br>depression: 0.0006\",\"Timeframe: 0.0068 <br>end: 0.0015<br>would: 0.0011<br>suicidal: 0.0011<br>anxiety: 0.0011<br>this: 0.0011<br>have: 0.0010\",\"Timeframe: 0.1171 <br>acted: -0.0449<br>carry: 0.0440<br>this: 0.0428<br>111: 0.0427<br>have: 0.0391<br>feel: -0.0333\",\"Timeframe: 0.0990 <br>this: 0.0329<br>carry: 0.0246<br>if: -0.0207<br>111: 0.0192<br>end: 0.0182<br>have: 0.0181\",\"Timeframe: 0.1048 <br>end: 0.0269<br>this: 0.0268<br>have: 0.0263<br>carry: 0.0256<br>to: 0.0220<br>feel: -0.0190\"],\"type\":\"scatter\",\"x\":[1,2,3,4,5],\"y\":[0.005862205754965544,0.006765907630324364,0.11706870794296265,0.09901464730501175,0.104767806828022]},{\"line\":{\"color\":\"orange\",\"width\":0.8},\"name\":\"Anxiety\",\"opacity\":0.8,\"text\":[\"Anxiety: 0.7591 <br>anxiety: 0.5305<br>suicidal: -0.1309<br>depression: -0.0841<br>texter: 0.0611<br>counselor: 0.0316<br>and: 0.0221\",\"Anxiety: 0.5746 <br>anxiety: 0.4755<br>suicidal: -0.1497<br>depression: -0.0615<br>texter: 0.0571<br>end: -0.0488<br>how: -0.0300\",\"Anxiety: 0.5667 <br>anxiety: 0.4659<br>suicidal: -0.1449<br>depression: -0.0598<br>texter: 0.0433<br>end: -0.0425<br>this: -0.0328\",\"Anxiety: 0.5575 <br>anxiety: 0.4257<br>suicidal: -0.1477<br>depression: -0.0594<br>end: -0.0509<br>texter: 0.0329<br>life: -0.0308\",\"Anxiety: 0.5504 <br>anxiety: 0.3950<br>suicidal: -0.1422<br>depression: -0.0557<br>end: -0.0510<br>texter: 0.0382<br>you: -0.0292\"],\"type\":\"scatter\",\"x\":[1,2,3,4,5],\"y\":[0.7591202855110168,0.5746361613273621,0.5667493343353271,0.5574800968170166,0.5504183769226074]},{\"line\":{\"color\":\"pink\",\"width\":0.8},\"name\":\"Depressed\",\"opacity\":0.8,\"text\":[\"Depressed: 0.6226 <br>depression: 0.6212<br>anxiety: -0.1132<br>suicidal: -0.0636<br>with: -0.0277<br>manage: -0.0226<br>texter: 0.0203\",\"Depressed: 0.5846 <br>depression: 0.4951<br>suicidal: -0.1543<br>anxiety: -0.1238<br>end: -0.0463<br>pain: 0.0315<br>texter: 0.0258\",\"Depressed: 0.6108 <br>depression: 0.4730<br>suicidal: -0.1065<br>anxiety: -0.0780<br>unsafe: -0.0601<br>texter: 0.0485<br>counselor: 0.0403\",\"Depressed: 0.5799 <br>depression: 0.4073<br>anxiety: -0.0984<br>suicidal: -0.0956<br>unsafe: -0.0630<br>plan: 0.0385<br>counselor: 0.0281\",\"Depressed: 0.5788 <br>depression: 0.4048<br>suicidal: -0.0924<br>unsafe: -0.0825<br>anxiety: -0.0759<br>plan: 0.0469<br>texter: 0.0356\"],\"type\":\"scatter\",\"x\":[1,2,3,4,5],\"y\":[0.6226081848144531,0.584562361240387,0.6107624769210815,0.5798774361610413,0.5787926316261292]},{\"line\":{\"color\":\"cyan\",\"width\":0.8},\"name\":\"Self harm\",\"opacity\":0.8,\"text\":[\"Self harm: 0.0207 <br>suicidal: 0.0054<br>ve: 0.0031<br>thoughts: 0.0025<br>m: 0.0021<br>depression: -0.0021<br>counselor: -0.0020\",\"Self harm: 0.0186 <br>suicidal: 0.0034<br>you: 0.0029<br>anxiety: 0.0021<br>thoughts: 0.0020<br>end: 0.0017<br>counselor: 0.0014\",\"Self harm: 0.0231 <br>anxiety: 0.0047<br>suicidal: -0.0039<br>counselor: 0.0038<br>texter: 0.0038<br>have: 0.0035<br>feel: -0.0031\",\"Self harm: 0.0336 <br>suicidal: -0.0072<br>counselor: 0.0056<br>unsafe: 0.0054<br>texter: 0.0052<br>anxiety: 0.0042<br>helps: 0.0042\",\"Self harm: 0.0423 <br>unsafe: 0.0126<br>counselor: 0.0089<br>you: 0.0083<br>suicidal: -0.0074<br>texter: 0.0073<br>depression: -0.0054\"],\"type\":\"scatter\",\"x\":[1,2,3,4,5],\"y\":[0.020727021619677544,0.018571114167571068,0.02312859334051609,0.03360123187303543,0.042293649166822433]},{\"line\":{\"color\":\"maroon\",\"width\":0.8},\"name\":\"Substance\",\"opacity\":0.8,\"text\":[\"Substance: 0.0073 <br>suicidal: -0.0027<br>anxiety: 0.0023<br>ve: 0.0019<br>counselor: -0.0017<br>depression: 0.0017<br>texter: 0.0010\",\"Substance: 0.0056 <br>anxiety: 0.0016<br>suicidal: -0.0011<br>you: 0.0009<br>depression: 0.0007<br>s: 0.0006<br>counselor: 0.0005\",\"Substance: 0.0090 <br>anxiety: 0.0035<br>suicidal: -0.0028<br>this: 0.0019<br>counselor: 0.0018<br>have: 0.0013<br>acted: -0.0011\",\"Substance: 0.0138 <br>anxiety: 0.0040<br>suicidal: -0.0035<br>nothing: 0.0023<br>counselor: 0.0022<br>helps: 0.0022<br>this: 0.0020\",\"Substance: 0.0167 <br>anxiety: 0.0049<br>suicidal: -0.0034<br>counselor: 0.0032<br>helps: 0.0027<br>this: 0.0027<br>nothing: 0.0024\"],\"type\":\"scatter\",\"x\":[1,2,3,4,5],\"y\":[0.007345054764300585,0.005581910256296396,0.008980288170278072,0.01384507492184639,0.016672387719154358]},{\"line\":{\"color\":\"magenta\",\"width\":0.8},\"name\":\"Helpful\",\"opacity\":0.8,\"text\":[\"Helpful: 0.2427 <br>suicidal: -0.1581<br>texter: -0.0980<br>re: -0.0967<br>thanks: 0.0910<br>tried: -0.0853<br>through: -0.0759\",\"Helpful: 0.4510 <br>you: -0.0704<br>texter: -0.0652<br>counselor: -0.0636<br>angry: -0.0631<br>thank: 0.0457<br>thanks: 0.0456\",\"Helpful: 0.4565 <br>unsafe: -0.0595<br>you: -0.0534<br>texter: -0.0511<br>thank: 0.0484<br>counselor: -0.0448<br>this: -0.0439\",\"Helpful: 0.1948 <br>nothing: -0.1130<br>t: -0.0858<br>helps: -0.0752<br>unsafe: -0.0526<br>texter: -0.0500<br>don: -0.0478\",\"Helpful: 0.1533 <br>nothing: -0.1021<br>t: -0.0989<br>counselor: -0.0674<br>help: -0.0659<br>don: -0.0619<br>unsafe: -0.0570\"],\"type\":\"scatter\",\"x\":[1,2,3,4,5],\"y\":[0.24267825484275818,0.45097675919532776,0.45650798082351685,0.19480270147323608,0.15328924357891083]}],                        {\"font\":{\"size\":18},\"height\":600,\"shapes\":[{\"type\":\"line\",\"x0\":1,\"x1\":5,\"y0\":0.5,\"y1\":0.5}],\"template\":{\"data\":{\"bar\":[{\"error_x\":{\"color\":\"#2a3f5f\"},\"error_y\":{\"color\":\"#2a3f5f\"},\"marker\":{\"line\":{\"color\":\"#E5ECF6\",\"width\":0.5},\"pattern\":{\"fillmode\":\"overlay\",\"size\":10,\"solidity\":0.2}},\"type\":\"bar\"}],\"barpolar\":[{\"marker\":{\"line\":{\"color\":\"#E5ECF6\",\"width\":0.5},\"pattern\":{\"fillmode\":\"overlay\",\"size\":10,\"solidity\":0.2}},\"type\":\"barpolar\"}],\"carpet\":[{\"aaxis\":{\"endlinecolor\":\"#2a3f5f\",\"gridcolor\":\"white\",\"linecolor\":\"white\",\"minorgridcolor\":\"white\",\"startlinecolor\":\"#2a3f5f\"},\"baxis\":{\"endlinecolor\":\"#2a3f5f\",\"gridcolor\":\"white\",\"linecolor\":\"white\",\"minorgridcolor\":\"white\",\"startlinecolor\":\"#2a3f5f\"},\"type\":\"carpet\"}],\"choropleth\":[{\"colorbar\":{\"outlinewidth\":0,\"ticks\":\"\"},\"type\":\"choropleth\"}],\"contour\":[{\"colorbar\":{\"outlinewidth\":0,\"ticks\":\"\"},\"colorscale\":[[0.0,\"#0d0887\"],[0.1111111111111111,\"#46039f\"],[0.2222222222222222,\"#7201a8\"],[0.3333333333333333,\"#9c179e\"],[0.4444444444444444,\"#bd3786\"],[0.5555555555555556,\"#d8576b\"],[0.6666666666666666,\"#ed7953\"],[0.7777777777777778,\"#fb9f3a\"],[0.8888888888888888,\"#fdca26\"],[1.0,\"#f0f921\"]],\"type\":\"contour\"}],\"contourcarpet\":[{\"colorbar\":{\"outlinewidth\":0,\"ticks\":\"\"},\"type\":\"contourcarpet\"}],\"heatmap\":[{\"colorbar\":{\"outlinewidth\":0,\"ticks\":\"\"},\"colorscale\":[[0.0,\"#0d0887\"],[0.1111111111111111,\"#46039f\"],[0.2222222222222222,\"#7201a8\"],[0.3333333333333333,\"#9c179e\"],[0.4444444444444444,\"#bd3786\"],[0.5555555555555556,\"#d8576b\"],[0.6666666666666666,\"#ed7953\"],[0.7777777777777778,\"#fb9f3a\"],[0.8888888888888888,\"#fdca26\"],[1.0,\"#f0f921\"]],\"type\":\"heatmap\"}],\"heatmapgl\":[{\"colorbar\":{\"outlinewidth\":0,\"ticks\":\"\"},\"colorscale\":[[0.0,\"#0d0887\"],[0.1111111111111111,\"#46039f\"],[0.2222222222222222,\"#7201a8\"],[0.3333333333333333,\"#9c179e\"],[0.4444444444444444,\"#bd3786\"],[0.5555555555555556,\"#d8576b\"],[0.6666666666666666,\"#ed7953\"],[0.7777777777777778,\"#fb9f3a\"],[0.8888888888888888,\"#fdca26\"],[1.0,\"#f0f921\"]],\"type\":\"heatmapgl\"}],\"histogram\":[{\"marker\":{\"pattern\":{\"fillmode\":\"overlay\",\"size\":10,\"solidity\":0.2}},\"type\":\"histogram\"}],\"histogram2d\":[{\"colorbar\":{\"outlinewidth\":0,\"ticks\":\"\"},\"colorscale\":[[0.0,\"#0d0887\"],[0.1111111111111111,\"#46039f\"],[0.2222222222222222,\"#7201a8\"],[0.3333333333333333,\"#9c179e\"],[0.4444444444444444,\"#bd3786\"],[0.5555555555555556,\"#d8576b\"],[0.6666666666666666,\"#ed7953\"],[0.7777777777777778,\"#fb9f3a\"],[0.8888888888888888,\"#fdca26\"],[1.0,\"#f0f921\"]],\"type\":\"histogram2d\"}],\"histogram2dcontour\":[{\"colorbar\":{\"outlinewidth\":0,\"ticks\":\"\"},\"colorscale\":[[0.0,\"#0d0887\"],[0.1111111111111111,\"#46039f\"],[0.2222222222222222,\"#7201a8\"],[0.3333333333333333,\"#9c179e\"],[0.4444444444444444,\"#bd3786\"],[0.5555555555555556,\"#d8576b\"],[0.6666666666666666,\"#ed7953\"],[0.7777777777777778,\"#fb9f3a\"],[0.8888888888888888,\"#fdca26\"],[1.0,\"#f0f921\"]],\"type\":\"histogram2dcontour\"}],\"mesh3d\":[{\"colorbar\":{\"outlinewidth\":0,\"ticks\":\"\"},\"type\":\"mesh3d\"}],\"parcoords\":[{\"line\":{\"colorbar\":{\"outlinewidth\":0,\"ticks\":\"\"}},\"type\":\"parcoords\"}],\"pie\":[{\"automargin\":true,\"type\":\"pie\"}],\"scatter\":[{\"marker\":{\"colorbar\":{\"outlinewidth\":0,\"ticks\":\"\"}},\"type\":\"scatter\"}],\"scatter3d\":[{\"line\":{\"colorbar\":{\"outlinewidth\":0,\"ticks\":\"\"}},\"marker\":{\"colorbar\":{\"outlinewidth\":0,\"ticks\":\"\"}},\"type\":\"scatter3d\"}],\"scattercarpet\":[{\"marker\":{\"colorbar\":{\"outlinewidth\":0,\"ticks\":\"\"}},\"type\":\"scattercarpet\"}],\"scattergeo\":[{\"marker\":{\"colorbar\":{\"outlinewidth\":0,\"ticks\":\"\"}},\"type\":\"scattergeo\"}],\"scattergl\":[{\"marker\":{\"colorbar\":{\"outlinewidth\":0,\"ticks\":\"\"}},\"type\":\"scattergl\"}],\"scattermapbox\":[{\"marker\":{\"colorbar\":{\"outlinewidth\":0,\"ticks\":\"\"}},\"type\":\"scattermapbox\"}],\"scatterpolar\":[{\"marker\":{\"colorbar\":{\"outlinewidth\":0,\"ticks\":\"\"}},\"type\":\"scatterpolar\"}],\"scatterpolargl\":[{\"marker\":{\"colorbar\":{\"outlinewidth\":0,\"ticks\":\"\"}},\"type\":\"scatterpolargl\"}],\"scatterternary\":[{\"marker\":{\"colorbar\":{\"outlinewidth\":0,\"ticks\":\"\"}},\"type\":\"scatterternary\"}],\"surface\":[{\"colorbar\":{\"outlinewidth\":0,\"ticks\":\"\"},\"colorscale\":[[0.0,\"#0d0887\"],[0.1111111111111111,\"#46039f\"],[0.2222222222222222,\"#7201a8\"],[0.3333333333333333,\"#9c179e\"],[0.4444444444444444,\"#bd3786\"],[0.5555555555555556,\"#d8576b\"],[0.6666666666666666,\"#ed7953\"],[0.7777777777777778,\"#fb9f3a\"],[0.8888888888888888,\"#fdca26\"],[1.0,\"#f0f921\"]],\"type\":\"surface\"}],\"table\":[{\"cells\":{\"fill\":{\"color\":\"#EBF0F8\"},\"line\":{\"color\":\"white\"}},\"header\":{\"fill\":{\"color\":\"#C8D4E3\"},\"line\":{\"color\":\"white\"}},\"type\":\"table\"}]},\"layout\":{\"annotationdefaults\":{\"arrowcolor\":\"#2a3f5f\",\"arrowhead\":0,\"arrowwidth\":1},\"autotypenumbers\":\"strict\",\"coloraxis\":{\"colorbar\":{\"outlinewidth\":0,\"ticks\":\"\"}},\"colorscale\":{\"diverging\":[[0,\"#8e0152\"],[0.1,\"#c51b7d\"],[0.2,\"#de77ae\"],[0.3,\"#f1b6da\"],[0.4,\"#fde0ef\"],[0.5,\"#f7f7f7\"],[0.6,\"#e6f5d0\"],[0.7,\"#b8e186\"],[0.8,\"#7fbc41\"],[0.9,\"#4d9221\"],[1,\"#276419\"]],\"sequential\":[[0.0,\"#0d0887\"],[0.1111111111111111,\"#46039f\"],[0.2222222222222222,\"#7201a8\"],[0.3333333333333333,\"#9c179e\"],[0.4444444444444444,\"#bd3786\"],[0.5555555555555556,\"#d8576b\"],[0.6666666666666666,\"#ed7953\"],[0.7777777777777778,\"#fb9f3a\"],[0.8888888888888888,\"#fdca26\"],[1.0,\"#f0f921\"]],\"sequentialminus\":[[0.0,\"#0d0887\"],[0.1111111111111111,\"#46039f\"],[0.2222222222222222,\"#7201a8\"],[0.3333333333333333,\"#9c179e\"],[0.4444444444444444,\"#bd3786\"],[0.5555555555555556,\"#d8576b\"],[0.6666666666666666,\"#ed7953\"],[0.7777777777777778,\"#fb9f3a\"],[0.8888888888888888,\"#fdca26\"],[1.0,\"#f0f921\"]]},\"colorway\":[\"#636efa\",\"#EF553B\",\"#00cc96\",\"#ab63fa\",\"#FFA15A\",\"#19d3f3\",\"#FF6692\",\"#B6E880\",\"#FF97FF\",\"#FECB52\"],\"font\":{\"color\":\"#2a3f5f\"},\"geo\":{\"bgcolor\":\"white\",\"lakecolor\":\"white\",\"landcolor\":\"#E5ECF6\",\"showlakes\":true,\"showland\":true,\"subunitcolor\":\"white\"},\"hoverlabel\":{\"align\":\"left\"},\"hovermode\":\"closest\",\"mapbox\":{\"style\":\"light\"},\"paper_bgcolor\":\"white\",\"plot_bgcolor\":\"#E5ECF6\",\"polar\":{\"angularaxis\":{\"gridcolor\":\"white\",\"linecolor\":\"white\",\"ticks\":\"\"},\"bgcolor\":\"#E5ECF6\",\"radialaxis\":{\"gridcolor\":\"white\",\"linecolor\":\"white\",\"ticks\":\"\"}},\"scene\":{\"xaxis\":{\"backgroundcolor\":\"#E5ECF6\",\"gridcolor\":\"white\",\"gridwidth\":2,\"linecolor\":\"white\",\"showbackground\":true,\"ticks\":\"\",\"zerolinecolor\":\"white\"},\"yaxis\":{\"backgroundcolor\":\"#E5ECF6\",\"gridcolor\":\"white\",\"gridwidth\":2,\"linecolor\":\"white\",\"showbackground\":true,\"ticks\":\"\",\"zerolinecolor\":\"white\"},\"zaxis\":{\"backgroundcolor\":\"#E5ECF6\",\"gridcolor\":\"white\",\"gridwidth\":2,\"linecolor\":\"white\",\"showbackground\":true,\"ticks\":\"\",\"zerolinecolor\":\"white\"}},\"shapedefaults\":{\"line\":{\"color\":\"#2a3f5f\"}},\"ternary\":{\"aaxis\":{\"gridcolor\":\"white\",\"linecolor\":\"white\",\"ticks\":\"\"},\"baxis\":{\"gridcolor\":\"white\",\"linecolor\":\"white\",\"ticks\":\"\"},\"bgcolor\":\"#E5ECF6\",\"caxis\":{\"gridcolor\":\"white\",\"linecolor\":\"white\",\"ticks\":\"\"}},\"title\":{\"x\":0.05},\"xaxis\":{\"automargin\":true,\"gridcolor\":\"white\",\"linecolor\":\"white\",\"ticks\":\"\",\"title\":{\"standoff\":15},\"zerolinecolor\":\"white\",\"zerolinewidth\":2},\"yaxis\":{\"automargin\":true,\"gridcolor\":\"white\",\"linecolor\":\"white\",\"ticks\":\"\",\"title\":{\"standoff\":15},\"zerolinecolor\":\"white\",\"zerolinewidth\":2}}},\"title\":{\"text\":\"Prediction of Suicide Risk Assessment\"},\"width\":1000,\"xaxis\":{\"dtick\":1,\"title\":{\"text\":\"Conversation Segment\"}},\"yaxis\":{\"title\":{\"text\":\"Prediction Probability\"}}},                        {\"responsive\": true}                    ).then(function(){\n",
       "                            \n",
       "var gd = document.getElementById('c1213e8b-0e1c-44fa-8d57-8e2f9541705b');\n",
       "var x = new MutationObserver(function (mutations, observer) {{\n",
       "        var display = window.getComputedStyle(gd).display;\n",
       "        if (!display || display === 'none') {{\n",
       "            console.log([gd, 'removed!']);\n",
       "            Plotly.purge(gd);\n",
       "            observer.disconnect();\n",
       "        }}\n",
       "}});\n",
       "\n",
       "// Listen for the removal of the full notebook cells\n",
       "var notebookContainer = gd.closest('#notebook-container');\n",
       "if (notebookContainer) {{\n",
       "    x.observe(notebookContainer, {childList: true});\n",
       "}}\n",
       "\n",
       "// Listen for the clearing of the current output cell\n",
       "var outputEl = gd.closest('.output');\n",
       "if (outputEl) {{\n",
       "    x.observe(outputEl, {childList: true});\n",
       "}}\n",
       "\n",
       "                        })                };                });            </script>        </div>"
      ]
     },
     "metadata": {},
     "output_type": "display_data"
    }
   ],
   "source": [
    "make_plot(conv1)"
   ]
  }
 ],
 "metadata": {
  "kernelspec": {
   "display_name": "Python 3 (ipykernel)",
   "language": "python",
   "name": "python3"
  },
  "language_info": {
   "codemirror_mode": {
    "name": "ipython",
    "version": 3
   },
   "file_extension": ".py",
   "mimetype": "text/x-python",
   "name": "python",
   "nbconvert_exporter": "python",
   "pygments_lexer": "ipython3",
   "version": "3.9.5"
  }
 },
 "nbformat": 4,
 "nbformat_minor": 5
}
