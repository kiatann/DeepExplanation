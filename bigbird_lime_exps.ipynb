{
 "cells": [
  {
   "cell_type": "code",
   "execution_count": 1,
   "id": "647d01eb",
   "metadata": {},
   "outputs": [],
   "source": [
    "import datasets\n",
    "import os\n",
    "import pickle\n",
    "import plotly\n",
    "import random\n",
    "import re\n",
    "import scipy\n",
    "import seaborn as sns\n",
    "import torch\n",
    "import matplotlib.pyplot as plt\n",
    "import numpy as np\n",
    "import pandas as pd\n",
    "\n",
    "from datasets import Dataset\n",
    "from datasets.utils import disable_progress_bar\n",
    "disable_progress_bar()\n",
    "\n",
    "from lime import lime_text\n",
    "from lime.lime_text import LimeTextExplainer\n",
    "\n",
    "import plotly.graph_objs as go\n",
    "from plotly.offline import init_notebook_mode, iplot\n",
    "\n",
    "from simpletransformers.classification import ClassificationModel, ClassificationArgs\n",
    "\n",
    "from termcolor import colored\n",
    "\n",
    "from tqdm.auto import tqdm, trange\n",
    "\n",
    "from transformers import AutoTokenizer, BigBirdForSequenceClassification, RobertaForSequenceClassification, pipeline, \\\n",
    "                            TrainingArguments, Trainer\n",
    "\n",
    "from torch.utils.data import DataLoader"
   ]
  },
  {
   "cell_type": "markdown",
   "id": "96c8d6f4",
   "metadata": {},
   "source": [
    "## Getting the predictor functions"
   ]
  },
  {
   "cell_type": "code",
   "execution_count": 6,
   "id": "d7e0794d",
   "metadata": {},
   "outputs": [],
   "source": [
    "# %cd /\n",
    "tokenizer = AutoTokenizer.from_pretrained(\"bigbird\")\n",
    "#                                          cache_dir=\"data-imperial/cache\")\n",
    "# tokenizer.save_pretrained(\"data-imperial/bigbird/output/test_4_more_samples/checkpoint-481\")\n",
    "\n",
    "# %cd data-imperial/"
   ]
  },
  {
   "cell_type": "code",
   "execution_count": 2,
   "id": "8d3b375d",
   "metadata": {},
   "outputs": [],
   "source": [
    "model = BigBirdForSequenceClassification.from_pretrained(\"bigbird/output/ml/epoch-5\")"
   ]
  },
  {
   "cell_type": "code",
   "execution_count": 3,
   "id": "d9f2d4a4",
   "metadata": {},
   "outputs": [
    {
     "data": {
      "text/plain": [
       "device(type='cuda')"
      ]
     },
     "execution_count": 3,
     "metadata": {},
     "output_type": "execute_result"
    }
   ],
   "source": [
    "device = torch.device('cuda') if torch.cuda.is_available() else torch.device('cpu')\n",
    "model.to(device)\n",
    "device"
   ]
  },
  {
   "cell_type": "code",
   "execution_count": 4,
   "id": "66007d67",
   "metadata": {},
   "outputs": [],
   "source": [
    "explainer = LimeTextExplainer()"
   ]
  },
  {
   "cell_type": "markdown",
   "id": "31a376ea",
   "metadata": {},
   "source": [
    "### Single label explainer"
   ]
  },
  {
   "cell_type": "code",
   "execution_count": 7,
   "id": "a6d0f3ce",
   "metadata": {},
   "outputs": [],
   "source": [
    "## Single label predictor function\n",
    "\n",
    "## Corresponding label numbers:\n",
    "## 0 : desire\n",
    "## 1 : intent\n",
    "## 2 : capability\n",
    "## 3 : timeframe\n",
    "## 4 : substance\n",
    "## 5 : depressed\n",
    "## 6 : self-harm\n",
    "## 7 : anxiety\n",
    "## 8 : helpful\n",
    "\n",
    "label_num = 7\n",
    "\n",
    "def tokenization(batched_text):\n",
    "    return tokenizer(batched_text['text'], padding = \"longest\", truncation=True, max_length = 2048)\n",
    "\n",
    "def m3_predict_probs(sample):\n",
    "    dataset = pd.DataFrame(sample, columns=['text'])\n",
    "    dataset = Dataset.from_pandas(dataset)\n",
    "    dataset = dataset.map(tokenization, batched=True, batch_size=2, remove_columns=['text'])\n",
    "    dataset.set_format('torch', columns=['input_ids', 'attention_mask'])\n",
    "\n",
    "    loader = DataLoader(dataset, batch_size=2)\n",
    "    probs = None\n",
    "\n",
    "    for batch in loader:\n",
    "        input_ids = batch['input_ids'].to(device)\n",
    "        attention_mask = batch['attention_mask'].to(device)\n",
    "        outputs = model(input_ids, attention_mask=attention_mask)\n",
    "        outputs = outputs.logits.sigmoid().cpu().detach().numpy()\n",
    "        probs = outputs if probs is None else np.concatenate((probs, outputs))\n",
    "        \n",
    "    prob_true = probs[:,label_num]    \n",
    "    return np.transpose(np.vstack(([1-prob_true, prob_true]))) "
   ]
  },
  {
   "cell_type": "code",
   "execution_count": 8,
   "id": "e65f0682",
   "metadata": {},
   "outputs": [],
   "source": [
    "sample = pickle.load(open(\"saved/anxiety/96_text_samples.pickle\", \"rb\"))"
   ]
  },
  {
   "cell_type": "code",
   "execution_count": 17,
   "id": "cb8e2432",
   "metadata": {},
   "outputs": [
    {
     "data": {
      "application/vnd.jupyter.widget-view+json": {
       "model_id": "9a9af8049b69454f810cb20f25a5b5c3",
       "version_major": 2,
       "version_minor": 0
      },
      "text/plain": [
       "HBox(children=(FloatProgress(value=0.0), HTML(value='')))"
      ]
     },
     "metadata": {},
     "output_type": "display_data"
    },
    {
     "name": "stderr",
     "output_type": "stream",
     "text": [
      "/data-imperial/lib/python3.9/site-packages/torch/_tensor.py:575: UserWarning:\n",
      "\n",
      "floor_divide is deprecated, and will be removed in a future version of pytorch. It currently rounds toward 0 (like the 'trunc' function NOT 'floor'). This results in incorrect rounding for negative values.\n",
      "To keep the current behavior, use torch.div(a, b, rounding_mode='trunc'), or for actual floor division, use torch.div(a, b, rounding_mode='floor'). (Triggered internally at  /opt/conda/conda-bld/pytorch_1623448238472/work/aten/src/ATen/native/BinaryOps.cpp:467.)\n",
      "\n",
      "Attention type 'block_sparse' is not possible if sequence_length: 546 <= num global tokens: 2 * config.block_size + min. num sliding tokens: 3 * config.block_size + config.num_random_blocks * config.block_size + additional buffer: config.num_random_blocks * config.block_size = 704 with config.block_size = 64, config.num_random_blocks = 3.Changing attention type to 'original_full'...\n"
     ]
    },
    {
     "name": "stdout",
     "output_type": "stream",
     "text": [
      "\n"
     ]
    }
   ],
   "source": [
    "exp_list = []\n",
    "\n",
    "for i in tqdm(sample.text):\n",
    "    text = i\n",
    "    \n",
    "    exp = explainer.explain_instance(text, \n",
    "                                     m3_predict_probs, \n",
    "                                     num_features=100, \n",
    "                                     num_samples=4000)\n",
    "\n",
    "    exp_list.extend(exp.as_list())\n",
    "    \n",
    "pickle.dump(exp_list, open(\"saved/anxiety/exp_raw.pickle\", \"wb\"))"
   ]
  },
  {
   "cell_type": "code",
   "execution_count": 18,
   "id": "bf286945",
   "metadata": {},
   "outputs": [
    {
     "data": {
      "application/vnd.jupyter.widget-view+json": {
       "model_id": "efd093cdd3204e539183e8640fa3ae21",
       "version_major": 2,
       "version_minor": 0
      },
      "text/plain": [
       "HBox(children=(FloatProgress(value=0.0), HTML(value='')))"
      ]
     },
     "metadata": {},
     "output_type": "display_data"
    },
    {
     "name": "stdout",
     "output_type": "stream",
     "text": [
      "\n"
     ]
    }
   ],
   "source": [
    "## Single label predictor function\n",
    "\n",
    "## Corresponding label numbers:\n",
    "## 0 : desire\n",
    "## 1 : intent\n",
    "## 2 : capability\n",
    "## 3 : timeframe\n",
    "## 4 : substance\n",
    "## 5 : depressed\n",
    "## 6 : self-harm\n",
    "## 7 : anxiety\n",
    "## 8 : helpful\n",
    "\n",
    "label_num = 5\n",
    "\n",
    "def tokenization(batched_text):\n",
    "    return tokenizer(batched_text['text'], padding = \"longest\", truncation=True, max_length = 2048)\n",
    "\n",
    "def m3_predict_probs(sample):\n",
    "    dataset = pd.DataFrame(sample, columns=['text'])\n",
    "    dataset = Dataset.from_pandas(dataset)\n",
    "    dataset = dataset.map(tokenization, batched=True, batch_size=2, remove_columns=['text'])\n",
    "    dataset.set_format('torch', columns=['input_ids', 'attention_mask'])\n",
    "\n",
    "    loader = DataLoader(dataset, batch_size=2)\n",
    "    probs = None\n",
    "\n",
    "    for batch in loader:\n",
    "        input_ids = batch['input_ids'].to(device)\n",
    "        attention_mask = batch['attention_mask'].to(device)\n",
    "        outputs = model(input_ids, attention_mask=attention_mask)\n",
    "        outputs = outputs.logits.sigmoid().cpu().detach().numpy()\n",
    "        probs = outputs if probs is None else np.concatenate((probs, outputs))\n",
    "        \n",
    "    prob_true = probs[:,label_num]    \n",
    "    return np.transpose(np.vstack(([1-prob_true, prob_true]))) \n",
    "\n",
    "exp_list = []\n",
    "\n",
    "for i in tqdm(sample.text):\n",
    "    text = i\n",
    "    \n",
    "    exp = explainer.explain_instance(text, \n",
    "                                     m3_predict_probs, \n",
    "                                     num_features=100, \n",
    "                                     num_samples=4000)\n",
    "\n",
    "    exp_list.extend(exp.as_list())\n",
    "    \n",
    "pickle.dump(exp_list, open(\"saved/anxiety/depressed/exp_raw.pickle\", \"wb\"))"
   ]
  },
  {
   "cell_type": "code",
   "execution_count": 19,
   "id": "47e0c1d3",
   "metadata": {},
   "outputs": [
    {
     "data": {
      "application/vnd.jupyter.widget-view+json": {
       "model_id": "f32ee599d29e437e9bd329da1299e351",
       "version_major": 2,
       "version_minor": 0
      },
      "text/plain": [
       "HBox(children=(FloatProgress(value=0.0), HTML(value='')))"
      ]
     },
     "metadata": {},
     "output_type": "display_data"
    },
    {
     "name": "stdout",
     "output_type": "stream",
     "text": [
      "\n"
     ]
    }
   ],
   "source": [
    "## Single label predictor function\n",
    "\n",
    "## Corresponding label numbers:\n",
    "## 0 : desire\n",
    "## 1 : intent\n",
    "## 2 : capability\n",
    "## 3 : timeframe\n",
    "## 4 : substance\n",
    "## 5 : depressed\n",
    "## 6 : self-harm\n",
    "## 7 : anxiety\n",
    "## 8 : helpful\n",
    "\n",
    "label_num = 0\n",
    "\n",
    "def tokenization(batched_text):\n",
    "    return tokenizer(batched_text['text'], padding = \"longest\", truncation=True, max_length = 2048)\n",
    "\n",
    "def m3_predict_probs(sample):\n",
    "    dataset = pd.DataFrame(sample, columns=['text'])\n",
    "    dataset = Dataset.from_pandas(dataset)\n",
    "    dataset = dataset.map(tokenization, batched=True, batch_size=2, remove_columns=['text'])\n",
    "    dataset.set_format('torch', columns=['input_ids', 'attention_mask'])\n",
    "\n",
    "    loader = DataLoader(dataset, batch_size=2)\n",
    "    probs = None\n",
    "\n",
    "    for batch in loader:\n",
    "        input_ids = batch['input_ids'].to(device)\n",
    "        attention_mask = batch['attention_mask'].to(device)\n",
    "        outputs = model(input_ids, attention_mask=attention_mask)\n",
    "        outputs = outputs.logits.sigmoid().cpu().detach().numpy()\n",
    "        probs = outputs if probs is None else np.concatenate((probs, outputs))\n",
    "        \n",
    "    prob_true = probs[:,label_num]    \n",
    "    return np.transpose(np.vstack(([1-prob_true, prob_true]))) \n",
    "\n",
    "exp_list = []\n",
    "\n",
    "for i in tqdm(sample.text):\n",
    "    text = i\n",
    "    \n",
    "    exp = explainer.explain_instance(text, \n",
    "                                     m3_predict_probs, \n",
    "                                     num_features=100, \n",
    "                                     num_samples=4000)\n",
    "\n",
    "    exp_list.extend(exp.as_list())\n",
    "    \n",
    "pickle.dump(exp_list, open(\"saved/anxiety/suicide/exp_raw.pickle\", \"wb\"))"
   ]
  },
  {
   "cell_type": "code",
   "execution_count": 20,
   "id": "8fdcc119",
   "metadata": {},
   "outputs": [
    {
     "data": {
      "application/vnd.jupyter.widget-view+json": {
       "model_id": "1201759a8dba4fd6a8d6993d848028e9",
       "version_major": 2,
       "version_minor": 0
      },
      "text/plain": [
       "HBox(children=(FloatProgress(value=0.0), HTML(value='')))"
      ]
     },
     "metadata": {},
     "output_type": "display_data"
    },
    {
     "name": "stdout",
     "output_type": "stream",
     "text": [
      "\n"
     ]
    }
   ],
   "source": [
    "sample = pickle.load(open(\"saved/suicide/100_text_samples.pickle\", \"rb\"))\n",
    "\n",
    "exp_list = []\n",
    "\n",
    "for i in tqdm(sample.text):\n",
    "    text = i\n",
    "    \n",
    "    exp = explainer.explain_instance(text, \n",
    "                                     m3_predict_probs, \n",
    "                                     num_features=100, \n",
    "                                     num_samples=4000)\n",
    "\n",
    "    exp_list.extend(exp.as_list())\n",
    "    \n",
    "pickle.dump(exp_list, open(\"saved/suicide/desire/exp_raw.pickle\", \"wb\"))"
   ]
  },
  {
   "cell_type": "code",
   "execution_count": 21,
   "id": "9f6e9458",
   "metadata": {},
   "outputs": [
    {
     "data": {
      "application/vnd.jupyter.widget-view+json": {
       "model_id": "1448fc2d2d6b48d9b55548d9c8f02d50",
       "version_major": 2,
       "version_minor": 0
      },
      "text/plain": [
       "HBox(children=(FloatProgress(value=0.0), HTML(value='')))"
      ]
     },
     "metadata": {},
     "output_type": "display_data"
    },
    {
     "name": "stdout",
     "output_type": "stream",
     "text": [
      "\n"
     ]
    }
   ],
   "source": [
    "## Single label predictor function\n",
    "\n",
    "## Corresponding label numbers:\n",
    "## 0 : desire\n",
    "## 1 : intent\n",
    "## 2 : capability\n",
    "## 3 : timeframe\n",
    "## 4 : substance\n",
    "## 5 : depressed\n",
    "## 6 : self-harm\n",
    "## 7 : anxiety\n",
    "## 8 : helpful\n",
    "\n",
    "label_num = 1\n",
    "\n",
    "def tokenization(batched_text):\n",
    "    return tokenizer(batched_text['text'], padding = \"longest\", truncation=True, max_length = 2048)\n",
    "\n",
    "def m3_predict_probs(sample):\n",
    "    dataset = pd.DataFrame(sample, columns=['text'])\n",
    "    dataset = Dataset.from_pandas(dataset)\n",
    "    dataset = dataset.map(tokenization, batched=True, batch_size=2, remove_columns=['text'])\n",
    "    dataset.set_format('torch', columns=['input_ids', 'attention_mask'])\n",
    "\n",
    "    loader = DataLoader(dataset, batch_size=2)\n",
    "    probs = None\n",
    "\n",
    "    for batch in loader:\n",
    "        input_ids = batch['input_ids'].to(device)\n",
    "        attention_mask = batch['attention_mask'].to(device)\n",
    "        outputs = model(input_ids, attention_mask=attention_mask)\n",
    "        outputs = outputs.logits.sigmoid().cpu().detach().numpy()\n",
    "        probs = outputs if probs is None else np.concatenate((probs, outputs))\n",
    "        \n",
    "    prob_true = probs[:,label_num]    \n",
    "    return np.transpose(np.vstack(([1-prob_true, prob_true]))) \n",
    "\n",
    "exp_list = []\n",
    "\n",
    "for i in tqdm(sample.text):\n",
    "    text = i\n",
    "    \n",
    "    exp = explainer.explain_instance(text, \n",
    "                                     m3_predict_probs, \n",
    "                                     num_features=100, \n",
    "                                     num_samples=4000)\n",
    "\n",
    "    exp_list.extend(exp.as_list())\n",
    "    \n",
    "pickle.dump(exp_list, open(\"saved/suicide/intent/exp_raw.pickle\", \"wb\"))"
   ]
  },
  {
   "cell_type": "code",
   "execution_count": 22,
   "id": "359d8c9a",
   "metadata": {},
   "outputs": [
    {
     "data": {
      "application/vnd.jupyter.widget-view+json": {
       "model_id": "46229c93bd0d4ef8905f80e6d5daa407",
       "version_major": 2,
       "version_minor": 0
      },
      "text/plain": [
       "HBox(children=(FloatProgress(value=0.0), HTML(value='')))"
      ]
     },
     "metadata": {},
     "output_type": "display_data"
    },
    {
     "name": "stdout",
     "output_type": "stream",
     "text": [
      "\n"
     ]
    },
    {
     "ename": "FileNotFoundError",
     "evalue": "[Errno 2] No such file or directory: 'saved/suicide/capability/exp_raw.pickle'",
     "output_type": "error",
     "traceback": [
      "\u001b[0;31m---------------------------------------------------------------------------\u001b[0m",
      "\u001b[0;31mFileNotFoundError\u001b[0m                         Traceback (most recent call last)",
      "\u001b[0;32m/tmp/ipykernel_22923/1301311944.py\u001b[0m in \u001b[0;36m<module>\u001b[0;34m\u001b[0m\n\u001b[1;32m     48\u001b[0m     \u001b[0mexp_list\u001b[0m\u001b[0;34m.\u001b[0m\u001b[0mextend\u001b[0m\u001b[0;34m(\u001b[0m\u001b[0mexp\u001b[0m\u001b[0;34m.\u001b[0m\u001b[0mas_list\u001b[0m\u001b[0;34m(\u001b[0m\u001b[0;34m)\u001b[0m\u001b[0;34m)\u001b[0m\u001b[0;34m\u001b[0m\u001b[0;34m\u001b[0m\u001b[0m\n\u001b[1;32m     49\u001b[0m \u001b[0;34m\u001b[0m\u001b[0m\n\u001b[0;32m---> 50\u001b[0;31m \u001b[0mpickle\u001b[0m\u001b[0;34m.\u001b[0m\u001b[0mdump\u001b[0m\u001b[0;34m(\u001b[0m\u001b[0mexp_list\u001b[0m\u001b[0;34m,\u001b[0m \u001b[0mopen\u001b[0m\u001b[0;34m(\u001b[0m\u001b[0;34m\"saved/suicide/capability/exp_raw.pickle\"\u001b[0m\u001b[0;34m,\u001b[0m \u001b[0;34m\"wb\"\u001b[0m\u001b[0;34m)\u001b[0m\u001b[0;34m)\u001b[0m\u001b[0;34m\u001b[0m\u001b[0;34m\u001b[0m\u001b[0m\n\u001b[0m",
      "\u001b[0;31mFileNotFoundError\u001b[0m: [Errno 2] No such file or directory: 'saved/suicide/capability/exp_raw.pickle'"
     ]
    }
   ],
   "source": [
    "## Single label predictor function\n",
    "\n",
    "## Corresponding label numbers:\n",
    "## 0 : desire\n",
    "## 1 : intent\n",
    "## 2 : capability\n",
    "## 3 : timeframe\n",
    "## 4 : substance\n",
    "## 5 : depressed\n",
    "## 6 : self-harm\n",
    "## 7 : anxiety\n",
    "## 8 : helpful\n",
    "\n",
    "label_num = 2\n",
    "\n",
    "def tokenization(batched_text):\n",
    "    return tokenizer(batched_text['text'], padding = \"longest\", truncation=True, max_length = 2048)\n",
    "\n",
    "def m3_predict_probs(sample):\n",
    "    dataset = pd.DataFrame(sample, columns=['text'])\n",
    "    dataset = Dataset.from_pandas(dataset)\n",
    "    dataset = dataset.map(tokenization, batched=True, batch_size=2, remove_columns=['text'])\n",
    "    dataset.set_format('torch', columns=['input_ids', 'attention_mask'])\n",
    "\n",
    "    loader = DataLoader(dataset, batch_size=2)\n",
    "    probs = None\n",
    "\n",
    "    for batch in loader:\n",
    "        input_ids = batch['input_ids'].to(device)\n",
    "        attention_mask = batch['attention_mask'].to(device)\n",
    "        outputs = model(input_ids, attention_mask=attention_mask)\n",
    "        outputs = outputs.logits.sigmoid().cpu().detach().numpy()\n",
    "        probs = outputs if probs is None else np.concatenate((probs, outputs))\n",
    "        \n",
    "    prob_true = probs[:,label_num]    \n",
    "    return np.transpose(np.vstack(([1-prob_true, prob_true]))) \n",
    "\n",
    "exp_list = []\n",
    "\n",
    "for i in tqdm(sample.text):\n",
    "    text = i\n",
    "    \n",
    "    exp = explainer.explain_instance(text, \n",
    "                                     m3_predict_probs, \n",
    "                                     num_features=100, \n",
    "                                     num_samples=4000)\n",
    "\n",
    "    exp_list.extend(exp.as_list())\n",
    "    \n",
    "pickle.dump(exp_list, open(\"saved/suicide/capability/exp_raw.pickle\", \"wb\"))"
   ]
  },
  {
   "cell_type": "code",
   "execution_count": 26,
   "id": "6193b936",
   "metadata": {},
   "outputs": [
    {
     "data": {
      "application/vnd.jupyter.widget-view+json": {
       "model_id": "d158808a02c441f39970097d933e618d",
       "version_major": 2,
       "version_minor": 0
      },
      "text/plain": [
       "HBox(children=(FloatProgress(value=0.0), HTML(value='')))"
      ]
     },
     "metadata": {},
     "output_type": "display_data"
    },
    {
     "name": "stdout",
     "output_type": "stream",
     "text": [
      "\n"
     ]
    }
   ],
   "source": [
    "## Single label predictor function\n",
    "\n",
    "## Corresponding label numbers:\n",
    "## 0 : desire\n",
    "## 1 : intent\n",
    "## 2 : capability\n",
    "## 3 : timeframe\n",
    "## 4 : substance\n",
    "## 5 : depressed\n",
    "## 6 : self-harm\n",
    "## 7 : anxiety\n",
    "## 8 : helpful\n",
    "\n",
    "label_num = 3\n",
    "\n",
    "def tokenization(batched_text):\n",
    "    return tokenizer(batched_text['text'], padding = \"longest\", truncation=True, max_length = 2048)\n",
    "\n",
    "def m3_predict_probs(sample):\n",
    "    dataset = pd.DataFrame(sample, columns=['text'])\n",
    "    dataset = Dataset.from_pandas(dataset)\n",
    "    dataset = dataset.map(tokenization, batched=True, batch_size=2, remove_columns=['text'])\n",
    "    dataset.set_format('torch', columns=['input_ids', 'attention_mask'])\n",
    "\n",
    "    loader = DataLoader(dataset, batch_size=2)\n",
    "    probs = None\n",
    "\n",
    "    for batch in loader:\n",
    "        input_ids = batch['input_ids'].to(device)\n",
    "        attention_mask = batch['attention_mask'].to(device)\n",
    "        outputs = model(input_ids, attention_mask=attention_mask)\n",
    "        outputs = outputs.logits.sigmoid().cpu().detach().numpy()\n",
    "        probs = outputs if probs is None else np.concatenate((probs, outputs))\n",
    "        \n",
    "    prob_true = probs[:,label_num]    \n",
    "    return np.transpose(np.vstack(([1-prob_true, prob_true]))) \n",
    "\n",
    "exp_list = []\n",
    "\n",
    "for i in tqdm(sample.text):\n",
    "    text = i\n",
    "    \n",
    "    exp = explainer.explain_instance(text, \n",
    "                                     m3_predict_probs, \n",
    "                                     num_features=100, \n",
    "                                     num_samples=4000)\n",
    "\n",
    "    exp_list.extend(exp.as_list())\n",
    "    \n",
    "pickle.dump(exp_list, open(\"saved/suicide/timeframe/exp_raw.pickle\", \"wb\"))"
   ]
  },
  {
   "cell_type": "code",
   "execution_count": 7,
   "id": "348ace0f",
   "metadata": {},
   "outputs": [
    {
     "data": {
      "application/vnd.jupyter.widget-view+json": {
       "model_id": "6bf82cc0d6344adf9a71bb284c92696c",
       "version_major": 2,
       "version_minor": 0
      },
      "text/plain": [
       "HBox(children=(FloatProgress(value=0.0), HTML(value='')))"
      ]
     },
     "metadata": {},
     "output_type": "display_data"
    },
    {
     "name": "stderr",
     "output_type": "stream",
     "text": [
      "/data-imperial/lib/python3.9/site-packages/torch/_tensor.py:575: UserWarning:\n",
      "\n",
      "floor_divide is deprecated, and will be removed in a future version of pytorch. It currently rounds toward 0 (like the 'trunc' function NOT 'floor'). This results in incorrect rounding for negative values.\n",
      "To keep the current behavior, use torch.div(a, b, rounding_mode='trunc'), or for actual floor division, use torch.div(a, b, rounding_mode='floor'). (Triggered internally at  /opt/conda/conda-bld/pytorch_1623448238472/work/aten/src/ATen/native/BinaryOps.cpp:467.)\n",
      "\n",
      "Attention type 'block_sparse' is not possible if sequence_length: 448 <= num global tokens: 2 * config.block_size + min. num sliding tokens: 3 * config.block_size + config.num_random_blocks * config.block_size + additional buffer: config.num_random_blocks * config.block_size = 704 with config.block_size = 64, config.num_random_blocks = 3.Changing attention type to 'original_full'...\n"
     ]
    },
    {
     "name": "stdout",
     "output_type": "stream",
     "text": [
      "\n"
     ]
    }
   ],
   "source": [
    "## Single label predictor function\n",
    "\n",
    "## Corresponding label numbers:\n",
    "## 0 : desire\n",
    "## 1 : intent\n",
    "## 2 : capability\n",
    "## 3 : timeframe\n",
    "## 4 : substance\n",
    "## 5 : depressed\n",
    "## 6 : self-harm\n",
    "## 7 : anxiety\n",
    "## 8 : helpful\n",
    "\n",
    "sample = pickle.load(open(\"saved/substance/100_text_samples.pickle\", \"rb\"))\n",
    "\n",
    "label_num = 4\n",
    "\n",
    "def tokenization(batched_text):\n",
    "    return tokenizer(batched_text['text'], padding = \"longest\", truncation=True, max_length = 2048)\n",
    "\n",
    "def m3_predict_probs(sample):\n",
    "    dataset = pd.DataFrame(sample, columns=['text'])\n",
    "    dataset = Dataset.from_pandas(dataset)\n",
    "    dataset = dataset.map(tokenization, batched=True, batch_size=2, remove_columns=['text'])\n",
    "    dataset.set_format('torch', columns=['input_ids', 'attention_mask'])\n",
    "\n",
    "    loader = DataLoader(dataset, batch_size=2)\n",
    "    probs = None\n",
    "\n",
    "    for batch in loader:\n",
    "        input_ids = batch['input_ids'].to(device)\n",
    "        attention_mask = batch['attention_mask'].to(device)\n",
    "        outputs = model(input_ids, attention_mask=attention_mask)\n",
    "        outputs = outputs.logits.sigmoid().cpu().detach().numpy()\n",
    "        probs = outputs if probs is None else np.concatenate((probs, outputs))\n",
    "        \n",
    "    prob_true = probs[:,label_num]    \n",
    "    return np.transpose(np.vstack(([1-prob_true, prob_true]))) \n",
    "\n",
    "exp_list = []\n",
    "\n",
    "for i in tqdm(sample.text):\n",
    "    text = i\n",
    "    \n",
    "    exp = explainer.explain_instance(text, \n",
    "                                     m3_predict_probs, \n",
    "                                     num_features=100, \n",
    "                                     num_samples=4000)\n",
    "\n",
    "    exp_list.extend(exp.as_list())\n",
    "    \n",
    "pickle.dump(exp_list, open(\"saved/substance/og_ml_exp_raw.pickle\", \"wb\"))"
   ]
  },
  {
   "cell_type": "markdown",
   "id": "062abf5b",
   "metadata": {},
   "source": [
    "#### Testing whether more features slows LIME down"
   ]
  },
  {
   "cell_type": "code",
   "execution_count": 11,
   "id": "216ebbd6",
   "metadata": {},
   "outputs": [],
   "source": [
    "explainer = LimeTextExplainer()\n",
    "interval = int(len(sample)/5)\n",
    "import time"
   ]
  },
  {
   "cell_type": "code",
   "execution_count": 12,
   "id": "8a58cd22",
   "metadata": {},
   "outputs": [
    {
     "data": {
      "application/vnd.jupyter.widget-view+json": {
       "model_id": "a9c3b9fac74849758368f85a9f766a67",
       "version_major": 2,
       "version_minor": 0
      },
      "text/plain": [
       "HBox(children=(FloatProgress(value=0.0, max=2000.0), HTML(value='')))"
      ]
     },
     "metadata": {},
     "output_type": "display_data"
    },
    {
     "name": "stdout",
     "output_type": "stream",
     "text": [
      "\n"
     ]
    },
    {
     "name": "stderr",
     "output_type": "stream",
     "text": [
      "/data-imperial/lib/python3.9/site-packages/torch/_tensor.py:575: UserWarning:\n",
      "\n",
      "floor_divide is deprecated, and will be removed in a future version of pytorch. It currently rounds toward 0 (like the 'trunc' function NOT 'floor'). This results in incorrect rounding for negative values.\n",
      "To keep the current behavior, use torch.div(a, b, rounding_mode='trunc'), or for actual floor division, use torch.div(a, b, rounding_mode='floor'). (Triggered internally at  /opt/conda/conda-bld/pytorch_1623448238472/work/aten/src/ATen/native/BinaryOps.cpp:467.)\n",
      "\n",
      "Attention type 'block_sparse' is not possible if sequence_length: 607 <= num global tokens: 2 * config.block_size + min. num sliding tokens: 3 * config.block_size + config.num_random_blocks * config.block_size + additional buffer: config.num_random_blocks * config.block_size = 704 with config.block_size = 64, config.num_random_blocks = 3.Changing attention type to 'original_full'...\n"
     ]
    },
    {
     "name": "stdout",
     "output_type": "stream",
     "text": [
      "706.3173854351044\n"
     ]
    }
   ],
   "source": [
    "start = time.time()\n",
    "exp = explainer.explain_instance(sample, \n",
    "                            m3_predict_probs, \n",
    "                            num_features=5, \n",
    "                            num_samples=4000)\n",
    "print(time.time() - start)"
   ]
  },
  {
   "cell_type": "code",
   "execution_count": 13,
   "id": "04bb83a7",
   "metadata": {},
   "outputs": [
    {
     "data": {
      "application/vnd.jupyter.widget-view+json": {
       "model_id": "8545ed198086433c8f1f7c1cf8723bbc",
       "version_major": 2,
       "version_minor": 0
      },
      "text/plain": [
       "HBox(children=(FloatProgress(value=0.0, max=2000.0), HTML(value='')))"
      ]
     },
     "metadata": {},
     "output_type": "display_data"
    },
    {
     "name": "stdout",
     "output_type": "stream",
     "text": [
      "\n",
      "705.2420830726624\n"
     ]
    }
   ],
   "source": [
    "start = time.time()\n",
    "exp = explainer.explain_instance(sample, \n",
    "                            m3_predict_probs, \n",
    "                            num_features=500, \n",
    "                            num_samples=4000)\n",
    "print(time.time() - start)"
   ]
  },
  {
   "cell_type": "markdown",
   "id": "9b7b815f",
   "metadata": {},
   "source": [
    "## Segmented LIME Explanations"
   ]
  },
  {
   "cell_type": "code",
   "execution_count": 7,
   "id": "ee19bb3d",
   "metadata": {},
   "outputs": [],
   "source": [
    "explainer = LimeTextExplainer()"
   ]
  },
  {
   "cell_type": "code",
   "execution_count": 8,
   "id": "521c356f",
   "metadata": {},
   "outputs": [],
   "source": [
    "## getting the predicted probabilities for the different segments of the conversations\n",
    "\n",
    "def get_explanations(sample, parts, n_features, labels, cumulative=True):\n",
    "    \n",
    "    pred_df = pd.DataFrame(index=np.arange(1,parts+1))\n",
    "    sample = \" \".join([i if not re.match(r'[A-Z][a-z]+', i) else i.lower() for i in sample.split(\" \")])\n",
    "    sample_len = len(sample)\n",
    "    interval = int(sample_len/parts)\n",
    "\n",
    "    for k in tqdm(labels):\n",
    "\n",
    "        def tokenization(batched_text):\n",
    "            return tokenizer(batched_text['text'], padding = \"longest\", truncation=True, max_length = 2048)\n",
    "\n",
    "        def m3_predict_probs(sample):\n",
    "            dataset = pd.DataFrame(sample, columns=['text'])\n",
    "            dataset = Dataset.from_pandas(dataset)\n",
    "            dataset = dataset.map(tokenization, batched=True, batch_size=2, remove_columns=['text'])\n",
    "            dataset.set_format('torch', columns=['input_ids', 'attention_mask'])\n",
    "\n",
    "            loader = DataLoader(dataset, batch_size=2)\n",
    "            probs = None\n",
    "\n",
    "            for batch in loader:\n",
    "                input_ids = batch['input_ids'].to(device)\n",
    "                attention_mask = batch['attention_mask'].to(device)\n",
    "                outputs = model(input_ids, attention_mask=attention_mask)\n",
    "                outputs = outputs.logits.sigmoid().cpu().detach().numpy()\n",
    "                probs = outputs if probs is None else np.concatenate((probs, outputs))\n",
    "                prob_true = probs[:,k]\n",
    "\n",
    "            return np.transpose(np.vstack(([1-prob_true, prob_true]))) \n",
    "        \n",
    "        def format_exp(exp):\n",
    "            text = [f\"{i[0]}: {i[1]:1.4f}\" for i in exp]\n",
    "            text = \"<br>\".join(text)\n",
    "            return text\n",
    "\n",
    "        def add_exp_to_df(sample_text, seg_num, label, pred_df):\n",
    "            pred_prob = m3_predict_probs([sample_text])[0][1]\n",
    "            pred_df.loc[seg_num, label] = pred_prob\n",
    "            exp = explainer.explain_instance(sample_text, \n",
    "                                            m3_predict_probs, \n",
    "                                            num_features=n_features, \n",
    "                                            num_samples=4000)\n",
    "            plot_text = f\"{pred_prob:1.4f} <br>{format_exp(exp.as_list())}\"\n",
    "            pred_df.loc[seg_num, label+\"_exp\"] = plot_text\n",
    "\n",
    "        l = labels[k]\n",
    "\n",
    "        if cumulative: \n",
    "            for j in tqdm(pred_df.index[:-1]):\n",
    "                add_exp_to_df(sample[:j*interval], j, l, pred_df)\n",
    "            add_exp_to_df(sample, parts, l, pred_df)\n",
    "\n",
    "        else: \n",
    "            for j in tqdm(pred_df.index[:-1]):\n",
    "                add_exp_to_df(sample[(j-1)*interval: j*interval], j, l, pred_df)\n",
    "            add_exp_to_df(sample[j*interval:], parts, l, pred_df)\n",
    "    return pred_df"
   ]
  },
  {
   "cell_type": "code",
   "execution_count": null,
   "id": "cf03b5c9",
   "metadata": {},
   "outputs": [],
   "source": [
    "sample = pickle.load(\"saved/text_samples/sample7.pickle\")"
   ]
  },
  {
   "cell_type": "code",
   "execution_count": null,
   "id": "13a20063",
   "metadata": {},
   "outputs": [],
   "source": [
    "## Sample 1\n",
    "\n",
    "parts = 5\n",
    "n_features = 6\n",
    "# sample = CHANGE_THIS\n",
    "labels = {0: 'desire', 1:'intent', 2:'capability', 3:'timeframe', \n",
    "          4:'substance', 5:'depressed', 6:'self_harm', 7:'anxiety', \n",
    "          8:'helpful'}\n",
    "\n",
    "pred_df = get_explanations(sample, parts, n_features, labels, cumulative=False)"
   ]
  },
  {
   "cell_type": "code",
   "execution_count": 56,
   "id": "9c8d994e",
   "metadata": {},
   "outputs": [],
   "source": [
    "pickle.dump(pred_df, open(\"saved/bb_exps/sample7_exp.pickle\", \"wb\"))"
   ]
  }
 ],
 "metadata": {
  "kernelspec": {
   "display_name": "Python 3 (ipykernel)",
   "language": "python",
   "name": "python3"
  },
  "language_info": {
   "codemirror_mode": {
    "name": "ipython",
    "version": 3
   },
   "file_extension": ".py",
   "mimetype": "text/x-python",
   "name": "python",
   "nbconvert_exporter": "python",
   "pygments_lexer": "ipython3",
   "version": "3.9.5"
  },
  "widgets": {
   "application/vnd.jupyter.widget-state+json": {
    "state": {
     "002c88eadd75421cba966f53f115558b": {
      "model_module": "@jupyter-widgets/controls",
      "model_module_version": "1.5.0",
      "model_name": "FloatProgressModel",
      "state": {
       "bar_style": "success",
       "description": "100%",
       "layout": "IPY_MODEL_a9d903b1fe0d4a1fad9b47aa49ba3982",
       "max": 2000,
       "style": "IPY_MODEL_86b84709e8034df7b0953d639c766b77",
       "value": 2000
      }
     },
     "00555b4e5e02444cbfecc13f13d55694": {
      "model_module": "@jupyter-widgets/controls",
      "model_module_version": "1.5.0",
      "model_name": "HTMLModel",
      "state": {
       "layout": "IPY_MODEL_0f844ba470e24fc2a80b968e19978268",
       "style": "IPY_MODEL_2f233d07e2374766b804868b66e9621b",
       "value": " 2000/2000 [10:58&lt;00:00,  3.04ba/s]"
      }
     },
     "00742ee8b1bc4e3cafc32f62811edb22": {
      "model_module": "@jupyter-widgets/base",
      "model_module_version": "1.2.0",
      "model_name": "LayoutModel",
      "state": {}
     },
     "013c9a94e64442fa85cd894c0e2d75dc": {
      "model_module": "@jupyter-widgets/controls",
      "model_module_version": "1.5.0",
      "model_name": "ProgressStyleModel",
      "state": {
       "description_width": "initial"
      }
     },
     "013e50e8a4db445680c64f5f1cee23e2": {
      "model_module": "@jupyter-widgets/base",
      "model_module_version": "1.2.0",
      "model_name": "LayoutModel",
      "state": {}
     },
     "017d23e512e54b2ebda08c1f14d64ff8": {
      "model_module": "@jupyter-widgets/controls",
      "model_module_version": "1.5.0",
      "model_name": "HBoxModel",
      "state": {
       "children": [
        "IPY_MODEL_2e16b7bb84fb4392be7a2b79d26004ba",
        "IPY_MODEL_2cce7c04035f4a7d977ec1f0cc5942dc"
       ],
       "layout": "IPY_MODEL_6ce022bb3eca47b9ace7192b866e7fba"
      }
     },
     "01a63a56869c4aa989a9b7020d9f5c84": {
      "model_module": "@jupyter-widgets/controls",
      "model_module_version": "1.5.0",
      "model_name": "DescriptionStyleModel",
      "state": {
       "description_width": ""
      }
     },
     "01bc5ef456a345788cb6d6ef7ffc97df": {
      "model_module": "@jupyter-widgets/controls",
      "model_module_version": "1.5.0",
      "model_name": "DescriptionStyleModel",
      "state": {
       "description_width": ""
      }
     },
     "01c1072c02664304808ff3406b45c778": {
      "model_module": "@jupyter-widgets/controls",
      "model_module_version": "1.5.0",
      "model_name": "HBoxModel",
      "state": {
       "children": [
        "IPY_MODEL_cfb642546e564c94ad7fce13bfa1978d",
        "IPY_MODEL_46c0ba31dc094ec3940a2d515a2bdcfe"
       ],
       "layout": "IPY_MODEL_051ea9c86c8b4a479014015acd1b6be3"
      }
     },
     "01e08bb2b12a40f5a85d5ebaeb40998e": {
      "model_module": "@jupyter-widgets/controls",
      "model_module_version": "1.5.0",
      "model_name": "ProgressStyleModel",
      "state": {
       "description_width": "initial"
      }
     },
     "0253ab2e0ea24bc2b684629e08206e14": {
      "model_module": "@jupyter-widgets/controls",
      "model_module_version": "1.5.0",
      "model_name": "FloatProgressModel",
      "state": {
       "bar_style": "success",
       "description": "100%",
       "layout": "IPY_MODEL_8045e5d6d78743caa63ac6740b7e0d5e",
       "max": 2000,
       "style": "IPY_MODEL_56847058161d4b3c946a85ce7a1664ee",
       "value": 2000
      }
     },
     "025b0999100d4344abb0af5d1b7aaecb": {
      "model_module": "@jupyter-widgets/base",
      "model_module_version": "1.2.0",
      "model_name": "LayoutModel",
      "state": {}
     },
     "02c76e84620745b88bae204c473b682b": {
      "model_module": "@jupyter-widgets/controls",
      "model_module_version": "1.5.0",
      "model_name": "FloatProgressModel",
      "state": {
       "bar_style": "success",
       "description": "100%",
       "layout": "IPY_MODEL_5bc41e6fc2b1469896322a3156520145",
       "max": 2000,
       "style": "IPY_MODEL_330d9b39bcea4d5083d65a4120fd7dad",
       "value": 2000
      }
     },
     "02c91a623a3847108d0513b54b96cbf0": {
      "model_module": "@jupyter-widgets/controls",
      "model_module_version": "1.5.0",
      "model_name": "HBoxModel",
      "state": {
       "children": [
        "IPY_MODEL_f2f273eeebde431d8309859509727319",
        "IPY_MODEL_2fb7ed4c44ae47ba8333875d780264b4"
       ],
       "layout": "IPY_MODEL_e3873a931603479abe3d4ee2c0e489d7"
      }
     },
     "04228c54ab7346b3ba2c7c456191a4bf": {
      "model_module": "@jupyter-widgets/base",
      "model_module_version": "1.2.0",
      "model_name": "LayoutModel",
      "state": {}
     },
     "042afbda4d1c418e892da8a6e3b92142": {
      "model_module": "@jupyter-widgets/controls",
      "model_module_version": "1.5.0",
      "model_name": "DescriptionStyleModel",
      "state": {
       "description_width": ""
      }
     },
     "0464650638ce42fda808283674999492": {
      "model_module": "@jupyter-widgets/controls",
      "model_module_version": "1.5.0",
      "model_name": "DescriptionStyleModel",
      "state": {
       "description_width": ""
      }
     },
     "04aef878431d477cb0f38ab73fd2c79e": {
      "model_module": "@jupyter-widgets/base",
      "model_module_version": "1.2.0",
      "model_name": "LayoutModel",
      "state": {}
     },
     "04c2a8f2154b46a99a2b9309c432085f": {
      "model_module": "@jupyter-widgets/controls",
      "model_module_version": "1.5.0",
      "model_name": "FloatProgressModel",
      "state": {
       "bar_style": "success",
       "description": "100%",
       "layout": "IPY_MODEL_8b7514ffefe547d0912a8718b04507fc",
       "max": 2000,
       "style": "IPY_MODEL_62b02c78f46049059858b3c01685309d",
       "value": 2000
      }
     },
     "04ff246fd97f43a6bc781e8a0a192ec7": {
      "model_module": "@jupyter-widgets/controls",
      "model_module_version": "1.5.0",
      "model_name": "DescriptionStyleModel",
      "state": {
       "description_width": ""
      }
     },
     "051ea9c86c8b4a479014015acd1b6be3": {
      "model_module": "@jupyter-widgets/base",
      "model_module_version": "1.2.0",
      "model_name": "LayoutModel",
      "state": {}
     },
     "0536991d07c94e18a6993205819c3f40": {
      "model_module": "@jupyter-widgets/controls",
      "model_module_version": "1.5.0",
      "model_name": "ProgressStyleModel",
      "state": {
       "description_width": "initial"
      }
     },
     "053953803f304661b12bed1e2f4ecbe0": {
      "model_module": "@jupyter-widgets/controls",
      "model_module_version": "1.5.0",
      "model_name": "HTMLModel",
      "state": {
       "layout": "IPY_MODEL_48d61c4b912c433f9ccfe43711436954",
       "style": "IPY_MODEL_77f160d492fb45848e7ce482376a9662",
       "value": " 2000/2000 [5:38:29&lt;00:00, 10.15s/ba]"
      }
     },
     "055dda4653fc480c949bfd332d8332cf": {
      "model_module": "@jupyter-widgets/controls",
      "model_module_version": "1.5.0",
      "model_name": "FloatProgressModel",
      "state": {
       "bar_style": "success",
       "description": "100%",
       "layout": "IPY_MODEL_14dec0415de44f47b0101fca9a7fbe17",
       "max": 2000,
       "style": "IPY_MODEL_b7a61bd2e5fd484d884bef0848f1739f",
       "value": 2000
      }
     },
     "05bb102cdbee4311ab2af52dac7d3b14": {
      "model_module": "@jupyter-widgets/base",
      "model_module_version": "1.2.0",
      "model_name": "LayoutModel",
      "state": {}
     },
     "05db082e58b646cab360794b262b2878": {
      "model_module": "@jupyter-widgets/base",
      "model_module_version": "1.2.0",
      "model_name": "LayoutModel",
      "state": {}
     },
     "061ba0fb01e74a3b84beb3d3186971cf": {
      "model_module": "@jupyter-widgets/controls",
      "model_module_version": "1.5.0",
      "model_name": "HBoxModel",
      "state": {
       "children": [
        "IPY_MODEL_48f805ff4199437383186d7e37542007",
        "IPY_MODEL_8c01506db8e14db986265bb99502d9ca"
       ],
       "layout": "IPY_MODEL_6c2482deb3914d2ba4df259a09ed372e"
      }
     },
     "063f7391f94e412188b885988e5fd3b4": {
      "model_module": "@jupyter-widgets/base",
      "model_module_version": "1.2.0",
      "model_name": "LayoutModel",
      "state": {}
     },
     "064236ad375b46bc8efdfad894858184": {
      "model_module": "@jupyter-widgets/base",
      "model_module_version": "1.2.0",
      "model_name": "LayoutModel",
      "state": {}
     },
     "06cdb0f469e74561a2e5c808464c6641": {
      "model_module": "@jupyter-widgets/controls",
      "model_module_version": "1.5.0",
      "model_name": "HTMLModel",
      "state": {
       "layout": "IPY_MODEL_8ef44f0464714351a2da2bcbddfa1108",
       "style": "IPY_MODEL_78392c90d74442cebf1f171fd01605fd",
       "value": " 2000/2000 [06:00&lt;00:00,  5.55ba/s]"
      }
     },
     "070322b28ad84ed8beb45682196d15dc": {
      "model_module": "@jupyter-widgets/controls",
      "model_module_version": "1.5.0",
      "model_name": "FloatProgressModel",
      "state": {
       "bar_style": "success",
       "description": "100%",
       "layout": "IPY_MODEL_18edafe2f07644d994f285e0c34b43bd",
       "max": 2000,
       "style": "IPY_MODEL_5d315252cc524f8784f73b60e126019e",
       "value": 2000
      }
     },
     "07204a4b3a0c485eb6680871aeee7efe": {
      "model_module": "@jupyter-widgets/controls",
      "model_module_version": "1.5.0",
      "model_name": "HBoxModel",
      "state": {
       "children": [
        "IPY_MODEL_a7e6b1e723c440d6be71ba309df6b010",
        "IPY_MODEL_4b410fd828ec491abf644c6ec1c4f242"
       ],
       "layout": "IPY_MODEL_dffa425221d34d14a4a3c70afd47524a"
      }
     },
     "0801592fe26e427ebf29a4db4547eec8": {
      "model_module": "@jupyter-widgets/controls",
      "model_module_version": "1.5.0",
      "model_name": "DescriptionStyleModel",
      "state": {
       "description_width": ""
      }
     },
     "0850b0db46ca40088c1eac62bc191a00": {
      "model_module": "@jupyter-widgets/controls",
      "model_module_version": "1.5.0",
      "model_name": "HTMLModel",
      "state": {
       "layout": "IPY_MODEL_a73a32087b28479a8c45a2aab0674164",
       "style": "IPY_MODEL_d28e99ed75284495892a90ce1a563015",
       "value": " 2000/2000 [8:45:30&lt;00:00, 15.77s/ba]"
      }
     },
     "08731e9c1f584099b0e9392cd7cba5a7": {
      "model_module": "@jupyter-widgets/base",
      "model_module_version": "1.2.0",
      "model_name": "LayoutModel",
      "state": {}
     },
     "08761e1c822744b99c01991354289408": {
      "model_module": "@jupyter-widgets/controls",
      "model_module_version": "1.5.0",
      "model_name": "HBoxModel",
      "state": {
       "children": [
        "IPY_MODEL_f510b319e2ca425fba442659250bd32c",
        "IPY_MODEL_59bf1f79fbae4346b51561c9c4f263bf"
       ],
       "layout": "IPY_MODEL_14ffada25d174cdba94ffad38b133dcd"
      }
     },
     "08a8ee12bd0540e2b99579698fe43d8e": {
      "model_module": "@jupyter-widgets/controls",
      "model_module_version": "1.5.0",
      "model_name": "ProgressStyleModel",
      "state": {
       "description_width": "initial"
      }
     },
     "08e6acb741bc4909acb2d6eeb8f1af6a": {
      "model_module": "@jupyter-widgets/controls",
      "model_module_version": "1.5.0",
      "model_name": "ProgressStyleModel",
      "state": {
       "description_width": "initial"
      }
     },
     "09e887312ad040809a2dafefb93091f8": {
      "model_module": "@jupyter-widgets/base",
      "model_module_version": "1.2.0",
      "model_name": "LayoutModel",
      "state": {}
     },
     "0a0319c50a6947ada205aea4d1ef8db1": {
      "model_module": "@jupyter-widgets/controls",
      "model_module_version": "1.5.0",
      "model_name": "HBoxModel",
      "state": {
       "children": [
        "IPY_MODEL_c13e6354dc5b4690ae4cba0bc9d25fd2",
        "IPY_MODEL_4f0b9059d98b4e73b58d8f8fbcf3d41d"
       ],
       "layout": "IPY_MODEL_1137ed33eb82473187e78f52fc8987ec"
      }
     },
     "0a1dcea3f7ae4bf9949577a6931494d0": {
      "model_module": "@jupyter-widgets/base",
      "model_module_version": "1.2.0",
      "model_name": "LayoutModel",
      "state": {}
     },
     "0abb548842b04e5eb2a79c8df592bb71": {
      "model_module": "@jupyter-widgets/base",
      "model_module_version": "1.2.0",
      "model_name": "LayoutModel",
      "state": {}
     },
     "0af16e5179b9469a8af5f8cc6d5e6c74": {
      "model_module": "@jupyter-widgets/controls",
      "model_module_version": "1.5.0",
      "model_name": "FloatProgressModel",
      "state": {
       "bar_style": "success",
       "description": "100%",
       "layout": "IPY_MODEL_0ed423758900483f820e1bd138818319",
       "max": 2000,
       "style": "IPY_MODEL_2454d4bc237f40f892d30d9e15b2b8fa",
       "value": 2000
      }
     },
     "0af56809090b486da67ca3183b817fb0": {
      "model_module": "@jupyter-widgets/base",
      "model_module_version": "1.2.0",
      "model_name": "LayoutModel",
      "state": {}
     },
     "0b301fea0b1f4bb8b886bfcc5473c201": {
      "model_module": "@jupyter-widgets/controls",
      "model_module_version": "1.5.0",
      "model_name": "ProgressStyleModel",
      "state": {
       "description_width": "initial"
      }
     },
     "0b60b1f569f541b8a538438d0c09baef": {
      "model_module": "@jupyter-widgets/base",
      "model_module_version": "1.2.0",
      "model_name": "LayoutModel",
      "state": {}
     },
     "0bda9bae16f04edcac27c12536a0b854": {
      "model_module": "@jupyter-widgets/base",
      "model_module_version": "1.2.0",
      "model_name": "LayoutModel",
      "state": {}
     },
     "0caffc9679a14b45bab11be0ea34ad04": {
      "model_module": "@jupyter-widgets/base",
      "model_module_version": "1.2.0",
      "model_name": "LayoutModel",
      "state": {}
     },
     "0cb72512f8864d5db780a6438d745f12": {
      "model_module": "@jupyter-widgets/controls",
      "model_module_version": "1.5.0",
      "model_name": "HTMLModel",
      "state": {
       "layout": "IPY_MODEL_52e21909966e4a9087f55b5a33e4cb13",
       "style": "IPY_MODEL_4ac84517ef4e46cc82ff13963dd60073",
       "value": " 33/100 [3:31:58&lt;7:10:22, 385.41s/it]"
      }
     },
     "0cd91f5c1dbe4c69b6565fc867dccd79": {
      "model_module": "@jupyter-widgets/controls",
      "model_module_version": "1.5.0",
      "model_name": "DescriptionStyleModel",
      "state": {
       "description_width": ""
      }
     },
     "0d345514dbbb487ca40d0177b4613237": {
      "model_module": "@jupyter-widgets/controls",
      "model_module_version": "1.5.0",
      "model_name": "HTMLModel",
      "state": {
       "layout": "IPY_MODEL_bb3a1ac580294508a0bd95dcd331c32e",
       "style": "IPY_MODEL_7e5aaf4259574c26a26ccc0281589951",
       "value": " 2000/2000 [07:32&lt;00:00,  4.42ba/s]"
      }
     },
     "0d44d657f15a4f84bf30160b42700f8f": {
      "model_module": "@jupyter-widgets/controls",
      "model_module_version": "1.5.0",
      "model_name": "HBoxModel",
      "state": {
       "children": [
        "IPY_MODEL_d17a9e85e1b74223973f9981b7ae62e3",
        "IPY_MODEL_22b72675613740ed84190278ec9d07a8"
       ],
       "layout": "IPY_MODEL_72897fc567174f9ea313158ea5720ebe"
      }
     },
     "0d6cb195c30e42cfaab0f2b2a07377ee": {
      "model_module": "@jupyter-widgets/base",
      "model_module_version": "1.2.0",
      "model_name": "LayoutModel",
      "state": {}
     },
     "0daa20ef44cf4247aed5562ad2f21b4e": {
      "model_module": "@jupyter-widgets/base",
      "model_module_version": "1.2.0",
      "model_name": "LayoutModel",
      "state": {}
     },
     "0db5c23ad43946198f82e6d8a586b38d": {
      "model_module": "@jupyter-widgets/controls",
      "model_module_version": "1.5.0",
      "model_name": "DescriptionStyleModel",
      "state": {
       "description_width": ""
      }
     },
     "0ddc2bfd4deb4e2483f8cb39cda851b2": {
      "model_module": "@jupyter-widgets/controls",
      "model_module_version": "1.5.0",
      "model_name": "HTMLModel",
      "state": {
       "layout": "IPY_MODEL_83475dc81ceb456fb87f861ea2577f15",
       "style": "IPY_MODEL_87ff376f0d7b4eea962c090daede0dae",
       "value": " 100/100 [00:26&lt;00:00,  3.78it/s]"
      }
     },
     "0de5ce6b266f4d2b93ef8944be39b55f": {
      "model_module": "@jupyter-widgets/controls",
      "model_module_version": "1.5.0",
      "model_name": "FloatProgressModel",
      "state": {
       "bar_style": "success",
       "description": "100%",
       "layout": "IPY_MODEL_8a879d54c12940a291bb37326ac2d267",
       "max": 2000,
       "style": "IPY_MODEL_734bdecd2da5446fa4ab9389298c137b",
       "value": 2000
      }
     },
     "0deed15f5ad94a948c329fe6bf4ad486": {
      "model_module": "@jupyter-widgets/base",
      "model_module_version": "1.2.0",
      "model_name": "LayoutModel",
      "state": {}
     },
     "0dfaa80675304d66bb99ebc3f6b891ea": {
      "model_module": "@jupyter-widgets/controls",
      "model_module_version": "1.5.0",
      "model_name": "DescriptionStyleModel",
      "state": {
       "description_width": ""
      }
     },
     "0e15c6da315045e98ffca8e81c88e829": {
      "model_module": "@jupyter-widgets/controls",
      "model_module_version": "1.5.0",
      "model_name": "DescriptionStyleModel",
      "state": {
       "description_width": ""
      }
     },
     "0e537a084c1c48aba429208cd6ef8957": {
      "model_module": "@jupyter-widgets/controls",
      "model_module_version": "1.5.0",
      "model_name": "DescriptionStyleModel",
      "state": {
       "description_width": ""
      }
     },
     "0e6da581b3a548e98932ecef3154ffde": {
      "model_module": "@jupyter-widgets/controls",
      "model_module_version": "1.5.0",
      "model_name": "ProgressStyleModel",
      "state": {
       "description_width": "initial"
      }
     },
     "0ea79b64b022456c86589cb1b6a847e9": {
      "model_module": "@jupyter-widgets/controls",
      "model_module_version": "1.5.0",
      "model_name": "HTMLModel",
      "state": {
       "layout": "IPY_MODEL_ce66db06729742c1a004dd8a09407bf1",
       "style": "IPY_MODEL_0db5c23ad43946198f82e6d8a586b38d",
       "value": " 2000/2000 [04:20&lt;00:00,  7.67ba/s]"
      }
     },
     "0ed423758900483f820e1bd138818319": {
      "model_module": "@jupyter-widgets/base",
      "model_module_version": "1.2.0",
      "model_name": "LayoutModel",
      "state": {}
     },
     "0efe8563e89946d9a8c7e130ada318b2": {
      "model_module": "@jupyter-widgets/controls",
      "model_module_version": "1.5.0",
      "model_name": "FloatProgressModel",
      "state": {
       "bar_style": "success",
       "description": "100%",
       "layout": "IPY_MODEL_ebe030d48f704d5b9b169a8d5937e6ff",
       "max": 2000,
       "style": "IPY_MODEL_bda1abd51f3a475283d912e4ea171f14",
       "value": 2000
      }
     },
     "0f42e3b72d5e4190aacff29533192768": {
      "model_module": "@jupyter-widgets/controls",
      "model_module_version": "1.5.0",
      "model_name": "HTMLModel",
      "state": {
       "layout": "IPY_MODEL_96935a40bbdb47d4a3d3ff829d146b80",
       "style": "IPY_MODEL_f64b5dc8c9254e44a67e8a57f896a5fb",
       "value": " 2000/2000 [04:34&lt;00:00,  7.27ba/s]"
      }
     },
     "0f844ba470e24fc2a80b968e19978268": {
      "model_module": "@jupyter-widgets/base",
      "model_module_version": "1.2.0",
      "model_name": "LayoutModel",
      "state": {}
     },
     "0fcb0ac4e5f7438c96526bb2f9be969e": {
      "model_module": "@jupyter-widgets/base",
      "model_module_version": "1.2.0",
      "model_name": "LayoutModel",
      "state": {}
     },
     "0ffb59f875a94bc394a3bdf43f131ac2": {
      "model_module": "@jupyter-widgets/base",
      "model_module_version": "1.2.0",
      "model_name": "LayoutModel",
      "state": {}
     },
     "10b271b86ee248859f8ff310a73c6edd": {
      "model_module": "@jupyter-widgets/base",
      "model_module_version": "1.2.0",
      "model_name": "LayoutModel",
      "state": {}
     },
     "10b3ed3be11c4b85a0e5dd70efed95f3": {
      "model_module": "@jupyter-widgets/controls",
      "model_module_version": "1.5.0",
      "model_name": "FloatProgressModel",
      "state": {
       "bar_style": "success",
       "description": "100%",
       "layout": "IPY_MODEL_19ba33a6f9734b4bb49bb4c0fa2dd3fa",
       "max": 2000,
       "style": "IPY_MODEL_1922a0b7b8df4f40abfd5653108bda03",
       "value": 2000
      }
     },
     "10f616badfcf4690bf5cf35ab2fec555": {
      "model_module": "@jupyter-widgets/base",
      "model_module_version": "1.2.0",
      "model_name": "LayoutModel",
      "state": {}
     },
     "1101c56bd8984d999e2645e3920e925c": {
      "model_module": "@jupyter-widgets/controls",
      "model_module_version": "1.5.0",
      "model_name": "HTMLModel",
      "state": {
       "layout": "IPY_MODEL_4d62bb9053f649d49c67e52550f58ab7",
       "style": "IPY_MODEL_e25f3234f1194039a07d3e9747d333c5",
       "value": " 2000/2000 [06:50&lt;00:00,  4.88ba/s]"
      }
     },
     "1109bb8cfdbb4b0fb4ed2f4f65c9f7de": {
      "model_module": "@jupyter-widgets/base",
      "model_module_version": "1.2.0",
      "model_name": "LayoutModel",
      "state": {}
     },
     "1137ed33eb82473187e78f52fc8987ec": {
      "model_module": "@jupyter-widgets/base",
      "model_module_version": "1.2.0",
      "model_name": "LayoutModel",
      "state": {}
     },
     "117abaf95d4142f19a525712a2d2e6ca": {
      "model_module": "@jupyter-widgets/controls",
      "model_module_version": "1.5.0",
      "model_name": "FloatProgressModel",
      "state": {
       "bar_style": "success",
       "description": "100%",
       "layout": "IPY_MODEL_c3f59f2f7a844e7eb83b613c1a0ae392",
       "max": 2000,
       "style": "IPY_MODEL_15b5f51fcb524c15b8bf14ba170f3c5e",
       "value": 2000
      }
     },
     "118b281039e849f8aaaa5554c4aeb674": {
      "model_module": "@jupyter-widgets/controls",
      "model_module_version": "1.5.0",
      "model_name": "HBoxModel",
      "state": {
       "children": [
        "IPY_MODEL_10b3ed3be11c4b85a0e5dd70efed95f3",
        "IPY_MODEL_00555b4e5e02444cbfecc13f13d55694"
       ],
       "layout": "IPY_MODEL_61412558cf764c79bfa1289890db9dd0"
      }
     },
     "11cc40dc3dff494ca7c8765e150c0aa7": {
      "model_module": "@jupyter-widgets/base",
      "model_module_version": "1.2.0",
      "model_name": "LayoutModel",
      "state": {}
     },
     "11cff97f53bb49b38bbda2c8fa49f20b": {
      "model_module": "@jupyter-widgets/controls",
      "model_module_version": "1.5.0",
      "model_name": "HBoxModel",
      "state": {
       "children": [
        "IPY_MODEL_cbe3ac6b42554300af5d7551fb2e8fa0",
        "IPY_MODEL_1c99594b96574b77818993882ab3956e"
       ],
       "layout": "IPY_MODEL_9699dbfb96f94875a94a8741a0021ce7"
      }
     },
     "11e47038fc554094b7854d157d2c4d63": {
      "model_module": "@jupyter-widgets/base",
      "model_module_version": "1.2.0",
      "model_name": "LayoutModel",
      "state": {}
     },
     "124bf55883a54e0b967831e1e8128b90": {
      "model_module": "@jupyter-widgets/controls",
      "model_module_version": "1.5.0",
      "model_name": "DescriptionStyleModel",
      "state": {
       "description_width": ""
      }
     },
     "128970824f74451493e0bd6440356cd2": {
      "model_module": "@jupyter-widgets/base",
      "model_module_version": "1.2.0",
      "model_name": "LayoutModel",
      "state": {}
     },
     "12cdf60442494ff785870bdaf8b3d496": {
      "model_module": "@jupyter-widgets/controls",
      "model_module_version": "1.5.0",
      "model_name": "FloatProgressModel",
      "state": {
       "bar_style": "success",
       "description": "100%",
       "layout": "IPY_MODEL_551b0b28b7da4f12bd683e6aa3d329be",
       "max": 2000,
       "style": "IPY_MODEL_acb331fca76f435cbbc65e880b44d6e4",
       "value": 2000
      }
     },
     "1369e1b9a1da473c87eaf3a59123c9fc": {
      "model_module": "@jupyter-widgets/base",
      "model_module_version": "1.2.0",
      "model_name": "LayoutModel",
      "state": {}
     },
     "136d1559da1c43f39ff991775f571711": {
      "model_module": "@jupyter-widgets/controls",
      "model_module_version": "1.5.0",
      "model_name": "FloatProgressModel",
      "state": {
       "bar_style": "success",
       "description": "100%",
       "layout": "IPY_MODEL_233f0b68f22b4424881d957a616048cc",
       "max": 2000,
       "style": "IPY_MODEL_b1d28952ca9247bfbd939cdc0a920b9a",
       "value": 2000
      }
     },
     "138f69ed5198408eb984a2b4328001cb": {
      "model_module": "@jupyter-widgets/controls",
      "model_module_version": "1.5.0",
      "model_name": "HTMLModel",
      "state": {
       "layout": "IPY_MODEL_2307a30a285747e38876da697b9fe00e",
       "style": "IPY_MODEL_3df450a2aba24d7a8b0ed791b1cfa01d",
       "value": " 2000/2000 [6:29:21&lt;00:00, 11.68s/ba]"
      }
     },
     "13b24b979ac54b69b0327cfe8c4187a4": {
      "model_module": "@jupyter-widgets/base",
      "model_module_version": "1.2.0",
      "model_name": "LayoutModel",
      "state": {}
     },
     "13e217af6baa4f7798d16f9ab40cbf64": {
      "model_module": "@jupyter-widgets/base",
      "model_module_version": "1.2.0",
      "model_name": "LayoutModel",
      "state": {}
     },
     "13e8c6661be04ce4bc1c0ad3b9fd3a1b": {
      "model_module": "@jupyter-widgets/base",
      "model_module_version": "1.2.0",
      "model_name": "LayoutModel",
      "state": {}
     },
     "14353661f2064491803e3e5410a3cee9": {
      "model_module": "@jupyter-widgets/controls",
      "model_module_version": "1.5.0",
      "model_name": "DescriptionStyleModel",
      "state": {
       "description_width": ""
      }
     },
     "14543da16b7f4ee091a8766c56e9496f": {
      "model_module": "@jupyter-widgets/controls",
      "model_module_version": "1.5.0",
      "model_name": "ProgressStyleModel",
      "state": {
       "description_width": "initial"
      }
     },
     "1454897bf5d7410081f429325d1f9ce7": {
      "model_module": "@jupyter-widgets/base",
      "model_module_version": "1.2.0",
      "model_name": "LayoutModel",
      "state": {}
     },
     "145c729bae214046ae4e32a30538c1db": {
      "model_module": "@jupyter-widgets/base",
      "model_module_version": "1.2.0",
      "model_name": "LayoutModel",
      "state": {}
     },
     "146eaa73c9ea4e69904e155d535a92ef": {
      "model_module": "@jupyter-widgets/controls",
      "model_module_version": "1.5.0",
      "model_name": "ProgressStyleModel",
      "state": {
       "description_width": "initial"
      }
     },
     "147099953e6b4de1abf4e8495be35964": {
      "model_module": "@jupyter-widgets/controls",
      "model_module_version": "1.5.0",
      "model_name": "FloatProgressModel",
      "state": {
       "bar_style": "success",
       "description": "100%",
       "layout": "IPY_MODEL_df7e25bf8de14143ad07be619a7a997f",
       "max": 2000,
       "style": "IPY_MODEL_99bf627a290946368ce4e544a94bd69d",
       "value": 2000
      }
     },
     "14dd4ebdf894486cb584ee1ea33744e1": {
      "model_module": "@jupyter-widgets/controls",
      "model_module_version": "1.5.0",
      "model_name": "FloatProgressModel",
      "state": {
       "bar_style": "danger",
       "description": "  0%",
       "layout": "IPY_MODEL_b5a485274f644a18921bd98335dfc985",
       "style": "IPY_MODEL_fc7fe7389c6244cb8d2720b31a306338"
      }
     },
     "14dec0415de44f47b0101fca9a7fbe17": {
      "model_module": "@jupyter-widgets/base",
      "model_module_version": "1.2.0",
      "model_name": "LayoutModel",
      "state": {}
     },
     "14ffada25d174cdba94ffad38b133dcd": {
      "model_module": "@jupyter-widgets/base",
      "model_module_version": "1.2.0",
      "model_name": "LayoutModel",
      "state": {}
     },
     "158abe2231ff48989fb39d555ad1212b": {
      "model_module": "@jupyter-widgets/controls",
      "model_module_version": "1.5.0",
      "model_name": "DescriptionStyleModel",
      "state": {
       "description_width": ""
      }
     },
     "15b5f51fcb524c15b8bf14ba170f3c5e": {
      "model_module": "@jupyter-widgets/controls",
      "model_module_version": "1.5.0",
      "model_name": "ProgressStyleModel",
      "state": {
       "description_width": "initial"
      }
     },
     "15f7ca5a447c4adfb30095a13310841c": {
      "model_module": "@jupyter-widgets/controls",
      "model_module_version": "1.5.0",
      "model_name": "DescriptionStyleModel",
      "state": {
       "description_width": ""
      }
     },
     "15fd65efebe64f12b06451418c9563c2": {
      "model_module": "@jupyter-widgets/controls",
      "model_module_version": "1.5.0",
      "model_name": "HTMLModel",
      "state": {
       "layout": "IPY_MODEL_6ec20d3c1b534835a27785b31ef3e33d",
       "style": "IPY_MODEL_e5aac9d219e74574a26def847258e39d",
       "value": " 2000/2000 [9:04:16&lt;00:00, 16.33s/ba]"
      }
     },
     "1624cf217ed4409b8e5e062ad3487e0e": {
      "model_module": "@jupyter-widgets/controls",
      "model_module_version": "1.5.0",
      "model_name": "DescriptionStyleModel",
      "state": {
       "description_width": ""
      }
     },
     "16e73bb3726045598ddabec5b8572fee": {
      "model_module": "@jupyter-widgets/controls",
      "model_module_version": "1.5.0",
      "model_name": "DescriptionStyleModel",
      "state": {
       "description_width": ""
      }
     },
     "16ec6840eb6242348393e2f6e0b434a0": {
      "model_module": "@jupyter-widgets/controls",
      "model_module_version": "1.5.0",
      "model_name": "HBoxModel",
      "state": {
       "children": [
        "IPY_MODEL_588d0c5b33974410a179bfe64bf5dfce",
        "IPY_MODEL_41c53a12be814fe08fd08d1b9536a739"
       ],
       "layout": "IPY_MODEL_91d8199035c84f05a8b44dff94d6ed33"
      }
     },
     "17dff8cfd70c4784aa0786fa6e32d2ff": {
      "model_module": "@jupyter-widgets/controls",
      "model_module_version": "1.5.0",
      "model_name": "HTMLModel",
      "state": {
       "layout": "IPY_MODEL_375dce2c4e3f46dc91ae3219727eb6e2",
       "style": "IPY_MODEL_782ad791aab14abf8c55885d66f1124e",
       "value": " 2000/2000 [4:07:14&lt;00:00,  7.42s/ba]"
      }
     },
     "180ab0acdb5e4d63a7da277b84ff750b": {
      "model_module": "@jupyter-widgets/base",
      "model_module_version": "1.2.0",
      "model_name": "LayoutModel",
      "state": {}
     },
     "1877ac910b064dd2a23ea4f7fd8f00ed": {
      "model_module": "@jupyter-widgets/controls",
      "model_module_version": "1.5.0",
      "model_name": "HBoxModel",
      "state": {
       "children": [
        "IPY_MODEL_7d0393afe70c45ffbc7060297e77b19e",
        "IPY_MODEL_3750816ab07344df8c66bd15abaeedfb"
       ],
       "layout": "IPY_MODEL_7850fccf46eb428e9008ae426079b023"
      }
     },
     "1893173c09ee4ba981a889b256c32095": {
      "model_module": "@jupyter-widgets/controls",
      "model_module_version": "1.5.0",
      "model_name": "FloatProgressModel",
      "state": {
       "bar_style": "success",
       "description": "100%",
       "layout": "IPY_MODEL_c6ef374b05eb4343bddb24a6299102ca",
       "max": 2000,
       "style": "IPY_MODEL_01e08bb2b12a40f5a85d5ebaeb40998e",
       "value": 2000
      }
     },
     "18ad7c69e6f64dbb9228f4f645e4ecbe": {
      "model_module": "@jupyter-widgets/base",
      "model_module_version": "1.2.0",
      "model_name": "LayoutModel",
      "state": {}
     },
     "18be14264b044d5e932954f8a79307f6": {
      "model_module": "@jupyter-widgets/base",
      "model_module_version": "1.2.0",
      "model_name": "LayoutModel",
      "state": {}
     },
     "18edafe2f07644d994f285e0c34b43bd": {
      "model_module": "@jupyter-widgets/base",
      "model_module_version": "1.2.0",
      "model_name": "LayoutModel",
      "state": {}
     },
     "1904b9ae3d2246e8892a6d93c7d4ac68": {
      "model_module": "@jupyter-widgets/controls",
      "model_module_version": "1.5.0",
      "model_name": "HBoxModel",
      "state": {
       "children": [
        "IPY_MODEL_3b3854356a544dcd9ea358330b10068d",
        "IPY_MODEL_9ebb76dd84624b95ac95936a7ba331f2"
       ],
       "layout": "IPY_MODEL_b31a478234c944199c6b0d727ab9b455"
      }
     },
     "19162ae512884f42b2bfe3775d5e6f59": {
      "model_module": "@jupyter-widgets/base",
      "model_module_version": "1.2.0",
      "model_name": "LayoutModel",
      "state": {}
     },
     "1922a0b7b8df4f40abfd5653108bda03": {
      "model_module": "@jupyter-widgets/controls",
      "model_module_version": "1.5.0",
      "model_name": "ProgressStyleModel",
      "state": {
       "description_width": "initial"
      }
     },
     "193713939e4b4efe93c36266efaee4cd": {
      "model_module": "@jupyter-widgets/controls",
      "model_module_version": "1.5.0",
      "model_name": "FloatProgressModel",
      "state": {
       "bar_style": "success",
       "description": "100%",
       "layout": "IPY_MODEL_200f26eb0b2d428c907a539d16078d27",
       "max": 2000,
       "style": "IPY_MODEL_41ad62e654534654b74ef1dea2e9d57c",
       "value": 2000
      }
     },
     "195ba09f28864574ba92436198ff3f2a": {
      "model_module": "@jupyter-widgets/base",
      "model_module_version": "1.2.0",
      "model_name": "LayoutModel",
      "state": {}
     },
     "19b0b8579d0f440785dbe7470c2c3e04": {
      "model_module": "@jupyter-widgets/base",
      "model_module_version": "1.2.0",
      "model_name": "LayoutModel",
      "state": {}
     },
     "19ba33a6f9734b4bb49bb4c0fa2dd3fa": {
      "model_module": "@jupyter-widgets/base",
      "model_module_version": "1.2.0",
      "model_name": "LayoutModel",
      "state": {}
     },
     "19c9032c2f264393b604e07cc57e52b5": {
      "model_module": "@jupyter-widgets/base",
      "model_module_version": "1.2.0",
      "model_name": "LayoutModel",
      "state": {}
     },
     "19f92d03c9f94b1da81e452ef875c31f": {
      "model_module": "@jupyter-widgets/base",
      "model_module_version": "1.2.0",
      "model_name": "LayoutModel",
      "state": {}
     },
     "1a2d12ec37454f1cba2de8c2ba62d4e1": {
      "model_module": "@jupyter-widgets/base",
      "model_module_version": "1.2.0",
      "model_name": "LayoutModel",
      "state": {}
     },
     "1a60ca1d08d545e6b91fc6824fb7bfaf": {
      "model_module": "@jupyter-widgets/base",
      "model_module_version": "1.2.0",
      "model_name": "LayoutModel",
      "state": {}
     },
     "1addf80c1f5d492191ea48395d2eadfe": {
      "model_module": "@jupyter-widgets/base",
      "model_module_version": "1.2.0",
      "model_name": "LayoutModel",
      "state": {}
     },
     "1ae230b137fb4007951b421c1c985515": {
      "model_module": "@jupyter-widgets/base",
      "model_module_version": "1.2.0",
      "model_name": "LayoutModel",
      "state": {}
     },
     "1ba54b2352b541d39b1466b43b3d977c": {
      "model_module": "@jupyter-widgets/controls",
      "model_module_version": "1.5.0",
      "model_name": "HTMLModel",
      "state": {
       "layout": "IPY_MODEL_8f1833d8c834496b903f957889974c72",
       "style": "IPY_MODEL_cc536288d89a4b3aa2bcd22f24e72764",
       "value": " 2000/2000 [9:17:37&lt;00:00, 16.73s/ba]"
      }
     },
     "1bde891cb4ee454db8485e1d5a60c421": {
      "model_module": "@jupyter-widgets/controls",
      "model_module_version": "1.5.0",
      "model_name": "HTMLModel",
      "state": {
       "layout": "IPY_MODEL_f1a4184ed1474c09af7eeca72cd5e1d7",
       "style": "IPY_MODEL_af33199ae05c4003a456f45930f26b1e",
       "value": " 2000/2000 [2:40:49&lt;00:00,  4.82s/ba]"
      }
     },
     "1c99594b96574b77818993882ab3956e": {
      "model_module": "@jupyter-widgets/controls",
      "model_module_version": "1.5.0",
      "model_name": "HTMLModel",
      "state": {
       "layout": "IPY_MODEL_05bb102cdbee4311ab2af52dac7d3b14",
       "style": "IPY_MODEL_a96818b92e4b47c2ba5e229ac346dc46",
       "value": " 2000/2000 [07:12&lt;00:00,  4.62ba/s]"
      }
     },
     "1ce1f9dcc89641c9b62cf167ff59d0d4": {
      "model_module": "@jupyter-widgets/base",
      "model_module_version": "1.2.0",
      "model_name": "LayoutModel",
      "state": {}
     },
     "1d5c7657ce944459aa4013aa280adfa2": {
      "model_module": "@jupyter-widgets/base",
      "model_module_version": "1.2.0",
      "model_name": "LayoutModel",
      "state": {}
     },
     "1d680a781be948c3af2e12b9922ff673": {
      "model_module": "@jupyter-widgets/base",
      "model_module_version": "1.2.0",
      "model_name": "LayoutModel",
      "state": {}
     },
     "1da00f84d5c7439e8e0911ddcecd8af9": {
      "model_module": "@jupyter-widgets/controls",
      "model_module_version": "1.5.0",
      "model_name": "DescriptionStyleModel",
      "state": {
       "description_width": ""
      }
     },
     "1dcc2d5171e6438c8bb438874f96a75f": {
      "model_module": "@jupyter-widgets/base",
      "model_module_version": "1.2.0",
      "model_name": "LayoutModel",
      "state": {}
     },
     "1e322b6dd7b94e25949b4adc990d8421": {
      "model_module": "@jupyter-widgets/controls",
      "model_module_version": "1.5.0",
      "model_name": "HBoxModel",
      "state": {
       "children": [
        "IPY_MODEL_d201a00bd6ae434fba5e60462021da27",
        "IPY_MODEL_51c5ca6c98ed44d1af8843a9ec2c9fb5"
       ],
       "layout": "IPY_MODEL_5b2ce29531e845b3a920af9236cdb4a0"
      }
     },
     "1efa0e225b2a4d979a320c1b73ee1ce8": {
      "model_module": "@jupyter-widgets/controls",
      "model_module_version": "1.5.0",
      "model_name": "FloatProgressModel",
      "state": {
       "bar_style": "success",
       "description": "100%",
       "layout": "IPY_MODEL_88266ccf8f304a0999c025ddf3d1bd06",
       "max": 2000,
       "style": "IPY_MODEL_cc4e62b1d3584d558692b21e914d81e5",
       "value": 2000
      }
     },
     "1f08e6236efb46fd98f81212b1071fbd": {
      "model_module": "@jupyter-widgets/controls",
      "model_module_version": "1.5.0",
      "model_name": "FloatProgressModel",
      "state": {
       "bar_style": "success",
       "description": "100%",
       "layout": "IPY_MODEL_d3fe573a815047388bf862336ba071bb",
       "max": 2000,
       "style": "IPY_MODEL_f06900290e8140bf9bdfacec419263b6",
       "value": 2000
      }
     },
     "1f18c7dd6f424c38a0594122391e33f0": {
      "model_module": "@jupyter-widgets/controls",
      "model_module_version": "1.5.0",
      "model_name": "ProgressStyleModel",
      "state": {
       "description_width": "initial"
      }
     },
     "1f6fb553337d423698b1f40fd057d6c6": {
      "model_module": "@jupyter-widgets/controls",
      "model_module_version": "1.5.0",
      "model_name": "FloatProgressModel",
      "state": {
       "bar_style": "success",
       "description": "100%",
       "layout": "IPY_MODEL_85c0109139f4450497326b9c17565bf8",
       "max": 2000,
       "style": "IPY_MODEL_0e6da581b3a548e98932ecef3154ffde",
       "value": 2000
      }
     },
     "1f8f7dcf593b4e7aad603a8b55c9d75e": {
      "model_module": "@jupyter-widgets/base",
      "model_module_version": "1.2.0",
      "model_name": "LayoutModel",
      "state": {}
     },
     "1f96e3b144204191958748f322de0b71": {
      "model_module": "@jupyter-widgets/base",
      "model_module_version": "1.2.0",
      "model_name": "LayoutModel",
      "state": {}
     },
     "200f26eb0b2d428c907a539d16078d27": {
      "model_module": "@jupyter-widgets/base",
      "model_module_version": "1.2.0",
      "model_name": "LayoutModel",
      "state": {}
     },
     "2048fd578bc44a9ea116398cd5b60671": {
      "model_module": "@jupyter-widgets/controls",
      "model_module_version": "1.5.0",
      "model_name": "HTMLModel",
      "state": {
       "layout": "IPY_MODEL_4a70c0566be44e77a1353d6f7cbf80cf",
       "style": "IPY_MODEL_b6a171e71d9e4acebd5e87672f685a51",
       "value": " 2000/2000 [3:19:48&lt;00:00,  5.99s/ba]"
      }
     },
     "2094381863ac4a0e8c73513829eaf0ba": {
      "model_module": "@jupyter-widgets/controls",
      "model_module_version": "1.5.0",
      "model_name": "HTMLModel",
      "state": {
       "layout": "IPY_MODEL_5ad1f2dfb2ae4cb7b40e1b7762e02cd1",
       "style": "IPY_MODEL_0cd91f5c1dbe4c69b6565fc867dccd79",
       "value": " 2000/2000 [07:34&lt;00:00,  4.40ba/s]"
      }
     },
     "20c193c79fc84417b6d050f525bace6d": {
      "model_module": "@jupyter-widgets/controls",
      "model_module_version": "1.5.0",
      "model_name": "HBoxModel",
      "state": {
       "children": [
        "IPY_MODEL_375df335de1f415ab7e18254db4446b6",
        "IPY_MODEL_d675ffc0281944cd96609df6f95636f5"
       ],
       "layout": "IPY_MODEL_4940de999eab42cd99f54ff9d386d732"
      }
     },
     "21a4b714586446ba8b03e1e6aa0b57f3": {
      "model_module": "@jupyter-widgets/controls",
      "model_module_version": "1.5.0",
      "model_name": "HBoxModel",
      "state": {
       "children": [
        "IPY_MODEL_618f59be46b84d5ebb4bcd36d2433498",
        "IPY_MODEL_b90d4934b993489e94556a252c761ab3"
       ],
       "layout": "IPY_MODEL_c77166f0c88b42e9b6c00888d408a1f7"
      }
     },
     "222a4e0508764100b3d78370587f7d5d": {
      "model_module": "@jupyter-widgets/base",
      "model_module_version": "1.2.0",
      "model_name": "LayoutModel",
      "state": {}
     },
     "225086ae4e68464887d53eb45177b483": {
      "model_module": "@jupyter-widgets/base",
      "model_module_version": "1.2.0",
      "model_name": "LayoutModel",
      "state": {}
     },
     "22b72675613740ed84190278ec9d07a8": {
      "model_module": "@jupyter-widgets/controls",
      "model_module_version": "1.5.0",
      "model_name": "HTMLModel",
      "state": {
       "layout": "IPY_MODEL_5c63223ac4ad47ebbcb8d8d1116cd13f",
       "style": "IPY_MODEL_c82dc47d1e18404495beaa8f36826b8b",
       "value": " 2000/2000 [7:45:51&lt;00:00, 13.98s/ba]"
      }
     },
     "22b8fceb1379434885a7e8e44da4412c": {
      "model_module": "@jupyter-widgets/base",
      "model_module_version": "1.2.0",
      "model_name": "LayoutModel",
      "state": {}
     },
     "22da8de5ea5b41c88102c14753c86642": {
      "model_module": "@jupyter-widgets/controls",
      "model_module_version": "1.5.0",
      "model_name": "DescriptionStyleModel",
      "state": {
       "description_width": ""
      }
     },
     "2307a30a285747e38876da697b9fe00e": {
      "model_module": "@jupyter-widgets/base",
      "model_module_version": "1.2.0",
      "model_name": "LayoutModel",
      "state": {}
     },
     "231778e822b943cb86bb06bc0c05f2e6": {
      "model_module": "@jupyter-widgets/controls",
      "model_module_version": "1.5.0",
      "model_name": "ProgressStyleModel",
      "state": {
       "description_width": "initial"
      }
     },
     "232c566ee77b4db3bbcb651ca5b8f7af": {
      "model_module": "@jupyter-widgets/controls",
      "model_module_version": "1.5.0",
      "model_name": "HBoxModel",
      "state": {
       "children": [
        "IPY_MODEL_3b4649c980224ae196a4d81af51563cf",
        "IPY_MODEL_e433d58b5ff04fb4a2c20ea15fde75ed"
       ],
       "layout": "IPY_MODEL_621934b6da9f4672917930f2f174a880"
      }
     },
     "233f0b68f22b4424881d957a616048cc": {
      "model_module": "@jupyter-widgets/base",
      "model_module_version": "1.2.0",
      "model_name": "LayoutModel",
      "state": {}
     },
     "23b312283b4a4933b63208d25c2cde31": {
      "model_module": "@jupyter-widgets/controls",
      "model_module_version": "1.5.0",
      "model_name": "HBoxModel",
      "state": {
       "children": [
        "IPY_MODEL_ebdb4ebd57b54ef9bbe59f2ac5dad898",
        "IPY_MODEL_70c0f9081d1349fdb051b52120e2d8fd"
       ],
       "layout": "IPY_MODEL_3e44d700538947bfb2ff14badc7d22a1"
      }
     },
     "23caf0e3801748d589e1917283420246": {
      "model_module": "@jupyter-widgets/controls",
      "model_module_version": "1.5.0",
      "model_name": "HBoxModel",
      "state": {
       "children": [
        "IPY_MODEL_39ceb0ee2ac44a95bcb4476d101097b1",
        "IPY_MODEL_7f5a7a868b294ec79fd0dc59c12c5a21"
       ],
       "layout": "IPY_MODEL_7e2c1ff5bfab4aa99e76533d5a66acff"
      }
     },
     "23f616133b7f408e8011a3f7af37df38": {
      "model_module": "@jupyter-widgets/base",
      "model_module_version": "1.2.0",
      "model_name": "LayoutModel",
      "state": {}
     },
     "2402cb9976674b8692985bdaf8c21578": {
      "model_module": "@jupyter-widgets/controls",
      "model_module_version": "1.5.0",
      "model_name": "HBoxModel",
      "state": {
       "children": [
        "IPY_MODEL_8c4d1890e3d445058f95393fb05f609c",
        "IPY_MODEL_57225ee40f11482cac1df058c682fe56"
       ],
       "layout": "IPY_MODEL_471a8681ddc74fdda9a535e9d1b1a81d"
      }
     },
     "240b69df8a294da0a9dd8d54c7e5097e": {
      "model_module": "@jupyter-widgets/controls",
      "model_module_version": "1.5.0",
      "model_name": "ProgressStyleModel",
      "state": {
       "description_width": "initial"
      }
     },
     "2454d4bc237f40f892d30d9e15b2b8fa": {
      "model_module": "@jupyter-widgets/controls",
      "model_module_version": "1.5.0",
      "model_name": "ProgressStyleModel",
      "state": {
       "description_width": "initial"
      }
     },
     "24d5fa7cffb14a9694ac40dee5554515": {
      "model_module": "@jupyter-widgets/base",
      "model_module_version": "1.2.0",
      "model_name": "LayoutModel",
      "state": {}
     },
     "255534d693304f3bbbfbf38aea43c674": {
      "model_module": "@jupyter-widgets/base",
      "model_module_version": "1.2.0",
      "model_name": "LayoutModel",
      "state": {}
     },
     "2562fa3c7ddf4545b04e8a62ef77b502": {
      "model_module": "@jupyter-widgets/controls",
      "model_module_version": "1.5.0",
      "model_name": "FloatProgressModel",
      "state": {
       "bar_style": "success",
       "description": "100%",
       "layout": "IPY_MODEL_8f245eba23e84c8d9f94a6fc333ae38d",
       "max": 2000,
       "style": "IPY_MODEL_4ce3da4c5e10444db8db97f02fc7c114",
       "value": 2000
      }
     },
     "25fb9c1d190f4a84a890f7515ef16571": {
      "model_module": "@jupyter-widgets/base",
      "model_module_version": "1.2.0",
      "model_name": "LayoutModel",
      "state": {}
     },
     "261cb7e392d24ba4adf2c66d6b09134a": {
      "model_module": "@jupyter-widgets/controls",
      "model_module_version": "1.5.0",
      "model_name": "HTMLModel",
      "state": {
       "layout": "IPY_MODEL_8dd85ea6cdad4c4e942510730ecbc85c",
       "style": "IPY_MODEL_5d9adac3db5b4dde96f264ce9b6b6a3f",
       "value": " 2000/2000 [1:01:58&lt;00:00,  1.86s/ba]"
      }
     },
     "263b1f315f4b48a2a5099e7dea78117c": {
      "model_module": "@jupyter-widgets/controls",
      "model_module_version": "1.5.0",
      "model_name": "HTMLModel",
      "state": {
       "layout": "IPY_MODEL_9225dd20ce964ff5bdb9f5f16342a0cd",
       "style": "IPY_MODEL_fddad6caaa714cecbbb9a4c92c0700a8",
       "value": " 2000/2000 [5:12:50&lt;00:00,  9.39s/ba]"
      }
     },
     "26d78a7c86794c55b6eb86210c3d4a83": {
      "model_module": "@jupyter-widgets/controls",
      "model_module_version": "1.5.0",
      "model_name": "HBoxModel",
      "state": {
       "children": [
        "IPY_MODEL_8e01b702c8fd408abb968e4238118e9d",
        "IPY_MODEL_4fbf6726ffac4c8ea841ba0dcf516f28"
       ],
       "layout": "IPY_MODEL_3865a90a0b2d4e13bab71bbb874a1b6f"
      }
     },
     "26e603daf87d41d9afd85f927ac05844": {
      "model_module": "@jupyter-widgets/controls",
      "model_module_version": "1.5.0",
      "model_name": "ProgressStyleModel",
      "state": {
       "description_width": "initial"
      }
     },
     "26f43b4e3e8640389c52a89459fcbbd4": {
      "model_module": "@jupyter-widgets/base",
      "model_module_version": "1.2.0",
      "model_name": "LayoutModel",
      "state": {}
     },
     "2725366fccec4fb4a8e50974fcf5ec41": {
      "model_module": "@jupyter-widgets/controls",
      "model_module_version": "1.5.0",
      "model_name": "HTMLModel",
      "state": {
       "layout": "IPY_MODEL_d1e0919155964271943a971730f66572",
       "style": "IPY_MODEL_973ff6cf5a36430a992edc4c1beba828",
       "value": " 2000/2000 [1:12:51&lt;00:00,  2.19s/ba]"
      }
     },
     "27373010867e4b7a8c1d4f0b4c541c5a": {
      "model_module": "@jupyter-widgets/controls",
      "model_module_version": "1.5.0",
      "model_name": "HBoxModel",
      "state": {
       "children": [
        "IPY_MODEL_61f7009d6cb04dda8b3fd584e6422583",
        "IPY_MODEL_9f592029c04c45f1b14d6738fb9223e1"
       ],
       "layout": "IPY_MODEL_979693bfb1ca4387b613d60c774ca125"
      }
     },
     "273c9f4067f64c32aaf22323261a846d": {
      "model_module": "@jupyter-widgets/controls",
      "model_module_version": "1.5.0",
      "model_name": "DescriptionStyleModel",
      "state": {
       "description_width": ""
      }
     },
     "275716da4da242208e2ec1795fd3e618": {
      "model_module": "@jupyter-widgets/base",
      "model_module_version": "1.2.0",
      "model_name": "LayoutModel",
      "state": {}
     },
     "279a9f763cd644a5a9a08e708920fcf9": {
      "model_module": "@jupyter-widgets/base",
      "model_module_version": "1.2.0",
      "model_name": "LayoutModel",
      "state": {}
     },
     "27d8e7b907e94fafac52ce9baf11066c": {
      "model_module": "@jupyter-widgets/controls",
      "model_module_version": "1.5.0",
      "model_name": "HTMLModel",
      "state": {
       "layout": "IPY_MODEL_e9b9c5ef7cf548c9836ebe1b85125f61",
       "style": "IPY_MODEL_98d2f21a8d1e4bb6b81e7dd4e769c84c",
       "value": " 2000/2000 [04:47&lt;00:00,  6.95ba/s]"
      }
     },
     "28398e27cba1425ab3fedbc8d9cddc14": {
      "model_module": "@jupyter-widgets/controls",
      "model_module_version": "1.5.0",
      "model_name": "FloatProgressModel",
      "state": {
       "bar_style": "success",
       "description": "100%",
       "layout": "IPY_MODEL_3097df9788d249dcb0280d25645ceee9",
       "max": 2000,
       "style": "IPY_MODEL_0b301fea0b1f4bb8b886bfcc5473c201",
       "value": 2000
      }
     },
     "2847036cce81422f93f1b87c89557681": {
      "model_module": "@jupyter-widgets/controls",
      "model_module_version": "1.5.0",
      "model_name": "HBoxModel",
      "state": {
       "children": [
        "IPY_MODEL_54256d20a62c472e942b53672ef2131e",
        "IPY_MODEL_c14481f10fd142deba3ebed11063b42f"
       ],
       "layout": "IPY_MODEL_3bde7effdec445be80c52bd003404842"
      }
     },
     "28c80a0bcccb427b9414a8f1aca63bbc": {
      "model_module": "@jupyter-widgets/controls",
      "model_module_version": "1.5.0",
      "model_name": "HTMLModel",
      "state": {
       "layout": "IPY_MODEL_d1521648ecdf4e1bae11f98935d91f3d",
       "style": "IPY_MODEL_8899781aa46b4775b3ce890b1e5dc921",
       "value": " 2000/2000 [13:52&lt;00:00,  2.40ba/s]"
      }
     },
     "28dd0b7e199549f3b5b3efd1dccd96f8": {
      "model_module": "@jupyter-widgets/controls",
      "model_module_version": "1.5.0",
      "model_name": "DescriptionStyleModel",
      "state": {
       "description_width": ""
      }
     },
     "28e37d3874aa4c9f95daf9e2629b77d4": {
      "model_module": "@jupyter-widgets/base",
      "model_module_version": "1.2.0",
      "model_name": "LayoutModel",
      "state": {}
     },
     "28ff5c09b4e546b2aa35d1f1049ab81a": {
      "model_module": "@jupyter-widgets/controls",
      "model_module_version": "1.5.0",
      "model_name": "FloatProgressModel",
      "state": {
       "bar_style": "success",
       "description": "100%",
       "layout": "IPY_MODEL_6465f824e943447e84f195a71c5452ed",
       "max": 2000,
       "style": "IPY_MODEL_e595c2ff5e104e1cb21104ea3ec662df",
       "value": 2000
      }
     },
     "2945c82cd2e4480cbf7f62dae1083cd9": {
      "model_module": "@jupyter-widgets/base",
      "model_module_version": "1.2.0",
      "model_name": "LayoutModel",
      "state": {}
     },
     "2950511faf0140b698969ee65c92e9a3": {
      "model_module": "@jupyter-widgets/controls",
      "model_module_version": "1.5.0",
      "model_name": "FloatProgressModel",
      "state": {
       "bar_style": "success",
       "description": "100%",
       "layout": "IPY_MODEL_eedea6978b2d47df8becc0f7b643f7b7",
       "max": 2000,
       "style": "IPY_MODEL_9c9fba10269843a1928a0f49335dab61",
       "value": 2000
      }
     },
     "297abaefbec645aaaeecf03afdc1f2b8": {
      "model_module": "@jupyter-widgets/controls",
      "model_module_version": "1.5.0",
      "model_name": "HBoxModel",
      "state": {
       "children": [
        "IPY_MODEL_b64489008b6746598fcf65c9f1d60aba",
        "IPY_MODEL_9df3a45c037d4d31aee63fa0ad5959c4"
       ],
       "layout": "IPY_MODEL_8a227c3016ac4fa6879ca2a5a3de5cbc"
      }
     },
     "29fcb831871e449d827b2a4cf66bcb5b": {
      "model_module": "@jupyter-widgets/controls",
      "model_module_version": "1.5.0",
      "model_name": "FloatProgressModel",
      "state": {
       "bar_style": "success",
       "description": "100%",
       "layout": "IPY_MODEL_844037d337c94b6885ae3c92e464847e",
       "max": 2000,
       "style": "IPY_MODEL_a5cefb85c3ee4b3f92b59cd8ea3f00f5",
       "value": 2000
      }
     },
     "2a8f1a59af574c5f8375986c5fe36565": {
      "model_module": "@jupyter-widgets/controls",
      "model_module_version": "1.5.0",
      "model_name": "ProgressStyleModel",
      "state": {
       "description_width": "initial"
      }
     },
     "2aa11a2388df437a937b43a62d27c717": {
      "model_module": "@jupyter-widgets/controls",
      "model_module_version": "1.5.0",
      "model_name": "HTMLModel",
      "state": {
       "layout": "IPY_MODEL_49deb7cef8284b00b15cf093777a81bb",
       "style": "IPY_MODEL_2ec88911f8964a44a603a45daecfdf90",
       "value": " 2000/2000 [3:52:29&lt;00:00,  6.97s/ba]"
      }
     },
     "2b687658a5bf423ca124f71057f2edf7": {
      "model_module": "@jupyter-widgets/controls",
      "model_module_version": "1.5.0",
      "model_name": "DescriptionStyleModel",
      "state": {
       "description_width": ""
      }
     },
     "2bc978066b1c4ece82b0bfede47b793a": {
      "model_module": "@jupyter-widgets/controls",
      "model_module_version": "1.5.0",
      "model_name": "HBoxModel",
      "state": {
       "children": [
        "IPY_MODEL_14dd4ebdf894486cb584ee1ea33744e1",
        "IPY_MODEL_dfd642a5699e482cb64d39f51643d059"
       ],
       "layout": "IPY_MODEL_54c317579e6742d4b31bbc48114edc6a"
      }
     },
     "2be230b627ee4ad59d90a952eda8fd53": {
      "model_module": "@jupyter-widgets/controls",
      "model_module_version": "1.5.0",
      "model_name": "HBoxModel",
      "state": {
       "children": [
        "IPY_MODEL_fbc056c3161d4263a630df4382270353",
        "IPY_MODEL_c8a9bd00de744384ba35fa66e04d21bc"
       ],
       "layout": "IPY_MODEL_13e8c6661be04ce4bc1c0ad3b9fd3a1b"
      }
     },
     "2c1a476d91364011ad573944ca1be9ed": {
      "model_module": "@jupyter-widgets/controls",
      "model_module_version": "1.5.0",
      "model_name": "HBoxModel",
      "state": {
       "children": [
        "IPY_MODEL_5e82841f3db1417fb6b7c89ba94076a3",
        "IPY_MODEL_c31f18fb969e441180cba7b5bf69d3e2"
       ],
       "layout": "IPY_MODEL_3234781faba9476e926cf7aa60023400"
      }
     },
     "2c63f3209ed6437d88a4563e965e0014": {
      "model_module": "@jupyter-widgets/base",
      "model_module_version": "1.2.0",
      "model_name": "LayoutModel",
      "state": {}
     },
     "2c8ba8d9c8984a16a4c49113ddda034a": {
      "model_module": "@jupyter-widgets/controls",
      "model_module_version": "1.5.0",
      "model_name": "ProgressStyleModel",
      "state": {
       "description_width": "initial"
      }
     },
     "2cce7c04035f4a7d977ec1f0cc5942dc": {
      "model_module": "@jupyter-widgets/controls",
      "model_module_version": "1.5.0",
      "model_name": "HTMLModel",
      "state": {
       "layout": "IPY_MODEL_23f616133b7f408e8011a3f7af37df38",
       "style": "IPY_MODEL_ffe5b6acb05c469bb20d6ba5d279e44f",
       "value": " 2000/2000 [05:35&lt;00:00,  5.96ba/s]"
      }
     },
     "2cfa8ce33fdd40f084ebac5d6c809013": {
      "model_module": "@jupyter-widgets/base",
      "model_module_version": "1.2.0",
      "model_name": "LayoutModel",
      "state": {}
     },
     "2d32709c2f5144d981bcaa5721ff6a96": {
      "model_module": "@jupyter-widgets/controls",
      "model_module_version": "1.5.0",
      "model_name": "HBoxModel",
      "state": {
       "children": [
        "IPY_MODEL_86de66e680cd4e16a05ffc5c1ce817c7",
        "IPY_MODEL_0850b0db46ca40088c1eac62bc191a00"
       ],
       "layout": "IPY_MODEL_bd9acafbbad249f19d491b0c80b97816"
      }
     },
     "2d7309bd54d24dc1ab9d073de66f962b": {
      "model_module": "@jupyter-widgets/base",
      "model_module_version": "1.2.0",
      "model_name": "LayoutModel",
      "state": {}
     },
     "2d90d0450ea94d11b41a380a60f70c5c": {
      "model_module": "@jupyter-widgets/controls",
      "model_module_version": "1.5.0",
      "model_name": "DescriptionStyleModel",
      "state": {
       "description_width": ""
      }
     },
     "2e16b7bb84fb4392be7a2b79d26004ba": {
      "model_module": "@jupyter-widgets/controls",
      "model_module_version": "1.5.0",
      "model_name": "FloatProgressModel",
      "state": {
       "bar_style": "success",
       "description": "100%",
       "layout": "IPY_MODEL_6a0d12c6e6894808bb8c3c261c1ebbc3",
       "max": 2000,
       "style": "IPY_MODEL_2a8f1a59af574c5f8375986c5fe36565",
       "value": 2000
      }
     },
     "2e67e570e7ab4267a6b88b63993f14bb": {
      "model_module": "@jupyter-widgets/controls",
      "model_module_version": "1.5.0",
      "model_name": "HTMLModel",
      "state": {
       "layout": "IPY_MODEL_d6f515c231e04245a1eb31868c801ce0",
       "style": "IPY_MODEL_6240283cc4834eb5889560c840305364",
       "value": " 2000/2000 [2:19:12&lt;00:00,  4.18s/ba]"
      }
     },
     "2ec88911f8964a44a603a45daecfdf90": {
      "model_module": "@jupyter-widgets/controls",
      "model_module_version": "1.5.0",
      "model_name": "DescriptionStyleModel",
      "state": {
       "description_width": ""
      }
     },
     "2f233d07e2374766b804868b66e9621b": {
      "model_module": "@jupyter-widgets/controls",
      "model_module_version": "1.5.0",
      "model_name": "DescriptionStyleModel",
      "state": {
       "description_width": ""
      }
     },
     "2fb7ed4c44ae47ba8333875d780264b4": {
      "model_module": "@jupyter-widgets/controls",
      "model_module_version": "1.5.0",
      "model_name": "HTMLModel",
      "state": {
       "layout": "IPY_MODEL_1addf80c1f5d492191ea48395d2eadfe",
       "style": "IPY_MODEL_d2248b728a6d4a9e88d33314f7d38289",
       "value": " 2000/2000 [3:24:38&lt;00:00,  6.14s/ba]"
      }
     },
     "3097df9788d249dcb0280d25645ceee9": {
      "model_module": "@jupyter-widgets/base",
      "model_module_version": "1.2.0",
      "model_name": "LayoutModel",
      "state": {}
     },
     "309aea4c7a044d08a366ca12ba6193b6": {
      "model_module": "@jupyter-widgets/base",
      "model_module_version": "1.2.0",
      "model_name": "LayoutModel",
      "state": {}
     },
     "30d37d47ee98496aaca8a6ae8102d4d7": {
      "model_module": "@jupyter-widgets/base",
      "model_module_version": "1.2.0",
      "model_name": "LayoutModel",
      "state": {}
     },
     "30d8cb1efa5c4e8cb9589674105c147a": {
      "model_module": "@jupyter-widgets/base",
      "model_module_version": "1.2.0",
      "model_name": "LayoutModel",
      "state": {}
     },
     "314126c06a9f497a8aa51beb283f9095": {
      "model_module": "@jupyter-widgets/controls",
      "model_module_version": "1.5.0",
      "model_name": "DescriptionStyleModel",
      "state": {
       "description_width": ""
      }
     },
     "31729cf22246428d9a38df8bfb8b049e": {
      "model_module": "@jupyter-widgets/base",
      "model_module_version": "1.2.0",
      "model_name": "LayoutModel",
      "state": {}
     },
     "3234781faba9476e926cf7aa60023400": {
      "model_module": "@jupyter-widgets/base",
      "model_module_version": "1.2.0",
      "model_name": "LayoutModel",
      "state": {}
     },
     "328c7b74054f4140995c603cc0c13906": {
      "model_module": "@jupyter-widgets/controls",
      "model_module_version": "1.5.0",
      "model_name": "FloatProgressModel",
      "state": {
       "bar_style": "success",
       "description": "100%",
       "layout": "IPY_MODEL_128970824f74451493e0bd6440356cd2",
       "max": 2000,
       "style": "IPY_MODEL_de88e118b2104e5db830f30dc84ccecd",
       "value": 2000
      }
     },
     "32c451fb731645a5b41e7e33fba3a99d": {
      "model_module": "@jupyter-widgets/controls",
      "model_module_version": "1.5.0",
      "model_name": "DescriptionStyleModel",
      "state": {
       "description_width": ""
      }
     },
     "32f95bb034e64d3b8840ccb59ed431e1": {
      "model_module": "@jupyter-widgets/controls",
      "model_module_version": "1.5.0",
      "model_name": "HTMLModel",
      "state": {
       "layout": "IPY_MODEL_1454897bf5d7410081f429325d1f9ce7",
       "style": "IPY_MODEL_1624cf217ed4409b8e5e062ad3487e0e",
       "value": " 2000/2000 [05:26&lt;00:00,  6.13ba/s]"
      }
     },
     "330d9b39bcea4d5083d65a4120fd7dad": {
      "model_module": "@jupyter-widgets/controls",
      "model_module_version": "1.5.0",
      "model_name": "ProgressStyleModel",
      "state": {
       "description_width": "initial"
      }
     },
     "3323c012b1c04da4889e0b6a55027a62": {
      "model_module": "@jupyter-widgets/controls",
      "model_module_version": "1.5.0",
      "model_name": "ProgressStyleModel",
      "state": {
       "description_width": "initial"
      }
     },
     "335bc1cdd612428ea01bcb6b9646cd7a": {
      "model_module": "@jupyter-widgets/base",
      "model_module_version": "1.2.0",
      "model_name": "LayoutModel",
      "state": {}
     },
     "3367479b9e9e403882fd8893003a84e4": {
      "model_module": "@jupyter-widgets/base",
      "model_module_version": "1.2.0",
      "model_name": "LayoutModel",
      "state": {}
     },
     "33a15e6758e045469454dab7bfcf60ad": {
      "model_module": "@jupyter-widgets/controls",
      "model_module_version": "1.5.0",
      "model_name": "ProgressStyleModel",
      "state": {
       "description_width": "initial"
      }
     },
     "33af33124af24b9bac7fd145710c37d8": {
      "model_module": "@jupyter-widgets/controls",
      "model_module_version": "1.5.0",
      "model_name": "ProgressStyleModel",
      "state": {
       "description_width": "initial"
      }
     },
     "33ce5ee3fa464783a734e870d27c2c46": {
      "model_module": "@jupyter-widgets/controls",
      "model_module_version": "1.5.0",
      "model_name": "DescriptionStyleModel",
      "state": {
       "description_width": ""
      }
     },
     "33e35e7104344536a13a2284280777be": {
      "model_module": "@jupyter-widgets/controls",
      "model_module_version": "1.5.0",
      "model_name": "HTMLModel",
      "state": {
       "layout": "IPY_MODEL_ab90d23c7619409cbe9d38fafdda3a6e",
       "style": "IPY_MODEL_0dfaa80675304d66bb99ebc3f6b891ea",
       "value": " 2000/2000 [2:12:17&lt;00:00,  3.97s/ba]"
      }
     },
     "35514cf1ffe744c1be83e67ed7d1d7f5": {
      "model_module": "@jupyter-widgets/controls",
      "model_module_version": "1.5.0",
      "model_name": "HTMLModel",
      "state": {
       "layout": "IPY_MODEL_24d5fa7cffb14a9694ac40dee5554515",
       "style": "IPY_MODEL_a8af2476cf9d489aa84fe5686772b133",
       "value": " 2000/2000 [3:12:10&lt;00:00,  5.77s/ba]"
      }
     },
     "35a347f51c204a9a9a4fb3940770289c": {
      "model_module": "@jupyter-widgets/controls",
      "model_module_version": "1.5.0",
      "model_name": "HBoxModel",
      "state": {
       "children": [
        "IPY_MODEL_716b3a680275482ba62ff53ea53c0669",
        "IPY_MODEL_3c16942acdcf466ea6a9d5b867954fb0"
       ],
       "layout": "IPY_MODEL_3f8e67180bc64dd1a6acbbaf92223acc"
      }
     },
     "35bd19a3c3f44d6499c2359942784659": {
      "model_module": "@jupyter-widgets/base",
      "model_module_version": "1.2.0",
      "model_name": "LayoutModel",
      "state": {}
     },
     "35ed46a66964431389aa5da1ca1cdb0b": {
      "model_module": "@jupyter-widgets/controls",
      "model_module_version": "1.5.0",
      "model_name": "ProgressStyleModel",
      "state": {
       "description_width": "initial"
      }
     },
     "35f797f8920c4e77a428e585288f7b56": {
      "model_module": "@jupyter-widgets/base",
      "model_module_version": "1.2.0",
      "model_name": "LayoutModel",
      "state": {}
     },
     "3646bee958d04c9cba63af78b092d10d": {
      "model_module": "@jupyter-widgets/controls",
      "model_module_version": "1.5.0",
      "model_name": "HTMLModel",
      "state": {
       "layout": "IPY_MODEL_cfda67f1ab394f86a317486f91dfe851",
       "style": "IPY_MODEL_4c504240ac1b47438699cb71f024ef12",
       "value": " 2000/2000 [07:24&lt;00:00,  4.50ba/s]"
      }
     },
     "3676395bbe494767b314e219752eb3b9": {
      "model_module": "@jupyter-widgets/controls",
      "model_module_version": "1.5.0",
      "model_name": "HTMLModel",
      "state": {
       "layout": "IPY_MODEL_0d6cb195c30e42cfaab0f2b2a07377ee",
       "style": "IPY_MODEL_1da00f84d5c7439e8e0911ddcecd8af9",
       "value": " 2000/2000 [02:10&lt;00:00, 15.32ba/s]"
      }
     },
     "36829a8e5ccf489387c9041d27aa6873": {
      "model_module": "@jupyter-widgets/controls",
      "model_module_version": "1.5.0",
      "model_name": "DescriptionStyleModel",
      "state": {
       "description_width": ""
      }
     },
     "3709f8e86b11476c8311c0817f5fc5b6": {
      "model_module": "@jupyter-widgets/controls",
      "model_module_version": "1.5.0",
      "model_name": "HBoxModel",
      "state": {
       "children": [
        "IPY_MODEL_28398e27cba1425ab3fedbc8d9cddc14",
        "IPY_MODEL_3646bee958d04c9cba63af78b092d10d"
       ],
       "layout": "IPY_MODEL_dfdd5f2bc4ed4a01b976c47583f3da70"
      }
     },
     "3750816ab07344df8c66bd15abaeedfb": {
      "model_module": "@jupyter-widgets/controls",
      "model_module_version": "1.5.0",
      "model_name": "HTMLModel",
      "state": {
       "layout": "IPY_MODEL_1a2d12ec37454f1cba2de8c2ba62d4e1",
       "style": "IPY_MODEL_e8c0d28c5fcf4d3bb27753f7141ad8d7",
       "value": " 2000/2000 [8:31:59&lt;00:00, 15.36s/ba]"
      }
     },
     "375dce2c4e3f46dc91ae3219727eb6e2": {
      "model_module": "@jupyter-widgets/base",
      "model_module_version": "1.2.0",
      "model_name": "LayoutModel",
      "state": {}
     },
     "375df335de1f415ab7e18254db4446b6": {
      "model_module": "@jupyter-widgets/controls",
      "model_module_version": "1.5.0",
      "model_name": "FloatProgressModel",
      "state": {
       "bar_style": "success",
       "description": "100%",
       "layout": "IPY_MODEL_255534d693304f3bbbfbf38aea43c674",
       "max": 2000,
       "style": "IPY_MODEL_b6921dfcd2a3404c8eb2c4c617baed11",
       "value": 2000
      }
     },
     "37bb9f6c4d7041aab8ae872e7f7c60ab": {
      "model_module": "@jupyter-widgets/base",
      "model_module_version": "1.2.0",
      "model_name": "LayoutModel",
      "state": {}
     },
     "38240cd475464bb78874b76c9cbb502a": {
      "model_module": "@jupyter-widgets/controls",
      "model_module_version": "1.5.0",
      "model_name": "HBoxModel",
      "state": {
       "children": [
        "IPY_MODEL_6502c71f8c6f4bc2816c7e17e5aa5934",
        "IPY_MODEL_407442086d144ae9a8c08280d6bfeb41"
       ],
       "layout": "IPY_MODEL_30d8cb1efa5c4e8cb9589674105c147a"
      }
     },
     "384554bd7d5848018c44801d17874e04": {
      "model_module": "@jupyter-widgets/controls",
      "model_module_version": "1.5.0",
      "model_name": "HBoxModel",
      "state": {
       "children": [
        "IPY_MODEL_117abaf95d4142f19a525712a2d2e6ca",
        "IPY_MODEL_28c80a0bcccb427b9414a8f1aca63bbc"
       ],
       "layout": "IPY_MODEL_3ad36c0e9a87408d8939a3bb00bfdc12"
      }
     },
     "384b23d60e34473fa1a79ad7b2e38b77": {
      "model_module": "@jupyter-widgets/controls",
      "model_module_version": "1.5.0",
      "model_name": "DescriptionStyleModel",
      "state": {
       "description_width": ""
      }
     },
     "384e5a12ced341e99ac9836fe2e96ffa": {
      "model_module": "@jupyter-widgets/controls",
      "model_module_version": "1.5.0",
      "model_name": "DescriptionStyleModel",
      "state": {
       "description_width": ""
      }
     },
     "3865a90a0b2d4e13bab71bbb874a1b6f": {
      "model_module": "@jupyter-widgets/base",
      "model_module_version": "1.2.0",
      "model_name": "LayoutModel",
      "state": {}
     },
     "38ad745d4351410197fe6939d601df49": {
      "model_module": "@jupyter-widgets/base",
      "model_module_version": "1.2.0",
      "model_name": "LayoutModel",
      "state": {}
     },
     "38cbd4d3d22b467fb69e9cfdcd553f8a": {
      "model_module": "@jupyter-widgets/controls",
      "model_module_version": "1.5.0",
      "model_name": "FloatProgressModel",
      "state": {
       "bar_style": "success",
       "description": "100%",
       "layout": "IPY_MODEL_68baae3fe6644ad69c1403db8684753a",
       "max": 2000,
       "style": "IPY_MODEL_94eb09453b5647c99df79b01ebb1d295",
       "value": 2000
      }
     },
     "3938295222f941ccabafc2202daf002e": {
      "model_module": "@jupyter-widgets/controls",
      "model_module_version": "1.5.0",
      "model_name": "ProgressStyleModel",
      "state": {
       "description_width": "initial"
      }
     },
     "39955b699f884d329882656626aeae64": {
      "model_module": "@jupyter-widgets/controls",
      "model_module_version": "1.5.0",
      "model_name": "ProgressStyleModel",
      "state": {
       "description_width": "initial"
      }
     },
     "39ceb0ee2ac44a95bcb4476d101097b1": {
      "model_module": "@jupyter-widgets/controls",
      "model_module_version": "1.5.0",
      "model_name": "FloatProgressModel",
      "state": {
       "bar_style": "success",
       "description": "100%",
       "layout": "IPY_MODEL_523451f818614dbaa041623134b69219",
       "max": 2000,
       "style": "IPY_MODEL_5e7d7b3e379b4d04aae3bcf7105fa28f",
       "value": 2000
      }
     },
     "3a455e9a4e444888a5c8ef00c538c7f6": {
      "model_module": "@jupyter-widgets/base",
      "model_module_version": "1.2.0",
      "model_name": "LayoutModel",
      "state": {}
     },
     "3a498179ba3a423e98e1a20a0c17ae4c": {
      "model_module": "@jupyter-widgets/controls",
      "model_module_version": "1.5.0",
      "model_name": "DescriptionStyleModel",
      "state": {
       "description_width": ""
      }
     },
     "3a8877ff85884242ae4c4c3b36a76038": {
      "model_module": "@jupyter-widgets/base",
      "model_module_version": "1.2.0",
      "model_name": "LayoutModel",
      "state": {}
     },
     "3ad36c0e9a87408d8939a3bb00bfdc12": {
      "model_module": "@jupyter-widgets/base",
      "model_module_version": "1.2.0",
      "model_name": "LayoutModel",
      "state": {}
     },
     "3b123e10bbff46fa9e8a5fed71e61ef7": {
      "model_module": "@jupyter-widgets/base",
      "model_module_version": "1.2.0",
      "model_name": "LayoutModel",
      "state": {}
     },
     "3b26e11eac1a49db9cad3e161b57106a": {
      "model_module": "@jupyter-widgets/controls",
      "model_module_version": "1.5.0",
      "model_name": "HBoxModel",
      "state": {
       "children": [
        "IPY_MODEL_c1987d1f026b46f0af046150d6a9d4ea",
        "IPY_MODEL_ef32fee1f4a347a2b4b8baa7a30f821a"
       ],
       "layout": "IPY_MODEL_93c0d6fcd4cf454cb531cd6e7f468b21"
      }
     },
     "3b3854356a544dcd9ea358330b10068d": {
      "model_module": "@jupyter-widgets/controls",
      "model_module_version": "1.5.0",
      "model_name": "FloatProgressModel",
      "state": {
       "bar_style": "success",
       "description": "100%",
       "layout": "IPY_MODEL_1f96e3b144204191958748f322de0b71",
       "max": 2000,
       "style": "IPY_MODEL_47fc79421153447caa222c4bac2d8044",
       "value": 2000
      }
     },
     "3b4649c980224ae196a4d81af51563cf": {
      "model_module": "@jupyter-widgets/controls",
      "model_module_version": "1.5.0",
      "model_name": "FloatProgressModel",
      "state": {
       "bar_style": "success",
       "description": "100%",
       "layout": "IPY_MODEL_c697667fa95b42758f88dcae8ceea862",
       "max": 2000,
       "style": "IPY_MODEL_78a6bdb8f7de4a01bc4218c87726bc5c",
       "value": 2000
      }
     },
     "3bb9d76073e94b5c8f597aa242ac6e93": {
      "model_module": "@jupyter-widgets/controls",
      "model_module_version": "1.5.0",
      "model_name": "HBoxModel",
      "state": {
       "children": [
        "IPY_MODEL_002c88eadd75421cba966f53f115558b",
        "IPY_MODEL_438f67dba38f429685a496704c400028"
       ],
       "layout": "IPY_MODEL_50f0f4d993d44c0088b8650837fccdca"
      }
     },
     "3bde7effdec445be80c52bd003404842": {
      "model_module": "@jupyter-widgets/base",
      "model_module_version": "1.2.0",
      "model_name": "LayoutModel",
      "state": {}
     },
     "3c16942acdcf466ea6a9d5b867954fb0": {
      "model_module": "@jupyter-widgets/controls",
      "model_module_version": "1.5.0",
      "model_name": "HTMLModel",
      "state": {
       "layout": "IPY_MODEL_ec31f58838664c069ca3575abf169226",
       "style": "IPY_MODEL_01a63a56869c4aa989a9b7020d9f5c84",
       "value": " 2000/2000 [36:49&lt;00:00,  1.10s/ba]"
      }
     },
     "3c825bad108d4159ae23675b2afa6e57": {
      "model_module": "@jupyter-widgets/base",
      "model_module_version": "1.2.0",
      "model_name": "LayoutModel",
      "state": {}
     },
     "3ca61d458f2c458bb55b83d1146cfe1e": {
      "model_module": "@jupyter-widgets/controls",
      "model_module_version": "1.5.0",
      "model_name": "DescriptionStyleModel",
      "state": {
       "description_width": ""
      }
     },
     "3cacd8a3ba134d98bcbcf79fc3d01faf": {
      "model_module": "@jupyter-widgets/controls",
      "model_module_version": "1.5.0",
      "model_name": "FloatProgressModel",
      "state": {
       "bar_style": "success",
       "description": "100%",
       "layout": "IPY_MODEL_e28541cee4b94d2b9e9c56e70bdd71f6",
       "max": 2000,
       "style": "IPY_MODEL_89d659960b144a8291dff2bf89e6afea",
       "value": 2000
      }
     },
     "3d99e645bfc74e3e941079cbf8d8871c": {
      "model_module": "@jupyter-widgets/controls",
      "model_module_version": "1.5.0",
      "model_name": "HTMLModel",
      "state": {
       "layout": "IPY_MODEL_d2ec0d641de544d881303c4a90dc96fa",
       "style": "IPY_MODEL_4bae757ab3a0486b8e16a9e1270ee797",
       "value": " 2000/2000 [51:29&lt;00:00,  1.54s/ba]"
      }
     },
     "3df450a2aba24d7a8b0ed791b1cfa01d": {
      "model_module": "@jupyter-widgets/controls",
      "model_module_version": "1.5.0",
      "model_name": "DescriptionStyleModel",
      "state": {
       "description_width": ""
      }
     },
     "3e27d9b3bcfb47b3b9af45947e22d4cd": {
      "model_module": "@jupyter-widgets/controls",
      "model_module_version": "1.5.0",
      "model_name": "ProgressStyleModel",
      "state": {
       "description_width": "initial"
      }
     },
     "3e44d700538947bfb2ff14badc7d22a1": {
      "model_module": "@jupyter-widgets/base",
      "model_module_version": "1.2.0",
      "model_name": "LayoutModel",
      "state": {}
     },
     "3e63705e1850489e9f588a2ddff99e1c": {
      "model_module": "@jupyter-widgets/base",
      "model_module_version": "1.2.0",
      "model_name": "LayoutModel",
      "state": {}
     },
     "3e9176f798c54622b67225d1b6790cd4": {
      "model_module": "@jupyter-widgets/controls",
      "model_module_version": "1.5.0",
      "model_name": "HBoxModel",
      "state": {
       "children": [
        "IPY_MODEL_c870c8325275493887027ab6a5bb716d",
        "IPY_MODEL_bdbb134a407b49baa41506d73320cfd0"
       ],
       "layout": "IPY_MODEL_08731e9c1f584099b0e9392cd7cba5a7"
      }
     },
     "3ecac7e73acb422fad7c183c7764be72": {
      "model_module": "@jupyter-widgets/controls",
      "model_module_version": "1.5.0",
      "model_name": "DescriptionStyleModel",
      "state": {
       "description_width": ""
      }
     },
     "3edff1f4875c483884fa932437b807d1": {
      "model_module": "@jupyter-widgets/controls",
      "model_module_version": "1.5.0",
      "model_name": "ProgressStyleModel",
      "state": {
       "description_width": "initial"
      }
     },
     "3f4d85db948040fd8e2d9c55c025bde4": {
      "model_module": "@jupyter-widgets/base",
      "model_module_version": "1.2.0",
      "model_name": "LayoutModel",
      "state": {}
     },
     "3f55fff273b44f0181cf9d4a6e61a363": {
      "model_module": "@jupyter-widgets/controls",
      "model_module_version": "1.5.0",
      "model_name": "FloatProgressModel",
      "state": {
       "bar_style": "success",
       "description": "100%",
       "layout": "IPY_MODEL_41d1e4d26d76454cb4b1dc185adcd2d6",
       "max": 2000,
       "style": "IPY_MODEL_8ba4ba6795774b659df10a2b9b872761",
       "value": 2000
      }
     },
     "3f897ebdb959499aa69dec6f1754592b": {
      "model_module": "@jupyter-widgets/controls",
      "model_module_version": "1.5.0",
      "model_name": "HBoxModel",
      "state": {
       "children": [
        "IPY_MODEL_6669c5a8ca2145b7a185e287713b8775",
        "IPY_MODEL_776a7b97eca24c1f9e68459c6403c81a"
       ],
       "layout": "IPY_MODEL_60a40201c569457eadc81b683522dfcd"
      }
     },
     "3f8e67180bc64dd1a6acbbaf92223acc": {
      "model_module": "@jupyter-widgets/base",
      "model_module_version": "1.2.0",
      "model_name": "LayoutModel",
      "state": {}
     },
     "3fe8571b84694cc1bc0e0c22fd9cd7ea": {
      "model_module": "@jupyter-widgets/controls",
      "model_module_version": "1.5.0",
      "model_name": "HTMLModel",
      "state": {
       "layout": "IPY_MODEL_f48107666b1f4142a61e3ea7242e1620",
       "style": "IPY_MODEL_3ecac7e73acb422fad7c183c7764be72",
       "value": " 2000/2000 [11:16&lt;00:00,  2.95ba/s]"
      }
     },
     "401b50e22873466dba73d309f16cc7cc": {
      "model_module": "@jupyter-widgets/controls",
      "model_module_version": "1.5.0",
      "model_name": "FloatProgressModel",
      "state": {
       "bar_style": "success",
       "description": "100%",
       "layout": "IPY_MODEL_35f797f8920c4e77a428e585288f7b56",
       "max": 2000,
       "style": "IPY_MODEL_39955b699f884d329882656626aeae64",
       "value": 2000
      }
     },
     "401e9988eac3442a9d217d5031db8b00": {
      "model_module": "@jupyter-widgets/controls",
      "model_module_version": "1.5.0",
      "model_name": "DescriptionStyleModel",
      "state": {
       "description_width": ""
      }
     },
     "4028e59038dd4655b3d65978a150482b": {
      "model_module": "@jupyter-widgets/base",
      "model_module_version": "1.2.0",
      "model_name": "LayoutModel",
      "state": {}
     },
     "407442086d144ae9a8c08280d6bfeb41": {
      "model_module": "@jupyter-widgets/controls",
      "model_module_version": "1.5.0",
      "model_name": "HTMLModel",
      "state": {
       "layout": "IPY_MODEL_c1ca17dd607a4772ad96d1c1f589c5d2",
       "style": "IPY_MODEL_9206e0e50855453e906082d2d4131fad",
       "value": " 2000/2000 [7:30:51&lt;00:00, 13.53s/ba]"
      }
     },
     "40a1d6bf27964469ba30f484e265dcae": {
      "model_module": "@jupyter-widgets/base",
      "model_module_version": "1.2.0",
      "model_name": "LayoutModel",
      "state": {}
     },
     "40bbb1a87f244b9da7ef1d137fd26da2": {
      "model_module": "@jupyter-widgets/controls",
      "model_module_version": "1.5.0",
      "model_name": "ProgressStyleModel",
      "state": {
       "description_width": "initial"
      }
     },
     "40ddbf07d8ac4af0a34b26a9fc4b5a7a": {
      "model_module": "@jupyter-widgets/controls",
      "model_module_version": "1.5.0",
      "model_name": "HTMLModel",
      "state": {
       "layout": "IPY_MODEL_b5ae918b5fdc43df88710558ee14b55c",
       "style": "IPY_MODEL_81558d52462741b8a46cbd02611c84a5",
       "value": " 2000/2000 [1:08:39&lt;00:00,  2.06s/ba]"
      }
     },
     "4136f40008464e97b00f5b1f0c1a4b48": {
      "model_module": "@jupyter-widgets/controls",
      "model_module_version": "1.5.0",
      "model_name": "HTMLModel",
      "state": {
       "layout": "IPY_MODEL_dc84957707ae40a9ad9e27f0d5f4db36",
       "style": "IPY_MODEL_a5c9a24d938847cca631d01fa34434e5",
       "value": " 2000/2000 [06:27&lt;00:00,  5.16ba/s]"
      }
     },
     "417bb95e0fb24b6da77e18434063ca40": {
      "model_module": "@jupyter-widgets/controls",
      "model_module_version": "1.5.0",
      "model_name": "HBoxModel",
      "state": {
       "children": [
        "IPY_MODEL_055dda4653fc480c949bfd332d8332cf",
        "IPY_MODEL_138f69ed5198408eb984a2b4328001cb"
       ],
       "layout": "IPY_MODEL_a2302ef5b39f4f1fa5f096da0b42efe7"
      }
     },
     "41ad62e654534654b74ef1dea2e9d57c": {
      "model_module": "@jupyter-widgets/controls",
      "model_module_version": "1.5.0",
      "model_name": "ProgressStyleModel",
      "state": {
       "description_width": "initial"
      }
     },
     "41bd4720d66d4f2fa9031982f385edfd": {
      "model_module": "@jupyter-widgets/controls",
      "model_module_version": "1.5.0",
      "model_name": "FloatProgressModel",
      "state": {
       "bar_style": "success",
       "description": "100%",
       "layout": "IPY_MODEL_62917b0c58604292ba0e194b0abae672",
       "max": 2000,
       "style": "IPY_MODEL_08a8ee12bd0540e2b99579698fe43d8e",
       "value": 2000
      }
     },
     "41c53a12be814fe08fd08d1b9536a739": {
      "model_module": "@jupyter-widgets/controls",
      "model_module_version": "1.5.0",
      "model_name": "HTMLModel",
      "state": {
       "layout": "IPY_MODEL_d47b967bb6a24f23a3b1787ee347f1c4",
       "style": "IPY_MODEL_896df04684e94c2ba5e97804b136922b",
       "value": " 2000/2000 [15:21&lt;00:00,  2.17ba/s]"
      }
     },
     "41d1e4d26d76454cb4b1dc185adcd2d6": {
      "model_module": "@jupyter-widgets/base",
      "model_module_version": "1.2.0",
      "model_name": "LayoutModel",
      "state": {}
     },
     "41ec910692224a70bfb41296d5f950c5": {
      "model_module": "@jupyter-widgets/controls",
      "model_module_version": "1.5.0",
      "model_name": "DescriptionStyleModel",
      "state": {
       "description_width": ""
      }
     },
     "42424cc4104e4d1c905ba3eb357b5946": {
      "model_module": "@jupyter-widgets/controls",
      "model_module_version": "1.5.0",
      "model_name": "ProgressStyleModel",
      "state": {
       "description_width": "initial"
      }
     },
     "42447623936f41638c7d0d1b25632f39": {
      "model_module": "@jupyter-widgets/controls",
      "model_module_version": "1.5.0",
      "model_name": "FloatProgressModel",
      "state": {
       "bar_style": "success",
       "description": "100%",
       "layout": "IPY_MODEL_bb8536b771cf4a6eaa0f8971906b4845",
       "max": 2000,
       "style": "IPY_MODEL_b945f96c967d499aafa77406a915b004",
       "value": 2000
      }
     },
     "4259f6e14d1f46dc8426225e349cdcdf": {
      "model_module": "@jupyter-widgets/base",
      "model_module_version": "1.2.0",
      "model_name": "LayoutModel",
      "state": {}
     },
     "42878575b5514aa794a67716c3f1c4ea": {
      "model_module": "@jupyter-widgets/base",
      "model_module_version": "1.2.0",
      "model_name": "LayoutModel",
      "state": {}
     },
     "42bbecd79b5f4ef68dc98305819270cd": {
      "model_module": "@jupyter-widgets/base",
      "model_module_version": "1.2.0",
      "model_name": "LayoutModel",
      "state": {}
     },
     "42e7579419954d49874ff3e7d9227c19": {
      "model_module": "@jupyter-widgets/controls",
      "model_module_version": "1.5.0",
      "model_name": "FloatProgressModel",
      "state": {
       "bar_style": "success",
       "description": "100%",
       "layout": "IPY_MODEL_19f92d03c9f94b1da81e452ef875c31f",
       "max": 2000,
       "style": "IPY_MODEL_61818f7dc1cf48248ac20d26ecb8958d",
       "value": 2000
      }
     },
     "42eb98280fec44c6a27769eef9a506d6": {
      "model_module": "@jupyter-widgets/controls",
      "model_module_version": "1.5.0",
      "model_name": "HBoxModel",
      "state": {
       "children": [
        "IPY_MODEL_87fb3f3d788c4644a81d533fef5972ab",
        "IPY_MODEL_ac111e1be4894685bbc0ba82e10db8a8"
       ],
       "layout": "IPY_MODEL_ac96a1673cae41b3b84d360e39b3d657"
      }
     },
     "4368e025c7d143989f64622e87025e70": {
      "model_module": "@jupyter-widgets/base",
      "model_module_version": "1.2.0",
      "model_name": "LayoutModel",
      "state": {}
     },
     "438f67dba38f429685a496704c400028": {
      "model_module": "@jupyter-widgets/controls",
      "model_module_version": "1.5.0",
      "model_name": "HTMLModel",
      "state": {
       "layout": "IPY_MODEL_b57f3fa2f1c04e4a908389077a67efbb",
       "style": "IPY_MODEL_ef25c51e14774f11ae750eecf2a1f467",
       "value": " 2000/2000 [07:13&lt;00:00,  4.62ba/s]"
      }
     },
     "43d201a4c0e14588b4f28a6b80162350": {
      "model_module": "@jupyter-widgets/controls",
      "model_module_version": "1.5.0",
      "model_name": "ProgressStyleModel",
      "state": {
       "description_width": "initial"
      }
     },
     "43ecbee96beb41a1a13fe60b76acf0ae": {
      "model_module": "@jupyter-widgets/base",
      "model_module_version": "1.2.0",
      "model_name": "LayoutModel",
      "state": {}
     },
     "43ee467f516b47118dec46232c3090b9": {
      "model_module": "@jupyter-widgets/base",
      "model_module_version": "1.2.0",
      "model_name": "LayoutModel",
      "state": {}
     },
     "4580edece79d4c4da6e7b0adec8e7fa0": {
      "model_module": "@jupyter-widgets/controls",
      "model_module_version": "1.5.0",
      "model_name": "ProgressStyleModel",
      "state": {
       "description_width": "initial"
      }
     },
     "45e9edd7337b485b8562409b795c9202": {
      "model_module": "@jupyter-widgets/controls",
      "model_module_version": "1.5.0",
      "model_name": "HBoxModel",
      "state": {
       "children": [
        "IPY_MODEL_b283b427b84f4aac9d853b653f559a10",
        "IPY_MODEL_ff51025794714ab1a662813c666b5bfb"
       ],
       "layout": "IPY_MODEL_b852a5615d0b4cb1af23af2591291e38"
      }
     },
     "45ea187428e24fefaa1bda4b8ff1faee": {
      "model_module": "@jupyter-widgets/controls",
      "model_module_version": "1.5.0",
      "model_name": "HBoxModel",
      "state": {
       "children": [
        "IPY_MODEL_7e8b4b42067f4132b1d0734432655dea",
        "IPY_MODEL_aa041eb5ea4d4a6593d0e2941ecb84c0"
       ],
       "layout": "IPY_MODEL_f4e92ec9b8d942f8ac05afb3fbbac7aa"
      }
     },
     "45f1767753c94c1da6158c3bf0bd1327": {
      "model_module": "@jupyter-widgets/base",
      "model_module_version": "1.2.0",
      "model_name": "LayoutModel",
      "state": {}
     },
     "4627d54e63ce4a69aec724c720580d14": {
      "model_module": "@jupyter-widgets/base",
      "model_module_version": "1.2.0",
      "model_name": "LayoutModel",
      "state": {}
     },
     "4643c871a60d410d99d2824d112f1b33": {
      "model_module": "@jupyter-widgets/controls",
      "model_module_version": "1.5.0",
      "model_name": "HBoxModel",
      "state": {
       "children": [
        "IPY_MODEL_d6ba2e8e8e444879aa22c7189139dd5f",
        "IPY_MODEL_27d8e7b907e94fafac52ce9baf11066c"
       ],
       "layout": "IPY_MODEL_6046982735b24bb392afb08bb34b9bf1"
      }
     },
     "4685bc23201a48ab8fc05703dded1b25": {
      "model_module": "@jupyter-widgets/controls",
      "model_module_version": "1.5.0",
      "model_name": "HTMLModel",
      "state": {
       "layout": "IPY_MODEL_5d98c78a30274b82acc986eb3107d58a",
       "style": "IPY_MODEL_536c1b5029ac4a8fbd32941f36bce0cb",
       "value": " 2000/2000 [06:27&lt;00:00,  5.16ba/s]"
      }
     },
     "46c0ba31dc094ec3940a2d515a2bdcfe": {
      "model_module": "@jupyter-widgets/controls",
      "model_module_version": "1.5.0",
      "model_name": "HTMLModel",
      "state": {
       "layout": "IPY_MODEL_510626375558409ba112880e8374429d",
       "style": "IPY_MODEL_f328a2115c354197b2c485af6032487f",
       "value": " 2000/2000 [07:06&lt;00:00,  4.69ba/s]"
      }
     },
     "46dab53b3d224e8b993b7162bc205bcd": {
      "model_module": "@jupyter-widgets/base",
      "model_module_version": "1.2.0",
      "model_name": "LayoutModel",
      "state": {}
     },
     "471a8681ddc74fdda9a535e9d1b1a81d": {
      "model_module": "@jupyter-widgets/base",
      "model_module_version": "1.2.0",
      "model_name": "LayoutModel",
      "state": {}
     },
     "4777ac6b60bc437dad1b40c72c40ae24": {
      "model_module": "@jupyter-widgets/base",
      "model_module_version": "1.2.0",
      "model_name": "LayoutModel",
      "state": {}
     },
     "47a6f4a3f3bf4c5b8c0e8a14050ba1df": {
      "model_module": "@jupyter-widgets/controls",
      "model_module_version": "1.5.0",
      "model_name": "FloatProgressModel",
      "state": {
       "bar_style": "success",
       "description": "100%",
       "layout": "IPY_MODEL_bdb30435724843cabc9a78c602f3e3aa",
       "max": 2000,
       "style": "IPY_MODEL_3e27d9b3bcfb47b3b9af45947e22d4cd",
       "value": 2000
      }
     },
     "47fc79421153447caa222c4bac2d8044": {
      "model_module": "@jupyter-widgets/controls",
      "model_module_version": "1.5.0",
      "model_name": "ProgressStyleModel",
      "state": {
       "description_width": "initial"
      }
     },
     "488d2e23329c4d74afa87c703fe600c0": {
      "model_module": "@jupyter-widgets/controls",
      "model_module_version": "1.5.0",
      "model_name": "DescriptionStyleModel",
      "state": {
       "description_width": ""
      }
     },
     "48d61c4b912c433f9ccfe43711436954": {
      "model_module": "@jupyter-widgets/base",
      "model_module_version": "1.2.0",
      "model_name": "LayoutModel",
      "state": {}
     },
     "48f805ff4199437383186d7e37542007": {
      "model_module": "@jupyter-widgets/controls",
      "model_module_version": "1.5.0",
      "model_name": "FloatProgressModel",
      "state": {
       "bar_style": "success",
       "description": "100%",
       "layout": "IPY_MODEL_e81e807af5694c57aa9d3d63ddb32d9a",
       "max": 2000,
       "style": "IPY_MODEL_60b0a8f366f34bee8adeac0e52f41580",
       "value": 2000
      }
     },
     "4916e0b0a2374e9198199ddb59a3eda7": {
      "model_module": "@jupyter-widgets/controls",
      "model_module_version": "1.5.0",
      "model_name": "FloatProgressModel",
      "state": {
       "bar_style": "danger",
       "description": " 33%",
       "layout": "IPY_MODEL_1369e1b9a1da473c87eaf3a59123c9fc",
       "style": "IPY_MODEL_33af33124af24b9bac7fd145710c37d8",
       "value": 33
      }
     },
     "4940de999eab42cd99f54ff9d386d732": {
      "model_module": "@jupyter-widgets/base",
      "model_module_version": "1.2.0",
      "model_name": "LayoutModel",
      "state": {}
     },
     "495ac7094aa54869b5ac03bb063da113": {
      "model_module": "@jupyter-widgets/base",
      "model_module_version": "1.2.0",
      "model_name": "LayoutModel",
      "state": {}
     },
     "49da2ee088bd4cefbb970d7dd60469de": {
      "model_module": "@jupyter-widgets/controls",
      "model_module_version": "1.5.0",
      "model_name": "FloatProgressModel",
      "state": {
       "bar_style": "success",
       "description": "100%",
       "layout": "IPY_MODEL_8bce219afd9645569e83dfcea897f895",
       "max": 2000,
       "style": "IPY_MODEL_b9870293749a4bae990b89a1676997da",
       "value": 2000
      }
     },
     "49deb7cef8284b00b15cf093777a81bb": {
      "model_module": "@jupyter-widgets/base",
      "model_module_version": "1.2.0",
      "model_name": "LayoutModel",
      "state": {}
     },
     "4a00d03bf2e148faa6b8b2599951e778": {
      "model_module": "@jupyter-widgets/controls",
      "model_module_version": "1.5.0",
      "model_name": "HBoxModel",
      "state": {
       "children": [
        "IPY_MODEL_b9909f5ffc5d496887771482176352cb",
        "IPY_MODEL_5884c363e8b4495b8cbc82a597bc1bb9"
       ],
       "layout": "IPY_MODEL_309aea4c7a044d08a366ca12ba6193b6"
      }
     },
     "4a70c0566be44e77a1353d6f7cbf80cf": {
      "model_module": "@jupyter-widgets/base",
      "model_module_version": "1.2.0",
      "model_name": "LayoutModel",
      "state": {}
     },
     "4a72364493d140878dfb3f094c599d12": {
      "model_module": "@jupyter-widgets/controls",
      "model_module_version": "1.5.0",
      "model_name": "FloatProgressModel",
      "state": {
       "bar_style": "success",
       "description": "100%",
       "layout": "IPY_MODEL_a13fe753801f48669726229b6e30c871",
       "max": 2000,
       "style": "IPY_MODEL_2c8ba8d9c8984a16a4c49113ddda034a",
       "value": 2000
      }
     },
     "4a9f305c950f485b8a340f8b164a105c": {
      "model_module": "@jupyter-widgets/base",
      "model_module_version": "1.2.0",
      "model_name": "LayoutModel",
      "state": {}
     },
     "4ac84517ef4e46cc82ff13963dd60073": {
      "model_module": "@jupyter-widgets/controls",
      "model_module_version": "1.5.0",
      "model_name": "DescriptionStyleModel",
      "state": {
       "description_width": ""
      }
     },
     "4afc10d0b096412dab1933db35085de6": {
      "model_module": "@jupyter-widgets/controls",
      "model_module_version": "1.5.0",
      "model_name": "FloatProgressModel",
      "state": {
       "bar_style": "success",
       "description": "100%",
       "layout": "IPY_MODEL_ce0091b9a9964622a52834bf92180eed",
       "max": 2000,
       "style": "IPY_MODEL_f5c1c0fc8d3c48a787771d51b7e212e8",
       "value": 2000
      }
     },
     "4b410fd828ec491abf644c6ec1c4f242": {
      "model_module": "@jupyter-widgets/controls",
      "model_module_version": "1.5.0",
      "model_name": "HTMLModel",
      "state": {
       "layout": "IPY_MODEL_8f9fc8b24b1d4505ad8dc9b3e05410bd",
       "style": "IPY_MODEL_e1bc0c2630a240368d5ac21b9875fe39",
       "value": " 2000/2000 [31:58&lt;00:00,  1.04ba/s]"
      }
     },
     "4bae757ab3a0486b8e16a9e1270ee797": {
      "model_module": "@jupyter-widgets/controls",
      "model_module_version": "1.5.0",
      "model_name": "DescriptionStyleModel",
      "state": {
       "description_width": ""
      }
     },
     "4bba256903ac4051a57aadae9d8c0cab": {
      "model_module": "@jupyter-widgets/base",
      "model_module_version": "1.2.0",
      "model_name": "LayoutModel",
      "state": {}
     },
     "4be15016ebc2465fa322d0d705f9afa6": {
      "model_module": "@jupyter-widgets/controls",
      "model_module_version": "1.5.0",
      "model_name": "ProgressStyleModel",
      "state": {
       "description_width": "initial"
      }
     },
     "4bf541b6b8464a2c8bac4487120239b4": {
      "model_module": "@jupyter-widgets/controls",
      "model_module_version": "1.5.0",
      "model_name": "ProgressStyleModel",
      "state": {
       "description_width": "initial"
      }
     },
     "4c0ee098372849fb89aedb8b0cef50ef": {
      "model_module": "@jupyter-widgets/base",
      "model_module_version": "1.2.0",
      "model_name": "LayoutModel",
      "state": {}
     },
     "4c3042fc7ae54b09b598c3ef79728d21": {
      "model_module": "@jupyter-widgets/controls",
      "model_module_version": "1.5.0",
      "model_name": "HBoxModel",
      "state": {
       "children": [
        "IPY_MODEL_ad0db9086e27401ab23df1de3280619e",
        "IPY_MODEL_87bfa9ab012840a1be5dea3755aef060"
       ],
       "layout": "IPY_MODEL_31729cf22246428d9a38df8bfb8b049e"
      }
     },
     "4c504240ac1b47438699cb71f024ef12": {
      "model_module": "@jupyter-widgets/controls",
      "model_module_version": "1.5.0",
      "model_name": "DescriptionStyleModel",
      "state": {
       "description_width": ""
      }
     },
     "4ce3da4c5e10444db8db97f02fc7c114": {
      "model_module": "@jupyter-widgets/controls",
      "model_module_version": "1.5.0",
      "model_name": "ProgressStyleModel",
      "state": {
       "description_width": "initial"
      }
     },
     "4d01fcfa50724898bab26a7114201364": {
      "model_module": "@jupyter-widgets/controls",
      "model_module_version": "1.5.0",
      "model_name": "DescriptionStyleModel",
      "state": {
       "description_width": ""
      }
     },
     "4d4375f7346c43d8a6a1bf84828e2b68": {
      "model_module": "@jupyter-widgets/base",
      "model_module_version": "1.2.0",
      "model_name": "LayoutModel",
      "state": {}
     },
     "4d4896a2981c4862b1f359907d41acc6": {
      "model_module": "@jupyter-widgets/base",
      "model_module_version": "1.2.0",
      "model_name": "LayoutModel",
      "state": {}
     },
     "4d62bb9053f649d49c67e52550f58ab7": {
      "model_module": "@jupyter-widgets/base",
      "model_module_version": "1.2.0",
      "model_name": "LayoutModel",
      "state": {}
     },
     "4e3601ab14db4ec98b7877ef920578d9": {
      "model_module": "@jupyter-widgets/controls",
      "model_module_version": "1.5.0",
      "model_name": "HBoxModel",
      "state": {
       "children": [
        "IPY_MODEL_7ce907a078064139a0270864c6da1277",
        "IPY_MODEL_a48b6436b7294728a1cb5321f86b9be6"
       ],
       "layout": "IPY_MODEL_b4340ef94249438a929584ab7c5fbb84"
      }
     },
     "4e578a0ca5b0483c989ce433ebcec049": {
      "model_module": "@jupyter-widgets/controls",
      "model_module_version": "1.5.0",
      "model_name": "FloatProgressModel",
      "state": {
       "bar_style": "success",
       "description": "100%",
       "layout": "IPY_MODEL_f3bbab5f35f440e5bcfd3be78d498f2f",
       "max": 2000,
       "style": "IPY_MODEL_9dc0963f194942da95accdef39eb3eb9",
       "value": 2000
      }
     },
     "4ebffcb042fe49bbad7ff944a22a33a9": {
      "model_module": "@jupyter-widgets/base",
      "model_module_version": "1.2.0",
      "model_name": "LayoutModel",
      "state": {}
     },
     "4f0b9059d98b4e73b58d8f8fbcf3d41d": {
      "model_module": "@jupyter-widgets/controls",
      "model_module_version": "1.5.0",
      "model_name": "HTMLModel",
      "state": {
       "layout": "IPY_MODEL_8114c30b45074be987b524a1c3d7d844",
       "style": "IPY_MODEL_16e73bb3726045598ddabec5b8572fee",
       "value": " 2000/2000 [8:02:25&lt;00:00, 14.47s/ba]"
      }
     },
     "4f364642d5e64aef88bd9a23d0e1cd45": {
      "model_module": "@jupyter-widgets/controls",
      "model_module_version": "1.5.0",
      "model_name": "ProgressStyleModel",
      "state": {
       "description_width": "initial"
      }
     },
     "4f39417cfeb244a893c1a49dcee6ad50": {
      "model_module": "@jupyter-widgets/controls",
      "model_module_version": "1.5.0",
      "model_name": "HBoxModel",
      "state": {
       "children": [
        "IPY_MODEL_41bd4720d66d4f2fa9031982f385edfd",
        "IPY_MODEL_5f7579ea32144068af7a17eb6e4d6b6b"
       ],
       "layout": "IPY_MODEL_879b1a3f14344b30aa80765809c94695"
      }
     },
     "4f8cb919a5964779ac6af6fc352f091c": {
      "model_module": "@jupyter-widgets/base",
      "model_module_version": "1.2.0",
      "model_name": "LayoutModel",
      "state": {}
     },
     "4fbf6726ffac4c8ea841ba0dcf516f28": {
      "model_module": "@jupyter-widgets/controls",
      "model_module_version": "1.5.0",
      "model_name": "HTMLModel",
      "state": {
       "layout": "IPY_MODEL_5805bccd1f294a1c859cfa24eb506973",
       "style": "IPY_MODEL_9bf844b6cd5e4db396cdb5dd9fad248e",
       "value": " 2000/2000 [06:57&lt;00:00,  4.79ba/s]"
      }
     },
     "500fd41f183643928e4658ffa52bd6b2": {
      "model_module": "@jupyter-widgets/base",
      "model_module_version": "1.2.0",
      "model_name": "LayoutModel",
      "state": {}
     },
     "5053e5c5fabf4af2836ca9085adaac8d": {
      "model_module": "@jupyter-widgets/controls",
      "model_module_version": "1.5.0",
      "model_name": "DescriptionStyleModel",
      "state": {
       "description_width": ""
      }
     },
     "5081a7c33cce46e3aa5ecc488549dd9b": {
      "model_module": "@jupyter-widgets/controls",
      "model_module_version": "1.5.0",
      "model_name": "ProgressStyleModel",
      "state": {
       "description_width": "initial"
      }
     },
     "508504ed608447e1a731de32d79c8d9b": {
      "model_module": "@jupyter-widgets/base",
      "model_module_version": "1.2.0",
      "model_name": "LayoutModel",
      "state": {}
     },
     "50efc5c97237456c9bc09656b6e15008": {
      "model_module": "@jupyter-widgets/controls",
      "model_module_version": "1.5.0",
      "model_name": "FloatProgressModel",
      "state": {
       "bar_style": "success",
       "description": "100%",
       "layout": "IPY_MODEL_7c34407754254a489e45a80d1af7f677",
       "max": 2000,
       "style": "IPY_MODEL_a421a1b77ec8486d9dcc33ec6ffdc8ed",
       "value": 2000
      }
     },
     "50f0f4d993d44c0088b8650837fccdca": {
      "model_module": "@jupyter-widgets/base",
      "model_module_version": "1.2.0",
      "model_name": "LayoutModel",
      "state": {}
     },
     "510626375558409ba112880e8374429d": {
      "model_module": "@jupyter-widgets/base",
      "model_module_version": "1.2.0",
      "model_name": "LayoutModel",
      "state": {}
     },
     "51c1ec93c1674586a770180579b6e384": {
      "model_module": "@jupyter-widgets/base",
      "model_module_version": "1.2.0",
      "model_name": "LayoutModel",
      "state": {}
     },
     "51c5ca6c98ed44d1af8843a9ec2c9fb5": {
      "model_module": "@jupyter-widgets/controls",
      "model_module_version": "1.5.0",
      "model_name": "HTMLModel",
      "state": {
       "layout": "IPY_MODEL_56684f1563624f56b36fa62071deb80b",
       "style": "IPY_MODEL_2b687658a5bf423ca124f71057f2edf7",
       "value": " 2000/2000 [03:08&lt;00:00, 10.62ba/s]"
      }
     },
     "523451f818614dbaa041623134b69219": {
      "model_module": "@jupyter-widgets/base",
      "model_module_version": "1.2.0",
      "model_name": "LayoutModel",
      "state": {}
     },
     "52e21909966e4a9087f55b5a33e4cb13": {
      "model_module": "@jupyter-widgets/base",
      "model_module_version": "1.2.0",
      "model_name": "LayoutModel",
      "state": {}
     },
     "53226be1615d44589ec064152393fde8": {
      "model_module": "@jupyter-widgets/base",
      "model_module_version": "1.2.0",
      "model_name": "LayoutModel",
      "state": {}
     },
     "536c1b5029ac4a8fbd32941f36bce0cb": {
      "model_module": "@jupyter-widgets/controls",
      "model_module_version": "1.5.0",
      "model_name": "DescriptionStyleModel",
      "state": {
       "description_width": ""
      }
     },
     "5370a451bc6a4641999b23d4bc33a1a8": {
      "model_module": "@jupyter-widgets/controls",
      "model_module_version": "1.5.0",
      "model_name": "HBoxModel",
      "state": {
       "children": [
        "IPY_MODEL_5b681f33fa804264be4aaf834e301090",
        "IPY_MODEL_0ddc2bfd4deb4e2483f8cb39cda851b2"
       ],
       "layout": "IPY_MODEL_d1f9ac24e3eb423d83c78e6ab53429b0"
      }
     },
     "53a26a0742ff461a874db7e93012a4a7": {
      "model_module": "@jupyter-widgets/controls",
      "model_module_version": "1.5.0",
      "model_name": "FloatProgressModel",
      "state": {
       "bar_style": "success",
       "description": "100%",
       "layout": "IPY_MODEL_ef2899864e8a460f952fa46b35d3b14a",
       "max": 2000,
       "style": "IPY_MODEL_d5741122db2b468782dffb760f721b8a",
       "value": 2000
      }
     },
     "54256d20a62c472e942b53672ef2131e": {
      "model_module": "@jupyter-widgets/controls",
      "model_module_version": "1.5.0",
      "model_name": "FloatProgressModel",
      "state": {
       "bar_style": "success",
       "description": "100%",
       "layout": "IPY_MODEL_8c329926a7fa412a9a442733168d3828",
       "max": 2000,
       "style": "IPY_MODEL_60c17881bbe5455e99c6e85e8f90ef18",
       "value": 2000
      }
     },
     "54533be27ffd4a4b969c0d9a7cb8bab0": {
      "model_module": "@jupyter-widgets/controls",
      "model_module_version": "1.5.0",
      "model_name": "ProgressStyleModel",
      "state": {
       "description_width": "initial"
      }
     },
     "54c317579e6742d4b31bbc48114edc6a": {
      "model_module": "@jupyter-widgets/base",
      "model_module_version": "1.2.0",
      "model_name": "LayoutModel",
      "state": {}
     },
     "551b0b28b7da4f12bd683e6aa3d329be": {
      "model_module": "@jupyter-widgets/base",
      "model_module_version": "1.2.0",
      "model_name": "LayoutModel",
      "state": {}
     },
     "56684f1563624f56b36fa62071deb80b": {
      "model_module": "@jupyter-widgets/base",
      "model_module_version": "1.2.0",
      "model_name": "LayoutModel",
      "state": {}
     },
     "56847058161d4b3c946a85ce7a1664ee": {
      "model_module": "@jupyter-widgets/controls",
      "model_module_version": "1.5.0",
      "model_name": "ProgressStyleModel",
      "state": {
       "description_width": "initial"
      }
     },
     "569f84dd2ecf48e09c517708ed15caaa": {
      "model_module": "@jupyter-widgets/controls",
      "model_module_version": "1.5.0",
      "model_name": "HBoxModel",
      "state": {
       "children": [
        "IPY_MODEL_ccb09f950de74fe4a427742070152d1a",
        "IPY_MODEL_2725366fccec4fb4a8e50974fcf5ec41"
       ],
       "layout": "IPY_MODEL_fd9bd1415ded40eda2c4ca3f52475fe2"
      }
     },
     "56e2ad4eabf34b82a24d787b7cd5e468": {
      "model_module": "@jupyter-widgets/controls",
      "model_module_version": "1.5.0",
      "model_name": "HTMLModel",
      "state": {
       "layout": "IPY_MODEL_4028e59038dd4655b3d65978a150482b",
       "style": "IPY_MODEL_974e233b412141cca857dc534672c405",
       "value": " 2000/2000 [3:38:40&lt;00:00,  6.56s/ba]"
      }
     },
     "57225ee40f11482cac1df058c682fe56": {
      "model_module": "@jupyter-widgets/controls",
      "model_module_version": "1.5.0",
      "model_name": "HTMLModel",
      "state": {
       "layout": "IPY_MODEL_013e50e8a4db445680c64f5f1cee23e2",
       "style": "IPY_MODEL_042afbda4d1c418e892da8a6e3b92142",
       "value": " 2000/2000 [07:03&lt;00:00,  4.72ba/s]"
      }
     },
     "577f02ee0d804745a06b0304ce1fcdc3": {
      "model_module": "@jupyter-widgets/controls",
      "model_module_version": "1.5.0",
      "model_name": "HBoxModel",
      "state": {
       "children": [
        "IPY_MODEL_b1884af70d16466a830a6be6e2d962d5",
        "IPY_MODEL_fc53beabed2842298a822fa6a9a1d544"
       ],
       "layout": "IPY_MODEL_f9f009ae9da84f8eb1e2c2d14a988dd2"
      }
     },
     "5805bccd1f294a1c859cfa24eb506973": {
      "model_module": "@jupyter-widgets/base",
      "model_module_version": "1.2.0",
      "model_name": "LayoutModel",
      "state": {}
     },
     "5884c363e8b4495b8cbc82a597bc1bb9": {
      "model_module": "@jupyter-widgets/controls",
      "model_module_version": "1.5.0",
      "model_name": "HTMLModel",
      "state": {
       "layout": "IPY_MODEL_66ec354bd8bb48d38b41b424fc5153e3",
       "style": "IPY_MODEL_d854aff41cb04393a28bc8cf202b6b6e",
       "value": " 2000/2000 [2:09:36&lt;00:00,  3.89s/ba]"
      }
     },
     "588d0c5b33974410a179bfe64bf5dfce": {
      "model_module": "@jupyter-widgets/controls",
      "model_module_version": "1.5.0",
      "model_name": "FloatProgressModel",
      "state": {
       "bar_style": "success",
       "description": "100%",
       "layout": "IPY_MODEL_fb0379f99bc54bc9b9c1c6f59a0a3364",
       "max": 2000,
       "style": "IPY_MODEL_bd390595c0314225bbb4ee620df8a33d",
       "value": 2000
      }
     },
     "58d9cde84b3842df98e5ed10afc1d48a": {
      "model_module": "@jupyter-widgets/controls",
      "model_module_version": "1.5.0",
      "model_name": "HTMLModel",
      "state": {
       "layout": "IPY_MODEL_13b24b979ac54b69b0327cfe8c4187a4",
       "style": "IPY_MODEL_653f50794d404c879a83ceac85298902",
       "value": " 2000/2000 [8:21:28&lt;00:00, 15.04s/ba]"
      }
     },
     "58deb89a1e094786b5ecc0e3f01a543a": {
      "model_module": "@jupyter-widgets/controls",
      "model_module_version": "1.5.0",
      "model_name": "ProgressStyleModel",
      "state": {
       "description_width": "initial"
      }
     },
     "5922f444d04f4bf38d0b5cbd6e64b4c4": {
      "model_module": "@jupyter-widgets/controls",
      "model_module_version": "1.5.0",
      "model_name": "FloatProgressModel",
      "state": {
       "bar_style": "success",
       "description": "100%",
       "layout": "IPY_MODEL_0b60b1f569f541b8a538438d0c09baef",
       "max": 2000,
       "style": "IPY_MODEL_dd5ba7e9a4644edb883c5783a0fabe85",
       "value": 2000
      }
     },
     "5982f1e6e32c4e818daf6ebf17e28f06": {
      "model_module": "@jupyter-widgets/controls",
      "model_module_version": "1.5.0",
      "model_name": "ProgressStyleModel",
      "state": {
       "description_width": "initial"
      }
     },
     "59bf1f79fbae4346b51561c9c4f263bf": {
      "model_module": "@jupyter-widgets/controls",
      "model_module_version": "1.5.0",
      "model_name": "HTMLModel",
      "state": {
       "layout": "IPY_MODEL_5ee61a53575945ac806cdc690e8824f9",
       "style": "IPY_MODEL_b9e030b9a2194e439f883fd72cf0ae76",
       "value": " 2000/2000 [09:42&lt;00:00,  3.44ba/s]"
      }
     },
     "59f3fef2d8204ddcaf976be8353f69e5": {
      "model_module": "@jupyter-widgets/base",
      "model_module_version": "1.2.0",
      "model_name": "LayoutModel",
      "state": {}
     },
     "5a7fd4adced74f4cab4dd203ec97f5d4": {
      "model_module": "@jupyter-widgets/base",
      "model_module_version": "1.2.0",
      "model_name": "LayoutModel",
      "state": {}
     },
     "5ab5983c1acd4d66927e009338ae89f0": {
      "model_module": "@jupyter-widgets/controls",
      "model_module_version": "1.5.0",
      "model_name": "HBoxModel",
      "state": {
       "children": [
        "IPY_MODEL_b9568bc530214ff7a2583a3063ba5001",
        "IPY_MODEL_a3e18e961563488ba64ab127066d5c5d"
       ],
       "layout": "IPY_MODEL_0abb548842b04e5eb2a79c8df592bb71"
      }
     },
     "5ad1f2dfb2ae4cb7b40e1b7762e02cd1": {
      "model_module": "@jupyter-widgets/base",
      "model_module_version": "1.2.0",
      "model_name": "LayoutModel",
      "state": {}
     },
     "5b2ce29531e845b3a920af9236cdb4a0": {
      "model_module": "@jupyter-widgets/base",
      "model_module_version": "1.2.0",
      "model_name": "LayoutModel",
      "state": {}
     },
     "5b681f33fa804264be4aaf834e301090": {
      "model_module": "@jupyter-widgets/controls",
      "model_module_version": "1.5.0",
      "model_name": "FloatProgressModel",
      "state": {
       "bar_style": "success",
       "description": "100%",
       "layout": "IPY_MODEL_da57a1e43eba493bb4b98c3f1b2bf8d3",
       "style": "IPY_MODEL_98342d688fd842ffb0c32f686390e76a",
       "value": 100
      }
     },
     "5b69b3d1ff2c4e9b886564f93efd8c23": {
      "model_module": "@jupyter-widgets/base",
      "model_module_version": "1.2.0",
      "model_name": "LayoutModel",
      "state": {}
     },
     "5b75ddf36eab4ca4bb1e5bd777658566": {
      "model_module": "@jupyter-widgets/controls",
      "model_module_version": "1.5.0",
      "model_name": "FloatProgressModel",
      "state": {
       "bar_style": "success",
       "description": "100%",
       "layout": "IPY_MODEL_43ecbee96beb41a1a13fe60b76acf0ae",
       "max": 2000,
       "style": "IPY_MODEL_58deb89a1e094786b5ecc0e3f01a543a",
       "value": 2000
      }
     },
     "5b77ee1fc2f44545b13a98098fe65455": {
      "model_module": "@jupyter-widgets/controls",
      "model_module_version": "1.5.0",
      "model_name": "FloatProgressModel",
      "state": {
       "bar_style": "success",
       "description": "100%",
       "layout": "IPY_MODEL_1d5c7657ce944459aa4013aa280adfa2",
       "max": 2000,
       "style": "IPY_MODEL_33a15e6758e045469454dab7bfcf60ad",
       "value": 2000
      }
     },
     "5ba0d7b8b42543ac8549f64886617383": {
      "model_module": "@jupyter-widgets/base",
      "model_module_version": "1.2.0",
      "model_name": "LayoutModel",
      "state": {}
     },
     "5bc41e6fc2b1469896322a3156520145": {
      "model_module": "@jupyter-widgets/base",
      "model_module_version": "1.2.0",
      "model_name": "LayoutModel",
      "state": {}
     },
     "5c007f16ab3f4d2ca54fd512fecc5627": {
      "model_module": "@jupyter-widgets/controls",
      "model_module_version": "1.5.0",
      "model_name": "ProgressStyleModel",
      "state": {
       "description_width": "initial"
      }
     },
     "5c63223ac4ad47ebbcb8d8d1116cd13f": {
      "model_module": "@jupyter-widgets/base",
      "model_module_version": "1.2.0",
      "model_name": "LayoutModel",
      "state": {}
     },
     "5d315252cc524f8784f73b60e126019e": {
      "model_module": "@jupyter-widgets/controls",
      "model_module_version": "1.5.0",
      "model_name": "ProgressStyleModel",
      "state": {
       "description_width": "initial"
      }
     },
     "5d3887127a7e4d069103ec3a9f7dad94": {
      "model_module": "@jupyter-widgets/controls",
      "model_module_version": "1.5.0",
      "model_name": "ProgressStyleModel",
      "state": {
       "description_width": "initial"
      }
     },
     "5d5dc1fe26b64187bcf65d338ff30f6e": {
      "model_module": "@jupyter-widgets/base",
      "model_module_version": "1.2.0",
      "model_name": "LayoutModel",
      "state": {}
     },
     "5d98c78a30274b82acc986eb3107d58a": {
      "model_module": "@jupyter-widgets/base",
      "model_module_version": "1.2.0",
      "model_name": "LayoutModel",
      "state": {}
     },
     "5d9adac3db5b4dde96f264ce9b6b6a3f": {
      "model_module": "@jupyter-widgets/controls",
      "model_module_version": "1.5.0",
      "model_name": "DescriptionStyleModel",
      "state": {
       "description_width": ""
      }
     },
     "5e08c2f30b6e4737bcd6c952bbd7cad2": {
      "model_module": "@jupyter-widgets/controls",
      "model_module_version": "1.5.0",
      "model_name": "DescriptionStyleModel",
      "state": {
       "description_width": ""
      }
     },
     "5e21c39f3f9d46ed809bf25fe85a4dbf": {
      "model_module": "@jupyter-widgets/controls",
      "model_module_version": "1.5.0",
      "model_name": "HBoxModel",
      "state": {
       "children": [
        "IPY_MODEL_77a9478b504a403693ed275ef25f7031",
        "IPY_MODEL_f3d7ed2ba5ee4dce85e4a8cd4e64745b"
       ],
       "layout": "IPY_MODEL_5ef1bcab9dc74de98af2b9539dfe67c2"
      }
     },
     "5e7d7b3e379b4d04aae3bcf7105fa28f": {
      "model_module": "@jupyter-widgets/controls",
      "model_module_version": "1.5.0",
      "model_name": "ProgressStyleModel",
      "state": {
       "description_width": "initial"
      }
     },
     "5e82841f3db1417fb6b7c89ba94076a3": {
      "model_module": "@jupyter-widgets/controls",
      "model_module_version": "1.5.0",
      "model_name": "FloatProgressModel",
      "state": {
       "bar_style": "success",
       "description": "100%",
       "layout": "IPY_MODEL_7b640a44410345249ce86e420dbdfac7",
       "max": 2000,
       "style": "IPY_MODEL_08e6acb741bc4909acb2d6eeb8f1af6a",
       "value": 2000
      }
     },
     "5ee61a53575945ac806cdc690e8824f9": {
      "model_module": "@jupyter-widgets/base",
      "model_module_version": "1.2.0",
      "model_name": "LayoutModel",
      "state": {}
     },
     "5ef1bcab9dc74de98af2b9539dfe67c2": {
      "model_module": "@jupyter-widgets/base",
      "model_module_version": "1.2.0",
      "model_name": "LayoutModel",
      "state": {}
     },
     "5f01770939584015abe7d04bbd2dfb35": {
      "model_module": "@jupyter-widgets/controls",
      "model_module_version": "1.5.0",
      "model_name": "HBoxModel",
      "state": {
       "children": [
        "IPY_MODEL_328c7b74054f4140995c603cc0c13906",
        "IPY_MODEL_d53c56320f9240ac9eedce0c7a19a3e0"
       ],
       "layout": "IPY_MODEL_b7e5b934e63d49678ee16f0de0cd902c"
      }
     },
     "5f7579ea32144068af7a17eb6e4d6b6b": {
      "model_module": "@jupyter-widgets/controls",
      "model_module_version": "1.5.0",
      "model_name": "HTMLModel",
      "state": {
       "layout": "IPY_MODEL_46dab53b3d224e8b993b7162bc205bcd",
       "style": "IPY_MODEL_488d2e23329c4d74afa87c703fe600c0",
       "value": " 2000/2000 [05:41&lt;00:00,  5.85ba/s]"
      }
     },
     "5faaaa215da9498ab77f9ee965d7bb67": {
      "model_module": "@jupyter-widgets/base",
      "model_module_version": "1.2.0",
      "model_name": "LayoutModel",
      "state": {}
     },
     "5ffeb5bcad32413fbf38f09c4abc4af0": {
      "model_module": "@jupyter-widgets/controls",
      "model_module_version": "1.5.0",
      "model_name": "HTMLModel",
      "state": {
       "layout": "IPY_MODEL_633aac75dab245a08db4bb97717d7635",
       "style": "IPY_MODEL_aeb82a4a937d44c09048ded17dafa4ed",
       "value": " 2000/2000 [05:12&lt;00:00,  6.39ba/s]"
      }
     },
     "6046982735b24bb392afb08bb34b9bf1": {
      "model_module": "@jupyter-widgets/base",
      "model_module_version": "1.2.0",
      "model_name": "LayoutModel",
      "state": {}
     },
     "6061a433c0e64f9fb283ba8b8d11c3f8": {
      "model_module": "@jupyter-widgets/base",
      "model_module_version": "1.2.0",
      "model_name": "LayoutModel",
      "state": {}
     },
     "60a40201c569457eadc81b683522dfcd": {
      "model_module": "@jupyter-widgets/base",
      "model_module_version": "1.2.0",
      "model_name": "LayoutModel",
      "state": {}
     },
     "60b0a8f366f34bee8adeac0e52f41580": {
      "model_module": "@jupyter-widgets/controls",
      "model_module_version": "1.5.0",
      "model_name": "ProgressStyleModel",
      "state": {
       "description_width": "initial"
      }
     },
     "60c17881bbe5455e99c6e85e8f90ef18": {
      "model_module": "@jupyter-widgets/controls",
      "model_module_version": "1.5.0",
      "model_name": "ProgressStyleModel",
      "state": {
       "description_width": "initial"
      }
     },
     "61412558cf764c79bfa1289890db9dd0": {
      "model_module": "@jupyter-widgets/base",
      "model_module_version": "1.2.0",
      "model_name": "LayoutModel",
      "state": {}
     },
     "61818f7dc1cf48248ac20d26ecb8958d": {
      "model_module": "@jupyter-widgets/controls",
      "model_module_version": "1.5.0",
      "model_name": "ProgressStyleModel",
      "state": {
       "description_width": "initial"
      }
     },
     "618f59be46b84d5ebb4bcd36d2433498": {
      "model_module": "@jupyter-widgets/controls",
      "model_module_version": "1.5.0",
      "model_name": "FloatProgressModel",
      "state": {
       "bar_style": "danger",
       "description": "  0%",
       "layout": "IPY_MODEL_6b64966550504f4eaffe49ad3974008e",
       "style": "IPY_MODEL_c6687aaec8604d20a3f1352678f1e7ba"
      }
     },
     "61f7009d6cb04dda8b3fd584e6422583": {
      "model_module": "@jupyter-widgets/controls",
      "model_module_version": "1.5.0",
      "model_name": "FloatProgressModel",
      "state": {
       "bar_style": "success",
       "description": "100%",
       "layout": "IPY_MODEL_10b271b86ee248859f8ff310a73c6edd",
       "max": 2000,
       "style": "IPY_MODEL_dcf630aaac184f61821cdcd03c96fe6c",
       "value": 2000
      }
     },
     "620449bab4654dd89a24c5b58c697c6f": {
      "model_module": "@jupyter-widgets/controls",
      "model_module_version": "1.5.0",
      "model_name": "HBoxModel",
      "state": {
       "children": [
        "IPY_MODEL_42e7579419954d49874ff3e7d9227c19",
        "IPY_MODEL_263b1f315f4b48a2a5099e7dea78117c"
       ],
       "layout": "IPY_MODEL_25fb9c1d190f4a84a890f7515ef16571"
      }
     },
     "620ff1aaca634b9b81f8fd309b19e03b": {
      "model_module": "@jupyter-widgets/base",
      "model_module_version": "1.2.0",
      "model_name": "LayoutModel",
      "state": {}
     },
     "621934b6da9f4672917930f2f174a880": {
      "model_module": "@jupyter-widgets/base",
      "model_module_version": "1.2.0",
      "model_name": "LayoutModel",
      "state": {}
     },
     "6240283cc4834eb5889560c840305364": {
      "model_module": "@jupyter-widgets/controls",
      "model_module_version": "1.5.0",
      "model_name": "DescriptionStyleModel",
      "state": {
       "description_width": ""
      }
     },
     "628ff3ef18cf4ea899d8c6aed5ad614c": {
      "model_module": "@jupyter-widgets/controls",
      "model_module_version": "1.5.0",
      "model_name": "FloatProgressModel",
      "state": {
       "bar_style": "success",
       "description": "100%",
       "layout": "IPY_MODEL_8d4ec2f299ac46a7acad49f4e9daf8fe",
       "max": 2000,
       "style": "IPY_MODEL_e6ff3d0bcf374d42b9a1e26bcffb47c7",
       "value": 2000
      }
     },
     "62917b0c58604292ba0e194b0abae672": {
      "model_module": "@jupyter-widgets/base",
      "model_module_version": "1.2.0",
      "model_name": "LayoutModel",
      "state": {}
     },
     "62a6f0497039422e8a27a6ce947b7ed0": {
      "model_module": "@jupyter-widgets/controls",
      "model_module_version": "1.5.0",
      "model_name": "HTMLModel",
      "state": {
       "layout": "IPY_MODEL_0fcb0ac4e5f7438c96526bb2f9be969e",
       "style": "IPY_MODEL_7dfb9437089643f894f1631a81c8d02d",
       "value": " 2000/2000 [1:37:50&lt;00:00,  2.94s/ba]"
      }
     },
     "62b02c78f46049059858b3c01685309d": {
      "model_module": "@jupyter-widgets/controls",
      "model_module_version": "1.5.0",
      "model_name": "ProgressStyleModel",
      "state": {
       "description_width": "initial"
      }
     },
     "63364a5bdb8d4c43b5f85d6b33164c74": {
      "model_module": "@jupyter-widgets/base",
      "model_module_version": "1.2.0",
      "model_name": "LayoutModel",
      "state": {}
     },
     "633aac75dab245a08db4bb97717d7635": {
      "model_module": "@jupyter-widgets/base",
      "model_module_version": "1.2.0",
      "model_name": "LayoutModel",
      "state": {}
     },
     "6438645846ae402fa0120633f940cb43": {
      "model_module": "@jupyter-widgets/controls",
      "model_module_version": "1.5.0",
      "model_name": "ProgressStyleModel",
      "state": {
       "description_width": "initial"
      }
     },
     "6465f824e943447e84f195a71c5452ed": {
      "model_module": "@jupyter-widgets/base",
      "model_module_version": "1.2.0",
      "model_name": "LayoutModel",
      "state": {}
     },
     "64c6e0ac878644209a51665149956b0f": {
      "model_module": "@jupyter-widgets/base",
      "model_module_version": "1.2.0",
      "model_name": "LayoutModel",
      "state": {}
     },
     "6502c71f8c6f4bc2816c7e17e5aa5934": {
      "model_module": "@jupyter-widgets/controls",
      "model_module_version": "1.5.0",
      "model_name": "FloatProgressModel",
      "state": {
       "bar_style": "success",
       "description": "100%",
       "layout": "IPY_MODEL_7bc55a3c509943da95140b195f2b80e8",
       "max": 2000,
       "style": "IPY_MODEL_40bbb1a87f244b9da7ef1d137fd26da2",
       "value": 2000
      }
     },
     "653395ff77684c6cb1b399099b21a389": {
      "model_module": "@jupyter-widgets/controls",
      "model_module_version": "1.5.0",
      "model_name": "DescriptionStyleModel",
      "state": {
       "description_width": ""
      }
     },
     "653f50794d404c879a83ceac85298902": {
      "model_module": "@jupyter-widgets/controls",
      "model_module_version": "1.5.0",
      "model_name": "DescriptionStyleModel",
      "state": {
       "description_width": ""
      }
     },
     "6554adc1631c4f4e9e49bb6556d01ec2": {
      "model_module": "@jupyter-widgets/base",
      "model_module_version": "1.2.0",
      "model_name": "LayoutModel",
      "state": {}
     },
     "65be54a8499d425192b640c3d4911cf8": {
      "model_module": "@jupyter-widgets/controls",
      "model_module_version": "1.5.0",
      "model_name": "DescriptionStyleModel",
      "state": {
       "description_width": ""
      }
     },
     "65c5a52ad69c4440b5207d384bd0af04": {
      "model_module": "@jupyter-widgets/controls",
      "model_module_version": "1.5.0",
      "model_name": "HTMLModel",
      "state": {
       "layout": "IPY_MODEL_69a1dd048b8d47329b95bd13f28bf435",
       "style": "IPY_MODEL_6d41c99c985d43438dff8ae7ce8ac58e",
       "value": " 2000/2000 [2:17:44&lt;00:00,  4.13s/ba]"
      }
     },
     "6619632c9a764c299b38dce513d0e655": {
      "model_module": "@jupyter-widgets/controls",
      "model_module_version": "1.5.0",
      "model_name": "HBoxModel",
      "state": {
       "children": [
        "IPY_MODEL_b401463d2bf848d3be88589de6c02b76",
        "IPY_MODEL_2e67e570e7ab4267a6b88b63993f14bb"
       ],
       "layout": "IPY_MODEL_bad5aa884ede4fdea6bbf22ec340d125"
      }
     },
     "66431a3591fc4d88804045ed48c6db28": {
      "model_module": "@jupyter-widgets/controls",
      "model_module_version": "1.5.0",
      "model_name": "FloatProgressModel",
      "state": {
       "bar_style": "success",
       "description": "100%",
       "layout": "IPY_MODEL_f711af13832a4d9ab8796ecd412aa15f",
       "max": 2000,
       "style": "IPY_MODEL_bdf18609e2004a5c96377fc1b902b986",
       "value": 2000
      }
     },
     "6669c5a8ca2145b7a185e287713b8775": {
      "model_module": "@jupyter-widgets/controls",
      "model_module_version": "1.5.0",
      "model_name": "FloatProgressModel",
      "state": {
       "bar_style": "success",
       "description": "100%",
       "layout": "IPY_MODEL_3a8877ff85884242ae4c4c3b36a76038",
       "max": 2000,
       "style": "IPY_MODEL_d2217b7faa4045d68703352f4265eec2",
       "value": 2000
      }
     },
     "66d7f13d568244ba8cca5ba1efa42a6b": {
      "model_module": "@jupyter-widgets/base",
      "model_module_version": "1.2.0",
      "model_name": "LayoutModel",
      "state": {}
     },
     "66ec354bd8bb48d38b41b424fc5153e3": {
      "model_module": "@jupyter-widgets/base",
      "model_module_version": "1.2.0",
      "model_name": "LayoutModel",
      "state": {}
     },
     "66fc3b09038e4a23a2a24c045b1fd363": {
      "model_module": "@jupyter-widgets/base",
      "model_module_version": "1.2.0",
      "model_name": "LayoutModel",
      "state": {}
     },
     "67613c7ec23c4926bce1f98765d8ac51": {
      "model_module": "@jupyter-widgets/base",
      "model_module_version": "1.2.0",
      "model_name": "LayoutModel",
      "state": {}
     },
     "679132ef1e7a480f81838e123b5f6c8a": {
      "model_module": "@jupyter-widgets/controls",
      "model_module_version": "1.5.0",
      "model_name": "FloatProgressModel",
      "state": {
       "bar_style": "success",
       "description": "100%",
       "layout": "IPY_MODEL_778477926cdd4dc5b0525948152dd585",
       "max": 2000,
       "style": "IPY_MODEL_e0b539e941094a3a8e98a8f41794086e",
       "value": 2000
      }
     },
     "679e5e28145142cf8ea3d2f8d5462ef1": {
      "model_module": "@jupyter-widgets/controls",
      "model_module_version": "1.5.0",
      "model_name": "ProgressStyleModel",
      "state": {
       "description_width": "initial"
      }
     },
     "68baae3fe6644ad69c1403db8684753a": {
      "model_module": "@jupyter-widgets/base",
      "model_module_version": "1.2.0",
      "model_name": "LayoutModel",
      "state": {}
     },
     "690f19af66204b7b97817ce38b2ae22a": {
      "model_module": "@jupyter-widgets/base",
      "model_module_version": "1.2.0",
      "model_name": "LayoutModel",
      "state": {}
     },
     "697b928563e044e285ff65d141af8b1a": {
      "model_module": "@jupyter-widgets/controls",
      "model_module_version": "1.5.0",
      "model_name": "HTMLModel",
      "state": {
       "layout": "IPY_MODEL_bef0c5187c354045a5c1707275a8152b",
       "style": "IPY_MODEL_0801592fe26e427ebf29a4db4547eec8",
       "value": " 2000/2000 [03:07&lt;00:00, 10.67ba/s]"
      }
     },
     "69a1dd048b8d47329b95bd13f28bf435": {
      "model_module": "@jupyter-widgets/base",
      "model_module_version": "1.2.0",
      "model_name": "LayoutModel",
      "state": {}
     },
     "6a06218bc5f845c4bc0b7d214051e742": {
      "model_module": "@jupyter-widgets/base",
      "model_module_version": "1.2.0",
      "model_name": "LayoutModel",
      "state": {}
     },
     "6a0d12c6e6894808bb8c3c261c1ebbc3": {
      "model_module": "@jupyter-widgets/base",
      "model_module_version": "1.2.0",
      "model_name": "LayoutModel",
      "state": {}
     },
     "6aa7f02e1f3e443b9a6b8c71c1554a45": {
      "model_module": "@jupyter-widgets/base",
      "model_module_version": "1.2.0",
      "model_name": "LayoutModel",
      "state": {}
     },
     "6b071f9126654791b4cce99053cce3af": {
      "model_module": "@jupyter-widgets/controls",
      "model_module_version": "1.5.0",
      "model_name": "HBoxModel",
      "state": {
       "children": [
        "IPY_MODEL_b4901317df744ef3be0d795d080229ca",
        "IPY_MODEL_33e35e7104344536a13a2284280777be"
       ],
       "layout": "IPY_MODEL_19b0b8579d0f440785dbe7470c2c3e04"
      }
     },
     "6b5cabf29e584334a646483e7c11f2e5": {
      "model_module": "@jupyter-widgets/base",
      "model_module_version": "1.2.0",
      "model_name": "LayoutModel",
      "state": {}
     },
     "6b64966550504f4eaffe49ad3974008e": {
      "model_module": "@jupyter-widgets/base",
      "model_module_version": "1.2.0",
      "model_name": "LayoutModel",
      "state": {}
     },
     "6bf3a092e260432fa37a09f2868d0d56": {
      "model_module": "@jupyter-widgets/base",
      "model_module_version": "1.2.0",
      "model_name": "LayoutModel",
      "state": {}
     },
     "6c2482deb3914d2ba4df259a09ed372e": {
      "model_module": "@jupyter-widgets/base",
      "model_module_version": "1.2.0",
      "model_name": "LayoutModel",
      "state": {}
     },
     "6c4b7174a64546eab13ddb78806c1725": {
      "model_module": "@jupyter-widgets/controls",
      "model_module_version": "1.5.0",
      "model_name": "ProgressStyleModel",
      "state": {
       "description_width": "initial"
      }
     },
     "6c7341b2f37442d9aa2cbd350fa5603c": {
      "model_module": "@jupyter-widgets/controls",
      "model_module_version": "1.5.0",
      "model_name": "FloatProgressModel",
      "state": {
       "bar_style": "success",
       "description": "100%",
       "layout": "IPY_MODEL_e18c516e2f2547c789500364a5f414e8",
       "max": 2000,
       "style": "IPY_MODEL_6438645846ae402fa0120633f940cb43",
       "value": 2000
      }
     },
     "6ccff81da7854adeb9153ef98b7795a8": {
      "model_module": "@jupyter-widgets/controls",
      "model_module_version": "1.5.0",
      "model_name": "HBoxModel",
      "state": {
       "children": [
        "IPY_MODEL_4916e0b0a2374e9198199ddb59a3eda7",
        "IPY_MODEL_0cb72512f8864d5db780a6438d745f12"
       ],
       "layout": "IPY_MODEL_c80428604b6a4201b17a08c166e20102"
      }
     },
     "6cd219d4755b4f768d2d54e2cb40ff53": {
      "model_module": "@jupyter-widgets/base",
      "model_module_version": "1.2.0",
      "model_name": "LayoutModel",
      "state": {}
     },
     "6ce022bb3eca47b9ace7192b866e7fba": {
      "model_module": "@jupyter-widgets/base",
      "model_module_version": "1.2.0",
      "model_name": "LayoutModel",
      "state": {}
     },
     "6ce46a5073874663956a6cd4e742f066": {
      "model_module": "@jupyter-widgets/controls",
      "model_module_version": "1.5.0",
      "model_name": "ProgressStyleModel",
      "state": {
       "description_width": "initial"
      }
     },
     "6ce6c7d9c65e4b91a36aaca7c900c503": {
      "model_module": "@jupyter-widgets/base",
      "model_module_version": "1.2.0",
      "model_name": "LayoutModel",
      "state": {}
     },
     "6cef087b194c464fb7bb69f14872ee8c": {
      "model_module": "@jupyter-widgets/controls",
      "model_module_version": "1.5.0",
      "model_name": "ProgressStyleModel",
      "state": {
       "description_width": "initial"
      }
     },
     "6d41c99c985d43438dff8ae7ce8ac58e": {
      "model_module": "@jupyter-widgets/controls",
      "model_module_version": "1.5.0",
      "model_name": "DescriptionStyleModel",
      "state": {
       "description_width": ""
      }
     },
     "6de4258386bf40bf9cc883cc13688c50": {
      "model_module": "@jupyter-widgets/controls",
      "model_module_version": "1.5.0",
      "model_name": "HBoxModel",
      "state": {
       "children": [
        "IPY_MODEL_49da2ee088bd4cefbb970d7dd60469de",
        "IPY_MODEL_f23874083f7a4063bc494b4ccfffeee0"
       ],
       "layout": "IPY_MODEL_5ba0d7b8b42543ac8549f64886617383"
      }
     },
     "6e953ffb2a114dc38670ae54caa682a0": {
      "model_module": "@jupyter-widgets/controls",
      "model_module_version": "1.5.0",
      "model_name": "HTMLModel",
      "state": {
       "layout": "IPY_MODEL_86d02debf69c4c9989e9785c059184ce",
       "style": "IPY_MODEL_c6437758db0c4b8997bc00d485add3b6",
       "value": " 2000/2000 [51:08&lt;00:00,  1.53s/ba]"
      }
     },
     "6eb07ccfffe24c11879b61847ad43a43": {
      "model_module": "@jupyter-widgets/base",
      "model_module_version": "1.2.0",
      "model_name": "LayoutModel",
      "state": {}
     },
     "6eb0bf35e0d14c0ca398f32ea71cd44b": {
      "model_module": "@jupyter-widgets/controls",
      "model_module_version": "1.5.0",
      "model_name": "FloatProgressModel",
      "state": {
       "bar_style": "success",
       "description": "100%",
       "layout": "IPY_MODEL_f20b6b2de7244a8da018b41e501ff0d9",
       "max": 2000,
       "style": "IPY_MODEL_eb04d73d5136473f868c555805257ce2",
       "value": 2000
      }
     },
     "6ec20d3c1b534835a27785b31ef3e33d": {
      "model_module": "@jupyter-widgets/base",
      "model_module_version": "1.2.0",
      "model_name": "LayoutModel",
      "state": {}
     },
     "6ecfa3481fe14130b0d5cca54d3902a2": {
      "model_module": "@jupyter-widgets/base",
      "model_module_version": "1.2.0",
      "model_name": "LayoutModel",
      "state": {}
     },
     "6f287d2b9d8d4966844ccc51589f5c6d": {
      "model_module": "@jupyter-widgets/controls",
      "model_module_version": "1.5.0",
      "model_name": "FloatProgressModel",
      "state": {
       "bar_style": "success",
       "description": "100%",
       "layout": "IPY_MODEL_5a7fd4adced74f4cab4dd203ec97f5d4",
       "max": 2000,
       "style": "IPY_MODEL_6cef087b194c464fb7bb69f14872ee8c",
       "value": 2000
      }
     },
     "6f4df6c050ff449c82cd3496b62b7208": {
      "model_module": "@jupyter-widgets/controls",
      "model_module_version": "1.5.0",
      "model_name": "ProgressStyleModel",
      "state": {
       "description_width": "initial"
      }
     },
     "6f69e5d054d24b3a940d98653b42bbb1": {
      "model_module": "@jupyter-widgets/controls",
      "model_module_version": "1.5.0",
      "model_name": "HBoxModel",
      "state": {
       "children": [
        "IPY_MODEL_136d1559da1c43f39ff991775f571711",
        "IPY_MODEL_d4dbe068fbcc4750ad08ced44394bcf0"
       ],
       "layout": "IPY_MODEL_790a4058067c4f2c98c5269282e669c8"
      }
     },
     "6f9df8ba33984dacbd168e87e55e8694": {
      "model_module": "@jupyter-widgets/controls",
      "model_module_version": "1.5.0",
      "model_name": "HBoxModel",
      "state": {
       "children": [
        "IPY_MODEL_875770aef35e4b8db2f21dc1a2d5d82f",
        "IPY_MODEL_cc918f9d70b844b08c3a415014854df2"
       ],
       "layout": "IPY_MODEL_ba26fe6723244f47815124202d28a25f"
      }
     },
     "7024765acac9413cb57bb379982ce25a": {
      "model_module": "@jupyter-widgets/base",
      "model_module_version": "1.2.0",
      "model_name": "LayoutModel",
      "state": {}
     },
     "7062df362f2745d2b33081fa65fb9b45": {
      "model_module": "@jupyter-widgets/controls",
      "model_module_version": "1.5.0",
      "model_name": "HTMLModel",
      "state": {
       "layout": "IPY_MODEL_f75b60367fae4d949d60fc68a2c5c9a1",
       "style": "IPY_MODEL_955393c9652d4cb4954c8d8e900334a5",
       "value": " 2000/2000 [06:44&lt;00:00,  4.95ba/s]"
      }
     },
     "708b2106cb4e4d5aa25bbf3ecda63ede": {
      "model_module": "@jupyter-widgets/controls",
      "model_module_version": "1.5.0",
      "model_name": "FloatProgressModel",
      "state": {
       "bar_style": "success",
       "description": "100%",
       "layout": "IPY_MODEL_45f1767753c94c1da6158c3bf0bd1327",
       "max": 2000,
       "style": "IPY_MODEL_e09b012608c34dd5a57408b8bd9a3b74",
       "value": 2000
      }
     },
     "70c0f9081d1349fdb051b52120e2d8fd": {
      "model_module": "@jupyter-widgets/controls",
      "model_module_version": "1.5.0",
      "model_name": "HTMLModel",
      "state": {
       "layout": "IPY_MODEL_bfaa37fa708d432a9e2b3eb761000dec",
       "style": "IPY_MODEL_88d6ede0143649c48566174d584e6c9b",
       "value": " 2000/2000 [06:30&lt;00:00,  5.12ba/s]"
      }
     },
     "70cfc34ab114469faebadbd208479f7f": {
      "model_module": "@jupyter-widgets/controls",
      "model_module_version": "1.5.0",
      "model_name": "HBoxModel",
      "state": {
       "children": [
        "IPY_MODEL_6eb0bf35e0d14c0ca398f32ea71cd44b",
        "IPY_MODEL_f243be1fc4a74c16870c8c971bbc4245"
       ],
       "layout": "IPY_MODEL_f599e35ba9d14bbfb43935e37d02a40b"
      }
     },
     "716b3a680275482ba62ff53ea53c0669": {
      "model_module": "@jupyter-widgets/controls",
      "model_module_version": "1.5.0",
      "model_name": "FloatProgressModel",
      "state": {
       "bar_style": "success",
       "description": "100%",
       "layout": "IPY_MODEL_d0ce291d27564e3089a01a07f5474db1",
       "max": 2000,
       "style": "IPY_MODEL_7912348d66954cc2a483b33a51949f85",
       "value": 2000
      }
     },
     "7199701a11e74d84874641bd200d3f51": {
      "model_module": "@jupyter-widgets/base",
      "model_module_version": "1.2.0",
      "model_name": "LayoutModel",
      "state": {}
     },
     "719c74c2a2d645259065a206f4fa851d": {
      "model_module": "@jupyter-widgets/controls",
      "model_module_version": "1.5.0",
      "model_name": "HBoxModel",
      "state": {
       "children": [
        "IPY_MODEL_38cbd4d3d22b467fb69e9cfdcd553f8a",
        "IPY_MODEL_df443313be1a4651b7857e34d212490c"
       ],
       "layout": "IPY_MODEL_fd2a1e3aa92d4f9fbd721a00b20e7f4e"
      }
     },
     "71abc88318c64c10be77ccd0f144cb19": {
      "model_module": "@jupyter-widgets/base",
      "model_module_version": "1.2.0",
      "model_name": "LayoutModel",
      "state": {}
     },
     "71bd96557ff0481588b7a13b291ab93e": {
      "model_module": "@jupyter-widgets/base",
      "model_module_version": "1.2.0",
      "model_name": "LayoutModel",
      "state": {}
     },
     "71f32fe4a27b49549d55206b7efa1106": {
      "model_module": "@jupyter-widgets/base",
      "model_module_version": "1.2.0",
      "model_name": "LayoutModel",
      "state": {}
     },
     "72184ddea8914f80a2eacfd8531a5d99": {
      "model_module": "@jupyter-widgets/controls",
      "model_module_version": "1.5.0",
      "model_name": "DescriptionStyleModel",
      "state": {
       "description_width": ""
      }
     },
     "724ff75726854b1eae8e458e0ab74ec2": {
      "model_module": "@jupyter-widgets/controls",
      "model_module_version": "1.5.0",
      "model_name": "HTMLModel",
      "state": {
       "layout": "IPY_MODEL_b48b1ef0db2d42e2b0c70c7b89de6240",
       "style": "IPY_MODEL_85a16c52c58e404caf073018a0903136",
       "value": " 2000/2000 [1:33:56&lt;00:00,  2.82s/ba]"
      }
     },
     "72897fc567174f9ea313158ea5720ebe": {
      "model_module": "@jupyter-widgets/base",
      "model_module_version": "1.2.0",
      "model_name": "LayoutModel",
      "state": {}
     },
     "72ec05cbc8984abba4e0230a554a1d7d": {
      "model_module": "@jupyter-widgets/base",
      "model_module_version": "1.2.0",
      "model_name": "LayoutModel",
      "state": {}
     },
     "734bdecd2da5446fa4ab9389298c137b": {
      "model_module": "@jupyter-widgets/controls",
      "model_module_version": "1.5.0",
      "model_name": "ProgressStyleModel",
      "state": {
       "description_width": "initial"
      }
     },
     "738e67da36ef4676a8810041dbe4192a": {
      "model_module": "@jupyter-widgets/controls",
      "model_module_version": "1.5.0",
      "model_name": "HBoxModel",
      "state": {
       "children": [
        "IPY_MODEL_3cacd8a3ba134d98bcbcf79fc3d01faf",
        "IPY_MODEL_b1f8b588d8904f9e80385361df3a4270"
       ],
       "layout": "IPY_MODEL_0daa20ef44cf4247aed5562ad2f21b4e"
      }
     },
     "73c8d5f9a5be4ab59c6dde8a43ef928e": {
      "model_module": "@jupyter-widgets/controls",
      "model_module_version": "1.5.0",
      "model_name": "HBoxModel",
      "state": {
       "children": [
        "IPY_MODEL_7987189c12014193a4693adcbb6d284e",
        "IPY_MODEL_697b928563e044e285ff65d141af8b1a"
       ],
       "layout": "IPY_MODEL_0caffc9679a14b45bab11be0ea34ad04"
      }
     },
     "7489c333ce434f77823df3be5aeafe74": {
      "model_module": "@jupyter-widgets/controls",
      "model_module_version": "1.5.0",
      "model_name": "HBoxModel",
      "state": {
       "children": [
        "IPY_MODEL_c8fa81100c0d4caea0006ef90c500d8a",
        "IPY_MODEL_5ffeb5bcad32413fbf38f09c4abc4af0"
       ],
       "layout": "IPY_MODEL_d8cf6af5c2ef4ac88f5e1fd6b62ceabb"
      }
     },
     "74e81e9aef9e43f38ca65799bc01115d": {
      "model_module": "@jupyter-widgets/controls",
      "model_module_version": "1.5.0",
      "model_name": "HBoxModel",
      "state": {
       "children": [
        "IPY_MODEL_edf19130c97f45639a08598efb6e8cf5",
        "IPY_MODEL_fcf3c985e5a54242a9c990b55637b8d0"
       ],
       "layout": "IPY_MODEL_c1742e56e9a74f5f8adfae87c3475755"
      }
     },
     "750f560546504b38ac992359325aa400": {
      "model_module": "@jupyter-widgets/base",
      "model_module_version": "1.2.0",
      "model_name": "LayoutModel",
      "state": {}
     },
     "7589ad2200984de682260e0a1024ad63": {
      "model_module": "@jupyter-widgets/base",
      "model_module_version": "1.2.0",
      "model_name": "LayoutModel",
      "state": {}
     },
     "75a3554e84824c72a2c6a52b96cf9e0b": {
      "model_module": "@jupyter-widgets/controls",
      "model_module_version": "1.5.0",
      "model_name": "HBoxModel",
      "state": {
       "children": [
        "IPY_MODEL_b55b57b681c9421ea3fcd86501819933",
        "IPY_MODEL_62a6f0497039422e8a27a6ce947b7ed0"
       ],
       "layout": "IPY_MODEL_e85c863fcd6f42b89ecc296d4ce34555"
      }
     },
     "75d7260a2bae4e86af1c82a8dd69a08b": {
      "model_module": "@jupyter-widgets/controls",
      "model_module_version": "1.5.0",
      "model_name": "DescriptionStyleModel",
      "state": {
       "description_width": ""
      }
     },
     "75d8d606fd52423187b7442a3d94c8d2": {
      "model_module": "@jupyter-widgets/base",
      "model_module_version": "1.2.0",
      "model_name": "LayoutModel",
      "state": {}
     },
     "75ea24c6ba034380bb4e82517ef3256f": {
      "model_module": "@jupyter-widgets/controls",
      "model_module_version": "1.5.0",
      "model_name": "HTMLModel",
      "state": {
       "layout": "IPY_MODEL_fe1fd9e1d8d745fd8c6fefaee30d0f5c",
       "style": "IPY_MODEL_28dd0b7e199549f3b5b3efd1dccd96f8",
       "value": " 2000/2000 [55:39&lt;00:00,  1.67s/ba]"
      }
     },
     "761e238baa1a4136abf9160c87e6aeaa": {
      "model_module": "@jupyter-widgets/base",
      "model_module_version": "1.2.0",
      "model_name": "LayoutModel",
      "state": {}
     },
     "76805b7e230f413f88a7aaea6c807962": {
      "model_module": "@jupyter-widgets/base",
      "model_module_version": "1.2.0",
      "model_name": "LayoutModel",
      "state": {}
     },
     "772dc20a8ae84263885085dd8f787dc0": {
      "model_module": "@jupyter-widgets/controls",
      "model_module_version": "1.5.0",
      "model_name": "HTMLModel",
      "state": {
       "layout": "IPY_MODEL_a7128de638a144b7bd89510c8665734e",
       "style": "IPY_MODEL_41ec910692224a70bfb41296d5f950c5",
       "value": " 2000/2000 [6:54:24&lt;00:00, 12.43s/ba]"
      }
     },
     "776a7b97eca24c1f9e68459c6403c81a": {
      "model_module": "@jupyter-widgets/controls",
      "model_module_version": "1.5.0",
      "model_name": "HTMLModel",
      "state": {
       "layout": "IPY_MODEL_97eaab7e04f049e390aa8225e9696db5",
       "style": "IPY_MODEL_9d8f7ca8a9d44fea9b3e19d649ae4ecd",
       "value": " 2000/2000 [16:41&lt;00:00,  2.00ba/s]"
      }
     },
     "778477926cdd4dc5b0525948152dd585": {
      "model_module": "@jupyter-widgets/base",
      "model_module_version": "1.2.0",
      "model_name": "LayoutModel",
      "state": {}
     },
     "77a9478b504a403693ed275ef25f7031": {
      "model_module": "@jupyter-widgets/controls",
      "model_module_version": "1.5.0",
      "model_name": "FloatProgressModel",
      "state": {
       "bar_style": "success",
       "description": "100%",
       "layout": "IPY_MODEL_af8e605494af454aaa03bbfaca6843ff",
       "max": 2000,
       "style": "IPY_MODEL_5c007f16ab3f4d2ca54fd512fecc5627",
       "value": 2000
      }
     },
     "77f160d492fb45848e7ce482376a9662": {
      "model_module": "@jupyter-widgets/controls",
      "model_module_version": "1.5.0",
      "model_name": "DescriptionStyleModel",
      "state": {
       "description_width": ""
      }
     },
     "782ad791aab14abf8c55885d66f1124e": {
      "model_module": "@jupyter-widgets/controls",
      "model_module_version": "1.5.0",
      "model_name": "DescriptionStyleModel",
      "state": {
       "description_width": ""
      }
     },
     "78392c90d74442cebf1f171fd01605fd": {
      "model_module": "@jupyter-widgets/controls",
      "model_module_version": "1.5.0",
      "model_name": "DescriptionStyleModel",
      "state": {
       "description_width": ""
      }
     },
     "7850fccf46eb428e9008ae426079b023": {
      "model_module": "@jupyter-widgets/base",
      "model_module_version": "1.2.0",
      "model_name": "LayoutModel",
      "state": {}
     },
     "78a6bdb8f7de4a01bc4218c87726bc5c": {
      "model_module": "@jupyter-widgets/controls",
      "model_module_version": "1.5.0",
      "model_name": "ProgressStyleModel",
      "state": {
       "description_width": "initial"
      }
     },
     "78e0d2bce4b34bb8bb06fa73663af53e": {
      "model_module": "@jupyter-widgets/controls",
      "model_module_version": "1.5.0",
      "model_name": "HTMLModel",
      "state": {
       "layout": "IPY_MODEL_8a200de10a424e92b75c14dff42f89ac",
       "style": "IPY_MODEL_e7e57d75d1fc4407a3c2fad118e90552",
       "value": " 2000/2000 [06:54&lt;00:00,  4.83ba/s]"
      }
     },
     "78f0510d51b74d2f89422d206a39fff7": {
      "model_module": "@jupyter-widgets/controls",
      "model_module_version": "1.5.0",
      "model_name": "HBoxModel",
      "state": {
       "children": [
        "IPY_MODEL_0de5ce6b266f4d2b93ef8944be39b55f",
        "IPY_MODEL_17dff8cfd70c4784aa0786fa6e32d2ff"
       ],
       "layout": "IPY_MODEL_843227c87eff4e71ad6f5b5eee051f44"
      }
     },
     "790a4058067c4f2c98c5269282e669c8": {
      "model_module": "@jupyter-widgets/base",
      "model_module_version": "1.2.0",
      "model_name": "LayoutModel",
      "state": {}
     },
     "7912348d66954cc2a483b33a51949f85": {
      "model_module": "@jupyter-widgets/controls",
      "model_module_version": "1.5.0",
      "model_name": "ProgressStyleModel",
      "state": {
       "description_width": "initial"
      }
     },
     "79452347d50d4e6eb36a578e8f515e86": {
      "model_module": "@jupyter-widgets/controls",
      "model_module_version": "1.5.0",
      "model_name": "ProgressStyleModel",
      "state": {
       "description_width": "initial"
      }
     },
     "7987189c12014193a4693adcbb6d284e": {
      "model_module": "@jupyter-widgets/controls",
      "model_module_version": "1.5.0",
      "model_name": "FloatProgressModel",
      "state": {
       "bar_style": "success",
       "description": "100%",
       "layout": "IPY_MODEL_4c0ee098372849fb89aedb8b0cef50ef",
       "max": 2000,
       "style": "IPY_MODEL_f0d316b5b81142308ceb2d85df98a101",
       "value": 2000
      }
     },
     "79ffed0c533844c990ee46b60a6ebbaf": {
      "model_module": "@jupyter-widgets/base",
      "model_module_version": "1.2.0",
      "model_name": "LayoutModel",
      "state": {}
     },
     "7a635fa7cf0a4801afdecdb6ee8e140b": {
      "model_module": "@jupyter-widgets/controls",
      "model_module_version": "1.5.0",
      "model_name": "DescriptionStyleModel",
      "state": {
       "description_width": ""
      }
     },
     "7aaf632465194bb3b145f08f4d10c3b2": {
      "model_module": "@jupyter-widgets/base",
      "model_module_version": "1.2.0",
      "model_name": "LayoutModel",
      "state": {}
     },
     "7b40789fe3ec4aa699f49dc07504af2d": {
      "model_module": "@jupyter-widgets/controls",
      "model_module_version": "1.5.0",
      "model_name": "HBoxModel",
      "state": {
       "children": [
        "IPY_MODEL_eb63fde26e9a44b4bdc4feb7f2bbaf36",
        "IPY_MODEL_ca54ea6df91d4a24a39c7ed7d73cb9cb"
       ],
       "layout": "IPY_MODEL_9740d969319a42e38ce7679794bac0d5"
      }
     },
     "7b58df234b4d4c61807eaec4d24f41a8": {
      "model_module": "@jupyter-widgets/controls",
      "model_module_version": "1.5.0",
      "model_name": "DescriptionStyleModel",
      "state": {
       "description_width": ""
      }
     },
     "7b640a44410345249ce86e420dbdfac7": {
      "model_module": "@jupyter-widgets/base",
      "model_module_version": "1.2.0",
      "model_name": "LayoutModel",
      "state": {}
     },
     "7bc55a3c509943da95140b195f2b80e8": {
      "model_module": "@jupyter-widgets/base",
      "model_module_version": "1.2.0",
      "model_name": "LayoutModel",
      "state": {}
     },
     "7c34407754254a489e45a80d1af7f677": {
      "model_module": "@jupyter-widgets/base",
      "model_module_version": "1.2.0",
      "model_name": "LayoutModel",
      "state": {}
     },
     "7ce907a078064139a0270864c6da1277": {
      "model_module": "@jupyter-widgets/controls",
      "model_module_version": "1.5.0",
      "model_name": "FloatProgressModel",
      "state": {
       "bar_style": "success",
       "description": "100%",
       "layout": "IPY_MODEL_22b8fceb1379434885a7e8e44da4412c",
       "max": 2000,
       "style": "IPY_MODEL_79452347d50d4e6eb36a578e8f515e86",
       "value": 2000
      }
     },
     "7d02b0860e5e4d569975c5a6e97cab4a": {
      "model_module": "@jupyter-widgets/base",
      "model_module_version": "1.2.0",
      "model_name": "LayoutModel",
      "state": {}
     },
     "7d0393afe70c45ffbc7060297e77b19e": {
      "model_module": "@jupyter-widgets/controls",
      "model_module_version": "1.5.0",
      "model_name": "FloatProgressModel",
      "state": {
       "bar_style": "success",
       "description": "100%",
       "layout": "IPY_MODEL_7d66446cea8e4fc4bf75eac2b662cd60",
       "max": 2000,
       "style": "IPY_MODEL_9815bdfe95164d23b570163431ddec9b",
       "value": 2000
      }
     },
     "7d1ccc7b2a8947888bdba5459f881e54": {
      "model_module": "@jupyter-widgets/controls",
      "model_module_version": "1.5.0",
      "model_name": "FloatProgressModel",
      "state": {
       "bar_style": "success",
       "description": "100%",
       "layout": "IPY_MODEL_025b0999100d4344abb0af5d1b7aaecb",
       "max": 2000,
       "style": "IPY_MODEL_8e97a74225ef4a988fc930cc7b62575b",
       "value": 2000
      }
     },
     "7d66446cea8e4fc4bf75eac2b662cd60": {
      "model_module": "@jupyter-widgets/base",
      "model_module_version": "1.2.0",
      "model_name": "LayoutModel",
      "state": {}
     },
     "7dfb9437089643f894f1631a81c8d02d": {
      "model_module": "@jupyter-widgets/controls",
      "model_module_version": "1.5.0",
      "model_name": "DescriptionStyleModel",
      "state": {
       "description_width": ""
      }
     },
     "7e2c1ff5bfab4aa99e76533d5a66acff": {
      "model_module": "@jupyter-widgets/base",
      "model_module_version": "1.2.0",
      "model_name": "LayoutModel",
      "state": {}
     },
     "7e3233f4361245a5943ba62f1334bb0a": {
      "model_module": "@jupyter-widgets/base",
      "model_module_version": "1.2.0",
      "model_name": "LayoutModel",
      "state": {}
     },
     "7e5aaf4259574c26a26ccc0281589951": {
      "model_module": "@jupyter-widgets/controls",
      "model_module_version": "1.5.0",
      "model_name": "DescriptionStyleModel",
      "state": {
       "description_width": ""
      }
     },
     "7e8b4b42067f4132b1d0734432655dea": {
      "model_module": "@jupyter-widgets/controls",
      "model_module_version": "1.5.0",
      "model_name": "FloatProgressModel",
      "state": {
       "bar_style": "success",
       "description": "100%",
       "layout": "IPY_MODEL_be2de3eb90f94331a3d946a3ead12b20",
       "max": 2000,
       "style": "IPY_MODEL_fe1727bca3dd4c45aff19578d09fd1c9",
       "value": 2000
      }
     },
     "7ebc9e893df64029a30f30116a98f10c": {
      "model_module": "@jupyter-widgets/base",
      "model_module_version": "1.2.0",
      "model_name": "LayoutModel",
      "state": {}
     },
     "7f521f9b89284759a0688dc2fadbf360": {
      "model_module": "@jupyter-widgets/controls",
      "model_module_version": "1.5.0",
      "model_name": "HBoxModel",
      "state": {
       "children": [
        "IPY_MODEL_f1cc8dfe7feb4955afbf2a263777df41",
        "IPY_MODEL_261cb7e392d24ba4adf2c66d6b09134a"
       ],
       "layout": "IPY_MODEL_2c63f3209ed6437d88a4563e965e0014"
      }
     },
     "7f5a7a868b294ec79fd0dc59c12c5a21": {
      "model_module": "@jupyter-widgets/controls",
      "model_module_version": "1.5.0",
      "model_name": "HTMLModel",
      "state": {
       "layout": "IPY_MODEL_e1562783c99e4059b2ba009ddf31d375",
       "style": "IPY_MODEL_5e08c2f30b6e4737bcd6c952bbd7cad2",
       "value": " 2000/2000 [05:24&lt;00:00,  6.16ba/s]"
      }
     },
     "7f773e78fd444a5493ea501cbde6e2cf": {
      "model_module": "@jupyter-widgets/base",
      "model_module_version": "1.2.0",
      "model_name": "LayoutModel",
      "state": {}
     },
     "7fe07e34f0d14694a9df68875aa59a9f": {
      "model_module": "@jupyter-widgets/base",
      "model_module_version": "1.2.0",
      "model_name": "LayoutModel",
      "state": {}
     },
     "8002a85389784c61a9c400b35e905c33": {
      "model_module": "@jupyter-widgets/controls",
      "model_module_version": "1.5.0",
      "model_name": "HBoxModel",
      "state": {
       "children": [
        "IPY_MODEL_9940bc56d4274d5f9e2e299f8704f2c8",
        "IPY_MODEL_ecd910cbd01b4c938a49dd8c19d8b7cd"
       ],
       "layout": "IPY_MODEL_7589ad2200984de682260e0a1024ad63"
      }
     },
     "803c30c3473d4433a53bb50cf7867ddd": {
      "model_module": "@jupyter-widgets/controls",
      "model_module_version": "1.5.0",
      "model_name": "HBoxModel",
      "state": {
       "children": [
        "IPY_MODEL_7d1ccc7b2a8947888bdba5459f881e54",
        "IPY_MODEL_ee0b8469de1d498f90a7068612269789"
       ],
       "layout": "IPY_MODEL_9127041419d34312afda97a75efda3e3"
      }
     },
     "8045e5d6d78743caa63ac6740b7e0d5e": {
      "model_module": "@jupyter-widgets/base",
      "model_module_version": "1.2.0",
      "model_name": "LayoutModel",
      "state": {}
     },
     "80787ea33c8840d2bd8f0e510eb70e47": {
      "model_module": "@jupyter-widgets/controls",
      "model_module_version": "1.5.0",
      "model_name": "ProgressStyleModel",
      "state": {
       "description_width": "initial"
      }
     },
     "8114c30b45074be987b524a1c3d7d844": {
      "model_module": "@jupyter-widgets/base",
      "model_module_version": "1.2.0",
      "model_name": "LayoutModel",
      "state": {}
     },
     "8128cafff9184caeafc92c40e6cd001b": {
      "model_module": "@jupyter-widgets/base",
      "model_module_version": "1.2.0",
      "model_name": "LayoutModel",
      "state": {}
     },
     "81558d52462741b8a46cbd02611c84a5": {
      "model_module": "@jupyter-widgets/controls",
      "model_module_version": "1.5.0",
      "model_name": "DescriptionStyleModel",
      "state": {
       "description_width": ""
      }
     },
     "8182f2455f904e77a496ed2be45c647a": {
      "model_module": "@jupyter-widgets/controls",
      "model_module_version": "1.5.0",
      "model_name": "HTMLModel",
      "state": {
       "layout": "IPY_MODEL_4d4375f7346c43d8a6a1bf84828e2b68",
       "style": "IPY_MODEL_14353661f2064491803e3e5410a3cee9",
       "value": " 2000/2000 [11:06&lt;00:00,  3.00ba/s]"
      }
     },
     "81a46d650b44460fa80cf4b00696670f": {
      "model_module": "@jupyter-widgets/controls",
      "model_module_version": "1.5.0",
      "model_name": "DescriptionStyleModel",
      "state": {
       "description_width": ""
      }
     },
     "823b612ca5a94432af2e1d2696205ca3": {
      "model_module": "@jupyter-widgets/controls",
      "model_module_version": "1.5.0",
      "model_name": "DescriptionStyleModel",
      "state": {
       "description_width": ""
      }
     },
     "82dd0ec019364289b3350210439f82d5": {
      "model_module": "@jupyter-widgets/controls",
      "model_module_version": "1.5.0",
      "model_name": "HTMLModel",
      "state": {
       "layout": "IPY_MODEL_2d7309bd54d24dc1ab9d073de66f962b",
       "style": "IPY_MODEL_0464650638ce42fda808283674999492",
       "value": " 100/100 [11:55:09&lt;00:00, 429.10s/it]"
      }
     },
     "82e17883944045ada57bb88b4e44d946": {
      "model_module": "@jupyter-widgets/base",
      "model_module_version": "1.2.0",
      "model_name": "LayoutModel",
      "state": {}
     },
     "83148a0312c14f91942d87f751d86e78": {
      "model_module": "@jupyter-widgets/controls",
      "model_module_version": "1.5.0",
      "model_name": "HBoxModel",
      "state": {
       "children": [
        "IPY_MODEL_6f287d2b9d8d4966844ccc51589f5c6d",
        "IPY_MODEL_724ff75726854b1eae8e458e0ab74ec2"
       ],
       "layout": "IPY_MODEL_09e887312ad040809a2dafefb93091f8"
      }
     },
     "83475dc81ceb456fb87f861ea2577f15": {
      "model_module": "@jupyter-widgets/base",
      "model_module_version": "1.2.0",
      "model_name": "LayoutModel",
      "state": {}
     },
     "8377cf37bc3b4679a691263b9e3847d5": {
      "model_module": "@jupyter-widgets/controls",
      "model_module_version": "1.5.0",
      "model_name": "FloatProgressModel",
      "state": {
       "bar_style": "success",
       "description": "100%",
       "layout": "IPY_MODEL_761e238baa1a4136abf9160c87e6aeaa",
       "max": 2000,
       "style": "IPY_MODEL_1f18c7dd6f424c38a0594122391e33f0",
       "value": 2000
      }
     },
     "83a7c38e0439480ebd683733d7ba13a5": {
      "model_module": "@jupyter-widgets/controls",
      "model_module_version": "1.5.0",
      "model_name": "HBoxModel",
      "state": {
       "children": [
        "IPY_MODEL_2562fa3c7ddf4545b04e8a62ef77b502",
        "IPY_MODEL_7062df362f2745d2b33081fa65fb9b45"
       ],
       "layout": "IPY_MODEL_a96ef39470404cdb9bcdb76d76c4ad5d"
      }
     },
     "83b1e6ca82744bd5805733f4c8f669e1": {
      "model_module": "@jupyter-widgets/controls",
      "model_module_version": "1.5.0",
      "model_name": "HBoxModel",
      "state": {
       "children": [
        "IPY_MODEL_da8ac38c97a54c09afb11e836165aa46",
        "IPY_MODEL_4136f40008464e97b00f5b1f0c1a4b48"
       ],
       "layout": "IPY_MODEL_ca11691a8e284ee6a9c6822712895896"
      }
     },
     "840da585933143bc8a26c287ad991e34": {
      "model_module": "@jupyter-widgets/controls",
      "model_module_version": "1.5.0",
      "model_name": "HBoxModel",
      "state": {
       "children": [
        "IPY_MODEL_e20cd20b05e04e74a1be95adf6e3d8bf",
        "IPY_MODEL_0f42e3b72d5e4190aacff29533192768"
       ],
       "layout": "IPY_MODEL_71f32fe4a27b49549d55206b7efa1106"
      }
     },
     "843227c87eff4e71ad6f5b5eee051f44": {
      "model_module": "@jupyter-widgets/base",
      "model_module_version": "1.2.0",
      "model_name": "LayoutModel",
      "state": {}
     },
     "844037d337c94b6885ae3c92e464847e": {
      "model_module": "@jupyter-widgets/base",
      "model_module_version": "1.2.0",
      "model_name": "LayoutModel",
      "state": {}
     },
     "85a16c52c58e404caf073018a0903136": {
      "model_module": "@jupyter-widgets/controls",
      "model_module_version": "1.5.0",
      "model_name": "DescriptionStyleModel",
      "state": {
       "description_width": ""
      }
     },
     "85c0109139f4450497326b9c17565bf8": {
      "model_module": "@jupyter-widgets/base",
      "model_module_version": "1.2.0",
      "model_name": "LayoutModel",
      "state": {}
     },
     "85da722a06254fa6aae1e45bac3d7a97": {
      "model_module": "@jupyter-widgets/base",
      "model_module_version": "1.2.0",
      "model_name": "LayoutModel",
      "state": {}
     },
     "86b84709e8034df7b0953d639c766b77": {
      "model_module": "@jupyter-widgets/controls",
      "model_module_version": "1.5.0",
      "model_name": "ProgressStyleModel",
      "state": {
       "description_width": "initial"
      }
     },
     "86d02debf69c4c9989e9785c059184ce": {
      "model_module": "@jupyter-widgets/base",
      "model_module_version": "1.2.0",
      "model_name": "LayoutModel",
      "state": {}
     },
     "86de66e680cd4e16a05ffc5c1ce817c7": {
      "model_module": "@jupyter-widgets/controls",
      "model_module_version": "1.5.0",
      "model_name": "FloatProgressModel",
      "state": {
       "bar_style": "success",
       "description": "100%",
       "layout": "IPY_MODEL_26f43b4e3e8640389c52a89459fcbbd4",
       "max": 2000,
       "style": "IPY_MODEL_80787ea33c8840d2bd8f0e510eb70e47",
       "value": 2000
      }
     },
     "86e9551514544536a14bd10eb2cbfc3e": {
      "model_module": "@jupyter-widgets/controls",
      "model_module_version": "1.5.0",
      "model_name": "HBoxModel",
      "state": {
       "children": [
        "IPY_MODEL_fdf520a164fc4ae88662bed1de9e1799",
        "IPY_MODEL_94689b14a4fb4139afa4498a95c383e0"
       ],
       "layout": "IPY_MODEL_f9c93d32461a4a3ebaca45845799003d"
      }
     },
     "8721ee45c3134c1cb9d338cf578d1ffa": {
      "model_module": "@jupyter-widgets/controls",
      "model_module_version": "1.5.0",
      "model_name": "ProgressStyleModel",
      "state": {
       "description_width": "initial"
      }
     },
     "872c6aff38ab45d7b536637d78370a81": {
      "model_module": "@jupyter-widgets/base",
      "model_module_version": "1.2.0",
      "model_name": "LayoutModel",
      "state": {}
     },
     "8743fca0568a4e8d93ccb3f1de7826fd": {
      "model_module": "@jupyter-widgets/controls",
      "model_module_version": "1.5.0",
      "model_name": "HTMLModel",
      "state": {
       "layout": "IPY_MODEL_7d02b0860e5e4d569975c5a6e97cab4a",
       "style": "IPY_MODEL_c29a74c643d94d908b7b9c6d072dbfde",
       "value": " 2000/2000 [47:22&lt;00:00,  1.42s/ba]"
      }
     },
     "875770aef35e4b8db2f21dc1a2d5d82f": {
      "model_module": "@jupyter-widgets/controls",
      "model_module_version": "1.5.0",
      "model_name": "FloatProgressModel",
      "state": {
       "bar_style": "success",
       "description": "100%",
       "layout": "IPY_MODEL_35bd19a3c3f44d6499c2359942784659",
       "max": 2000,
       "style": "IPY_MODEL_b0a48c5b0db64643aa22f77aa60249b9",
       "value": 2000
      }
     },
     "879b1a3f14344b30aa80765809c94695": {
      "model_module": "@jupyter-widgets/base",
      "model_module_version": "1.2.0",
      "model_name": "LayoutModel",
      "state": {}
     },
     "87bfa9ab012840a1be5dea3755aef060": {
      "model_module": "@jupyter-widgets/controls",
      "model_module_version": "1.5.0",
      "model_name": "HTMLModel",
      "state": {
       "layout": "IPY_MODEL_8e80a9cc1cd14209bfc87edbf08c37f0",
       "style": "IPY_MODEL_d320bfdfbf434cb99958cdf736a34b59",
       "value": " 2000/2000 [9:25:41&lt;00:00, 16.97s/ba]"
      }
     },
     "87c85be896dd4e12adbc8db3984bbc49": {
      "model_module": "@jupyter-widgets/base",
      "model_module_version": "1.2.0",
      "model_name": "LayoutModel",
      "state": {}
     },
     "87fb3f3d788c4644a81d533fef5972ab": {
      "model_module": "@jupyter-widgets/controls",
      "model_module_version": "1.5.0",
      "model_name": "FloatProgressModel",
      "state": {
       "bar_style": "success",
       "description": "100%",
       "layout": "IPY_MODEL_4f8cb919a5964779ac6af6fc352f091c",
       "max": 2000,
       "style": "IPY_MODEL_deb58a0307904ad6aa1b93bc7f140706",
       "value": 2000
      }
     },
     "87ff376f0d7b4eea962c090daede0dae": {
      "model_module": "@jupyter-widgets/controls",
      "model_module_version": "1.5.0",
      "model_name": "DescriptionStyleModel",
      "state": {
       "description_width": ""
      }
     },
     "8805479e95ff4b1b90e18ef837e86a4c": {
      "model_module": "@jupyter-widgets/controls",
      "model_module_version": "1.5.0",
      "model_name": "HBoxModel",
      "state": {
       "children": [
        "IPY_MODEL_c800a52ca9954f40a17f01abe2771d7a",
        "IPY_MODEL_b87db644e45b4f6f9943b7d1abed194b"
       ],
       "layout": "IPY_MODEL_f00af4be73f94dc0b1591582740d8edd"
      }
     },
     "88266ccf8f304a0999c025ddf3d1bd06": {
      "model_module": "@jupyter-widgets/base",
      "model_module_version": "1.2.0",
      "model_name": "LayoutModel",
      "state": {}
     },
     "884c12bb28c541f1b42a8a06d8913d5f": {
      "model_module": "@jupyter-widgets/controls",
      "model_module_version": "1.5.0",
      "model_name": "HBoxModel",
      "state": {
       "children": [
        "IPY_MODEL_d7244550b99c4cab983cf65239a3c3d1",
        "IPY_MODEL_f97a797fc90143ee820b4b0692a2d3fa"
       ],
       "layout": "IPY_MODEL_fe7adf3ff0854806a8aefaa431872080"
      }
     },
     "8881a7fbad464fdcac2510407d2a5358": {
      "model_module": "@jupyter-widgets/controls",
      "model_module_version": "1.5.0",
      "model_name": "ProgressStyleModel",
      "state": {
       "description_width": "initial"
      }
     },
     "8899781aa46b4775b3ce890b1e5dc921": {
      "model_module": "@jupyter-widgets/controls",
      "model_module_version": "1.5.0",
      "model_name": "DescriptionStyleModel",
      "state": {
       "description_width": ""
      }
     },
     "88d6ede0143649c48566174d584e6c9b": {
      "model_module": "@jupyter-widgets/controls",
      "model_module_version": "1.5.0",
      "model_name": "DescriptionStyleModel",
      "state": {
       "description_width": ""
      }
     },
     "88efe1267a6c476e97240755729d6c4c": {
      "model_module": "@jupyter-widgets/controls",
      "model_module_version": "1.5.0",
      "model_name": "DescriptionStyleModel",
      "state": {
       "description_width": ""
      }
     },
     "89029c3133244389bab7036d460e7583": {
      "model_module": "@jupyter-widgets/controls",
      "model_module_version": "1.5.0",
      "model_name": "DescriptionStyleModel",
      "state": {
       "description_width": ""
      }
     },
     "891871a8671b4d0895400aa444b838d4": {
      "model_module": "@jupyter-widgets/base",
      "model_module_version": "1.2.0",
      "model_name": "LayoutModel",
      "state": {}
     },
     "893c67914afd493aa306518790572682": {
      "model_module": "@jupyter-widgets/controls",
      "model_module_version": "1.5.0",
      "model_name": "FloatProgressModel",
      "state": {
       "bar_style": "success",
       "description": "100%",
       "layout": "IPY_MODEL_28e37d3874aa4c9f95daf9e2629b77d4",
       "max": 2000,
       "style": "IPY_MODEL_a1e31471808c4bfa99f289698e113ba8",
       "value": 2000
      }
     },
     "895e75b4bc78481db3c25bbf67c332be": {
      "model_module": "@jupyter-widgets/base",
      "model_module_version": "1.2.0",
      "model_name": "LayoutModel",
      "state": {}
     },
     "896df04684e94c2ba5e97804b136922b": {
      "model_module": "@jupyter-widgets/controls",
      "model_module_version": "1.5.0",
      "model_name": "DescriptionStyleModel",
      "state": {
       "description_width": ""
      }
     },
     "89d659960b144a8291dff2bf89e6afea": {
      "model_module": "@jupyter-widgets/controls",
      "model_module_version": "1.5.0",
      "model_name": "ProgressStyleModel",
      "state": {
       "description_width": "initial"
      }
     },
     "8a200de10a424e92b75c14dff42f89ac": {
      "model_module": "@jupyter-widgets/base",
      "model_module_version": "1.2.0",
      "model_name": "LayoutModel",
      "state": {}
     },
     "8a227c3016ac4fa6879ca2a5a3de5cbc": {
      "model_module": "@jupyter-widgets/base",
      "model_module_version": "1.2.0",
      "model_name": "LayoutModel",
      "state": {}
     },
     "8a34fa704c8c46d38342a75dbe53ef56": {
      "model_module": "@jupyter-widgets/controls",
      "model_module_version": "1.5.0",
      "model_name": "HTMLModel",
      "state": {
       "layout": "IPY_MODEL_19c9032c2f264393b604e07cc57e52b5",
       "style": "IPY_MODEL_401e9988eac3442a9d217d5031db8b00",
       "value": " 2000/2000 [8:11:48&lt;00:00, 14.75s/ba]"
      }
     },
     "8a492db28b67459f92fa2312164f1e6f": {
      "model_module": "@jupyter-widgets/base",
      "model_module_version": "1.2.0",
      "model_name": "LayoutModel",
      "state": {}
     },
     "8a879d54c12940a291bb37326ac2d267": {
      "model_module": "@jupyter-widgets/base",
      "model_module_version": "1.2.0",
      "model_name": "LayoutModel",
      "state": {}
     },
     "8b4ee91c83c94a5da5d6c28bedf4a48f": {
      "model_module": "@jupyter-widgets/controls",
      "model_module_version": "1.5.0",
      "model_name": "DescriptionStyleModel",
      "state": {
       "description_width": ""
      }
     },
     "8b7514ffefe547d0912a8718b04507fc": {
      "model_module": "@jupyter-widgets/base",
      "model_module_version": "1.2.0",
      "model_name": "LayoutModel",
      "state": {}
     },
     "8ba046dd806643f49e6b42049fb3dcee": {
      "model_module": "@jupyter-widgets/controls",
      "model_module_version": "1.5.0",
      "model_name": "FloatProgressModel",
      "state": {
       "bar_style": "success",
       "description": "100%",
       "layout": "IPY_MODEL_d0aba3f1c8834598b2947cbaecc27c2e",
       "max": 2000,
       "style": "IPY_MODEL_ac77a3ba6c204bb485d7b2fa642dcca8",
       "value": 2000
      }
     },
     "8ba4ba6795774b659df10a2b9b872761": {
      "model_module": "@jupyter-widgets/controls",
      "model_module_version": "1.5.0",
      "model_name": "ProgressStyleModel",
      "state": {
       "description_width": "initial"
      }
     },
     "8bce219afd9645569e83dfcea897f895": {
      "model_module": "@jupyter-widgets/base",
      "model_module_version": "1.2.0",
      "model_name": "LayoutModel",
      "state": {}
     },
     "8c01506db8e14db986265bb99502d9ca": {
      "model_module": "@jupyter-widgets/controls",
      "model_module_version": "1.5.0",
      "model_name": "HTMLModel",
      "state": {
       "layout": "IPY_MODEL_0a1dcea3f7ae4bf9949577a6931494d0",
       "style": "IPY_MODEL_384b23d60e34473fa1a79ad7b2e38b77",
       "value": " 2000/2000 [38:36&lt;00:00,  1.16s/ba]"
      }
     },
     "8c329926a7fa412a9a442733168d3828": {
      "model_module": "@jupyter-widgets/base",
      "model_module_version": "1.2.0",
      "model_name": "LayoutModel",
      "state": {}
     },
     "8c4d1890e3d445058f95393fb05f609c": {
      "model_module": "@jupyter-widgets/controls",
      "model_module_version": "1.5.0",
      "model_name": "FloatProgressModel",
      "state": {
       "bar_style": "success",
       "description": "100%",
       "layout": "IPY_MODEL_38ad745d4351410197fe6939d601df49",
       "max": 2000,
       "style": "IPY_MODEL_c4d89c21e0ab4a4280ed80ad956a7653",
       "value": 2000
      }
     },
     "8c7a221164a445369884ae6ad9ccb541": {
      "model_module": "@jupyter-widgets/controls",
      "model_module_version": "1.5.0",
      "model_name": "ProgressStyleModel",
      "state": {
       "description_width": "initial"
      }
     },
     "8d066da1387d40c6a30c8cddd04af9cd": {
      "model_module": "@jupyter-widgets/controls",
      "model_module_version": "1.5.0",
      "model_name": "FloatProgressModel",
      "state": {
       "bar_style": "success",
       "description": "100%",
       "layout": "IPY_MODEL_eec8f22d708842acb9d70a278b0e753e",
       "max": 2000,
       "style": "IPY_MODEL_a4f0aac031be4e32bd23b29275a33ef6",
       "value": 2000
      }
     },
     "8d4ec2f299ac46a7acad49f4e9daf8fe": {
      "model_module": "@jupyter-widgets/base",
      "model_module_version": "1.2.0",
      "model_name": "LayoutModel",
      "state": {}
     },
     "8dd85ea6cdad4c4e942510730ecbc85c": {
      "model_module": "@jupyter-widgets/base",
      "model_module_version": "1.2.0",
      "model_name": "LayoutModel",
      "state": {}
     },
     "8e01b702c8fd408abb968e4238118e9d": {
      "model_module": "@jupyter-widgets/controls",
      "model_module_version": "1.5.0",
      "model_name": "FloatProgressModel",
      "state": {
       "bar_style": "success",
       "description": "100%",
       "layout": "IPY_MODEL_ec4b7402fd4749ad834d265b2edc01d8",
       "max": 2000,
       "style": "IPY_MODEL_ee5ffcf7acd54c14935a2b0f37c42700",
       "value": 2000
      }
     },
     "8e80a9cc1cd14209bfc87edbf08c37f0": {
      "model_module": "@jupyter-widgets/base",
      "model_module_version": "1.2.0",
      "model_name": "LayoutModel",
      "state": {}
     },
     "8e97a74225ef4a988fc930cc7b62575b": {
      "model_module": "@jupyter-widgets/controls",
      "model_module_version": "1.5.0",
      "model_name": "ProgressStyleModel",
      "state": {
       "description_width": "initial"
      }
     },
     "8ef44f0464714351a2da2bcbddfa1108": {
      "model_module": "@jupyter-widgets/base",
      "model_module_version": "1.2.0",
      "model_name": "LayoutModel",
      "state": {}
     },
     "8f1833d8c834496b903f957889974c72": {
      "model_module": "@jupyter-widgets/base",
      "model_module_version": "1.2.0",
      "model_name": "LayoutModel",
      "state": {}
     },
     "8f245eba23e84c8d9f94a6fc333ae38d": {
      "model_module": "@jupyter-widgets/base",
      "model_module_version": "1.2.0",
      "model_name": "LayoutModel",
      "state": {}
     },
     "8f2b93b869dd4ddea8dd53197d13b2b1": {
      "model_module": "@jupyter-widgets/controls",
      "model_module_version": "1.5.0",
      "model_name": "HBoxModel",
      "state": {
       "children": [
        "IPY_MODEL_fb5cda20d4bd48a7a8c9b0ce7913b8e5",
        "IPY_MODEL_32f95bb034e64d3b8840ccb59ed431e1"
       ],
       "layout": "IPY_MODEL_11cc40dc3dff494ca7c8765e150c0aa7"
      }
     },
     "8f88c521a1084422a853c761f2588d10": {
      "model_module": "@jupyter-widgets/controls",
      "model_module_version": "1.5.0",
      "model_name": "DescriptionStyleModel",
      "state": {
       "description_width": ""
      }
     },
     "8f9fc8b24b1d4505ad8dc9b3e05410bd": {
      "model_module": "@jupyter-widgets/base",
      "model_module_version": "1.2.0",
      "model_name": "LayoutModel",
      "state": {}
     },
     "8fc3efdebefb43d7a174ce3491b5c34e": {
      "model_module": "@jupyter-widgets/controls",
      "model_module_version": "1.5.0",
      "model_name": "HBoxModel",
      "state": {
       "children": [
        "IPY_MODEL_b5101577e7fc49c0bff5d30bc9fc30e6",
        "IPY_MODEL_2094381863ac4a0e8c73513829eaf0ba"
       ],
       "layout": "IPY_MODEL_cec898ba473b441aa5828b8892da10d5"
      }
     },
     "8feb0771a4eb4c5196d5115fd6294f09": {
      "model_module": "@jupyter-widgets/base",
      "model_module_version": "1.2.0",
      "model_name": "LayoutModel",
      "state": {}
     },
     "905488c648aa4d1b82cc919488bb1bac": {
      "model_module": "@jupyter-widgets/controls",
      "model_module_version": "1.5.0",
      "model_name": "FloatProgressModel",
      "state": {
       "bar_style": "success",
       "description": "100%",
       "layout": "IPY_MODEL_690f19af66204b7b97817ce38b2ae22a",
       "max": 2000,
       "style": "IPY_MODEL_faff119fb47643a09fe4b96d8d5b4c8d",
       "value": 2000
      }
     },
     "9103442879ae4c61a9993756985cd9f3": {
      "model_module": "@jupyter-widgets/base",
      "model_module_version": "1.2.0",
      "model_name": "LayoutModel",
      "state": {}
     },
     "9127041419d34312afda97a75efda3e3": {
      "model_module": "@jupyter-widgets/base",
      "model_module_version": "1.2.0",
      "model_name": "LayoutModel",
      "state": {}
     },
     "91d8199035c84f05a8b44dff94d6ed33": {
      "model_module": "@jupyter-widgets/base",
      "model_module_version": "1.2.0",
      "model_name": "LayoutModel",
      "state": {}
     },
     "9206e0e50855453e906082d2d4131fad": {
      "model_module": "@jupyter-widgets/controls",
      "model_module_version": "1.5.0",
      "model_name": "DescriptionStyleModel",
      "state": {
       "description_width": ""
      }
     },
     "9225dd20ce964ff5bdb9f5f16342a0cd": {
      "model_module": "@jupyter-widgets/base",
      "model_module_version": "1.2.0",
      "model_name": "LayoutModel",
      "state": {}
     },
     "92e8b7ec777646eea455cd14f31fb748": {
      "model_module": "@jupyter-widgets/controls",
      "model_module_version": "1.5.0",
      "model_name": "ProgressStyleModel",
      "state": {
       "description_width": "initial"
      }
     },
     "93c0d6fcd4cf454cb531cd6e7f468b21": {
      "model_module": "@jupyter-widgets/base",
      "model_module_version": "1.2.0",
      "model_name": "LayoutModel",
      "state": {}
     },
     "93cd7cbdd6e944caa81401d3d5600125": {
      "model_module": "@jupyter-widgets/base",
      "model_module_version": "1.2.0",
      "model_name": "LayoutModel",
      "state": {}
     },
     "94689b14a4fb4139afa4498a95c383e0": {
      "model_module": "@jupyter-widgets/controls",
      "model_module_version": "1.5.0",
      "model_name": "HTMLModel",
      "state": {
       "layout": "IPY_MODEL_18ad7c69e6f64dbb9228f4f645e4ecbe",
       "style": "IPY_MODEL_4d01fcfa50724898bab26a7114201364",
       "value": " 2000/2000 [1:26:20&lt;00:00,  2.59s/ba]"
      }
     },
     "94e258e45f7b435cb98c843d18a4bd3a": {
      "model_module": "@jupyter-widgets/base",
      "model_module_version": "1.2.0",
      "model_name": "LayoutModel",
      "state": {}
     },
     "94e308bf5f2a421bb61ec14794f387dd": {
      "model_module": "@jupyter-widgets/base",
      "model_module_version": "1.2.0",
      "model_name": "LayoutModel",
      "state": {}
     },
     "94eb09453b5647c99df79b01ebb1d295": {
      "model_module": "@jupyter-widgets/controls",
      "model_module_version": "1.5.0",
      "model_name": "ProgressStyleModel",
      "state": {
       "description_width": "initial"
      }
     },
     "955393c9652d4cb4954c8d8e900334a5": {
      "model_module": "@jupyter-widgets/controls",
      "model_module_version": "1.5.0",
      "model_name": "DescriptionStyleModel",
      "state": {
       "description_width": ""
      }
     },
     "95f9300fe28144f8b27f308d1a6fb21b": {
      "model_module": "@jupyter-widgets/controls",
      "model_module_version": "1.5.0",
      "model_name": "HBoxModel",
      "state": {
       "children": [
        "IPY_MODEL_5922f444d04f4bf38d0b5cbd6e64b4c4",
        "IPY_MODEL_9963f1a1701345fcaba9696de96a749f"
       ],
       "layout": "IPY_MODEL_42878575b5514aa794a67716c3f1c4ea"
      }
     },
     "9605f1b16459430baf93f865f359a697": {
      "model_module": "@jupyter-widgets/base",
      "model_module_version": "1.2.0",
      "model_name": "LayoutModel",
      "state": {}
     },
     "9617c9c6851e4fe69cc0e29cc66bfe24": {
      "model_module": "@jupyter-widgets/base",
      "model_module_version": "1.2.0",
      "model_name": "LayoutModel",
      "state": {}
     },
     "96935a40bbdb47d4a3d3ff829d146b80": {
      "model_module": "@jupyter-widgets/base",
      "model_module_version": "1.2.0",
      "model_name": "LayoutModel",
      "state": {}
     },
     "9699dbfb96f94875a94a8741a0021ce7": {
      "model_module": "@jupyter-widgets/base",
      "model_module_version": "1.2.0",
      "model_name": "LayoutModel",
      "state": {}
     },
     "96bd11cec80d431a838fe0ead52db2f7": {
      "model_module": "@jupyter-widgets/base",
      "model_module_version": "1.2.0",
      "model_name": "LayoutModel",
      "state": {}
     },
     "96d1dd6033ff440e8bb4478dd946835e": {
      "model_module": "@jupyter-widgets/controls",
      "model_module_version": "1.5.0",
      "model_name": "FloatProgressModel",
      "state": {
       "bar_style": "success",
       "description": "100%",
       "layout": "IPY_MODEL_4ebffcb042fe49bbad7ff944a22a33a9",
       "max": 2000,
       "style": "IPY_MODEL_a8aecef968644e45a99b9037f4cc7a72",
       "value": 2000
      }
     },
     "973ff6cf5a36430a992edc4c1beba828": {
      "model_module": "@jupyter-widgets/controls",
      "model_module_version": "1.5.0",
      "model_name": "DescriptionStyleModel",
      "state": {
       "description_width": ""
      }
     },
     "9740d969319a42e38ce7679794bac0d5": {
      "model_module": "@jupyter-widgets/base",
      "model_module_version": "1.2.0",
      "model_name": "LayoutModel",
      "state": {}
     },
     "974e233b412141cca857dc534672c405": {
      "model_module": "@jupyter-widgets/controls",
      "model_module_version": "1.5.0",
      "model_name": "DescriptionStyleModel",
      "state": {
       "description_width": ""
      }
     },
     "97776005911c43e69bf8f3a778371236": {
      "model_module": "@jupyter-widgets/base",
      "model_module_version": "1.2.0",
      "model_name": "LayoutModel",
      "state": {}
     },
     "977e058e4ca14c76a558a1607b43fadb": {
      "model_module": "@jupyter-widgets/controls",
      "model_module_version": "1.5.0",
      "model_name": "HTMLModel",
      "state": {
       "layout": "IPY_MODEL_b1d1378eb0d340b681b26449db8670bd",
       "style": "IPY_MODEL_8b4ee91c83c94a5da5d6c28bedf4a48f",
       "value": " 2000/2000 [05:19&lt;00:00,  6.25ba/s]"
      }
     },
     "979693bfb1ca4387b613d60c774ca125": {
      "model_module": "@jupyter-widgets/base",
      "model_module_version": "1.2.0",
      "model_name": "LayoutModel",
      "state": {}
     },
     "97eaab7e04f049e390aa8225e9696db5": {
      "model_module": "@jupyter-widgets/base",
      "model_module_version": "1.2.0",
      "model_name": "LayoutModel",
      "state": {}
     },
     "9800533a96d0404285eaa5873858d18e": {
      "model_module": "@jupyter-widgets/controls",
      "model_module_version": "1.5.0",
      "model_name": "FloatProgressModel",
      "state": {
       "bar_style": "success",
       "description": "100%",
       "layout": "IPY_MODEL_1ae230b137fb4007951b421c1c985515",
       "max": 2000,
       "style": "IPY_MODEL_43d201a4c0e14588b4f28a6b80162350",
       "value": 2000
      }
     },
     "9815bdfe95164d23b570163431ddec9b": {
      "model_module": "@jupyter-widgets/controls",
      "model_module_version": "1.5.0",
      "model_name": "ProgressStyleModel",
      "state": {
       "description_width": "initial"
      }
     },
     "982530e940c64638b8a0688611d344fa": {
      "model_module": "@jupyter-widgets/controls",
      "model_module_version": "1.5.0",
      "model_name": "DescriptionStyleModel",
      "state": {
       "description_width": ""
      }
     },
     "98342d688fd842ffb0c32f686390e76a": {
      "model_module": "@jupyter-widgets/controls",
      "model_module_version": "1.5.0",
      "model_name": "ProgressStyleModel",
      "state": {
       "description_width": "initial"
      }
     },
     "98d2f21a8d1e4bb6b81e7dd4e769c84c": {
      "model_module": "@jupyter-widgets/controls",
      "model_module_version": "1.5.0",
      "model_name": "DescriptionStyleModel",
      "state": {
       "description_width": ""
      }
     },
     "9940bc56d4274d5f9e2e299f8704f2c8": {
      "model_module": "@jupyter-widgets/controls",
      "model_module_version": "1.5.0",
      "model_name": "FloatProgressModel",
      "state": {
       "bar_style": "success",
       "description": "100%",
       "layout": "IPY_MODEL_4d4896a2981c4862b1f359907d41acc6",
       "max": 2000,
       "style": "IPY_MODEL_a86bdd217ce0414bba0af09026adaa54",
       "value": 2000
      }
     },
     "9963f1a1701345fcaba9696de96a749f": {
      "model_module": "@jupyter-widgets/controls",
      "model_module_version": "1.5.0",
      "model_name": "HTMLModel",
      "state": {
       "layout": "IPY_MODEL_1ce1f9dcc89641c9b62cf167ff59d0d4",
       "style": "IPY_MODEL_273c9f4067f64c32aaf22323261a846d",
       "value": " 2000/2000 [15:33&lt;00:00,  2.14ba/s]"
      }
     },
     "99bf627a290946368ce4e544a94bd69d": {
      "model_module": "@jupyter-widgets/controls",
      "model_module_version": "1.5.0",
      "model_name": "ProgressStyleModel",
      "state": {
       "description_width": "initial"
      }
     },
     "99cc5d6192474a9ca735c6971ee5fc4e": {
      "model_module": "@jupyter-widgets/controls",
      "model_module_version": "1.5.0",
      "model_name": "ProgressStyleModel",
      "state": {
       "description_width": "initial"
      }
     },
     "9a31dd84f9c74b8091b72f5933946d77": {
      "model_module": "@jupyter-widgets/controls",
      "model_module_version": "1.5.0",
      "model_name": "HBoxModel",
      "state": {
       "children": [
        "IPY_MODEL_9800533a96d0404285eaa5873858d18e",
        "IPY_MODEL_d75d53ecf776470b82337249ade9b496"
       ],
       "layout": "IPY_MODEL_495ac7094aa54869b5ac03bb063da113"
      }
     },
     "9a5ee4e4aa8d4d22926ce44b05208957": {
      "model_module": "@jupyter-widgets/controls",
      "model_module_version": "1.5.0",
      "model_name": "FloatProgressModel",
      "state": {
       "bar_style": "danger",
       "description": "  0%",
       "layout": "IPY_MODEL_f67d74b0c6944321ae42f0593acd6bb9",
       "style": "IPY_MODEL_fffebdd536734827875ea9a8ed8ae403"
      }
     },
     "9a930cb91b7d4b55837ec4ebda5cbe74": {
      "model_module": "@jupyter-widgets/controls",
      "model_module_version": "1.5.0",
      "model_name": "HBoxModel",
      "state": {
       "children": [
        "IPY_MODEL_d73020a5e812430582f5ec6035f08621",
        "IPY_MODEL_b7497ac39d0041e28ffc13ec230a810b"
       ],
       "layout": "IPY_MODEL_5d5dc1fe26b64187bcf65d338ff30f6e"
      }
     },
     "9bf844b6cd5e4db396cdb5dd9fad248e": {
      "model_module": "@jupyter-widgets/controls",
      "model_module_version": "1.5.0",
      "model_name": "DescriptionStyleModel",
      "state": {
       "description_width": ""
      }
     },
     "9c9fba10269843a1928a0f49335dab61": {
      "model_module": "@jupyter-widgets/controls",
      "model_module_version": "1.5.0",
      "model_name": "ProgressStyleModel",
      "state": {
       "description_width": "initial"
      }
     },
     "9d304d5daa6f457fb9aef3edd71f7d9e": {
      "model_module": "@jupyter-widgets/base",
      "model_module_version": "1.2.0",
      "model_name": "LayoutModel",
      "state": {}
     },
     "9d8f7ca8a9d44fea9b3e19d649ae4ecd": {
      "model_module": "@jupyter-widgets/controls",
      "model_module_version": "1.5.0",
      "model_name": "DescriptionStyleModel",
      "state": {
       "description_width": ""
      }
     },
     "9dc0963f194942da95accdef39eb3eb9": {
      "model_module": "@jupyter-widgets/controls",
      "model_module_version": "1.5.0",
      "model_name": "ProgressStyleModel",
      "state": {
       "description_width": "initial"
      }
     },
     "9dc58f616f2647baa4a980691a20404f": {
      "model_module": "@jupyter-widgets/base",
      "model_module_version": "1.2.0",
      "model_name": "LayoutModel",
      "state": {}
     },
     "9df3a45c037d4d31aee63fa0ad5959c4": {
      "model_module": "@jupyter-widgets/controls",
      "model_module_version": "1.5.0",
      "model_name": "HTMLModel",
      "state": {
       "layout": "IPY_MODEL_750f560546504b38ac992359325aa400",
       "style": "IPY_MODEL_ebb6102856aa482593c69009623c6a22",
       "value": " 2000/2000 [5:58:53&lt;00:00, 10.77s/ba]"
      }
     },
     "9e5336f8d53f4e9888b87d6fbff70d31": {
      "model_module": "@jupyter-widgets/controls",
      "model_module_version": "1.5.0",
      "model_name": "HTMLModel",
      "state": {
       "layout": "IPY_MODEL_fe1c5bf94ec041b796778bb3fbf929b7",
       "style": "IPY_MODEL_fbab67bf0c624243a4f50daaa06ca18f",
       "value": " 2000/2000 [1:54:36&lt;00:00,  3.44s/ba]"
      }
     },
     "9e9d1f57a67446f6ba94554c74c7a045": {
      "model_module": "@jupyter-widgets/controls",
      "model_module_version": "1.5.0",
      "model_name": "HBoxModel",
      "state": {
       "children": [
        "IPY_MODEL_4afc10d0b096412dab1933db35085de6",
        "IPY_MODEL_d83f224f14f14007ab90aa5f8ef7195b"
       ],
       "layout": "IPY_MODEL_6ce6c7d9c65e4b91a36aaca7c900c503"
      }
     },
     "9e9d562b70a74c4d9eb64ee618d13dce": {
      "model_module": "@jupyter-widgets/controls",
      "model_module_version": "1.5.0",
      "model_name": "DescriptionStyleModel",
      "state": {
       "description_width": ""
      }
     },
     "9ebb76dd84624b95ac95936a7ba331f2": {
      "model_module": "@jupyter-widgets/controls",
      "model_module_version": "1.5.0",
      "model_name": "HTMLModel",
      "state": {
       "layout": "IPY_MODEL_bbdb5ce123bb469880aa44ca93b9e430",
       "style": "IPY_MODEL_ef1504fb13584d7b9ce320bc74bf2324",
       "value": " 2000/2000 [4:31:04&lt;00:00,  8.13s/ba]"
      }
     },
     "9f0614b0fda84ea38a97ad2384786e35": {
      "model_module": "@jupyter-widgets/controls",
      "model_module_version": "1.5.0",
      "model_name": "ProgressStyleModel",
      "state": {
       "description_width": "initial"
      }
     },
     "9f27845b2d0f493e9625ab5067720ecc": {
      "model_module": "@jupyter-widgets/base",
      "model_module_version": "1.2.0",
      "model_name": "LayoutModel",
      "state": {}
     },
     "9f592029c04c45f1b14d6738fb9223e1": {
      "model_module": "@jupyter-widgets/controls",
      "model_module_version": "1.5.0",
      "model_name": "HTMLModel",
      "state": {
       "layout": "IPY_MODEL_7fe07e34f0d14694a9df68875aa59a9f",
       "style": "IPY_MODEL_d7c0eff241bd4109a36782c43ef17081",
       "value": " 2000/2000 [1:21:17&lt;00:00,  2.44s/ba]"
      }
     },
     "a083c5e0a3b7429387a74768df4050d0": {
      "model_module": "@jupyter-widgets/base",
      "model_module_version": "1.2.0",
      "model_name": "LayoutModel",
      "state": {}
     },
     "a13fe753801f48669726229b6e30c871": {
      "model_module": "@jupyter-widgets/base",
      "model_module_version": "1.2.0",
      "model_name": "LayoutModel",
      "state": {}
     },
     "a1e31471808c4bfa99f289698e113ba8": {
      "model_module": "@jupyter-widgets/controls",
      "model_module_version": "1.5.0",
      "model_name": "ProgressStyleModel",
      "state": {
       "description_width": "initial"
      }
     },
     "a2302ef5b39f4f1fa5f096da0b42efe7": {
      "model_module": "@jupyter-widgets/base",
      "model_module_version": "1.2.0",
      "model_name": "LayoutModel",
      "state": {}
     },
     "a2c199362d844ad8b342b6a9dc5ed6f4": {
      "model_module": "@jupyter-widgets/base",
      "model_module_version": "1.2.0",
      "model_name": "LayoutModel",
      "state": {}
     },
     "a2ff6288279a405c9bd38d9b0cc2eace": {
      "model_module": "@jupyter-widgets/controls",
      "model_module_version": "1.5.0",
      "model_name": "ProgressStyleModel",
      "state": {
       "description_width": "initial"
      }
     },
     "a3e18e961563488ba64ab127066d5c5d": {
      "model_module": "@jupyter-widgets/controls",
      "model_module_version": "1.5.0",
      "model_name": "HTMLModel",
      "state": {
       "layout": "IPY_MODEL_30d37d47ee98496aaca8a6ae8102d4d7",
       "style": "IPY_MODEL_f314c527a66a4389aa23cdb1a75c81b6",
       "value": " 2000/2000 [6:10:53&lt;00:00, 11.13s/ba]"
      }
     },
     "a3ee71585de044b0b6c715795a541703": {
      "model_module": "@jupyter-widgets/controls",
      "model_module_version": "1.5.0",
      "model_name": "ProgressStyleModel",
      "state": {
       "description_width": "initial"
      }
     },
     "a421a1b77ec8486d9dcc33ec6ffdc8ed": {
      "model_module": "@jupyter-widgets/controls",
      "model_module_version": "1.5.0",
      "model_name": "ProgressStyleModel",
      "state": {
       "description_width": "initial"
      }
     },
     "a48b6436b7294728a1cb5321f86b9be6": {
      "model_module": "@jupyter-widgets/controls",
      "model_module_version": "1.5.0",
      "model_name": "HTMLModel",
      "state": {
       "layout": "IPY_MODEL_79ffed0c533844c990ee46b60a6ebbaf",
       "style": "IPY_MODEL_f2701f0ff7a6483588bbfea2a0277a93",
       "value": " 2000/2000 [2:29:45&lt;00:00,  4.49s/ba]"
      }
     },
     "a498d34ef9c846fab6b1b84991619f46": {
      "model_module": "@jupyter-widgets/controls",
      "model_module_version": "1.5.0",
      "model_name": "HBoxModel",
      "state": {
       "children": [
        "IPY_MODEL_66431a3591fc4d88804045ed48c6db28",
        "IPY_MODEL_ef5ab36515374fc2abe4a2c45b9f9ee8"
       ],
       "layout": "IPY_MODEL_e15d3a859d924ea6b422dca2bcea16f4"
      }
     },
     "a4dc17cb2b3542ea8d1041ecb974f8f3": {
      "model_module": "@jupyter-widgets/controls",
      "model_module_version": "1.5.0",
      "model_name": "HBoxModel",
      "state": {
       "children": [
        "IPY_MODEL_5b77ee1fc2f44545b13a98098fe65455",
        "IPY_MODEL_56e2ad4eabf34b82a24d787b7cd5e468"
       ],
       "layout": "IPY_MODEL_3a455e9a4e444888a5c8ef00c538c7f6"
      }
     },
     "a4f0aac031be4e32bd23b29275a33ef6": {
      "model_module": "@jupyter-widgets/controls",
      "model_module_version": "1.5.0",
      "model_name": "ProgressStyleModel",
      "state": {
       "description_width": "initial"
      }
     },
     "a535cf4adb4d4db9830c303313e4db58": {
      "model_module": "@jupyter-widgets/controls",
      "model_module_version": "1.5.0",
      "model_name": "HBoxModel",
      "state": {
       "children": [
        "IPY_MODEL_8377cf37bc3b4679a691263b9e3847d5",
        "IPY_MODEL_f53801c2082146b8aaa115d45d310e45"
       ],
       "layout": "IPY_MODEL_67613c7ec23c4926bce1f98765d8ac51"
      }
     },
     "a5c9a24d938847cca631d01fa34434e5": {
      "model_module": "@jupyter-widgets/controls",
      "model_module_version": "1.5.0",
      "model_name": "DescriptionStyleModel",
      "state": {
       "description_width": ""
      }
     },
     "a5cefb85c3ee4b3f92b59cd8ea3f00f5": {
      "model_module": "@jupyter-widgets/controls",
      "model_module_version": "1.5.0",
      "model_name": "ProgressStyleModel",
      "state": {
       "description_width": "initial"
      }
     },
     "a600e5b68a434f0ea3f16dd0e51ce631": {
      "model_module": "@jupyter-widgets/base",
      "model_module_version": "1.2.0",
      "model_name": "LayoutModel",
      "state": {}
     },
     "a69b7f6d6bec4bdfab6cbbd3c4c20f04": {
      "model_module": "@jupyter-widgets/base",
      "model_module_version": "1.2.0",
      "model_name": "LayoutModel",
      "state": {}
     },
     "a7128de638a144b7bd89510c8665734e": {
      "model_module": "@jupyter-widgets/base",
      "model_module_version": "1.2.0",
      "model_name": "LayoutModel",
      "state": {}
     },
     "a73a32087b28479a8c45a2aab0674164": {
      "model_module": "@jupyter-widgets/base",
      "model_module_version": "1.2.0",
      "model_name": "LayoutModel",
      "state": {}
     },
     "a78899bd6cf9470e8a976938bd3bff89": {
      "model_module": "@jupyter-widgets/controls",
      "model_module_version": "1.5.0",
      "model_name": "HBoxModel",
      "state": {
       "children": [
        "IPY_MODEL_905488c648aa4d1b82cc919488bb1bac",
        "IPY_MODEL_35514cf1ffe744c1be83e67ed7d1d7f5"
       ],
       "layout": "IPY_MODEL_e1aa0a0ae4af444caeffeb07f6b94c38"
      }
     },
     "a797e76c25084cbdafc9fb048e922158": {
      "model_module": "@jupyter-widgets/base",
      "model_module_version": "1.2.0",
      "model_name": "LayoutModel",
      "state": {}
     },
     "a7e6b1e723c440d6be71ba309df6b010": {
      "model_module": "@jupyter-widgets/controls",
      "model_module_version": "1.5.0",
      "model_name": "FloatProgressModel",
      "state": {
       "bar_style": "success",
       "description": "100%",
       "layout": "IPY_MODEL_43ee467f516b47118dec46232c3090b9",
       "max": 2000,
       "style": "IPY_MODEL_ef03ceb2eee34f6b95a25ca5f093a0e9",
       "value": 2000
      }
     },
     "a7f51a204466493f94e885a60312eb8c": {
      "model_module": "@jupyter-widgets/base",
      "model_module_version": "1.2.0",
      "model_name": "LayoutModel",
      "state": {}
     },
     "a8095c10aff447bca0b80e58c6013766": {
      "model_module": "@jupyter-widgets/base",
      "model_module_version": "1.2.0",
      "model_name": "LayoutModel",
      "state": {}
     },
     "a80f2a6cac1e4e9ca76198b10a46e4e3": {
      "model_module": "@jupyter-widgets/base",
      "model_module_version": "1.2.0",
      "model_name": "LayoutModel",
      "state": {}
     },
     "a86bdd217ce0414bba0af09026adaa54": {
      "model_module": "@jupyter-widgets/controls",
      "model_module_version": "1.5.0",
      "model_name": "ProgressStyleModel",
      "state": {
       "description_width": "initial"
      }
     },
     "a8aecef968644e45a99b9037f4cc7a72": {
      "model_module": "@jupyter-widgets/controls",
      "model_module_version": "1.5.0",
      "model_name": "ProgressStyleModel",
      "state": {
       "description_width": "initial"
      }
     },
     "a8af2476cf9d489aa84fe5686772b133": {
      "model_module": "@jupyter-widgets/controls",
      "model_module_version": "1.5.0",
      "model_name": "DescriptionStyleModel",
      "state": {
       "description_width": ""
      }
     },
     "a96818b92e4b47c2ba5e229ac346dc46": {
      "model_module": "@jupyter-widgets/controls",
      "model_module_version": "1.5.0",
      "model_name": "DescriptionStyleModel",
      "state": {
       "description_width": ""
      }
     },
     "a96ef39470404cdb9bcdb76d76c4ad5d": {
      "model_module": "@jupyter-widgets/base",
      "model_module_version": "1.2.0",
      "model_name": "LayoutModel",
      "state": {}
     },
     "a9913cd262fd4b129543acd622c0ec0e": {
      "model_module": "@jupyter-widgets/controls",
      "model_module_version": "1.5.0",
      "model_name": "FloatProgressModel",
      "state": {
       "bar_style": "success",
       "description": "100%",
       "layout": "IPY_MODEL_bdc32c792eeb49138416cf0970d9b135",
       "max": 2000,
       "style": "IPY_MODEL_3323c012b1c04da4889e0b6a55027a62",
       "value": 2000
      }
     },
     "a9b53e9a928e4642b45130d65a728c01": {
      "model_module": "@jupyter-widgets/controls",
      "model_module_version": "1.5.0",
      "model_name": "HTMLModel",
      "state": {
       "layout": "IPY_MODEL_97776005911c43e69bf8f3a778371236",
       "style": "IPY_MODEL_7b58df234b4d4c61807eaec4d24f41a8",
       "value": " 2000/2000 [5:24:21&lt;00:00,  9.73s/ba]"
      }
     },
     "a9d87f21d9224f9698e56386d250b7f0": {
      "model_module": "@jupyter-widgets/controls",
      "model_module_version": "1.5.0",
      "model_name": "HTMLModel",
      "state": {
       "layout": "IPY_MODEL_1109bb8cfdbb4b0fb4ed2f4f65c9f7de",
       "style": "IPY_MODEL_5053e5c5fabf4af2836ca9085adaac8d",
       "value": " 2000/2000 [00:21&lt;00:00, 91.35ba/s]"
      }
     },
     "a9d903b1fe0d4a1fad9b47aa49ba3982": {
      "model_module": "@jupyter-widgets/base",
      "model_module_version": "1.2.0",
      "model_name": "LayoutModel",
      "state": {}
     },
     "a9f447bf6f2d494d9ac7fb9378ffc546": {
      "model_module": "@jupyter-widgets/base",
      "model_module_version": "1.2.0",
      "model_name": "LayoutModel",
      "state": {}
     },
     "aa041eb5ea4d4a6593d0e2941ecb84c0": {
      "model_module": "@jupyter-widgets/controls",
      "model_module_version": "1.5.0",
      "model_name": "HTMLModel",
      "state": {
       "layout": "IPY_MODEL_b96790c77c00422f8e0d93f6b3c0d4b9",
       "style": "IPY_MODEL_72184ddea8914f80a2eacfd8531a5d99",
       "value": " 2000/2000 [1:05:22&lt;00:00,  1.96s/ba]"
      }
     },
     "aa2b5a35e59f420f89f86427b2a59e0b": {
      "model_module": "@jupyter-widgets/controls",
      "model_module_version": "1.5.0",
      "model_name": "HBoxModel",
      "state": {
       "children": [
        "IPY_MODEL_0af16e5179b9469a8af5f8cc6d5e6c74",
        "IPY_MODEL_fc2c6c03ef6649ad9f05ab4cebbc1311"
       ],
       "layout": "IPY_MODEL_6cd219d4755b4f768d2d54e2cb40ff53"
      }
     },
     "aaec8a9593894a53b8ab112d4a6db6be": {
      "model_module": "@jupyter-widgets/base",
      "model_module_version": "1.2.0",
      "model_name": "LayoutModel",
      "state": {}
     },
     "ab90d23c7619409cbe9d38fafdda3a6e": {
      "model_module": "@jupyter-widgets/base",
      "model_module_version": "1.2.0",
      "model_name": "LayoutModel",
      "state": {}
     },
     "abfe11b3baf64422841c7c74286df047": {
      "model_module": "@jupyter-widgets/controls",
      "model_module_version": "1.5.0",
      "model_name": "ProgressStyleModel",
      "state": {
       "description_width": "initial"
      }
     },
     "ac111e1be4894685bbc0ba82e10db8a8": {
      "model_module": "@jupyter-widgets/controls",
      "model_module_version": "1.5.0",
      "model_name": "HTMLModel",
      "state": {
       "layout": "IPY_MODEL_ef08bf8bb12d45f6824a7103c23cbd4d",
       "style": "IPY_MODEL_9e9d562b70a74c4d9eb64ee618d13dce",
       "value": " 2000/2000 [04:41&lt;00:00,  7.09ba/s]"
      }
     },
     "ac260e6ccd594c07a3dcb97b9ff66aa4": {
      "model_module": "@jupyter-widgets/base",
      "model_module_version": "1.2.0",
      "model_name": "LayoutModel",
      "state": {}
     },
     "ac77a3ba6c204bb485d7b2fa642dcca8": {
      "model_module": "@jupyter-widgets/controls",
      "model_module_version": "1.5.0",
      "model_name": "ProgressStyleModel",
      "state": {
       "description_width": "initial"
      }
     },
     "ac7e536d64cd48349649cf63f59737ff": {
      "model_module": "@jupyter-widgets/controls",
      "model_module_version": "1.5.0",
      "model_name": "FloatProgressModel",
      "state": {
       "bar_style": "success",
       "description": "100%",
       "layout": "IPY_MODEL_6a06218bc5f845c4bc0b7d214051e742",
       "max": 2000,
       "style": "IPY_MODEL_8721ee45c3134c1cb9d338cf578d1ffa",
       "value": 2000
      }
     },
     "ac96a1673cae41b3b84d360e39b3d657": {
      "model_module": "@jupyter-widgets/base",
      "model_module_version": "1.2.0",
      "model_name": "LayoutModel",
      "state": {}
     },
     "acb331fca76f435cbbc65e880b44d6e4": {
      "model_module": "@jupyter-widgets/controls",
      "model_module_version": "1.5.0",
      "model_name": "ProgressStyleModel",
      "state": {
       "description_width": "initial"
      }
     },
     "acf8c1dd06fd4b41955b676daddc59b4": {
      "model_module": "@jupyter-widgets/base",
      "model_module_version": "1.2.0",
      "model_name": "LayoutModel",
      "state": {}
     },
     "ad0db9086e27401ab23df1de3280619e": {
      "model_module": "@jupyter-widgets/controls",
      "model_module_version": "1.5.0",
      "model_name": "FloatProgressModel",
      "state": {
       "bar_style": "success",
       "description": "100%",
       "layout": "IPY_MODEL_064236ad375b46bc8efdfad894858184",
       "max": 2000,
       "style": "IPY_MODEL_231778e822b943cb86bb06bc0c05f2e6",
       "value": 2000
      }
     },
     "ae0f8c3b03e64e0cbea18d0a463f9c1f": {
      "model_module": "@jupyter-widgets/controls",
      "model_module_version": "1.5.0",
      "model_name": "DescriptionStyleModel",
      "state": {
       "description_width": ""
      }
     },
     "aeb82a4a937d44c09048ded17dafa4ed": {
      "model_module": "@jupyter-widgets/controls",
      "model_module_version": "1.5.0",
      "model_name": "DescriptionStyleModel",
      "state": {
       "description_width": ""
      }
     },
     "af33199ae05c4003a456f45930f26b1e": {
      "model_module": "@jupyter-widgets/controls",
      "model_module_version": "1.5.0",
      "model_name": "DescriptionStyleModel",
      "state": {
       "description_width": ""
      }
     },
     "af8e605494af454aaa03bbfaca6843ff": {
      "model_module": "@jupyter-widgets/base",
      "model_module_version": "1.2.0",
      "model_name": "LayoutModel",
      "state": {}
     },
     "b0a48c5b0db64643aa22f77aa60249b9": {
      "model_module": "@jupyter-widgets/controls",
      "model_module_version": "1.5.0",
      "model_name": "ProgressStyleModel",
      "state": {
       "description_width": "initial"
      }
     },
     "b13163295151404b8e275421593bff81": {
      "model_module": "@jupyter-widgets/controls",
      "model_module_version": "1.5.0",
      "model_name": "HTMLModel",
      "state": {
       "layout": "IPY_MODEL_42bbecd79b5f4ef68dc98305819270cd",
       "style": "IPY_MODEL_88efe1267a6c476e97240755729d6c4c",
       "value": " 2000/2000 [08:06&lt;00:00,  4.11ba/s]"
      }
     },
     "b1884af70d16466a830a6be6e2d962d5": {
      "model_module": "@jupyter-widgets/controls",
      "model_module_version": "1.5.0",
      "model_name": "FloatProgressModel",
      "state": {
       "bar_style": "success",
       "description": "100%",
       "layout": "IPY_MODEL_e3c50bc0c1824458a5928ec1faeeae59",
       "max": 2000,
       "style": "IPY_MODEL_3edff1f4875c483884fa932437b807d1",
       "value": 2000
      }
     },
     "b189f3e714ca49ffa70bf5142f19b641": {
      "model_module": "@jupyter-widgets/controls",
      "model_module_version": "1.5.0",
      "model_name": "DescriptionStyleModel",
      "state": {
       "description_width": ""
      }
     },
     "b1ae824182c043d1a76b7e4af776b510": {
      "model_module": "@jupyter-widgets/controls",
      "model_module_version": "1.5.0",
      "model_name": "HBoxModel",
      "state": {
       "children": [
        "IPY_MODEL_1efa0e225b2a4d979a320c1b73ee1ce8",
        "IPY_MODEL_8182f2455f904e77a496ed2be45c647a"
       ],
       "layout": "IPY_MODEL_51c1ec93c1674586a770180579b6e384"
      }
     },
     "b1d1378eb0d340b681b26449db8670bd": {
      "model_module": "@jupyter-widgets/base",
      "model_module_version": "1.2.0",
      "model_name": "LayoutModel",
      "state": {}
     },
     "b1d28952ca9247bfbd939cdc0a920b9a": {
      "model_module": "@jupyter-widgets/controls",
      "model_module_version": "1.5.0",
      "model_name": "ProgressStyleModel",
      "state": {
       "description_width": "initial"
      }
     },
     "b1f8b588d8904f9e80385361df3a4270": {
      "model_module": "@jupyter-widgets/controls",
      "model_module_version": "1.5.0",
      "model_name": "HTMLModel",
      "state": {
       "layout": "IPY_MODEL_9dc58f616f2647baa4a980691a20404f",
       "style": "IPY_MODEL_982530e940c64638b8a0688611d344fa",
       "value": " 2000/2000 [4:55:35&lt;00:00,  8.87s/ba]"
      }
     },
     "b26e5d43106c46c2abbd12e5ba46a773": {
      "model_module": "@jupyter-widgets/base",
      "model_module_version": "1.2.0",
      "model_name": "LayoutModel",
      "state": {}
     },
     "b283b427b84f4aac9d853b653f559a10": {
      "model_module": "@jupyter-widgets/controls",
      "model_module_version": "1.5.0",
      "model_name": "FloatProgressModel",
      "state": {
       "bar_style": "success",
       "description": "100%",
       "layout": "IPY_MODEL_a9f447bf6f2d494d9ac7fb9378ffc546",
       "max": 2000,
       "style": "IPY_MODEL_8881a7fbad464fdcac2510407d2a5358",
       "value": 2000
      }
     },
     "b28a1ad759f8419b907ad678e1b9d314": {
      "model_module": "@jupyter-widgets/base",
      "model_module_version": "1.2.0",
      "model_name": "LayoutModel",
      "state": {}
     },
     "b2c208fdb8394c43a4d43c0d7ecc22f2": {
      "model_module": "@jupyter-widgets/controls",
      "model_module_version": "1.5.0",
      "model_name": "DescriptionStyleModel",
      "state": {
       "description_width": ""
      }
     },
     "b31a478234c944199c6b0d727ab9b455": {
      "model_module": "@jupyter-widgets/base",
      "model_module_version": "1.2.0",
      "model_name": "LayoutModel",
      "state": {}
     },
     "b36b3ac5c62b4694a7d9fc9310c43099": {
      "model_module": "@jupyter-widgets/controls",
      "model_module_version": "1.5.0",
      "model_name": "HTMLModel",
      "state": {
       "layout": "IPY_MODEL_7024765acac9413cb57bb379982ce25a",
       "style": "IPY_MODEL_d72ccfdb9e6746e2b5727e5446781c4d",
       "value": " 2000/2000 [1:01:41&lt;00:00,  1.85s/ba]"
      }
     },
     "b38181ad28db4004a7c172ccbd5ae142": {
      "model_module": "@jupyter-widgets/controls",
      "model_module_version": "1.5.0",
      "model_name": "DescriptionStyleModel",
      "state": {
       "description_width": ""
      }
     },
     "b3e435959ff54d50a1ef829f0dc6ec13": {
      "model_module": "@jupyter-widgets/base",
      "model_module_version": "1.2.0",
      "model_name": "LayoutModel",
      "state": {}
     },
     "b401463d2bf848d3be88589de6c02b76": {
      "model_module": "@jupyter-widgets/controls",
      "model_module_version": "1.5.0",
      "model_name": "FloatProgressModel",
      "state": {
       "bar_style": "success",
       "description": "100%",
       "layout": "IPY_MODEL_59f3fef2d8204ddcaf976be8353f69e5",
       "max": 2000,
       "style": "IPY_MODEL_8c7a221164a445369884ae6ad9ccb541",
       "value": 2000
      }
     },
     "b41696a1b4dc43d3bebde71655db8692": {
      "model_module": "@jupyter-widgets/controls",
      "model_module_version": "1.5.0",
      "model_name": "DescriptionStyleModel",
      "state": {
       "description_width": ""
      }
     },
     "b4340ef94249438a929584ab7c5fbb84": {
      "model_module": "@jupyter-widgets/base",
      "model_module_version": "1.2.0",
      "model_name": "LayoutModel",
      "state": {}
     },
     "b48b1ef0db2d42e2b0c70c7b89de6240": {
      "model_module": "@jupyter-widgets/base",
      "model_module_version": "1.2.0",
      "model_name": "LayoutModel",
      "state": {}
     },
     "b4901317df744ef3be0d795d080229ca": {
      "model_module": "@jupyter-widgets/controls",
      "model_module_version": "1.5.0",
      "model_name": "FloatProgressModel",
      "state": {
       "description": "100%",
       "layout": "IPY_MODEL_6ecfa3481fe14130b0d5cca54d3902a2",
       "max": 2000,
       "style": "IPY_MODEL_f8b39e9ab5c34896814513e2d0460d36",
       "value": 2000
      }
     },
     "b5101577e7fc49c0bff5d30bc9fc30e6": {
      "model_module": "@jupyter-widgets/controls",
      "model_module_version": "1.5.0",
      "model_name": "FloatProgressModel",
      "state": {
       "bar_style": "success",
       "description": "100%",
       "layout": "IPY_MODEL_05db082e58b646cab360794b262b2878",
       "max": 2000,
       "style": "IPY_MODEL_f3826c0365044fb3b11078a80cff8419",
       "value": 2000
      }
     },
     "b53dccf266174611a822ad33ba778b8c": {
      "model_module": "@jupyter-widgets/controls",
      "model_module_version": "1.5.0",
      "model_name": "HBoxModel",
      "state": {
       "children": [
        "IPY_MODEL_893c67914afd493aa306518790572682",
        "IPY_MODEL_2aa11a2388df437a937b43a62d27c717"
       ],
       "layout": "IPY_MODEL_82e17883944045ada57bb88b4e44d946"
      }
     },
     "b55b57b681c9421ea3fcd86501819933": {
      "model_module": "@jupyter-widgets/controls",
      "model_module_version": "1.5.0",
      "model_name": "FloatProgressModel",
      "state": {
       "bar_style": "success",
       "description": "100%",
       "layout": "IPY_MODEL_a797e76c25084cbdafc9fb048e922158",
       "max": 2000,
       "style": "IPY_MODEL_679e5e28145142cf8ea3d2f8d5462ef1",
       "value": 2000
      }
     },
     "b57f3fa2f1c04e4a908389077a67efbb": {
      "model_module": "@jupyter-widgets/base",
      "model_module_version": "1.2.0",
      "model_name": "LayoutModel",
      "state": {}
     },
     "b5a485274f644a18921bd98335dfc985": {
      "model_module": "@jupyter-widgets/base",
      "model_module_version": "1.2.0",
      "model_name": "LayoutModel",
      "state": {}
     },
     "b5ae918b5fdc43df88710558ee14b55c": {
      "model_module": "@jupyter-widgets/base",
      "model_module_version": "1.2.0",
      "model_name": "LayoutModel",
      "state": {}
     },
     "b60c3ef7915e4f298532ee4721dc82df": {
      "model_module": "@jupyter-widgets/controls",
      "model_module_version": "1.5.0",
      "model_name": "HBoxModel",
      "state": {
       "children": [
        "IPY_MODEL_c7121e8a129a432f9dcead3cebcfcdb1",
        "IPY_MODEL_82dd0ec019364289b3350210439f82d5"
       ],
       "layout": "IPY_MODEL_2cfa8ce33fdd40f084ebac5d6c809013"
      }
     },
     "b628605627ea4e1d90beb754cb5ee0e1": {
      "model_module": "@jupyter-widgets/controls",
      "model_module_version": "1.5.0",
      "model_name": "HBoxModel",
      "state": {
       "children": [
        "IPY_MODEL_a9913cd262fd4b129543acd622c0ec0e",
        "IPY_MODEL_bdd2f65533804164b67580afee65e7b0"
       ],
       "layout": "IPY_MODEL_275716da4da242208e2ec1795fd3e618"
      }
     },
     "b64489008b6746598fcf65c9f1d60aba": {
      "model_module": "@jupyter-widgets/controls",
      "model_module_version": "1.5.0",
      "model_name": "FloatProgressModel",
      "state": {
       "bar_style": "success",
       "description": "100%",
       "layout": "IPY_MODEL_9103442879ae4c61a9993756985cd9f3",
       "max": 2000,
       "style": "IPY_MODEL_013c9a94e64442fa85cd894c0e2d75dc",
       "value": 2000
      }
     },
     "b67d9542fd9d460196bc8b767d70c717": {
      "model_module": "@jupyter-widgets/controls",
      "model_module_version": "1.5.0",
      "model_name": "FloatProgressModel",
      "state": {
       "bar_style": "success",
       "description": "100%",
       "layout": "IPY_MODEL_1f8f7dcf593b4e7aad603a8b55c9d75e",
       "max": 2000,
       "style": "IPY_MODEL_a3ee71585de044b0b6c715795a541703",
       "value": 2000
      }
     },
     "b6921dfcd2a3404c8eb2c4c617baed11": {
      "model_module": "@jupyter-widgets/controls",
      "model_module_version": "1.5.0",
      "model_name": "ProgressStyleModel",
      "state": {
       "description_width": "initial"
      }
     },
     "b6a171e71d9e4acebd5e87672f685a51": {
      "model_module": "@jupyter-widgets/controls",
      "model_module_version": "1.5.0",
      "model_name": "DescriptionStyleModel",
      "state": {
       "description_width": ""
      }
     },
     "b6e48e20cbb5459b86c5e9c18336e94f": {
      "model_module": "@jupyter-widgets/controls",
      "model_module_version": "1.5.0",
      "model_name": "HTMLModel",
      "state": {
       "layout": "IPY_MODEL_9d304d5daa6f457fb9aef3edd71f7d9e",
       "style": "IPY_MODEL_cf18791f4bba4f2083f27b144594736a",
       "value": " 2000/2000 [06:37&lt;00:00,  5.04ba/s]"
      }
     },
     "b7497ac39d0041e28ffc13ec230a810b": {
      "model_module": "@jupyter-widgets/controls",
      "model_module_version": "1.5.0",
      "model_name": "HTMLModel",
      "state": {
       "layout": "IPY_MODEL_ff00e1a0137b42e7889a2d8e060086d8",
       "style": "IPY_MODEL_dd0f417eeca641c59ac31cfa9211826b",
       "value": " 2000/2000 [2:58:54&lt;00:00,  5.37s/ba]"
      }
     },
     "b7644ed1d2c24e5db2d1ec2943d97e45": {
      "model_module": "@jupyter-widgets/controls",
      "model_module_version": "1.5.0",
      "model_name": "HBoxModel",
      "state": {
       "children": [
        "IPY_MODEL_9a5ee4e4aa8d4d22926ce44b05208957",
        "IPY_MODEL_b7c6d51c78fe4153ab61f0282d7d8997"
       ],
       "layout": "IPY_MODEL_e00b10d5d2a94f1f9725afb781669505"
      }
     },
     "b7a61bd2e5fd484d884bef0848f1739f": {
      "model_module": "@jupyter-widgets/controls",
      "model_module_version": "1.5.0",
      "model_name": "ProgressStyleModel",
      "state": {
       "description_width": "initial"
      }
     },
     "b7c6d51c78fe4153ab61f0282d7d8997": {
      "model_module": "@jupyter-widgets/controls",
      "model_module_version": "1.5.0",
      "model_name": "HTMLModel",
      "state": {
       "layout": "IPY_MODEL_0ffb59f875a94bc394a3bdf43f131ac2",
       "style": "IPY_MODEL_b38181ad28db4004a7c172ccbd5ae142",
       "value": " 0/100 [05:07&lt;?, ?it/s]"
      }
     },
     "b7e5b934e63d49678ee16f0de0cd902c": {
      "model_module": "@jupyter-widgets/base",
      "model_module_version": "1.2.0",
      "model_name": "LayoutModel",
      "state": {}
     },
     "b852a5615d0b4cb1af23af2591291e38": {
      "model_module": "@jupyter-widgets/base",
      "model_module_version": "1.2.0",
      "model_name": "LayoutModel",
      "state": {}
     },
     "b87db644e45b4f6f9943b7d1abed194b": {
      "model_module": "@jupyter-widgets/controls",
      "model_module_version": "1.5.0",
      "model_name": "HTMLModel",
      "state": {
       "layout": "IPY_MODEL_4627d54e63ce4a69aec724c720580d14",
       "style": "IPY_MODEL_0e15c6da315045e98ffca8e81c88e829",
       "value": " 2000/2000 [41:26&lt;00:00,  1.24s/ba]"
      }
     },
     "b90d4934b993489e94556a252c761ab3": {
      "model_module": "@jupyter-widgets/controls",
      "model_module_version": "1.5.0",
      "model_name": "HTMLModel",
      "state": {
       "layout": "IPY_MODEL_7ebc9e893df64029a30f30116a98f10c",
       "style": "IPY_MODEL_b2c208fdb8394c43a4d43c0d7ecc22f2",
       "value": " 0/100 [00:32&lt;?, ?it/s]"
      }
     },
     "b945f96c967d499aafa77406a915b004": {
      "model_module": "@jupyter-widgets/controls",
      "model_module_version": "1.5.0",
      "model_name": "ProgressStyleModel",
      "state": {
       "description_width": "initial"
      }
     },
     "b9568bc530214ff7a2583a3063ba5001": {
      "model_module": "@jupyter-widgets/controls",
      "model_module_version": "1.5.0",
      "model_name": "FloatProgressModel",
      "state": {
       "bar_style": "success",
       "description": "100%",
       "layout": "IPY_MODEL_bb1e5bc0cd2b4991b033445647ec1a1b",
       "max": 2000,
       "style": "IPY_MODEL_54533be27ffd4a4b969c0d9a7cb8bab0",
       "value": 2000
      }
     },
     "b96790c77c00422f8e0d93f6b3c0d4b9": {
      "model_module": "@jupyter-widgets/base",
      "model_module_version": "1.2.0",
      "model_name": "LayoutModel",
      "state": {}
     },
     "b9870293749a4bae990b89a1676997da": {
      "model_module": "@jupyter-widgets/controls",
      "model_module_version": "1.5.0",
      "model_name": "ProgressStyleModel",
      "state": {
       "description_width": "initial"
      }
     },
     "b9909f5ffc5d496887771482176352cb": {
      "model_module": "@jupyter-widgets/controls",
      "model_module_version": "1.5.0",
      "model_name": "FloatProgressModel",
      "state": {
       "bar_style": "success",
       "description": "100%",
       "layout": "IPY_MODEL_e2eb9e0f4dfd441092b5aec24b459cbd",
       "max": 2000,
       "style": "IPY_MODEL_4be15016ebc2465fa322d0d705f9afa6",
       "value": 2000
      }
     },
     "b9e030b9a2194e439f883fd72cf0ae76": {
      "model_module": "@jupyter-widgets/controls",
      "model_module_version": "1.5.0",
      "model_name": "DescriptionStyleModel",
      "state": {
       "description_width": ""
      }
     },
     "b9eca41cd25a43cda0add047a0379f0c": {
      "model_module": "@jupyter-widgets/base",
      "model_module_version": "1.2.0",
      "model_name": "LayoutModel",
      "state": {}
     },
     "ba26fe6723244f47815124202d28a25f": {
      "model_module": "@jupyter-widgets/base",
      "model_module_version": "1.2.0",
      "model_name": "LayoutModel",
      "state": {}
     },
     "ba45f84634a94552ad4ad53d758ae285": {
      "model_module": "@jupyter-widgets/base",
      "model_module_version": "1.2.0",
      "model_name": "LayoutModel",
      "state": {}
     },
     "bac762f056cf4172848bc046e653e04b": {
      "model_module": "@jupyter-widgets/base",
      "model_module_version": "1.2.0",
      "model_name": "LayoutModel",
      "state": {}
     },
     "bad5aa884ede4fdea6bbf22ec340d125": {
      "model_module": "@jupyter-widgets/base",
      "model_module_version": "1.2.0",
      "model_name": "LayoutModel",
      "state": {}
     },
     "baf8bd55f6ba4501a0dcfd457cfd797e": {
      "model_module": "@jupyter-widgets/controls",
      "model_module_version": "1.5.0",
      "model_name": "HTMLModel",
      "state": {
       "layout": "IPY_MODEL_a083c5e0a3b7429387a74768df4050d0",
       "style": "IPY_MODEL_158abe2231ff48989fb39d555ad1212b",
       "value": " 2000/2000 [56:34&lt;00:00,  1.70s/ba]"
      }
     },
     "bb1e5bc0cd2b4991b033445647ec1a1b": {
      "model_module": "@jupyter-widgets/base",
      "model_module_version": "1.2.0",
      "model_name": "LayoutModel",
      "state": {}
     },
     "bb3a1ac580294508a0bd95dcd331c32e": {
      "model_module": "@jupyter-widgets/base",
      "model_module_version": "1.2.0",
      "model_name": "LayoutModel",
      "state": {}
     },
     "bb8536b771cf4a6eaa0f8971906b4845": {
      "model_module": "@jupyter-widgets/base",
      "model_module_version": "1.2.0",
      "model_name": "LayoutModel",
      "state": {}
     },
     "bb8ac2cd097f48dabed14185cc3208b2": {
      "model_module": "@jupyter-widgets/controls",
      "model_module_version": "1.5.0",
      "model_name": "HBoxModel",
      "state": {
       "children": [
        "IPY_MODEL_ac7e536d64cd48349649cf63f59737ff",
        "IPY_MODEL_eab9ce45df994f16ab2baf757be8aedc"
       ],
       "layout": "IPY_MODEL_fcbb3eb104954460831d1999af827099"
      }
     },
     "bbdb5ce123bb469880aa44ca93b9e430": {
      "model_module": "@jupyter-widgets/base",
      "model_module_version": "1.2.0",
      "model_name": "LayoutModel",
      "state": {}
     },
     "bc0a5f44f9044f4ba7021fe907d22c49": {
      "model_module": "@jupyter-widgets/base",
      "model_module_version": "1.2.0",
      "model_name": "LayoutModel",
      "state": {}
     },
     "bc5521decb2c40bf913f1eab7a0f6e9a": {
      "model_module": "@jupyter-widgets/controls",
      "model_module_version": "1.5.0",
      "model_name": "HTMLModel",
      "state": {
       "layout": "IPY_MODEL_6bf3a092e260432fa37a09f2868d0d56",
       "style": "IPY_MODEL_b189f3e714ca49ffa70bf5142f19b641",
       "value": " 2000/2000 [12:29&lt;00:00,  2.67ba/s]"
      }
     },
     "bc6ecd16147846efb731f7809f8ddab2": {
      "model_module": "@jupyter-widgets/base",
      "model_module_version": "1.2.0",
      "model_name": "LayoutModel",
      "state": {}
     },
     "bce5e020fa5e44c7a98e64fc951b0eeb": {
      "model_module": "@jupyter-widgets/controls",
      "model_module_version": "1.5.0",
      "model_name": "HBoxModel",
      "state": {
       "children": [
        "IPY_MODEL_ff488339927f4c0ba4ac8e35103387e0",
        "IPY_MODEL_baf8bd55f6ba4501a0dcfd457cfd797e"
       ],
       "layout": "IPY_MODEL_4a9f305c950f485b8a340f8b164a105c"
      }
     },
     "bd390595c0314225bbb4ee620df8a33d": {
      "model_module": "@jupyter-widgets/controls",
      "model_module_version": "1.5.0",
      "model_name": "ProgressStyleModel",
      "state": {
       "description_width": "initial"
      }
     },
     "bd9acafbbad249f19d491b0c80b97816": {
      "model_module": "@jupyter-widgets/base",
      "model_module_version": "1.2.0",
      "model_name": "LayoutModel",
      "state": {}
     },
     "bda1abd51f3a475283d912e4ea171f14": {
      "model_module": "@jupyter-widgets/controls",
      "model_module_version": "1.5.0",
      "model_name": "ProgressStyleModel",
      "state": {
       "description_width": "initial"
      }
     },
     "bdb30435724843cabc9a78c602f3e3aa": {
      "model_module": "@jupyter-widgets/base",
      "model_module_version": "1.2.0",
      "model_name": "LayoutModel",
      "state": {}
     },
     "bdbb134a407b49baa41506d73320cfd0": {
      "model_module": "@jupyter-widgets/controls",
      "model_module_version": "1.5.0",
      "model_name": "HTMLModel",
      "state": {
       "layout": "IPY_MODEL_180ab0acdb5e4d63a7da277b84ff750b",
       "style": "IPY_MODEL_ae0f8c3b03e64e0cbea18d0a463f9c1f",
       "value": " 2000/2000 [05:18&lt;00:00,  6.28ba/s]"
      }
     },
     "bdc32c792eeb49138416cf0970d9b135": {
      "model_module": "@jupyter-widgets/base",
      "model_module_version": "1.2.0",
      "model_name": "LayoutModel",
      "state": {}
     },
     "bdd2ca3ebc524ee2b5840aee3490a2c3": {
      "model_module": "@jupyter-widgets/controls",
      "model_module_version": "1.5.0",
      "model_name": "HBoxModel",
      "state": {
       "children": [
        "IPY_MODEL_147099953e6b4de1abf4e8495be35964",
        "IPY_MODEL_40ddbf07d8ac4af0a34b26a9fc4b5a7a"
       ],
       "layout": "IPY_MODEL_ba45f84634a94552ad4ad53d758ae285"
      }
     },
     "bdd2f65533804164b67580afee65e7b0": {
      "model_module": "@jupyter-widgets/controls",
      "model_module_version": "1.5.0",
      "model_name": "HTMLModel",
      "state": {
       "layout": "IPY_MODEL_895e75b4bc78481db3c25bbf67c332be",
       "style": "IPY_MODEL_3a498179ba3a423e98e1a20a0c17ae4c",
       "value": " 2000/2000 [04:18&lt;00:00,  7.72ba/s]"
      }
     },
     "bdda74ddc21e4a4da3ecafc2b9fdb7fc": {
      "model_module": "@jupyter-widgets/controls",
      "model_module_version": "1.5.0",
      "model_name": "ProgressStyleModel",
      "state": {
       "description_width": "initial"
      }
     },
     "bdec8874e40f4c94a4b6a2b3814df7b9": {
      "model_module": "@jupyter-widgets/controls",
      "model_module_version": "1.5.0",
      "model_name": "FloatProgressModel",
      "state": {
       "bar_style": "success",
       "description": "100%",
       "layout": "IPY_MODEL_b3e435959ff54d50a1ef829f0dc6ec13",
       "max": 2000,
       "style": "IPY_MODEL_5081a7c33cce46e3aa5ecc488549dd9b",
       "value": 2000
      }
     },
     "bdf18609e2004a5c96377fc1b902b986": {
      "model_module": "@jupyter-widgets/controls",
      "model_module_version": "1.5.0",
      "model_name": "ProgressStyleModel",
      "state": {
       "description_width": "initial"
      }
     },
     "be2de3eb90f94331a3d946a3ead12b20": {
      "model_module": "@jupyter-widgets/base",
      "model_module_version": "1.2.0",
      "model_name": "LayoutModel",
      "state": {}
     },
     "be5c4e62f96044e48590f5b9ff36ee63": {
      "model_module": "@jupyter-widgets/base",
      "model_module_version": "1.2.0",
      "model_name": "LayoutModel",
      "state": {}
     },
     "bef0c5187c354045a5c1707275a8152b": {
      "model_module": "@jupyter-widgets/base",
      "model_module_version": "1.2.0",
      "model_name": "LayoutModel",
      "state": {}
     },
     "bf7534084607424296dba8ea7751862a": {
      "model_module": "@jupyter-widgets/base",
      "model_module_version": "1.2.0",
      "model_name": "LayoutModel",
      "state": {}
     },
     "bfaa37fa708d432a9e2b3eb761000dec": {
      "model_module": "@jupyter-widgets/base",
      "model_module_version": "1.2.0",
      "model_name": "LayoutModel",
      "state": {}
     },
     "c0103cc073f14946a25c378c3c076429": {
      "model_module": "@jupyter-widgets/controls",
      "model_module_version": "1.5.0",
      "model_name": "HBoxModel",
      "state": {
       "children": [
        "IPY_MODEL_6c7341b2f37442d9aa2cbd350fa5603c",
        "IPY_MODEL_78e0d2bce4b34bb8bb06fa73663af53e"
       ],
       "layout": "IPY_MODEL_e2a3bb0652744a4c94ea21e243d14f62"
      }
     },
     "c03778610634489ca40e2f43258b9b7a": {
      "model_module": "@jupyter-widgets/controls",
      "model_module_version": "1.5.0",
      "model_name": "HBoxModel",
      "state": {
       "children": [
        "IPY_MODEL_628ff3ef18cf4ea899d8c6aed5ad614c",
        "IPY_MODEL_b6e48e20cbb5459b86c5e9c18336e94f"
       ],
       "layout": "IPY_MODEL_6b5cabf29e584334a646483e7c11f2e5"
      }
     },
     "c04c757ed33e4e068abc82d2bf292179": {
      "model_module": "@jupyter-widgets/base",
      "model_module_version": "1.2.0",
      "model_name": "LayoutModel",
      "state": {}
     },
     "c0756af148c2445e9236fcbd69be6a3b": {
      "model_module": "@jupyter-widgets/base",
      "model_module_version": "1.2.0",
      "model_name": "LayoutModel",
      "state": {}
     },
     "c09e989df9dd42f1a3a027ea28f9abf0": {
      "model_module": "@jupyter-widgets/controls",
      "model_module_version": "1.5.0",
      "model_name": "ProgressStyleModel",
      "state": {
       "description_width": "initial"
      }
     },
     "c13e6354dc5b4690ae4cba0bc9d25fd2": {
      "model_module": "@jupyter-widgets/controls",
      "model_module_version": "1.5.0",
      "model_name": "FloatProgressModel",
      "state": {
       "bar_style": "success",
       "description": "100%",
       "layout": "IPY_MODEL_225086ae4e68464887d53eb45177b483",
       "max": 2000,
       "style": "IPY_MODEL_6ce46a5073874663956a6cd4e742f066",
       "value": 2000
      }
     },
     "c14481f10fd142deba3ebed11063b42f": {
      "model_module": "@jupyter-widgets/controls",
      "model_module_version": "1.5.0",
      "model_name": "HTMLModel",
      "state": {
       "layout": "IPY_MODEL_f9cde2e4cc9f48dfbbe466b318be5895",
       "style": "IPY_MODEL_36829a8e5ccf489387c9041d27aa6873",
       "value": " 2000/2000 [08:09&lt;00:00,  4.09ba/s]"
      }
     },
     "c1742e56e9a74f5f8adfae87c3475755": {
      "model_module": "@jupyter-widgets/base",
      "model_module_version": "1.2.0",
      "model_name": "LayoutModel",
      "state": {}
     },
     "c1987d1f026b46f0af046150d6a9d4ea": {
      "model_module": "@jupyter-widgets/controls",
      "model_module_version": "1.5.0",
      "model_name": "FloatProgressModel",
      "state": {
       "bar_style": "success",
       "description": "100%",
       "layout": "IPY_MODEL_18be14264b044d5e932954f8a79307f6",
       "max": 2000,
       "style": "IPY_MODEL_a2ff6288279a405c9bd38d9b0cc2eace",
       "value": 2000
      }
     },
     "c1ca17dd607a4772ad96d1c1f589c5d2": {
      "model_module": "@jupyter-widgets/base",
      "model_module_version": "1.2.0",
      "model_name": "LayoutModel",
      "state": {}
     },
     "c1fc822373794b798c1a532783bf5a8b": {
      "model_module": "@jupyter-widgets/base",
      "model_module_version": "1.2.0",
      "model_name": "LayoutModel",
      "state": {}
     },
     "c29a74c643d94d908b7b9c6d072dbfde": {
      "model_module": "@jupyter-widgets/controls",
      "model_module_version": "1.5.0",
      "model_name": "DescriptionStyleModel",
      "state": {
       "description_width": ""
      }
     },
     "c3024ab466264037bad890b8bb251824": {
      "model_module": "@jupyter-widgets/controls",
      "model_module_version": "1.5.0",
      "model_name": "HBoxModel",
      "state": {
       "children": [
        "IPY_MODEL_708b2106cb4e4d5aa25bbf3ecda63ede",
        "IPY_MODEL_0ea79b64b022456c86589cb1b6a847e9"
       ],
       "layout": "IPY_MODEL_aaec8a9593894a53b8ab112d4a6db6be"
      }
     },
     "c31f18fb969e441180cba7b5bf69d3e2": {
      "model_module": "@jupyter-widgets/controls",
      "model_module_version": "1.5.0",
      "model_name": "HTMLModel",
      "state": {
       "layout": "IPY_MODEL_1d680a781be948c3af2e12b9922ff673",
       "style": "IPY_MODEL_15f7ca5a447c4adfb30095a13310841c",
       "value": " 2000/2000 [04:24&lt;00:00,  7.57ba/s]"
      }
     },
     "c3e9f78ea8d9440884ec6d902bba19d4": {
      "model_module": "@jupyter-widgets/controls",
      "model_module_version": "1.5.0",
      "model_name": "HBoxModel",
      "state": {
       "children": [
        "IPY_MODEL_ca24180c2c0f4ebd96ff240232567576",
        "IPY_MODEL_bc5521decb2c40bf913f1eab7a0f6e9a"
       ],
       "layout": "IPY_MODEL_4259f6e14d1f46dc8426225e349cdcdf"
      }
     },
     "c3f59f2f7a844e7eb83b613c1a0ae392": {
      "model_module": "@jupyter-widgets/base",
      "model_module_version": "1.2.0",
      "model_name": "LayoutModel",
      "state": {}
     },
     "c3fd33d550a7439fa9b3d58e0a942805": {
      "model_module": "@jupyter-widgets/controls",
      "model_module_version": "1.5.0",
      "model_name": "HTMLModel",
      "state": {
       "layout": "IPY_MODEL_eeb28d3a30224b17b7250b1b0e4b5ce3",
       "style": "IPY_MODEL_0e537a084c1c48aba429208cd6ef8957",
       "value": " 2000/2000 [31:57&lt;00:00,  1.04ba/s]"
      }
     },
     "c4cfde02e0c8441f8b04b15f329f3575": {
      "model_module": "@jupyter-widgets/controls",
      "model_module_version": "1.5.0",
      "model_name": "ProgressStyleModel",
      "state": {
       "description_width": "initial"
      }
     },
     "c4d89c21e0ab4a4280ed80ad956a7653": {
      "model_module": "@jupyter-widgets/controls",
      "model_module_version": "1.5.0",
      "model_name": "ProgressStyleModel",
      "state": {
       "description_width": "initial"
      }
     },
     "c6008ce04ab941168fd9d1425dff2520": {
      "model_module": "@jupyter-widgets/controls",
      "model_module_version": "1.5.0",
      "model_name": "HBoxModel",
      "state": {
       "children": [
        "IPY_MODEL_193713939e4b4efe93c36266efaee4cd",
        "IPY_MODEL_15fd65efebe64f12b06451418c9563c2"
       ],
       "layout": "IPY_MODEL_edf9466ac2244e099f72a7c03965c27e"
      }
     },
     "c63419e0202545a5854cdc6b5b57ac4a": {
      "model_module": "@jupyter-widgets/controls",
      "model_module_version": "1.5.0",
      "model_name": "DescriptionStyleModel",
      "state": {
       "description_width": ""
      }
     },
     "c6437758db0c4b8997bc00d485add3b6": {
      "model_module": "@jupyter-widgets/controls",
      "model_module_version": "1.5.0",
      "model_name": "DescriptionStyleModel",
      "state": {
       "description_width": ""
      }
     },
     "c6687aaec8604d20a3f1352678f1e7ba": {
      "model_module": "@jupyter-widgets/controls",
      "model_module_version": "1.5.0",
      "model_name": "ProgressStyleModel",
      "state": {
       "description_width": "initial"
      }
     },
     "c697667fa95b42758f88dcae8ceea862": {
      "model_module": "@jupyter-widgets/base",
      "model_module_version": "1.2.0",
      "model_name": "LayoutModel",
      "state": {}
     },
     "c6ef374b05eb4343bddb24a6299102ca": {
      "model_module": "@jupyter-widgets/base",
      "model_module_version": "1.2.0",
      "model_name": "LayoutModel",
      "state": {}
     },
     "c7121e8a129a432f9dcead3cebcfcdb1": {
      "model_module": "@jupyter-widgets/controls",
      "model_module_version": "1.5.0",
      "model_name": "FloatProgressModel",
      "state": {
       "bar_style": "success",
       "description": "100%",
       "layout": "IPY_MODEL_10f616badfcf4690bf5cf35ab2fec555",
       "style": "IPY_MODEL_faabf4274e6340f7bc19788631ab0cc6",
       "value": 100
      }
     },
     "c77166f0c88b42e9b6c00888d408a1f7": {
      "model_module": "@jupyter-widgets/base",
      "model_module_version": "1.2.0",
      "model_name": "LayoutModel",
      "state": {}
     },
     "c7aa7803280147438b34a80b0d696eb5": {
      "model_module": "@jupyter-widgets/controls",
      "model_module_version": "1.5.0",
      "model_name": "HBoxModel",
      "state": {
       "children": [
        "IPY_MODEL_1f6fb553337d423698b1f40fd057d6c6",
        "IPY_MODEL_b36b3ac5c62b4694a7d9fc9310c43099"
       ],
       "layout": "IPY_MODEL_a8095c10aff447bca0b80e58c6013766"
      }
     },
     "c7fce3f7c1784012bf0fe048fbc904dd": {
      "model_module": "@jupyter-widgets/controls",
      "model_module_version": "1.5.0",
      "model_name": "FloatProgressModel",
      "state": {
       "bar_style": "success",
       "description": "100%",
       "layout": "IPY_MODEL_40a1d6bf27964469ba30f484e265dcae",
       "max": 2000,
       "style": "IPY_MODEL_4f364642d5e64aef88bd9a23d0e1cd45",
       "value": 2000
      }
     },
     "c800a52ca9954f40a17f01abe2771d7a": {
      "model_module": "@jupyter-widgets/controls",
      "model_module_version": "1.5.0",
      "model_name": "FloatProgressModel",
      "state": {
       "bar_style": "success",
       "description": "100%",
       "layout": "IPY_MODEL_6061a433c0e64f9fb283ba8b8d11c3f8",
       "max": 2000,
       "style": "IPY_MODEL_42424cc4104e4d1c905ba3eb357b5946",
       "value": 2000
      }
     },
     "c80428604b6a4201b17a08c166e20102": {
      "model_module": "@jupyter-widgets/base",
      "model_module_version": "1.2.0",
      "model_name": "LayoutModel",
      "state": {}
     },
     "c82dc47d1e18404495beaa8f36826b8b": {
      "model_module": "@jupyter-widgets/controls",
      "model_module_version": "1.5.0",
      "model_name": "DescriptionStyleModel",
      "state": {
       "description_width": ""
      }
     },
     "c870c8325275493887027ab6a5bb716d": {
      "model_module": "@jupyter-widgets/controls",
      "model_module_version": "1.5.0",
      "model_name": "FloatProgressModel",
      "state": {
       "bar_style": "success",
       "description": "100%",
       "layout": "IPY_MODEL_71abc88318c64c10be77ccd0f144cb19",
       "max": 2000,
       "style": "IPY_MODEL_5d3887127a7e4d069103ec3a9f7dad94",
       "value": 2000
      }
     },
     "c87236439ea746cc904c9bbbd59061b2": {
      "model_module": "@jupyter-widgets/controls",
      "model_module_version": "1.5.0",
      "model_name": "HBoxModel",
      "state": {
       "children": [
        "IPY_MODEL_1f08e6236efb46fd98f81212b1071fbd",
        "IPY_MODEL_a9b53e9a928e4642b45130d65a728c01"
       ],
       "layout": "IPY_MODEL_1dcc2d5171e6438c8bb438874f96a75f"
      }
     },
     "c8a9bd00de744384ba35fa66e04d21bc": {
      "model_module": "@jupyter-widgets/controls",
      "model_module_version": "1.5.0",
      "model_name": "HTMLModel",
      "state": {
       "layout": "IPY_MODEL_4bba256903ac4051a57aadae9d8c0cab",
       "style": "IPY_MODEL_81a46d650b44460fa80cf4b00696670f",
       "value": " 2000/2000 [09:16&lt;00:00,  3.60ba/s]"
      }
     },
     "c8cc7301ff23496da34664e1b1c593ee": {
      "model_module": "@jupyter-widgets/controls",
      "model_module_version": "1.5.0",
      "model_name": "DescriptionStyleModel",
      "state": {
       "description_width": ""
      }
     },
     "c8fa81100c0d4caea0006ef90c500d8a": {
      "model_module": "@jupyter-widgets/controls",
      "model_module_version": "1.5.0",
      "model_name": "FloatProgressModel",
      "state": {
       "bar_style": "success",
       "description": "100%",
       "layout": "IPY_MODEL_9617c9c6851e4fe69cc0e29cc66bfe24",
       "max": 2000,
       "style": "IPY_MODEL_d2a07a60f1a74fa58876a31f925c62e8",
       "value": 2000
      }
     },
     "c93f225183c948f9a887248cd804a8d2": {
      "model_module": "@jupyter-widgets/controls",
      "model_module_version": "1.5.0",
      "model_name": "HBoxModel",
      "state": {
       "children": [
        "IPY_MODEL_e936d144c5bc4a5d93ffb9b14c42edd3",
        "IPY_MODEL_8a34fa704c8c46d38342a75dbe53ef56"
       ],
       "layout": "IPY_MODEL_620ff1aaca634b9b81f8fd309b19e03b"
      }
     },
     "ca11691a8e284ee6a9c6822712895896": {
      "model_module": "@jupyter-widgets/base",
      "model_module_version": "1.2.0",
      "model_name": "LayoutModel",
      "state": {}
     },
     "ca24180c2c0f4ebd96ff240232567576": {
      "model_module": "@jupyter-widgets/controls",
      "model_module_version": "1.5.0",
      "model_name": "FloatProgressModel",
      "state": {
       "bar_style": "success",
       "description": "100%",
       "layout": "IPY_MODEL_13e217af6baa4f7798d16f9ab40cbf64",
       "max": 2000,
       "style": "IPY_MODEL_c09e989df9dd42f1a3a027ea28f9abf0",
       "value": 2000
      }
     },
     "ca54ea6df91d4a24a39c7ed7d73cb9cb": {
      "model_module": "@jupyter-widgets/controls",
      "model_module_version": "1.5.0",
      "model_name": "HTMLModel",
      "state": {
       "layout": "IPY_MODEL_a69b7f6d6bec4bdfab6cbbd3c4c20f04",
       "style": "IPY_MODEL_04ff246fd97f43a6bc781e8a0a192ec7",
       "value": " 2000/2000 [56:53&lt;00:00,  1.71s/ba]"
      }
     },
     "caad59274c6d45b69ea9c8d6dd88fc88": {
      "model_module": "@jupyter-widgets/controls",
      "model_module_version": "1.5.0",
      "model_name": "HBoxModel",
      "state": {
       "children": [
        "IPY_MODEL_679132ef1e7a480f81838e123b5f6c8a",
        "IPY_MODEL_f8afb6f42dac48c5a9d369ffa0ea848d"
       ],
       "layout": "IPY_MODEL_b9eca41cd25a43cda0add047a0379f0c"
      }
     },
     "cb0146b1c0ee4b0fb877b4d36dd83706": {
      "model_module": "@jupyter-widgets/controls",
      "model_module_version": "1.5.0",
      "model_name": "HBoxModel",
      "state": {
       "children": [
        "IPY_MODEL_1893173c09ee4ba981a889b256c32095",
        "IPY_MODEL_9e5336f8d53f4e9888b87d6fbff70d31"
       ],
       "layout": "IPY_MODEL_500fd41f183643928e4658ffa52bd6b2"
      }
     },
     "cb285893296f42b0b6d34e7bb1ea5b77": {
      "model_module": "@jupyter-widgets/controls",
      "model_module_version": "1.5.0",
      "model_name": "HBoxModel",
      "state": {
       "children": [
        "IPY_MODEL_8d066da1387d40c6a30c8cddd04af9cd",
        "IPY_MODEL_0d345514dbbb487ca40d0177b4613237"
       ],
       "layout": "IPY_MODEL_8a492db28b67459f92fa2312164f1e6f"
      }
     },
     "cb32a78ef96e46fa8519043125ab4541": {
      "model_module": "@jupyter-widgets/controls",
      "model_module_version": "1.5.0",
      "model_name": "HBoxModel",
      "state": {
       "children": [
        "IPY_MODEL_12cdf60442494ff785870bdaf8b3d496",
        "IPY_MODEL_75ea24c6ba034380bb4e82517ef3256f"
       ],
       "layout": "IPY_MODEL_ac260e6ccd594c07a3dcb97b9ff66aa4"
      }
     },
     "cbc5475d9ec845b0ad33b9c1b4f05bc5": {
      "model_module": "@jupyter-widgets/controls",
      "model_module_version": "1.5.0",
      "model_name": "HBoxModel",
      "state": {
       "children": [
        "IPY_MODEL_3f55fff273b44f0181cf9d4a6e61a363",
        "IPY_MODEL_1bde891cb4ee454db8485e1d5a60c421"
       ],
       "layout": "IPY_MODEL_be5c4e62f96044e48590f5b9ff36ee63"
      }
     },
     "cbe3ac6b42554300af5d7551fb2e8fa0": {
      "model_module": "@jupyter-widgets/controls",
      "model_module_version": "1.5.0",
      "model_name": "FloatProgressModel",
      "state": {
       "bar_style": "success",
       "description": "100%",
       "layout": "IPY_MODEL_e8a2148921624b09946516f6081555a8",
       "max": 2000,
       "style": "IPY_MODEL_14543da16b7f4ee091a8766c56e9496f",
       "value": 2000
      }
     },
     "cc47bb34d5c74bb483bd4403faaec5f4": {
      "model_module": "@jupyter-widgets/controls",
      "model_module_version": "1.5.0",
      "model_name": "DescriptionStyleModel",
      "state": {
       "description_width": ""
      }
     },
     "cc4e62b1d3584d558692b21e914d81e5": {
      "model_module": "@jupyter-widgets/controls",
      "model_module_version": "1.5.0",
      "model_name": "ProgressStyleModel",
      "state": {
       "description_width": "initial"
      }
     },
     "cc536288d89a4b3aa2bcd22f24e72764": {
      "model_module": "@jupyter-widgets/controls",
      "model_module_version": "1.5.0",
      "model_name": "DescriptionStyleModel",
      "state": {
       "description_width": ""
      }
     },
     "cc918f9d70b844b08c3a415014854df2": {
      "model_module": "@jupyter-widgets/controls",
      "model_module_version": "1.5.0",
      "model_name": "HTMLModel",
      "state": {
       "layout": "IPY_MODEL_c1fc822373794b798c1a532783bf5a8b",
       "style": "IPY_MODEL_d85ca591cf0e4ff7a3d9426e39b2407e",
       "value": " 2000/2000 [11:18&lt;00:00,  2.95ba/s]"
      }
     },
     "ccb09f950de74fe4a427742070152d1a": {
      "model_module": "@jupyter-widgets/controls",
      "model_module_version": "1.5.0",
      "model_name": "FloatProgressModel",
      "state": {
       "bar_style": "success",
       "description": "100%",
       "layout": "IPY_MODEL_bc0a5f44f9044f4ba7021fe907d22c49",
       "max": 2000,
       "style": "IPY_MODEL_35ed46a66964431389aa5da1ca1cdb0b",
       "value": 2000
      }
     },
     "cd886ee1a1e64cafa833968b831641f8": {
      "model_module": "@jupyter-widgets/controls",
      "model_module_version": "1.5.0",
      "model_name": "HBoxModel",
      "state": {
       "children": [
        "IPY_MODEL_0efe8563e89946d9a8c7e130ada318b2",
        "IPY_MODEL_cfcf48525a52401a88989a6762bcef5d"
       ],
       "layout": "IPY_MODEL_66fc3b09038e4a23a2a24c045b1fd363"
      }
     },
     "ce0091b9a9964622a52834bf92180eed": {
      "model_module": "@jupyter-widgets/base",
      "model_module_version": "1.2.0",
      "model_name": "LayoutModel",
      "state": {}
     },
     "ce25e0b7c7aa4ef9b9b5485d147614b6": {
      "model_module": "@jupyter-widgets/base",
      "model_module_version": "1.2.0",
      "model_name": "LayoutModel",
      "state": {}
     },
     "ce66db06729742c1a004dd8a09407bf1": {
      "model_module": "@jupyter-widgets/base",
      "model_module_version": "1.2.0",
      "model_name": "LayoutModel",
      "state": {}
     },
     "cec898ba473b441aa5828b8892da10d5": {
      "model_module": "@jupyter-widgets/base",
      "model_module_version": "1.2.0",
      "model_name": "LayoutModel",
      "state": {}
     },
     "cf18791f4bba4f2083f27b144594736a": {
      "model_module": "@jupyter-widgets/controls",
      "model_module_version": "1.5.0",
      "model_name": "DescriptionStyleModel",
      "state": {
       "description_width": ""
      }
     },
     "cfb642546e564c94ad7fce13bfa1978d": {
      "model_module": "@jupyter-widgets/controls",
      "model_module_version": "1.5.0",
      "model_name": "FloatProgressModel",
      "state": {
       "bar_style": "success",
       "description": "100%",
       "layout": "IPY_MODEL_9605f1b16459430baf93f865f359a697",
       "max": 2000,
       "style": "IPY_MODEL_92e8b7ec777646eea455cd14f31fb748",
       "value": 2000
      }
     },
     "cfcf48525a52401a88989a6762bcef5d": {
      "model_module": "@jupyter-widgets/controls",
      "model_module_version": "1.5.0",
      "model_name": "HTMLModel",
      "state": {
       "layout": "IPY_MODEL_891871a8671b4d0895400aa444b838d4",
       "style": "IPY_MODEL_ecf4bebd241d4224993425a1399215c2",
       "value": " 2000/2000 [21:40&lt;00:00,  1.54ba/s]"
      }
     },
     "cfda67f1ab394f86a317486f91dfe851": {
      "model_module": "@jupyter-widgets/base",
      "model_module_version": "1.2.0",
      "model_name": "LayoutModel",
      "state": {}
     },
     "d0aba3f1c8834598b2947cbaecc27c2e": {
      "model_module": "@jupyter-widgets/base",
      "model_module_version": "1.2.0",
      "model_name": "LayoutModel",
      "state": {}
     },
     "d0ce291d27564e3089a01a07f5474db1": {
      "model_module": "@jupyter-widgets/base",
      "model_module_version": "1.2.0",
      "model_name": "LayoutModel",
      "state": {}
     },
     "d1521648ecdf4e1bae11f98935d91f3d": {
      "model_module": "@jupyter-widgets/base",
      "model_module_version": "1.2.0",
      "model_name": "LayoutModel",
      "state": {}
     },
     "d17a9e85e1b74223973f9981b7ae62e3": {
      "model_module": "@jupyter-widgets/controls",
      "model_module_version": "1.5.0",
      "model_name": "FloatProgressModel",
      "state": {
       "bar_style": "success",
       "description": "100%",
       "layout": "IPY_MODEL_76805b7e230f413f88a7aaea6c807962",
       "max": 2000,
       "style": "IPY_MODEL_0536991d07c94e18a6993205819c3f40",
       "value": 2000
      }
     },
     "d1e0919155964271943a971730f66572": {
      "model_module": "@jupyter-widgets/base",
      "model_module_version": "1.2.0",
      "model_name": "LayoutModel",
      "state": {}
     },
     "d1f9ac24e3eb423d83c78e6ab53429b0": {
      "model_module": "@jupyter-widgets/base",
      "model_module_version": "1.2.0",
      "model_name": "LayoutModel",
      "state": {}
     },
     "d201a00bd6ae434fba5e60462021da27": {
      "model_module": "@jupyter-widgets/controls",
      "model_module_version": "1.5.0",
      "model_name": "FloatProgressModel",
      "state": {
       "bar_style": "success",
       "description": "100%",
       "layout": "IPY_MODEL_f2d1edfac87f444b9af93f71e6ae0340",
       "max": 2000,
       "style": "IPY_MODEL_bdda74ddc21e4a4da3ecafc2b9fdb7fc",
       "value": 2000
      }
     },
     "d2217b7faa4045d68703352f4265eec2": {
      "model_module": "@jupyter-widgets/controls",
      "model_module_version": "1.5.0",
      "model_name": "ProgressStyleModel",
      "state": {
       "description_width": "initial"
      }
     },
     "d2248b728a6d4a9e88d33314f7d38289": {
      "model_module": "@jupyter-widgets/controls",
      "model_module_version": "1.5.0",
      "model_name": "DescriptionStyleModel",
      "state": {
       "description_width": ""
      }
     },
     "d28e99ed75284495892a90ce1a563015": {
      "model_module": "@jupyter-widgets/controls",
      "model_module_version": "1.5.0",
      "model_name": "DescriptionStyleModel",
      "state": {
       "description_width": ""
      }
     },
     "d2a07a60f1a74fa58876a31f925c62e8": {
      "model_module": "@jupyter-widgets/controls",
      "model_module_version": "1.5.0",
      "model_name": "ProgressStyleModel",
      "state": {
       "description_width": "initial"
      }
     },
     "d2cd724c4fa0457aaecb7e2b1e9858b8": {
      "model_module": "@jupyter-widgets/controls",
      "model_module_version": "1.5.0",
      "model_name": "HTMLModel",
      "state": {
       "layout": "IPY_MODEL_c0756af148c2445e9236fcbd69be6a3b",
       "style": "IPY_MODEL_d7741741ca69466bbb34013ae1e1c003",
       "value": " 2000/2000 [2:49:53&lt;00:00,  5.10s/ba]"
      }
     },
     "d2ec0d641de544d881303c4a90dc96fa": {
      "model_module": "@jupyter-widgets/base",
      "model_module_version": "1.2.0",
      "model_name": "LayoutModel",
      "state": {}
     },
     "d320bfdfbf434cb99958cdf736a34b59": {
      "model_module": "@jupyter-widgets/controls",
      "model_module_version": "1.5.0",
      "model_name": "DescriptionStyleModel",
      "state": {
       "description_width": ""
      }
     },
     "d3fe573a815047388bf862336ba071bb": {
      "model_module": "@jupyter-widgets/base",
      "model_module_version": "1.2.0",
      "model_name": "LayoutModel",
      "state": {}
     },
     "d479149b0cfd43dc823e76b03d68e1b2": {
      "model_module": "@jupyter-widgets/controls",
      "model_module_version": "1.5.0",
      "model_name": "FloatProgressModel",
      "state": {
       "bar_style": "success",
       "description": "100%",
       "layout": "IPY_MODEL_bf7534084607424296dba8ea7751862a",
       "max": 2000,
       "style": "IPY_MODEL_240b69df8a294da0a9dd8d54c7e5097e",
       "value": 2000
      }
     },
     "d47b967bb6a24f23a3b1787ee347f1c4": {
      "model_module": "@jupyter-widgets/base",
      "model_module_version": "1.2.0",
      "model_name": "LayoutModel",
      "state": {}
     },
     "d4dbe068fbcc4750ad08ced44394bcf0": {
      "model_module": "@jupyter-widgets/controls",
      "model_module_version": "1.5.0",
      "model_name": "HTMLModel",
      "state": {
       "layout": "IPY_MODEL_3e63705e1850489e9f588a2ddff99e1c",
       "style": "IPY_MODEL_8f88c521a1084422a853c761f2588d10",
       "value": " 2000/2000 [13:25&lt;00:00,  2.48ba/s]"
      }
     },
     "d53c56320f9240ac9eedce0c7a19a3e0": {
      "model_module": "@jupyter-widgets/controls",
      "model_module_version": "1.5.0",
      "model_name": "HTMLModel",
      "state": {
       "layout": "IPY_MODEL_19162ae512884f42b2bfe3775d5e6f59",
       "style": "IPY_MODEL_e0d5e8f16de84ce9b83d9b3e8f8e21c3",
       "value": " 2000/2000 [28:15&lt;00:00,  1.18ba/s]"
      }
     },
     "d5741122db2b468782dffb760f721b8a": {
      "model_module": "@jupyter-widgets/controls",
      "model_module_version": "1.5.0",
      "model_name": "ProgressStyleModel",
      "state": {
       "description_width": "initial"
      }
     },
     "d61aa0ed13964837ad67067370734586": {
      "model_module": "@jupyter-widgets/controls",
      "model_module_version": "1.5.0",
      "model_name": "DescriptionStyleModel",
      "state": {
       "description_width": ""
      }
     },
     "d675ffc0281944cd96609df6f95636f5": {
      "model_module": "@jupyter-widgets/controls",
      "model_module_version": "1.5.0",
      "model_name": "HTMLModel",
      "state": {
       "layout": "IPY_MODEL_71bd96557ff0481588b7a13b291ab93e",
       "style": "IPY_MODEL_b41696a1b4dc43d3bebde71655db8692",
       "value": " 2000/2000 [02:31&lt;00:00, 13.17ba/s]"
      }
     },
     "d6ba2e8e8e444879aa22c7189139dd5f": {
      "model_module": "@jupyter-widgets/controls",
      "model_module_version": "1.5.0",
      "model_name": "FloatProgressModel",
      "state": {
       "bar_style": "success",
       "description": "100%",
       "layout": "IPY_MODEL_6554adc1631c4f4e9e49bb6556d01ec2",
       "max": 2000,
       "style": "IPY_MODEL_6f4df6c050ff449c82cd3496b62b7208",
       "value": 2000
      }
     },
     "d6f515c231e04245a1eb31868c801ce0": {
      "model_module": "@jupyter-widgets/base",
      "model_module_version": "1.2.0",
      "model_name": "LayoutModel",
      "state": {}
     },
     "d7244550b99c4cab983cf65239a3c3d1": {
      "model_module": "@jupyter-widgets/controls",
      "model_module_version": "1.5.0",
      "model_name": "FloatProgressModel",
      "state": {
       "bar_style": "success",
       "description": "100%",
       "layout": "IPY_MODEL_8feb0771a4eb4c5196d5115fd6294f09",
       "max": 2000,
       "style": "IPY_MODEL_5982f1e6e32c4e818daf6ebf17e28f06",
       "value": 2000
      }
     },
     "d72ccfdb9e6746e2b5727e5446781c4d": {
      "model_module": "@jupyter-widgets/controls",
      "model_module_version": "1.5.0",
      "model_name": "DescriptionStyleModel",
      "state": {
       "description_width": ""
      }
     },
     "d73020a5e812430582f5ec6035f08621": {
      "model_module": "@jupyter-widgets/controls",
      "model_module_version": "1.5.0",
      "model_name": "FloatProgressModel",
      "state": {
       "bar_style": "success",
       "description": "100%",
       "layout": "IPY_MODEL_66d7f13d568244ba8cca5ba1efa42a6b",
       "max": 2000,
       "style": "IPY_MODEL_c4cfde02e0c8441f8b04b15f329f3575",
       "value": 2000
      }
     },
     "d75d53ecf776470b82337249ade9b496": {
      "model_module": "@jupyter-widgets/controls",
      "model_module_version": "1.5.0",
      "model_name": "HTMLModel",
      "state": {
       "layout": "IPY_MODEL_00742ee8b1bc4e3cafc32f62811edb22",
       "style": "IPY_MODEL_c8cc7301ff23496da34664e1b1c593ee",
       "value": " 2000/2000 [07:04&lt;00:00,  4.71ba/s]"
      }
     },
     "d7741741ca69466bbb34013ae1e1c003": {
      "model_module": "@jupyter-widgets/controls",
      "model_module_version": "1.5.0",
      "model_name": "DescriptionStyleModel",
      "state": {
       "description_width": ""
      }
     },
     "d7b33f8fb91a405cb18069e1a2261d62": {
      "model_module": "@jupyter-widgets/controls",
      "model_module_version": "1.5.0",
      "model_name": "ProgressStyleModel",
      "state": {
       "description_width": "initial"
      }
     },
     "d7c0eff241bd4109a36782c43ef17081": {
      "model_module": "@jupyter-widgets/controls",
      "model_module_version": "1.5.0",
      "model_name": "DescriptionStyleModel",
      "state": {
       "description_width": ""
      }
     },
     "d7c300090cdc47e88c730b942dccc89e": {
      "model_module": "@jupyter-widgets/base",
      "model_module_version": "1.2.0",
      "model_name": "LayoutModel",
      "state": {}
     },
     "d832d494550e4fdb8dd81323bb70052c": {
      "model_module": "@jupyter-widgets/controls",
      "model_module_version": "1.5.0",
      "model_name": "FloatProgressModel",
      "state": {
       "bar_style": "success",
       "description": "100%",
       "layout": "IPY_MODEL_ce25e0b7c7aa4ef9b9b5485d147614b6",
       "max": 2000,
       "style": "IPY_MODEL_146eaa73c9ea4e69904e155d535a92ef",
       "value": 2000
      }
     },
     "d83c113f065c4f90bbd2ba3b9f49a13d": {
      "model_module": "@jupyter-widgets/controls",
      "model_module_version": "1.5.0",
      "model_name": "HBoxModel",
      "state": {
       "children": [
        "IPY_MODEL_0253ab2e0ea24bc2b684629e08206e14",
        "IPY_MODEL_d2cd724c4fa0457aaecb7e2b1e9858b8"
       ],
       "layout": "IPY_MODEL_7aaf632465194bb3b145f08f4d10c3b2"
      }
     },
     "d83f224f14f14007ab90aa5f8ef7195b": {
      "model_module": "@jupyter-widgets/controls",
      "model_module_version": "1.5.0",
      "model_name": "HTMLModel",
      "state": {
       "layout": "IPY_MODEL_53226be1615d44589ec064152393fde8",
       "style": "IPY_MODEL_89029c3133244389bab7036d460e7583",
       "value": " 2000/2000 [05:21&lt;00:00,  6.22ba/s]"
      }
     },
     "d854aff41cb04393a28bc8cf202b6b6e": {
      "model_module": "@jupyter-widgets/controls",
      "model_module_version": "1.5.0",
      "model_name": "DescriptionStyleModel",
      "state": {
       "description_width": ""
      }
     },
     "d85ca591cf0e4ff7a3d9426e39b2407e": {
      "model_module": "@jupyter-widgets/controls",
      "model_module_version": "1.5.0",
      "model_name": "DescriptionStyleModel",
      "state": {
       "description_width": ""
      }
     },
     "d8cf6af5c2ef4ac88f5e1fd6b62ceabb": {
      "model_module": "@jupyter-widgets/base",
      "model_module_version": "1.2.0",
      "model_name": "LayoutModel",
      "state": {}
     },
     "d953a02d332e42a29ed5d03a049344bf": {
      "model_module": "@jupyter-widgets/controls",
      "model_module_version": "1.5.0",
      "model_name": "HBoxModel",
      "state": {
       "children": [
        "IPY_MODEL_42447623936f41638c7d0d1b25632f39",
        "IPY_MODEL_4685bc23201a48ab8fc05703dded1b25"
       ],
       "layout": "IPY_MODEL_04aef878431d477cb0f38ab73fd2c79e"
      }
     },
     "d9ada3263cbf49efb48175044a34c39d": {
      "model_module": "@jupyter-widgets/base",
      "model_module_version": "1.2.0",
      "model_name": "LayoutModel",
      "state": {}
     },
     "da57a1e43eba493bb4b98c3f1b2bf8d3": {
      "model_module": "@jupyter-widgets/base",
      "model_module_version": "1.2.0",
      "model_name": "LayoutModel",
      "state": {}
     },
     "da8ac38c97a54c09afb11e836165aa46": {
      "model_module": "@jupyter-widgets/controls",
      "model_module_version": "1.5.0",
      "model_name": "FloatProgressModel",
      "state": {
       "bar_style": "success",
       "description": "100%",
       "layout": "IPY_MODEL_37bb9f6c4d7041aab8ae872e7f7c60ab",
       "max": 2000,
       "style": "IPY_MODEL_4bf541b6b8464a2c8bac4487120239b4",
       "value": 2000
      }
     },
     "dabfcd65bbcf40baa26bd4a4e1307a09": {
      "model_module": "@jupyter-widgets/controls",
      "model_module_version": "1.5.0",
      "model_name": "HBoxModel",
      "state": {
       "children": [
        "IPY_MODEL_8ba046dd806643f49e6b42049fb3dcee",
        "IPY_MODEL_1101c56bd8984d999e2645e3920e925c"
       ],
       "layout": "IPY_MODEL_c04c757ed33e4e068abc82d2bf292179"
      }
     },
     "dae755c69c8b444190b004f6aebaac09": {
      "model_module": "@jupyter-widgets/controls",
      "model_module_version": "1.5.0",
      "model_name": "ProgressStyleModel",
      "state": {
       "description_width": "initial"
      }
     },
     "db2ddb50c8fd4becbf7684abf029a508": {
      "model_module": "@jupyter-widgets/controls",
      "model_module_version": "1.5.0",
      "model_name": "DescriptionStyleModel",
      "state": {
       "description_width": ""
      }
     },
     "dc5ce69dc47d4f4b937c10d14f962710": {
      "model_module": "@jupyter-widgets/controls",
      "model_module_version": "1.5.0",
      "model_name": "HBoxModel",
      "state": {
       "children": [
        "IPY_MODEL_53a26a0742ff461a874db7e93012a4a7",
        "IPY_MODEL_977e058e4ca14c76a558a1607b43fadb"
       ],
       "layout": "IPY_MODEL_93cd7cbdd6e944caa81401d3d5600125"
      }
     },
     "dc84957707ae40a9ad9e27f0d5f4db36": {
      "model_module": "@jupyter-widgets/base",
      "model_module_version": "1.2.0",
      "model_name": "LayoutModel",
      "state": {}
     },
     "dcf630aaac184f61821cdcd03c96fe6c": {
      "model_module": "@jupyter-widgets/controls",
      "model_module_version": "1.5.0",
      "model_name": "ProgressStyleModel",
      "state": {
       "description_width": "initial"
      }
     },
     "dd0f417eeca641c59ac31cfa9211826b": {
      "model_module": "@jupyter-widgets/controls",
      "model_module_version": "1.5.0",
      "model_name": "DescriptionStyleModel",
      "state": {
       "description_width": ""
      }
     },
     "dd172d77bef14abf88ef58f34f3f6143": {
      "model_module": "@jupyter-widgets/controls",
      "model_module_version": "1.5.0",
      "model_name": "HTMLModel",
      "state": {
       "layout": "IPY_MODEL_145c729bae214046ae4e32a30538c1db",
       "style": "IPY_MODEL_32c451fb731645a5b41e7e33fba3a99d",
       "value": " 2000/2000 [09:12&lt;00:00,  3.62ba/s]"
      }
     },
     "dd515737e43342e8903549bfd4330843": {
      "model_module": "@jupyter-widgets/controls",
      "model_module_version": "1.5.0",
      "model_name": "HBoxModel",
      "state": {
       "children": [
        "IPY_MODEL_fd37607ca33d41ff85791d4b8654bfc3",
        "IPY_MODEL_3d99e645bfc74e3e941079cbf8d8871c"
       ],
       "layout": "IPY_MODEL_7f773e78fd444a5493ea501cbde6e2cf"
      }
     },
     "dd5ba7e9a4644edb883c5783a0fabe85": {
      "model_module": "@jupyter-widgets/controls",
      "model_module_version": "1.5.0",
      "model_name": "ProgressStyleModel",
      "state": {
       "description_width": "initial"
      }
     },
     "de7ffc9bd47e4e29bd2456ece2b4f3b8": {
      "model_module": "@jupyter-widgets/controls",
      "model_module_version": "1.5.0",
      "model_name": "HBoxModel",
      "state": {
       "children": [
        "IPY_MODEL_bdec8874e40f4c94a4b6a2b3814df7b9",
        "IPY_MODEL_06cdb0f469e74561a2e5c808464c6641"
       ],
       "layout": "IPY_MODEL_6eb07ccfffe24c11879b61847ad43a43"
      }
     },
     "de83f712200841559bec941a35b8e5e2": {
      "model_module": "@jupyter-widgets/controls",
      "model_module_version": "1.5.0",
      "model_name": "HBoxModel",
      "state": {
       "children": [
        "IPY_MODEL_29fcb831871e449d827b2a4cf66bcb5b",
        "IPY_MODEL_b13163295151404b8e275421593bff81"
       ],
       "layout": "IPY_MODEL_3c825bad108d4159ae23675b2afa6e57"
      }
     },
     "de88e118b2104e5db830f30dc84ccecd": {
      "model_module": "@jupyter-widgets/controls",
      "model_module_version": "1.5.0",
      "model_name": "ProgressStyleModel",
      "state": {
       "description_width": "initial"
      }
     },
     "deb58a0307904ad6aa1b93bc7f140706": {
      "model_module": "@jupyter-widgets/controls",
      "model_module_version": "1.5.0",
      "model_name": "ProgressStyleModel",
      "state": {
       "description_width": "initial"
      }
     },
     "df443313be1a4651b7857e34d212490c": {
      "model_module": "@jupyter-widgets/controls",
      "model_module_version": "1.5.0",
      "model_name": "HTMLModel",
      "state": {
       "layout": "IPY_MODEL_0af56809090b486da67ca3183b817fb0",
       "style": "IPY_MODEL_7a635fa7cf0a4801afdecdb6ee8e140b",
       "value": " 2000/2000 [44:09&lt;00:00,  1.32s/ba]"
      }
     },
     "df7e25bf8de14143ad07be619a7a997f": {
      "model_module": "@jupyter-widgets/base",
      "model_module_version": "1.2.0",
      "model_name": "LayoutModel",
      "state": {}
     },
     "dfd642a5699e482cb64d39f51643d059": {
      "model_module": "@jupyter-widgets/controls",
      "model_module_version": "1.5.0",
      "model_name": "HTMLModel",
      "state": {
       "layout": "IPY_MODEL_e840ed0c60ce4cc3babc2859bf2aa552",
       "style": "IPY_MODEL_653395ff77684c6cb1b399099b21a389",
       "value": " 0/100 [00:05&lt;?, ?it/s]"
      }
     },
     "dfdd5f2bc4ed4a01b976c47583f3da70": {
      "model_module": "@jupyter-widgets/base",
      "model_module_version": "1.2.0",
      "model_name": "LayoutModel",
      "state": {}
     },
     "dffa425221d34d14a4a3c70afd47524a": {
      "model_module": "@jupyter-widgets/base",
      "model_module_version": "1.2.0",
      "model_name": "LayoutModel",
      "state": {}
     },
     "e00b10d5d2a94f1f9725afb781669505": {
      "model_module": "@jupyter-widgets/base",
      "model_module_version": "1.2.0",
      "model_name": "LayoutModel",
      "state": {}
     },
     "e049dc3e0068439b8df5214f35ccfd31": {
      "model_module": "@jupyter-widgets/base",
      "model_module_version": "1.2.0",
      "model_name": "LayoutModel",
      "state": {}
     },
     "e09b012608c34dd5a57408b8bd9a3b74": {
      "model_module": "@jupyter-widgets/controls",
      "model_module_version": "1.5.0",
      "model_name": "ProgressStyleModel",
      "state": {
       "description_width": "initial"
      }
     },
     "e0b539e941094a3a8e98a8f41794086e": {
      "model_module": "@jupyter-widgets/controls",
      "model_module_version": "1.5.0",
      "model_name": "ProgressStyleModel",
      "state": {
       "description_width": "initial"
      }
     },
     "e0d5e8f16de84ce9b83d9b3e8f8e21c3": {
      "model_module": "@jupyter-widgets/controls",
      "model_module_version": "1.5.0",
      "model_name": "DescriptionStyleModel",
      "state": {
       "description_width": ""
      }
     },
     "e1562783c99e4059b2ba009ddf31d375": {
      "model_module": "@jupyter-widgets/base",
      "model_module_version": "1.2.0",
      "model_name": "LayoutModel",
      "state": {}
     },
     "e15d3a859d924ea6b422dca2bcea16f4": {
      "model_module": "@jupyter-widgets/base",
      "model_module_version": "1.2.0",
      "model_name": "LayoutModel",
      "state": {}
     },
     "e18c516e2f2547c789500364a5f414e8": {
      "model_module": "@jupyter-widgets/base",
      "model_module_version": "1.2.0",
      "model_name": "LayoutModel",
      "state": {}
     },
     "e193c662e3bf4849b46d2c91ad9cd42c": {
      "model_module": "@jupyter-widgets/controls",
      "model_module_version": "1.5.0",
      "model_name": "HBoxModel",
      "state": {
       "children": [
        "IPY_MODEL_d832d494550e4fdb8dd81323bb70052c",
        "IPY_MODEL_2048fd578bc44a9ea116398cd5b60671"
       ],
       "layout": "IPY_MODEL_96bd11cec80d431a838fe0ead52db2f7"
      }
     },
     "e19ea92e18d14709bc495d620787f990": {
      "model_module": "@jupyter-widgets/controls",
      "model_module_version": "1.5.0",
      "model_name": "HBoxModel",
      "state": {
       "children": [
        "IPY_MODEL_b67d9542fd9d460196bc8b767d70c717",
        "IPY_MODEL_f0e83f222af44bedbbd1f379709fb37c"
       ],
       "layout": "IPY_MODEL_a7f51a204466493f94e885a60312eb8c"
      }
     },
     "e1aa0a0ae4af444caeffeb07f6b94c38": {
      "model_module": "@jupyter-widgets/base",
      "model_module_version": "1.2.0",
      "model_name": "LayoutModel",
      "state": {}
     },
     "e1bc0c2630a240368d5ac21b9875fe39": {
      "model_module": "@jupyter-widgets/controls",
      "model_module_version": "1.5.0",
      "model_name": "DescriptionStyleModel",
      "state": {
       "description_width": ""
      }
     },
     "e20cd20b05e04e74a1be95adf6e3d8bf": {
      "model_module": "@jupyter-widgets/controls",
      "model_module_version": "1.5.0",
      "model_name": "FloatProgressModel",
      "state": {
       "bar_style": "success",
       "description": "100%",
       "layout": "IPY_MODEL_a80f2a6cac1e4e9ca76198b10a46e4e3",
       "max": 2000,
       "style": "IPY_MODEL_4580edece79d4c4da6e7b0adec8e7fa0",
       "value": 2000
      }
     },
     "e219ac88e68f44979bb471ae2cb73eed": {
      "model_module": "@jupyter-widgets/controls",
      "model_module_version": "1.5.0",
      "model_name": "ProgressStyleModel",
      "state": {
       "description_width": "initial"
      }
     },
     "e25f3234f1194039a07d3e9747d333c5": {
      "model_module": "@jupyter-widgets/controls",
      "model_module_version": "1.5.0",
      "model_name": "DescriptionStyleModel",
      "state": {
       "description_width": ""
      }
     },
     "e28541cee4b94d2b9e9c56e70bdd71f6": {
      "model_module": "@jupyter-widgets/base",
      "model_module_version": "1.2.0",
      "model_name": "LayoutModel",
      "state": {}
     },
     "e2899e3f36e84671a62db95b79273b22": {
      "model_module": "@jupyter-widgets/controls",
      "model_module_version": "1.5.0",
      "model_name": "HBoxModel",
      "state": {
       "children": [
        "IPY_MODEL_401b50e22873466dba73d309f16cc7cc",
        "IPY_MODEL_772dc20a8ae84263885085dd8f787dc0"
       ],
       "layout": "IPY_MODEL_bac762f056cf4172848bc046e653e04b"
      }
     },
     "e2a3bb0652744a4c94ea21e243d14f62": {
      "model_module": "@jupyter-widgets/base",
      "model_module_version": "1.2.0",
      "model_name": "LayoutModel",
      "state": {}
     },
     "e2eb9e0f4dfd441092b5aec24b459cbd": {
      "model_module": "@jupyter-widgets/base",
      "model_module_version": "1.2.0",
      "model_name": "LayoutModel",
      "state": {}
     },
     "e2f7f63783ca44b09b0019883d156b80": {
      "model_module": "@jupyter-widgets/controls",
      "model_module_version": "1.5.0",
      "model_name": "ProgressStyleModel",
      "state": {
       "description_width": "initial"
      }
     },
     "e3574fd0162141bba6081d04c73bc7d3": {
      "model_module": "@jupyter-widgets/controls",
      "model_module_version": "1.5.0",
      "model_name": "HBoxModel",
      "state": {
       "children": [
        "IPY_MODEL_4a72364493d140878dfb3f094c599d12",
        "IPY_MODEL_8743fca0568a4e8d93ccb3f1de7826fd"
       ],
       "layout": "IPY_MODEL_a2c199362d844ad8b342b6a9dc5ed6f4"
      }
     },
     "e3873a931603479abe3d4ee2c0e489d7": {
      "model_module": "@jupyter-widgets/base",
      "model_module_version": "1.2.0",
      "model_name": "LayoutModel",
      "state": {}
     },
     "e3c50bc0c1824458a5928ec1faeeae59": {
      "model_module": "@jupyter-widgets/base",
      "model_module_version": "1.2.0",
      "model_name": "LayoutModel",
      "state": {}
     },
     "e433d58b5ff04fb4a2c20ea15fde75ed": {
      "model_module": "@jupyter-widgets/controls",
      "model_module_version": "1.5.0",
      "model_name": "HTMLModel",
      "state": {
       "layout": "IPY_MODEL_7e3233f4361245a5943ba62f1334bb0a",
       "style": "IPY_MODEL_2d90d0450ea94d11b41a380a60f70c5c",
       "value": " 2000/2000 [14:37&lt;00:00,  2.28ba/s]"
      }
     },
     "e4494a3bdc1d4e06a9c745fdcb990675": {
      "model_module": "@jupyter-widgets/controls",
      "model_module_version": "1.5.0",
      "model_name": "HBoxModel",
      "state": {
       "children": [
        "IPY_MODEL_50efc5c97237456c9bc09656b6e15008",
        "IPY_MODEL_fd8b50156c72462f87c0d0c869e5a3fc"
       ],
       "layout": "IPY_MODEL_b26e5d43106c46c2abbd12e5ba46a773"
      }
     },
     "e595c2ff5e104e1cb21104ea3ec662df": {
      "model_module": "@jupyter-widgets/controls",
      "model_module_version": "1.5.0",
      "model_name": "ProgressStyleModel",
      "state": {
       "description_width": "initial"
      }
     },
     "e5aac9d219e74574a26def847258e39d": {
      "model_module": "@jupyter-widgets/controls",
      "model_module_version": "1.5.0",
      "model_name": "DescriptionStyleModel",
      "state": {
       "description_width": ""
      }
     },
     "e5d0d40719924f3a87c3b573d3e785c9": {
      "model_module": "@jupyter-widgets/controls",
      "model_module_version": "1.5.0",
      "model_name": "ProgressStyleModel",
      "state": {
       "description_width": "initial"
      }
     },
     "e6ff3d0bcf374d42b9a1e26bcffb47c7": {
      "model_module": "@jupyter-widgets/controls",
      "model_module_version": "1.5.0",
      "model_name": "ProgressStyleModel",
      "state": {
       "description_width": "initial"
      }
     },
     "e77083f403564ee7ba1f91dd44ce8246": {
      "model_module": "@jupyter-widgets/controls",
      "model_module_version": "1.5.0",
      "model_name": "DescriptionStyleModel",
      "state": {
       "description_width": ""
      }
     },
     "e79a46bca4f5495baf65e533cd3d10e5": {
      "model_module": "@jupyter-widgets/controls",
      "model_module_version": "1.5.0",
      "model_name": "HTMLModel",
      "state": {
       "layout": "IPY_MODEL_85da722a06254fa6aae1e45bac3d7a97",
       "style": "IPY_MODEL_22da8de5ea5b41c88102c14753c86642",
       "value": " 2000/2000 [13:03&lt;00:00,  2.55ba/s]"
      }
     },
     "e7aa682df9b04235b0ba786ef422811f": {
      "model_module": "@jupyter-widgets/controls",
      "model_module_version": "1.5.0",
      "model_name": "DescriptionStyleModel",
      "state": {
       "description_width": ""
      }
     },
     "e7e57d75d1fc4407a3c2fad118e90552": {
      "model_module": "@jupyter-widgets/controls",
      "model_module_version": "1.5.0",
      "model_name": "DescriptionStyleModel",
      "state": {
       "description_width": ""
      }
     },
     "e81e807af5694c57aa9d3d63ddb32d9a": {
      "model_module": "@jupyter-widgets/base",
      "model_module_version": "1.2.0",
      "model_name": "LayoutModel",
      "state": {}
     },
     "e840ed0c60ce4cc3babc2859bf2aa552": {
      "model_module": "@jupyter-widgets/base",
      "model_module_version": "1.2.0",
      "model_name": "LayoutModel",
      "state": {}
     },
     "e85c863fcd6f42b89ecc296d4ce34555": {
      "model_module": "@jupyter-widgets/base",
      "model_module_version": "1.2.0",
      "model_name": "LayoutModel",
      "state": {}
     },
     "e8a2148921624b09946516f6081555a8": {
      "model_module": "@jupyter-widgets/base",
      "model_module_version": "1.2.0",
      "model_name": "LayoutModel",
      "state": {}
     },
     "e8c0d28c5fcf4d3bb27753f7141ad8d7": {
      "model_module": "@jupyter-widgets/controls",
      "model_module_version": "1.5.0",
      "model_name": "DescriptionStyleModel",
      "state": {
       "description_width": ""
      }
     },
     "e936d144c5bc4a5d93ffb9b14c42edd3": {
      "model_module": "@jupyter-widgets/controls",
      "model_module_version": "1.5.0",
      "model_name": "FloatProgressModel",
      "state": {
       "bar_style": "success",
       "description": "100%",
       "layout": "IPY_MODEL_6aa7f02e1f3e443b9a6b8c71c1554a45",
       "max": 2000,
       "style": "IPY_MODEL_9f0614b0fda84ea38a97ad2384786e35",
       "value": 2000
      }
     },
     "e9b9c5ef7cf548c9836ebe1b85125f61": {
      "model_module": "@jupyter-widgets/base",
      "model_module_version": "1.2.0",
      "model_name": "LayoutModel",
      "state": {}
     },
     "eab9ce45df994f16ab2baf757be8aedc": {
      "model_module": "@jupyter-widgets/controls",
      "model_module_version": "1.5.0",
      "model_name": "HTMLModel",
      "state": {
       "layout": "IPY_MODEL_fc0cc8524dcd452c8d5de2120d1c0f17",
       "style": "IPY_MODEL_d61aa0ed13964837ad67067370734586",
       "value": " 2000/2000 [05:06&lt;00:00,  6.53ba/s]"
      }
     },
     "eaf9b2d6b5ac4c53af67f08151986dce": {
      "model_module": "@jupyter-widgets/controls",
      "model_module_version": "1.5.0",
      "model_name": "HBoxModel",
      "state": {
       "children": [
        "IPY_MODEL_96d1dd6033ff440e8bb4478dd946835e",
        "IPY_MODEL_e79a46bca4f5495baf65e533cd3d10e5"
       ],
       "layout": "IPY_MODEL_94e308bf5f2a421bb61ec14794f387dd"
      }
     },
     "eb04d73d5136473f868c555805257ce2": {
      "model_module": "@jupyter-widgets/controls",
      "model_module_version": "1.5.0",
      "model_name": "ProgressStyleModel",
      "state": {
       "description_width": "initial"
      }
     },
     "eb63fde26e9a44b4bdc4feb7f2bbaf36": {
      "model_module": "@jupyter-widgets/controls",
      "model_module_version": "1.5.0",
      "model_name": "FloatProgressModel",
      "state": {
       "bar_style": "success",
       "description": "100%",
       "layout": "IPY_MODEL_335bc1cdd612428ea01bcb6b9646cd7a",
       "max": 2000,
       "style": "IPY_MODEL_99cc5d6192474a9ca735c6971ee5fc4e",
       "value": 2000
      }
     },
     "ebb6102856aa482593c69009623c6a22": {
      "model_module": "@jupyter-widgets/controls",
      "model_module_version": "1.5.0",
      "model_name": "DescriptionStyleModel",
      "state": {
       "description_width": ""
      }
     },
     "ebdb4ebd57b54ef9bbe59f2ac5dad898": {
      "model_module": "@jupyter-widgets/controls",
      "model_module_version": "1.5.0",
      "model_name": "FloatProgressModel",
      "state": {
       "bar_style": "success",
       "description": "100%",
       "layout": "IPY_MODEL_94e258e45f7b435cb98c843d18a4bd3a",
       "max": 2000,
       "style": "IPY_MODEL_dae755c69c8b444190b004f6aebaac09",
       "value": 2000
      }
     },
     "ebe030d48f704d5b9b169a8d5937e6ff": {
      "model_module": "@jupyter-widgets/base",
      "model_module_version": "1.2.0",
      "model_name": "LayoutModel",
      "state": {}
     },
     "ec31f58838664c069ca3575abf169226": {
      "model_module": "@jupyter-widgets/base",
      "model_module_version": "1.2.0",
      "model_name": "LayoutModel",
      "state": {}
     },
     "ec4b7402fd4749ad834d265b2edc01d8": {
      "model_module": "@jupyter-widgets/base",
      "model_module_version": "1.2.0",
      "model_name": "LayoutModel",
      "state": {}
     },
     "ecd910cbd01b4c938a49dd8c19d8b7cd": {
      "model_module": "@jupyter-widgets/controls",
      "model_module_version": "1.5.0",
      "model_name": "HTMLModel",
      "state": {
       "layout": "IPY_MODEL_ffa178624029477f984d18ea66b8c672",
       "style": "IPY_MODEL_33ce5ee3fa464783a734e870d27c2c46",
       "value": " 2000/2000 [04:40&lt;00:00,  7.14ba/s]"
      }
     },
     "ecf30dcdcf54483f8765da847132f2be": {
      "model_module": "@jupyter-widgets/controls",
      "model_module_version": "1.5.0",
      "model_name": "HBoxModel",
      "state": {
       "children": [
        "IPY_MODEL_d479149b0cfd43dc823e76b03d68e1b2",
        "IPY_MODEL_053953803f304661b12bed1e2f4ecbe0"
       ],
       "layout": "IPY_MODEL_7199701a11e74d84874641bd200d3f51"
      }
     },
     "ecf4bebd241d4224993425a1399215c2": {
      "model_module": "@jupyter-widgets/controls",
      "model_module_version": "1.5.0",
      "model_name": "DescriptionStyleModel",
      "state": {
       "description_width": ""
      }
     },
     "ed5d4e3cff6c408f99c1e021987e98bf": {
      "model_module": "@jupyter-widgets/controls",
      "model_module_version": "1.5.0",
      "model_name": "DescriptionStyleModel",
      "state": {
       "description_width": ""
      }
     },
     "edf19130c97f45639a08598efb6e8cf5": {
      "model_module": "@jupyter-widgets/controls",
      "model_module_version": "1.5.0",
      "model_name": "FloatProgressModel",
      "state": {
       "bar_style": "success",
       "description": "100%",
       "layout": "IPY_MODEL_9f27845b2d0f493e9625ab5067720ecc",
       "max": 2000,
       "style": "IPY_MODEL_e5d0d40719924f3a87c3b573d3e785c9",
       "value": 2000
      }
     },
     "edf9466ac2244e099f72a7c03965c27e": {
      "model_module": "@jupyter-widgets/base",
      "model_module_version": "1.2.0",
      "model_name": "LayoutModel",
      "state": {}
     },
     "ee0b8469de1d498f90a7068612269789": {
      "model_module": "@jupyter-widgets/controls",
      "model_module_version": "1.5.0",
      "model_name": "HTMLModel",
      "state": {
       "layout": "IPY_MODEL_0deed15f5ad94a948c329fe6bf4ad486",
       "style": "IPY_MODEL_314126c06a9f497a8aa51beb283f9095",
       "value": " 2000/2000 [06:08&lt;00:00,  5.43ba/s]"
      }
     },
     "ee5ffcf7acd54c14935a2b0f37c42700": {
      "model_module": "@jupyter-widgets/controls",
      "model_module_version": "1.5.0",
      "model_name": "ProgressStyleModel",
      "state": {
       "description_width": "initial"
      }
     },
     "eea80902804441a5a98f622b083665a2": {
      "model_module": "@jupyter-widgets/controls",
      "model_module_version": "1.5.0",
      "model_name": "HBoxModel",
      "state": {
       "children": [
        "IPY_MODEL_04c2a8f2154b46a99a2b9309c432085f",
        "IPY_MODEL_58d9cde84b3842df98e5ed10afc1d48a"
       ],
       "layout": "IPY_MODEL_5b69b3d1ff2c4e9b886564f93efd8c23"
      }
     },
     "eeb28d3a30224b17b7250b1b0e4b5ce3": {
      "model_module": "@jupyter-widgets/base",
      "model_module_version": "1.2.0",
      "model_name": "LayoutModel",
      "state": {}
     },
     "eec8f22d708842acb9d70a278b0e753e": {
      "model_module": "@jupyter-widgets/base",
      "model_module_version": "1.2.0",
      "model_name": "LayoutModel",
      "state": {}
     },
     "eedea6978b2d47df8becc0f7b643f7b7": {
      "model_module": "@jupyter-widgets/base",
      "model_module_version": "1.2.0",
      "model_name": "LayoutModel",
      "state": {}
     },
     "ef03ceb2eee34f6b95a25ca5f093a0e9": {
      "model_module": "@jupyter-widgets/controls",
      "model_module_version": "1.5.0",
      "model_name": "ProgressStyleModel",
      "state": {
       "description_width": "initial"
      }
     },
     "ef08bf8bb12d45f6824a7103c23cbd4d": {
      "model_module": "@jupyter-widgets/base",
      "model_module_version": "1.2.0",
      "model_name": "LayoutModel",
      "state": {}
     },
     "ef1504fb13584d7b9ce320bc74bf2324": {
      "model_module": "@jupyter-widgets/controls",
      "model_module_version": "1.5.0",
      "model_name": "DescriptionStyleModel",
      "state": {
       "description_width": ""
      }
     },
     "ef1bd8d73a704e29898952ea528351b6": {
      "model_module": "@jupyter-widgets/controls",
      "model_module_version": "1.5.0",
      "model_name": "HBoxModel",
      "state": {
       "children": [
        "IPY_MODEL_28ff5c09b4e546b2aa35d1f1049ab81a",
        "IPY_MODEL_dd172d77bef14abf88ef58f34f3f6143"
       ],
       "layout": "IPY_MODEL_3f4d85db948040fd8e2d9c55c025bde4"
      }
     },
     "ef25c51e14774f11ae750eecf2a1f467": {
      "model_module": "@jupyter-widgets/controls",
      "model_module_version": "1.5.0",
      "model_name": "DescriptionStyleModel",
      "state": {
       "description_width": ""
      }
     },
     "ef2899864e8a460f952fa46b35d3b14a": {
      "model_module": "@jupyter-widgets/base",
      "model_module_version": "1.2.0",
      "model_name": "LayoutModel",
      "state": {}
     },
     "ef32fee1f4a347a2b4b8baa7a30f821a": {
      "model_module": "@jupyter-widgets/controls",
      "model_module_version": "1.5.0",
      "model_name": "HTMLModel",
      "state": {
       "layout": "IPY_MODEL_d9ada3263cbf49efb48175044a34c39d",
       "style": "IPY_MODEL_f08167185b0145d884c87f682dd0d596",
       "value": " 2000/2000 [06:55&lt;00:00,  4.81ba/s]"
      }
     },
     "ef5ab36515374fc2abe4a2c45b9f9ee8": {
      "model_module": "@jupyter-widgets/controls",
      "model_module_version": "1.5.0",
      "model_name": "HTMLModel",
      "state": {
       "layout": "IPY_MODEL_508504ed608447e1a731de32d79c8d9b",
       "style": "IPY_MODEL_124bf55883a54e0b967831e1e8128b90",
       "value": " 2000/2000 [7:16:33&lt;00:00, 13.10s/ba]"
      }
     },
     "f00af4be73f94dc0b1591582740d8edd": {
      "model_module": "@jupyter-widgets/base",
      "model_module_version": "1.2.0",
      "model_name": "LayoutModel",
      "state": {}
     },
     "f06900290e8140bf9bdfacec419263b6": {
      "model_module": "@jupyter-widgets/controls",
      "model_module_version": "1.5.0",
      "model_name": "ProgressStyleModel",
      "state": {
       "description_width": "initial"
      }
     },
     "f08167185b0145d884c87f682dd0d596": {
      "model_module": "@jupyter-widgets/controls",
      "model_module_version": "1.5.0",
      "model_name": "DescriptionStyleModel",
      "state": {
       "description_width": ""
      }
     },
     "f0c60dc21f914c259cc81363ea783a11": {
      "model_module": "@jupyter-widgets/controls",
      "model_module_version": "1.5.0",
      "model_name": "HBoxModel",
      "state": {
       "children": [
        "IPY_MODEL_02c76e84620745b88bae204c473b682b",
        "IPY_MODEL_1ba54b2352b541d39b1466b43b3d977c"
       ],
       "layout": "IPY_MODEL_72ec05cbc8984abba4e0230a554a1d7d"
      }
     },
     "f0d316b5b81142308ceb2d85df98a101": {
      "model_module": "@jupyter-widgets/controls",
      "model_module_version": "1.5.0",
      "model_name": "ProgressStyleModel",
      "state": {
       "description_width": "initial"
      }
     },
     "f0e83f222af44bedbbd1f379709fb37c": {
      "model_module": "@jupyter-widgets/controls",
      "model_module_version": "1.5.0",
      "model_name": "HTMLModel",
      "state": {
       "layout": "IPY_MODEL_75d8d606fd52423187b7442a3d94c8d2",
       "style": "IPY_MODEL_384e5a12ced341e99ac9836fe2e96ffa",
       "value": " 2000/2000 [35:00&lt;00:00,  1.05s/ba]"
      }
     },
     "f1a4184ed1474c09af7eeca72cd5e1d7": {
      "model_module": "@jupyter-widgets/base",
      "model_module_version": "1.2.0",
      "model_name": "LayoutModel",
      "state": {}
     },
     "f1cc8dfe7feb4955afbf2a263777df41": {
      "model_module": "@jupyter-widgets/controls",
      "model_module_version": "1.5.0",
      "model_name": "FloatProgressModel",
      "state": {
       "bar_style": "success",
       "description": "100%",
       "layout": "IPY_MODEL_11e47038fc554094b7854d157d2c4d63",
       "max": 2000,
       "style": "IPY_MODEL_abfe11b3baf64422841c7c74286df047",
       "value": 2000
      }
     },
     "f20b6b2de7244a8da018b41e501ff0d9": {
      "model_module": "@jupyter-widgets/base",
      "model_module_version": "1.2.0",
      "model_name": "LayoutModel",
      "state": {}
     },
     "f23874083f7a4063bc494b4ccfffeee0": {
      "model_module": "@jupyter-widgets/controls",
      "model_module_version": "1.5.0",
      "model_name": "HTMLModel",
      "state": {
       "layout": "IPY_MODEL_bc6ecd16147846efb731f7809f8ddab2",
       "style": "IPY_MODEL_01bc5ef456a345788cb6d6ef7ffc97df",
       "value": " 2000/2000 [06:51&lt;00:00,  4.85ba/s]"
      }
     },
     "f243be1fc4a74c16870c8c971bbc4245": {
      "model_module": "@jupyter-widgets/controls",
      "model_module_version": "1.5.0",
      "model_name": "HTMLModel",
      "state": {
       "layout": "IPY_MODEL_222a4e0508764100b3d78370587f7d5d",
       "style": "IPY_MODEL_e77083f403564ee7ba1f91dd44ce8246",
       "value": " 2000/2000 [06:06&lt;00:00,  5.46ba/s]"
      }
     },
     "f2701f0ff7a6483588bbfea2a0277a93": {
      "model_module": "@jupyter-widgets/controls",
      "model_module_version": "1.5.0",
      "model_name": "DescriptionStyleModel",
      "state": {
       "description_width": ""
      }
     },
     "f2c6d6bfe9f64298ac37cefa339f4f2c": {
      "model_module": "@jupyter-widgets/controls",
      "model_module_version": "1.5.0",
      "model_name": "HBoxModel",
      "state": {
       "children": [
        "IPY_MODEL_c7fce3f7c1784012bf0fe048fbc904dd",
        "IPY_MODEL_a9d87f21d9224f9698e56386d250b7f0"
       ],
       "layout": "IPY_MODEL_acf8c1dd06fd4b41955b676daddc59b4"
      }
     },
     "f2d1edfac87f444b9af93f71e6ae0340": {
      "model_module": "@jupyter-widgets/base",
      "model_module_version": "1.2.0",
      "model_name": "LayoutModel",
      "state": {}
     },
     "f2f273eeebde431d8309859509727319": {
      "model_module": "@jupyter-widgets/controls",
      "model_module_version": "1.5.0",
      "model_name": "FloatProgressModel",
      "state": {
       "bar_style": "success",
       "description": "100%",
       "layout": "IPY_MODEL_8128cafff9184caeafc92c40e6cd001b",
       "max": 2000,
       "style": "IPY_MODEL_3938295222f941ccabafc2202daf002e",
       "value": 2000
      }
     },
     "f314c527a66a4389aa23cdb1a75c81b6": {
      "model_module": "@jupyter-widgets/controls",
      "model_module_version": "1.5.0",
      "model_name": "DescriptionStyleModel",
      "state": {
       "description_width": ""
      }
     },
     "f328a2115c354197b2c485af6032487f": {
      "model_module": "@jupyter-widgets/controls",
      "model_module_version": "1.5.0",
      "model_name": "DescriptionStyleModel",
      "state": {
       "description_width": ""
      }
     },
     "f3826c0365044fb3b11078a80cff8419": {
      "model_module": "@jupyter-widgets/controls",
      "model_module_version": "1.5.0",
      "model_name": "ProgressStyleModel",
      "state": {
       "description_width": "initial"
      }
     },
     "f3bbab5f35f440e5bcfd3be78d498f2f": {
      "model_module": "@jupyter-widgets/base",
      "model_module_version": "1.2.0",
      "model_name": "LayoutModel",
      "state": {}
     },
     "f3d7ed2ba5ee4dce85e4a8cd4e64745b": {
      "model_module": "@jupyter-widgets/controls",
      "model_module_version": "1.5.0",
      "model_name": "HTMLModel",
      "state": {
       "layout": "IPY_MODEL_2945c82cd2e4480cbf7f62dae1083cd9",
       "style": "IPY_MODEL_3ca61d458f2c458bb55b83d1146cfe1e",
       "value": " 2000/2000 [02:29&lt;00:00, 13.38ba/s]"
      }
     },
     "f437c1a6654c4ab78fa61105a2559b81": {
      "model_module": "@jupyter-widgets/controls",
      "model_module_version": "1.5.0",
      "model_name": "HBoxModel",
      "state": {
       "children": [
        "IPY_MODEL_070322b28ad84ed8beb45682196d15dc",
        "IPY_MODEL_c3fd33d550a7439fa9b3d58e0a942805"
       ],
       "layout": "IPY_MODEL_3b123e10bbff46fa9e8a5fed71e61ef7"
      }
     },
     "f455a0f132124c7c974dde299f757481": {
      "model_module": "@jupyter-widgets/controls",
      "model_module_version": "1.5.0",
      "model_name": "HBoxModel",
      "state": {
       "children": [
        "IPY_MODEL_2950511faf0140b698969ee65c92e9a3",
        "IPY_MODEL_3fe8571b84694cc1bc0e0c22fd9cd7ea"
       ],
       "layout": "IPY_MODEL_87c85be896dd4e12adbc8db3984bbc49"
      }
     },
     "f48107666b1f4142a61e3ea7242e1620": {
      "model_module": "@jupyter-widgets/base",
      "model_module_version": "1.2.0",
      "model_name": "LayoutModel",
      "state": {}
     },
     "f4e92ec9b8d942f8ac05afb3fbbac7aa": {
      "model_module": "@jupyter-widgets/base",
      "model_module_version": "1.2.0",
      "model_name": "LayoutModel",
      "state": {}
     },
     "f510b319e2ca425fba442659250bd32c": {
      "model_module": "@jupyter-widgets/controls",
      "model_module_version": "1.5.0",
      "model_name": "FloatProgressModel",
      "state": {
       "bar_style": "success",
       "description": "100%",
       "layout": "IPY_MODEL_0bda9bae16f04edcac27c12536a0b854",
       "max": 2000,
       "style": "IPY_MODEL_6c4b7174a64546eab13ddb78806c1725",
       "value": 2000
      }
     },
     "f53801c2082146b8aaa115d45d310e45": {
      "model_module": "@jupyter-widgets/controls",
      "model_module_version": "1.5.0",
      "model_name": "HTMLModel",
      "state": {
       "layout": "IPY_MODEL_3367479b9e9e403882fd8893003a84e4",
       "style": "IPY_MODEL_c63419e0202545a5854cdc6b5b57ac4a",
       "value": " 2000/2000 [07:04&lt;00:00,  4.71ba/s]"
      }
     },
     "f599e35ba9d14bbfb43935e37d02a40b": {
      "model_module": "@jupyter-widgets/base",
      "model_module_version": "1.2.0",
      "model_name": "LayoutModel",
      "state": {}
     },
     "f5c1c0fc8d3c48a787771d51b7e212e8": {
      "model_module": "@jupyter-widgets/controls",
      "model_module_version": "1.5.0",
      "model_name": "ProgressStyleModel",
      "state": {
       "description_width": "initial"
      }
     },
     "f64b5dc8c9254e44a67e8a57f896a5fb": {
      "model_module": "@jupyter-widgets/controls",
      "model_module_version": "1.5.0",
      "model_name": "DescriptionStyleModel",
      "state": {
       "description_width": ""
      }
     },
     "f67d74b0c6944321ae42f0593acd6bb9": {
      "model_module": "@jupyter-widgets/base",
      "model_module_version": "1.2.0",
      "model_name": "LayoutModel",
      "state": {}
     },
     "f711af13832a4d9ab8796ecd412aa15f": {
      "model_module": "@jupyter-widgets/base",
      "model_module_version": "1.2.0",
      "model_name": "LayoutModel",
      "state": {}
     },
     "f75b60367fae4d949d60fc68a2c5c9a1": {
      "model_module": "@jupyter-widgets/base",
      "model_module_version": "1.2.0",
      "model_name": "LayoutModel",
      "state": {}
     },
     "f8afb6f42dac48c5a9d369ffa0ea848d": {
      "model_module": "@jupyter-widgets/controls",
      "model_module_version": "1.5.0",
      "model_name": "HTMLModel",
      "state": {
       "layout": "IPY_MODEL_e049dc3e0068439b8df5214f35ccfd31",
       "style": "IPY_MODEL_cc47bb34d5c74bb483bd4403faaec5f4",
       "value": " 2000/2000 [06:31&lt;00:00,  5.11ba/s]"
      }
     },
     "f8b39e9ab5c34896814513e2d0460d36": {
      "model_module": "@jupyter-widgets/controls",
      "model_module_version": "1.5.0",
      "model_name": "ProgressStyleModel",
      "state": {
       "description_width": "initial"
      }
     },
     "f97a797fc90143ee820b4b0692a2d3fa": {
      "model_module": "@jupyter-widgets/controls",
      "model_module_version": "1.5.0",
      "model_name": "HTMLModel",
      "state": {
       "layout": "IPY_MODEL_63364a5bdb8d4c43b5f85d6b33164c74",
       "style": "IPY_MODEL_823b612ca5a94432af2e1d2696205ca3",
       "value": " 2000/2000 [13:51&lt;00:00,  2.40ba/s]"
      }
     },
     "f9c91bc40a2545e6807cf196fcffe7d8": {
      "model_module": "@jupyter-widgets/controls",
      "model_module_version": "1.5.0",
      "model_name": "ProgressStyleModel",
      "state": {
       "description_width": "initial"
      }
     },
     "f9c93d32461a4a3ebaca45845799003d": {
      "model_module": "@jupyter-widgets/base",
      "model_module_version": "1.2.0",
      "model_name": "LayoutModel",
      "state": {}
     },
     "f9cde2e4cc9f48dfbbe466b318be5895": {
      "model_module": "@jupyter-widgets/base",
      "model_module_version": "1.2.0",
      "model_name": "LayoutModel",
      "state": {}
     },
     "f9f009ae9da84f8eb1e2c2d14a988dd2": {
      "model_module": "@jupyter-widgets/base",
      "model_module_version": "1.2.0",
      "model_name": "LayoutModel",
      "state": {}
     },
     "faabf4274e6340f7bc19788631ab0cc6": {
      "model_module": "@jupyter-widgets/controls",
      "model_module_version": "1.5.0",
      "model_name": "ProgressStyleModel",
      "state": {
       "description_width": "initial"
      }
     },
     "faff119fb47643a09fe4b96d8d5b4c8d": {
      "model_module": "@jupyter-widgets/controls",
      "model_module_version": "1.5.0",
      "model_name": "ProgressStyleModel",
      "state": {
       "description_width": "initial"
      }
     },
     "fb0379f99bc54bc9b9c1c6f59a0a3364": {
      "model_module": "@jupyter-widgets/base",
      "model_module_version": "1.2.0",
      "model_name": "LayoutModel",
      "state": {}
     },
     "fb5cda20d4bd48a7a8c9b0ce7913b8e5": {
      "model_module": "@jupyter-widgets/controls",
      "model_module_version": "1.5.0",
      "model_name": "FloatProgressModel",
      "state": {
       "bar_style": "success",
       "description": "100%",
       "layout": "IPY_MODEL_5faaaa215da9498ab77f9ee965d7bb67",
       "max": 2000,
       "style": "IPY_MODEL_f9c91bc40a2545e6807cf196fcffe7d8",
       "value": 2000
      }
     },
     "fbab67bf0c624243a4f50daaa06ca18f": {
      "model_module": "@jupyter-widgets/controls",
      "model_module_version": "1.5.0",
      "model_name": "DescriptionStyleModel",
      "state": {
       "description_width": ""
      }
     },
     "fbc056c3161d4263a630df4382270353": {
      "model_module": "@jupyter-widgets/controls",
      "model_module_version": "1.5.0",
      "model_name": "FloatProgressModel",
      "state": {
       "bar_style": "success",
       "description": "100%",
       "layout": "IPY_MODEL_4777ac6b60bc437dad1b40c72c40ae24",
       "max": 2000,
       "style": "IPY_MODEL_e219ac88e68f44979bb471ae2cb73eed",
       "value": 2000
      }
     },
     "fc0cc8524dcd452c8d5de2120d1c0f17": {
      "model_module": "@jupyter-widgets/base",
      "model_module_version": "1.2.0",
      "model_name": "LayoutModel",
      "state": {}
     },
     "fc2c6c03ef6649ad9f05ab4cebbc1311": {
      "model_module": "@jupyter-widgets/controls",
      "model_module_version": "1.5.0",
      "model_name": "HTMLModel",
      "state": {
       "layout": "IPY_MODEL_872c6aff38ab45d7b536637d78370a81",
       "style": "IPY_MODEL_db2ddb50c8fd4becbf7684abf029a508",
       "value": " 2000/2000 [05:07&lt;00:00,  6.51ba/s]"
      }
     },
     "fc53beabed2842298a822fa6a9a1d544": {
      "model_module": "@jupyter-widgets/controls",
      "model_module_version": "1.5.0",
      "model_name": "HTMLModel",
      "state": {
       "layout": "IPY_MODEL_d7c300090cdc47e88c730b942dccc89e",
       "style": "IPY_MODEL_65be54a8499d425192b640c3d4911cf8",
       "value": " 2000/2000 [1:18:00&lt;00:00,  2.34s/ba]"
      }
     },
     "fc7fe7389c6244cb8d2720b31a306338": {
      "model_module": "@jupyter-widgets/controls",
      "model_module_version": "1.5.0",
      "model_name": "ProgressStyleModel",
      "state": {
       "description_width": "initial"
      }
     },
     "fcbb3eb104954460831d1999af827099": {
      "model_module": "@jupyter-widgets/base",
      "model_module_version": "1.2.0",
      "model_name": "LayoutModel",
      "state": {}
     },
     "fcf3c985e5a54242a9c990b55637b8d0": {
      "model_module": "@jupyter-widgets/controls",
      "model_module_version": "1.5.0",
      "model_name": "HTMLModel",
      "state": {
       "layout": "IPY_MODEL_a600e5b68a434f0ea3f16dd0e51ce631",
       "style": "IPY_MODEL_e7aa682df9b04235b0ba786ef422811f",
       "value": " 2000/2000 [05:16&lt;00:00,  6.32ba/s]"
      }
     },
     "fd2a1e3aa92d4f9fbd721a00b20e7f4e": {
      "model_module": "@jupyter-widgets/base",
      "model_module_version": "1.2.0",
      "model_name": "LayoutModel",
      "state": {}
     },
     "fd37607ca33d41ff85791d4b8654bfc3": {
      "model_module": "@jupyter-widgets/controls",
      "model_module_version": "1.5.0",
      "model_name": "FloatProgressModel",
      "state": {
       "bar_style": "success",
       "description": "100%",
       "layout": "IPY_MODEL_1a60ca1d08d545e6b91fc6824fb7bfaf",
       "max": 2000,
       "style": "IPY_MODEL_d7b33f8fb91a405cb18069e1a2261d62",
       "value": 2000
      }
     },
     "fd556c20eb624c939962655071b9a16a": {
      "model_module": "@jupyter-widgets/controls",
      "model_module_version": "1.5.0",
      "model_name": "HBoxModel",
      "state": {
       "children": [
        "IPY_MODEL_47a6f4a3f3bf4c5b8c0e8a14050ba1df",
        "IPY_MODEL_3676395bbe494767b314e219752eb3b9"
       ],
       "layout": "IPY_MODEL_4368e025c7d143989f64622e87025e70"
      }
     },
     "fd8b50156c72462f87c0d0c869e5a3fc": {
      "model_module": "@jupyter-widgets/controls",
      "model_module_version": "1.5.0",
      "model_name": "HTMLModel",
      "state": {
       "layout": "IPY_MODEL_063f7391f94e412188b885988e5fd3b4",
       "style": "IPY_MODEL_ed5d4e3cff6c408f99c1e021987e98bf",
       "value": " 2000/2000 [15:33&lt;00:00,  2.14ba/s]"
      }
     },
     "fd9bd1415ded40eda2c4ca3f52475fe2": {
      "model_module": "@jupyter-widgets/base",
      "model_module_version": "1.2.0",
      "model_name": "LayoutModel",
      "state": {}
     },
     "fddad6caaa714cecbbb9a4c92c0700a8": {
      "model_module": "@jupyter-widgets/controls",
      "model_module_version": "1.5.0",
      "model_name": "DescriptionStyleModel",
      "state": {
       "description_width": ""
      }
     },
     "fdf520a164fc4ae88662bed1de9e1799": {
      "model_module": "@jupyter-widgets/controls",
      "model_module_version": "1.5.0",
      "model_name": "FloatProgressModel",
      "state": {
       "bar_style": "success",
       "description": "100%",
       "layout": "IPY_MODEL_04228c54ab7346b3ba2c7c456191a4bf",
       "max": 2000,
       "style": "IPY_MODEL_e2f7f63783ca44b09b0019883d156b80",
       "value": 2000
      }
     },
     "fe1727bca3dd4c45aff19578d09fd1c9": {
      "model_module": "@jupyter-widgets/controls",
      "model_module_version": "1.5.0",
      "model_name": "ProgressStyleModel",
      "state": {
       "description_width": "initial"
      }
     },
     "fe1c5bf94ec041b796778bb3fbf929b7": {
      "model_module": "@jupyter-widgets/base",
      "model_module_version": "1.2.0",
      "model_name": "LayoutModel",
      "state": {}
     },
     "fe1fd9e1d8d745fd8c6fefaee30d0f5c": {
      "model_module": "@jupyter-widgets/base",
      "model_module_version": "1.2.0",
      "model_name": "LayoutModel",
      "state": {}
     },
     "fe7adf3ff0854806a8aefaa431872080": {
      "model_module": "@jupyter-widgets/base",
      "model_module_version": "1.2.0",
      "model_name": "LayoutModel",
      "state": {}
     },
     "febe3a52dec64914bd127b8bf0b98d0f": {
      "model_module": "@jupyter-widgets/controls",
      "model_module_version": "1.5.0",
      "model_name": "HBoxModel",
      "state": {
       "children": [
        "IPY_MODEL_4e578a0ca5b0483c989ce433ebcec049",
        "IPY_MODEL_65c5a52ad69c4440b5207d384bd0af04"
       ],
       "layout": "IPY_MODEL_b28a1ad759f8419b907ad678e1b9d314"
      }
     },
     "ff00e1a0137b42e7889a2d8e060086d8": {
      "model_module": "@jupyter-widgets/base",
      "model_module_version": "1.2.0",
      "model_name": "LayoutModel",
      "state": {}
     },
     "ff488339927f4c0ba4ac8e35103387e0": {
      "model_module": "@jupyter-widgets/controls",
      "model_module_version": "1.5.0",
      "model_name": "FloatProgressModel",
      "state": {
       "bar_style": "success",
       "description": "100%",
       "layout": "IPY_MODEL_279a9f763cd644a5a9a08e708920fcf9",
       "max": 2000,
       "style": "IPY_MODEL_26e603daf87d41d9afd85f927ac05844",
       "value": 2000
      }
     },
     "ff51025794714ab1a662813c666b5bfb": {
      "model_module": "@jupyter-widgets/controls",
      "model_module_version": "1.5.0",
      "model_name": "HTMLModel",
      "state": {
       "layout": "IPY_MODEL_64c6e0ac878644209a51665149956b0f",
       "style": "IPY_MODEL_75d7260a2bae4e86af1c82a8dd69a08b",
       "value": " 2000/2000 [14:33&lt;00:00,  2.29ba/s]"
      }
     },
     "ff963df053f840ceb8690cd4b26a8f01": {
      "model_module": "@jupyter-widgets/controls",
      "model_module_version": "1.5.0",
      "model_name": "HBoxModel",
      "state": {
       "children": [
        "IPY_MODEL_5b75ddf36eab4ca4bb1e5bd777658566",
        "IPY_MODEL_6e953ffb2a114dc38670ae54caa682a0"
       ],
       "layout": "IPY_MODEL_195ba09f28864574ba92436198ff3f2a"
      }
     },
     "ffa178624029477f984d18ea66b8c672": {
      "model_module": "@jupyter-widgets/base",
      "model_module_version": "1.2.0",
      "model_name": "LayoutModel",
      "state": {}
     },
     "ffe5b6acb05c469bb20d6ba5d279e44f": {
      "model_module": "@jupyter-widgets/controls",
      "model_module_version": "1.5.0",
      "model_name": "DescriptionStyleModel",
      "state": {
       "description_width": ""
      }
     },
     "fffebdd536734827875ea9a8ed8ae403": {
      "model_module": "@jupyter-widgets/controls",
      "model_module_version": "1.5.0",
      "model_name": "ProgressStyleModel",
      "state": {
       "description_width": "initial"
      }
     }
    },
    "version_major": 2,
    "version_minor": 0
   }
  }
 },
 "nbformat": 4,
 "nbformat_minor": 5
}
